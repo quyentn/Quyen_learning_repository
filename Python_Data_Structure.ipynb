{
 "cells": [
  {
   "cell_type": "markdown",
   "metadata": {},
   "source": [
    "- Random Access Memory\n",
    "- Binary Numbers\n",
    "- Fixed-Width Integers\n",
    "- Arrays\n",
    "- Strings\n",
    "- Pointers\n",
    "- Dynamic Arrays\n",
    "- Linked Lists\n",
    "- Hash Tables"
   ]
  },
  {
   "cell_type": "markdown",
   "metadata": {},
   "source": [
    "Summary\n",
    "\n",
    "- Arrays have O(1)time lookups. But you need enough uninterrupted space in RAM to store the whole array. And the array items need to be the same size.\n",
    "\n",
    "- But if your array stores pointers to the actual array items (like we did with our list of baby names), you can get around both those weaknesses. You can store each array item wherever there's space in RAM, and the array items can be different sizes. The tradeoff is that now your array is slower because it's not cache-friendly.\n",
    "\n",
    "- Another problem with arrays is you have to specify their sizes ahead of time. There are two ways to get around this: dynamic arrays and linked lists. Linked lists have faster appends and prepends than dynamic arrays, but dynamic arrays have faster lookups.\n",
    "\n",
    "- Fast lookups are really useful, especially if you can look things up not just by indices (0, 1, 2, 3, etc.) but by arbitrary keys (\"lies\", \"foes\"...any string). That's what hash tables are for. The only problem with hash tables is they have to deal with hash collisions, which means some lookups could be a bit slow.\n",
    "\n",
    "- Each data structure has tradeoffs. You can't have it all. So you have to know what's important in the problem you're working on. What does your data structure need to do quickly? Is it lookups by index? Is it appends or prepends? Once you know what's important, you can pick the data structure that does it best. "
   ]
  },
  {
   "cell_type": "markdown",
   "metadata": {},
   "source": [
    "### 1. Array\n",
    "Some languages (including Python) don't have these bare-bones arrays. "
   ]
  },
  {
   "cell_type": "markdown",
   "metadata": {},
   "source": [
    "Worst Case\n",
    "- __space__:  O(n)\n",
    "- __lookup__:  O(1)\n",
    "- __append__:  O(1)\n",
    "- __insert__:  O(n)\n",
    "- __delete__:  O(n)"
   ]
  },
  {
   "cell_type": "markdown",
   "metadata": {},
   "source": [
    "### 2. Dynamic Array\n",
    "Other names: array list, growable array, resizable array, mutable array "
   ]
  },
  {
   "cell_type": "markdown",
   "metadata": {},
   "source": [
    "Average Case \t\n",
    "- __space__: \tO(n) \n",
    "- __lookup__: \tO(1)\n",
    "- __append__: \tO(1)\n",
    "- __insert__: \tO(n)\n",
    "- __delete__: \tO(n)\n",
    "\n",
    "\n",
    " Worst Case:\n",
    "- __space__: \tO(n)\n",
    "- __lookup__: \tO(1)\n",
    "- __append__: \tO(n)\n",
    "- __insert__: \tO(n)\n",
    "- __delete__: \tO(n)\n"
   ]
  },
  {
   "cell_type": "markdown",
   "metadata": {},
   "source": [
    "### 3. Hash Table\n",
    " In Python 3.6, hash tables are called dictionaries. Sets copy the implementation of Dictionary in Python but they only store key without value"
   ]
  },
  {
   "cell_type": "markdown",
   "metadata": {},
   "source": [
    "Average \n",
    "- __space__: O(n) \n",
    "- __insert__: O(1) \n",
    "- __lookup__: O(1) \n",
    "- __delete__: O(1) \n",
    "\n",
    "    Worst Case\n",
    "- __space__: O(n)\n",
    "- __insert__: O(n)\n",
    "- __lookup__: O(n)\n",
    "- __delete__: O(n)"
   ]
  },
  {
   "cell_type": "markdown",
   "metadata": {},
   "source": [
    "### 4. Linked List"
   ]
  },
  {
   "cell_type": "markdown",
   "metadata": {},
   "source": [
    "Worst Case\n",
    "- __space__: O(n)\n",
    "- __prepend__: O(1)\n",
    "- __append__: O(1)\n",
    "- __lookup__: O(n)\n",
    "- __insert__: O(n)\n",
    "- __delete__: O(n)"
   ]
  },
  {
   "cell_type": "markdown",
   "metadata": {},
   "source": [
    " Most languages (including Python 3.6) don't provide a linked list implementation. Assuming we've already implemented our own, here's how we'd construct the linked list above: "
   ]
  },
  {
   "cell_type": "code",
   "execution_count": 1,
   "metadata": {},
   "outputs": [],
   "source": [
    "class LinkedListNode(object):\n",
    "    def __init__(self,val):\n",
    "        self.key = val\n",
    "        self.next = None\n",
    "\n",
    "a = LinkedListNode(5)\n",
    "b = LinkedListNode(1)\n",
    "c = LinkedListNode(9)\n",
    "\n",
    "a.next = b\n",
    "b.next = c"
   ]
  },
  {
   "cell_type": "markdown",
   "metadata": {},
   "source": [
    "__Doubly Linked Lists__\n",
    "\n",
    "In a basic linked list, each item stores a single pointer to the next element. In a doubly linked list, items have pointers to the next and the previous nodes. "
   ]
  },
  {
   "cell_type": "code",
   "execution_count": 3,
   "metadata": {},
   "outputs": [],
   "source": [
    "class DoubleLinkedListNode(object):\n",
    "    def __init__(self,val):\n",
    "        self.key = val\n",
    "        self.next = None\n",
    "        self.prev = None\n",
    "\n",
    "a = DoubleLinkedListNode(5)\n",
    "b = DoubleLinkedListNode(1)\n",
    "c = DoubleLinkedListNode(9)\n",
    "\n",
    "a.next = b\n",
    "b.prev = a\n",
    "b.next = c\n",
    "c.prev = b"
   ]
  },
  {
   "cell_type": "markdown",
   "metadata": {},
   "source": [
    "### 5. Queue"
   ]
  },
  {
   "cell_type": "markdown",
   "metadata": {},
   "source": [
    "Worst Case\n",
    "- __space__: O(n)\n",
    "- __enqueue__: O(1)\n",
    "- __dequeue__: O(1)\n",
    "- __peek__: O(1)"
   ]
  },
  {
   "cell_type": "markdown",
   "metadata": {},
   "source": [
    "__Implementation__\n",
    "\n",
    "Queues are easy to implement with linked lists:\n",
    "- To enqueue, insert at the tail of the linked list.\n",
    "- To dequeue, remove at the head of the linked list."
   ]
  },
  {
   "cell_type": "markdown",
   "metadata": {},
   "source": [
    "### 6. Stack\n",
    "A stack stores items in a last-in, first-out (LIFO) order. You can implement a stack with either a linked list or a dynamic array—they both work pretty well."
   ]
  },
  {
   "cell_type": "markdown",
   "metadata": {},
   "source": [
    "Worst Case\n",
    "- __space__:O(n)\n",
    "- __push__:O(1)\n",
    "- __pop__:O(1)\n",
    "- __peek__:O(1)"
   ]
  },
  {
   "cell_type": "markdown",
   "metadata": {},
   "source": [
    "### 7. Binary Tree \n",
    "A binary tree is a tree where every node has two or fewer children. The children are usually called left and right"
   ]
  },
  {
   "cell_type": "code",
   "execution_count": 4,
   "metadata": {},
   "outputs": [],
   "source": [
    "class BinaryTreeNode(object):\n",
    "\n",
    "    def __init__(self, value):\n",
    "        self.value = value\n",
    "        self.left  = None\n",
    "        self.right = None"
   ]
  },
  {
   "cell_type": "markdown",
   "metadata": {},
   "source": [
    "- Property 1: the number of total nodes on each \"level\" doubles as we move down the tree. \n",
    "- Property 2: the number of nodes on the last level is equal to the sum of the number of nodes on all other levels (plus 1)\n",
    "\n",
    "    - Level 0: 2<sup>0</sup> nodes,\n",
    "    - Level 1: 2<sup>1</sup> nodes,\n",
    "    - Level 2: 2<sup>2</sup> nodes,\n",
    "    - Level 3: 2<sup>3</sup> nodes,\n",
    "    - etc"
   ]
  },
  {
   "cell_type": "markdown",
   "metadata": {},
   "source": [
    "### 8. Graph\n",
    "- A graph organizes items in an interconnected network. \n",
    "- Most graph algorithms are O(n∗lg(n) or even slower. Depending on the size of your graph, running algorithms across your nodes may not be feasible. "
   ]
  },
  {
   "cell_type": "markdown",
   "metadata": {},
   "source": [
    "__Edge list:__ A list of all the edges in the graph: "
   ]
  },
  {
   "cell_type": "code",
   "execution_count": 5,
   "metadata": {},
   "outputs": [],
   "source": [
    "#Since node 3 has edges to nodes 1 and 2, [1, 3] and [2, 3] are in the edge list. \n",
    "graph = [[0, 1], [1, 2], [1, 3], [2, 3]]"
   ]
  },
  {
   "cell_type": "markdown",
   "metadata": {},
   "source": [
    "__Adjacency list:__ A list where the index represents the node and the value at that index is a list of the node's neighbors: "
   ]
  },
  {
   "cell_type": "code",
   "execution_count": 6,
   "metadata": {},
   "outputs": [],
   "source": [
    "#Since node 3 has edges to nodes 1 and 2, graph[3] has the adjacency list [1, 2]. \n",
    "graph = [[1],\n",
    "         [0, 2, 3],\n",
    "         [1, 3],\n",
    "         [1, 2],]"
   ]
  },
  {
   "cell_type": "code",
   "execution_count": 8,
   "metadata": {},
   "outputs": [],
   "source": [
    "graph = {0: [1],\n",
    "         1: [0, 2, 3],\n",
    "         2: [1, 3],\n",
    "         3: [1, 2],}"
   ]
  },
  {
   "cell_type": "markdown",
   "metadata": {},
   "source": [
    "__Adjacency matrix:__  A matrix of 0s and 1s indicating whether node x connects to node y (0 means no, 1 means yes). "
   ]
  },
  {
   "cell_type": "code",
   "execution_count": 9,
   "metadata": {},
   "outputs": [],
   "source": [
    "#Since node 3 has edges to nodes 1 and 2, graph[3][1] and graph[3][2] have value 1. \n",
    "graph = [[0, 1, 0, 0],\n",
    "         [1, 0, 1, 1],\n",
    "         [0, 1, 0, 1],\n",
    "         [0, 1, 1, 0],]"
   ]
  },
  {
   "cell_type": "markdown",
   "metadata": {},
   "source": [
    "__Algorithms__\n",
    "\n",
    "___BFS and DFS___\n",
    "- Lots of graph problems can be solved using just these traversals:\n",
    "- Is there a path between two nodes in this undirected graph? Run DFS or BFS from one node and see if you reach the other one.\n",
    "- What's the shortest path between two nodes in this undirected, unweighted graph? Run BFS from one node and backtrack once you reach the second. Note: BFS always finds the shortest path, assuming the graph is undirected and unweighted. DFS does not always find the shortest path.\n",
    "- Can this undirected graph be colored with two colors? Run BFS, assigning colors as nodes are visited. Abort if we ever try to assign a node a color different from the one it was assigned earlier.\n",
    "- Does this undirected graph have a cycle? Run BFS, keeping track of the number of times we're visiting each node. If we ever visit a node twice, then we have a cycle. \n",
    "\n",
    "___Advanced graph algorithms___\n",
    "- __Dijkstra's Algorithm:__ Finds the shortest path from one node to all other nodes in a weighted graph.\n",
    "- __Topological Sort:__ Arranges the nodes in a directed, acyclic graph in a special order based on incoming edges.\n",
    "- __Minimum Spanning Tree:__ Finds the cheapest set of edges needed to reach all nodes in a weighted graph.\n"
   ]
  },
  {
   "cell_type": "markdown",
   "metadata": {},
   "source": [
    "## TEST PROBLEMS"
   ]
  },
  {
   "cell_type": "markdown",
   "metadata": {},
   "source": [
    "O(nlgn) is the time to beat. Even if our list of scores were already sorted we'd have to do a full walk through the list to confirm that it was in fact fully sorted. "
   ]
  },
  {
   "cell_type": "code",
   "execution_count": 32,
   "metadata": {},
   "outputs": [
    {
     "data": {
      "text/plain": [
       "[91, 89, 65, 53, 41, 37, 37]"
      ]
     },
     "execution_count": 32,
     "metadata": {},
     "output_type": "execute_result"
    }
   ],
   "source": [
    "unsorted_scores = [37,37, 89, 41, 65, 91, 53]\n",
    "HIGHEST_POSSIBLE_SCORE = 100\n",
    "def sort_scores(unsorted_scores, highest_possible_score):\n",
    "    # List of 0s at indices 0..highest_possible_score\n",
    "    score_counts = [0] * (highest_possible_score+1)\n",
    "\n",
    "    # Populate score_counts\n",
    "    for score in unsorted_scores:\n",
    "        score_counts[score] += 1\n",
    "\n",
    "    # Populate the final sorted list\n",
    "    sorted_scores = []\n",
    "\n",
    "    # For each item in score_counts\n",
    "    for score in range(len(score_counts) - 1, -1, -1):\n",
    "        count = score_counts[score]\n",
    "        sorted_scores += [score]*count\n",
    "\n",
    "    return sorted_scores\n",
    "\n",
    "sort_scores(unsorted_scores,HIGHEST_POSSIBLE_SCORE)"
   ]
  },
  {
   "cell_type": "code",
   "execution_count": 52,
   "metadata": {},
   "outputs": [
    {
     "name": "stdout",
     "output_type": "stream",
     "text": [
      "[('0', ':', 48), ('1', ':', 49), ('2', ':', 50), ('3', ':', 51), ('4', ':', 52), ('5', ':', 53), ('6', ':', 54), ('7', ':', 55), ('8', ':', 56), ('9', ':', 57)]\n",
      "627830183787003738979638778171212515677536395487409726836477465973329282582\n",
      "627830183787003738979638778171212515677536395487409726836477465973329282582\n"
     ]
    }
   ],
   "source": [
    "#number_one = \"193283492420348904832902348908239048823480823\"\n",
    "#number_two = \"3248234890238902348823940990234\"\n",
    "\n",
    "#Question:\n",
    "#1) I need to multiply this and get the answer\n",
    "#2) DO NOT CONVERT TO INT AND DO THE MULTIPLICATION\n",
    "\n",
    "#ord return an integer representing the Unicode code point of the character\n",
    "print([(char,':',ord(char))for char in '0123456789'])s\n",
    "\n",
    "def string_multiplication(a, b):\n",
    "    result = 0\n",
    "    for i in range(len(a)):\n",
    "        for j in range(len(b)):\n",
    "            result += (ord(a[i])-ord('0'))*(10**(len(a)-i-1))*(ord(b[j])-ord('0'))*(10**(len(b)-j-1))\n",
    "    return result\n",
    "\n",
    "number_one = 193283492420348904832902348908239048823480823\n",
    "number_two = 3248234890238902348823940990234\n",
    "print(number_one*number_two)\n",
    "print(string_multiplication(str(number_one), str(number_two)))"
   ]
  },
  {
   "cell_type": "markdown",
   "metadata": {},
   "source": [
    " Write a function that returns a list of all the duplicate files. We'll check them by hand before actually deleting them, since programmatically deleting files is really scary. To help us confirm that two files are actually duplicates, return a list of tuples ↴ where:\n",
    "\n",
    "    the first item is the duplicate file\n",
    "    the second item is the original file"
   ]
  },
  {
   "cell_type": "code",
   "execution_count": null,
   "metadata": {},
   "outputs": [],
   "source": [
    "def find_duplicate_files(starting_directory):\n",
    "    files_seen_already = {}\n",
    "    stack = [starting_directory]\n",
    "\n",
    "    # We'll track tuples of (duplicate_file, original_file)\n",
    "    duplicates = []\n",
    "\n",
    "    while len(stack) > 0:\n",
    "        current_path = stack.pop()\n",
    "\n",
    "    return duplicates"
   ]
  },
  {
   "cell_type": "code",
   "execution_count": null,
   "metadata": {},
   "outputs": [],
   "source": [
    "import os\n",
    "\n",
    "def find_duplicate_files(starting_directory):\n",
    "    files_seen_already = {}\n",
    "    stack = [starting_directory]\n",
    "\n",
    "    # We'll track tuples of (duplicate_file, original_file)\n",
    "    duplicates = []\n",
    "\n",
    "    while len(stack) > 0:\n",
    "        current_path = stack.pop()\n",
    "\n",
    "        # If it's a directory, put the contents in our stack\n",
    "        if os.path.isdir(current_path):\n",
    "            for path in os.listdir(current_path):\n",
    "                full_path = os.path.join(current_path, path)\n",
    "                stack.append(full_path)\n",
    "\n",
    "        # If it's a file\n",
    "        else:\n",
    "            # Get its contents\n",
    "            with open(current_path) as file:\n",
    "                file_contents = file.read()\n",
    "\n",
    "            # Get its last edited time\n",
    "            current_last_edited_time = os.path.getmtime(current_path)\n",
    "\n",
    "            # If we've seen it before\n",
    "            if file_contents in files_seen_already:\n",
    "                existing_last_edited_time, existing_path = files_seen_already[file_contents]\n",
    "                if current_last_edited_time > existing_last_edited_time:\n",
    "                    # Current file is the dupe!\n",
    "                    duplicates.append((current_path, existing_path))\n",
    "                else:\n",
    "                    # Old file is the dupe! So delete it\n",
    "                    duplicates.append((existing_path, current_path))\n",
    "                    # But also update files_seen_already to have the new file's info\n",
    "                    files_seen_already[file_contents] = (current_last_edited_time, current_path)\n",
    "\n",
    "            # If it's a new file, throw it in files_seen_already and record the path and the last edited time,\n",
    "            # so we can delete it later if it's a dupe\n",
    "            else:\n",
    "                files_seen_already[file_contents] = (current_last_edited_time, current_path)\n",
    "\n",
    "    return duplicates"
   ]
  },
  {
   "cell_type": "code",
   "execution_count": null,
   "metadata": {},
   "outputs": [],
   "source": [
    "import os\n",
    "import hashlib\n",
    "\n",
    "def find_duplicate_files(starting_directory):\n",
    "    files_seen_already = {}\n",
    "    stack = [starting_directory]\n",
    "\n",
    "    # We'll track tuples of (duplicate_file, original_file)\n",
    "    duplicates = []\n",
    "\n",
    "    while len(stack) > 0:\n",
    "        current_path = stack.pop()\n",
    "\n",
    "        # If it's a directory,\n",
    "        # put the contents in our stack\n",
    "        if os.path.isdir(current_path):\n",
    "            for path in os.listdir(current_path):\n",
    "                full_path = os.path.join(current_path, path)\n",
    "                stack.append(full_path)\n",
    "\n",
    "        # If it's a file\n",
    "        else:\n",
    "            # Get its hash\n",
    "            file_hash = sample_hash_file(current_path)\n",
    "\n",
    "            # Get its last edited time\n",
    "            current_last_edited_time = os.path.getmtime(current_path)\n",
    "\n",
    "            # If we've seen it before\n",
    "            if file_hash in files_seen_already:\n",
    "                existing_last_edited_time, existing_path = files_seen_already[file_hash]\n",
    "                if current_last_edited_time > existing_last_edited_time:\n",
    "                    # Current file is the dupe!\n",
    "                    duplicates.append((current_path, existing_path))\n",
    "                else:\n",
    "                    # Old file is the dupe!\n",
    "                    duplicates.append((existing_path, current_path))\n",
    "                    # But also update files_seen_already to have the new file's info\n",
    "                    files_seen_already[file_hash] = (current_last_edited_time, current_path)\n",
    "\n",
    "            # If it's a new file, throw it in files_seen_already and record its path and last edited time,\n",
    "            # so we can tell later if it's a dupe\n",
    "            else:\n",
    "                files_seen_already[file_hash] = (current_last_edited_time, current_path)\n",
    "\n",
    "    return duplicates\n",
    "\n",
    "\n",
    "def sample_hash_file(path):\n",
    "    num_bytes_to_read_per_sample = 4000\n",
    "    total_bytes = os.path.getsize(path)\n",
    "    hasher = hashlib.sha512()\n",
    "\n",
    "    with open(path, 'rb') as file:\n",
    "        # If the file is too short to take 3 samples, hash the entire file\n",
    "        if total_bytes < num_bytes_to_read_per_sample * 3:\n",
    "            hasher.update(file.read())\n",
    "        else:\n",
    "            num_bytes_between_samples = ((total_bytes - num_bytes_to_read_per_sample * 3) / 2)\n",
    "\n",
    "            # Read first, middle, and last bytes\n",
    "            for offset_multiplier in range(3):\n",
    "                start_of_sample = (offset_multiplier\n",
    "                    * (num_bytes_to_read_per_sample + num_bytes_between_samples))\n",
    "                file.seek(start_of_sample)\n",
    "                sample = file.read(num_bytes_to_read_per_sample)\n",
    "                hasher.update(sample)\n",
    "\n",
    "    return hasher.hexdigest()"
   ]
  },
  {
   "cell_type": "markdown",
   "metadata": {},
   "source": [
    "\n",
    "Complexity\n",
    "\n",
    "Each \"fingerprint\" takes O(1) time and space, so our total time and space costs are O(n)where nnn is the number of files on the file system.\n",
    "\n",
    "If we add the last-minute check to see if two files with the same fingerprints are actually the same files (which we probably should), then in the worst case all the files are the same and we have to read their full contents to confirm this, giving us a runtime that's order of the total size of our files on disc.\n"
   ]
  },
  {
   "cell_type": "raw",
   "metadata": {},
   "source": [
    "git config core.autocrlf true"
   ]
  },
  {
   "cell_type": "markdown",
   "metadata": {},
   "source": [
    "## LEETCODE PROBLEMS BY TOPICS"
   ]
  },
  {
   "cell_type": "markdown",
   "metadata": {},
   "source": [
    "### 1. Binary Tree and Binary Search Tree\n",
    "- binary path and serach problem\n",
    "- function return the sum of max sum path which go through the node\n",
    "- function return if tree is a search binary tree or not\n",
    "- count number of 4-directional connected components"
   ]
  },
  {
   "cell_type": "markdown",
   "metadata": {},
   "source": [
    "__Question 662. Maximum Width of Binary Tree__\n",
    "\n",
    "Given a binary tree, write a function to get the maximum width of the given tree. The width of a tree is the maximum width among all levels. The binary tree has the same structure as a full binary tree, but some nodes are null.\n",
    "\n",
    "The width of one level is defined as the length between the end-nodes (the leftmost and right most non-null nodes in the level, where the null nodes between the end-nodes are also counted into the length calculation."
   ]
  },
  {
   "cell_type": "code",
   "execution_count": 1,
   "metadata": {},
   "outputs": [],
   "source": [
    "class TreeNode:\n",
    "    def __init__(self, x):\n",
    "        self.val = x\n",
    "        self.left = None\n",
    "        self.right = None\n",
    "        \n",
    "# Print the tree\n",
    "def PrintTree(root):\n",
    "    if root:\n",
    "        PrintTree(root.left)\n",
    "        print(root.val,end=\"-->\"),\n",
    "        PrintTree(root.right)\n",
    "#insert value from array to binary tree\n",
    "def insertLevelOrder(arr, root, i): \n",
    "    \"i is current index in array\"\n",
    "    n = len(arr)\n",
    "    if i < n: \n",
    "        temp = TreeNode(arr[i])  \n",
    "        root = temp  \n",
    "        root.left = insertLevelOrder(arr, root.left, 2 * i + 1) \n",
    "        root.right = insertLevelOrder(arr, root.right,2 * i + 2) \n",
    "    return root "
   ]
  },
  {
   "cell_type": "code",
   "execution_count": 10,
   "metadata": {},
   "outputs": [
    {
     "name": "stdout",
     "output_type": "stream",
     "text": [
      "5-->3-->3-->1-->None-->2-->9-->"
     ]
    }
   ],
   "source": [
    "#Create sample tree\n",
    "\n",
    "#           1\n",
    "#         /   \\\n",
    "#        3     2\n",
    "#       / \\     \\  \n",
    "#      5   3     9 \n",
    "    \n",
    "arr = [1,3,2,5,3,None,9]\n",
    "r = None\n",
    "r = insertLevelOrder(arr,r,0)\n",
    "PrintTree(r)"
   ]
  },
  {
   "cell_type": "markdown",
   "metadata": {},
   "source": [
    "The main idea in this question is to give each node a position value. If we go down the left neighbor, then position -> position * 2; and if we go down the right neighbor, then position -> position * 2 + 1. This makes it so that when we look at the position values L and R of two nodes with the same depth, the width will be R - L + 1."
   ]
  },
  {
   "cell_type": "code",
   "execution_count": 15,
   "metadata": {},
   "outputs": [
    {
     "name": "stdout",
     "output_type": "stream",
     "text": [
      "5 0 0\n",
      "3 0 1\n",
      "3 0 0\n",
      "None 0 2\n",
      "9 0 3\n",
      "2 0 1\n",
      "1 0 0\n"
     ]
    },
    {
     "data": {
      "text/plain": [
       "4"
      ]
     },
     "execution_count": 15,
     "metadata": {},
     "output_type": "execute_result"
    }
   ],
   "source": [
    "class Solution:\n",
    "    def widthTree(self, root):\n",
    "        self.ans = 0\n",
    "        left = {}\n",
    "        def dfs(node, depth = 0, pos = 0):\n",
    "            if node:\n",
    "                left.setdefault(depth, pos)\n",
    "                self.ans = max(self.ans, pos - left[depth]+ 1)\n",
    "                dfs(node.left, depth + 1, pos * 2)\n",
    "                dfs(node.right, depth + 1, pos * 2 + 1)\n",
    "                print(node.val,left[depth],pos)\n",
    "\n",
    "        dfs(root)\n",
    "        return self.ans\n",
    "rs = Solution()\n",
    "rs.widthTree(r)"
   ]
  },
  {
   "cell_type": "markdown",
   "metadata": {},
   "source": [
    "- Time complexity : O(N) since we visit each node exactly once.\n",
    "- Space complexity : O(N) since we keep up to the entire tree."
   ]
  },
  {
   "cell_type": "code",
   "execution_count": 19,
   "metadata": {},
   "outputs": [
    {
     "name": "stdout",
     "output_type": "stream",
     "text": [
      "1 0 0\n",
      "3 0 0\n",
      "2 0 1\n",
      "5 0 0\n",
      "3 0 1\n",
      "None 0 2\n",
      "9 0 3\n"
     ]
    },
    {
     "data": {
      "text/plain": [
       "4"
      ]
     },
     "execution_count": 19,
     "metadata": {},
     "output_type": "execute_result"
    }
   ],
   "source": [
    "class Solution:\n",
    "    def widthTree(self, root):\n",
    "        queue = [(root, 0, 0)]\n",
    "        cur_depth = left = ans = 0\n",
    "        for node, depth, pos in queue:\n",
    "            if node:\n",
    "                queue.append((node.left, depth+1, pos*2))\n",
    "                queue.append((node.right, depth+1, pos*2 + 1))\n",
    "                if cur_depth != depth:\n",
    "                    cur_depth = depth\n",
    "                    left = pos #only update left when depth increases\n",
    "                print(node.val, left, pos)\n",
    "                ans = max(pos - left + 1, ans)\n",
    "        return ans\n",
    "rs = Solution()\n",
    "rs.widthTree(r)"
   ]
  },
  {
   "cell_type": "markdown",
   "metadata": {},
   "source": [
    "__Question 1339. Maximum Product of Splitted Binary Tree__\n",
    "\n",
    "Given a binary tree root. Split the binary tree into two subtrees by removing 1 edge such that the product of the sums of the subtrees are maximized.\n",
    "\n",
    "Since the answer may be too large, return it modulo 10^9 + 7."
   ]
  },
  {
   "cell_type": "code",
   "execution_count": 20,
   "metadata": {},
   "outputs": [
    {
     "name": "stdout",
     "output_type": "stream",
     "text": [
      "1-->2-->3-->4-->5-->6-->7-->8-->9-->10-->11-->"
     ]
    }
   ],
   "source": [
    "#Definition for a binary tree node.\n",
    "class TreeNode:\n",
    "    def __init__(self, x):\n",
    "        self.val = x\n",
    "        self.left = None\n",
    "        self.right = None\n",
    "def insert(root,node):\n",
    "    if root is None:\n",
    "        root = node\n",
    "    elif root.val <node.val:\n",
    "        if root.right is None:\n",
    "            root.right = node\n",
    "        else:\n",
    "            insert(root.right,node)\n",
    "    else:\n",
    "        if root.left is None:\n",
    "            root.left = node\n",
    "        else:\n",
    "            insert(root.left,node)\n",
    "\n",
    "#\n",
    "root = [2,3,9,10,7,8,6,5,4,11,1]\n",
    "r = TreeNode(root[0])\n",
    "for val in root[1:]:\n",
    "    insert(r,TreeNode(val))\n",
    "\n",
    "PrintTree(r)"
   ]
  },
  {
   "cell_type": "code",
   "execution_count": 21,
   "metadata": {},
   "outputs": [],
   "source": [
    "class Solution:\n",
    "    def calculateSum(self, node):\n",
    "        if node == None:\n",
    "            return 0\n",
    "        node.sum = self.calculateSum(node.left) + self.calculateSum(node.right) + node.val\n",
    "        return node.sum\n",
    "    \n",
    "    def traverse(self, node, sumList):\n",
    "        if node == None:\n",
    "            return\n",
    "        sumList.append(node.sum) #Top root first\n",
    "        print(node.val,end=\" \")\n",
    "        self.traverse(node.left, sumList)\n",
    "        self.traverse(node.right, sumList)\n",
    "        \n",
    "    def maxProduct(self, root):\n",
    "        totalSum = self.calculateSum(root)\n",
    "        sumList = []\n",
    "        self.traverse(root, sumList)\n",
    "        totalSum = sumList[0]\n",
    "        largestProduct = 0\n",
    "        for items in sumList[1:]:\n",
    "            largestProduct = max(largestProduct, items * (totalSum-items))\n",
    "        return largestProduct%1000000007"
   ]
  },
  {
   "cell_type": "code",
   "execution_count": 22,
   "metadata": {},
   "outputs": [
    {
     "name": "stdout",
     "output_type": "stream",
     "text": [
      "2 1 3 9 7 6 5 4 8 10 11 "
     ]
    },
    {
     "data": {
      "text/plain": [
       "1080"
      ]
     },
     "execution_count": 22,
     "metadata": {},
     "output_type": "execute_result"
    }
   ],
   "source": [
    "rs = Solution()\n",
    "rs.maxProduct(r)"
   ]
  },
  {
   "cell_type": "code",
   "execution_count": 23,
   "metadata": {},
   "outputs": [
    {
     "name": "stdout",
     "output_type": "stream",
     "text": [
      "1 4 5 6 8 7 11 10 9 3 2 "
     ]
    },
    {
     "data": {
      "text/plain": [
       "1080"
      ]
     },
     "execution_count": 23,
     "metadata": {},
     "output_type": "execute_result"
    }
   ],
   "source": [
    "def maxProduct(root):\n",
    "    sums = []\n",
    "    def sum(root):\n",
    "        if not root:\n",
    "            return 0\n",
    "        sums.append(root.val + sum(root.left) + sum(root.right)) #most left first then go right then up\n",
    "        print(root.val,end=\" \")\n",
    "        return sums[-1] #total sum\n",
    "    sum(root) #run sum to get sums list\n",
    "    return max(sum * (sums[-1] - sum) for sum in sums) % (10**9 + 7)\n",
    "maxProduct(r)"
   ]
  },
  {
   "cell_type": "markdown",
   "metadata": {},
   "source": [
    "- Time complexity : O(N) since we visit each node exactly once.\n",
    "- Space complexity : O(N) since we keep up to the entire tree."
   ]
  },
  {
   "cell_type": "code",
   "execution_count": 24,
   "metadata": {},
   "outputs": [
    {
     "name": "stdout",
     "output_type": "stream",
     "text": [
      "1 -- 65\n",
      "4 -- 248\n",
      "9 -- 513\n",
      "15 -- 765\n",
      "30 -- 1080\n"
     ]
    }
   ],
   "source": [
    "sums = [1, 4, 9, 15, 8, 30, 11, 21, 60, 63, 66]\n",
    "max_prod = 0\n",
    "for sum in sums:\n",
    "    prod = sum * (sums[-1]-sum)\n",
    "    max_prod = max(max_prod,prod)\n",
    "    if prod == max_prod:\n",
    "        print(sum,'--',prod)"
   ]
  },
  {
   "cell_type": "markdown",
   "metadata": {},
   "source": [
    "__Question 98. Validate Binary Search Tree__\n",
    "\n",
    "Given a binary tree, determine if it is a valid binary search tree (BST).\n",
    "\n",
    "Assume a BST is defined as follows:\n",
    "- The left subtree of a node contains only nodes with keys less than the node's key.\n",
    "- The right subtree of a node contains only nodes with keys greater than the node's key.\n",
    "- Both the left and right subtrees must also be binary search trees."
   ]
  },
  {
   "cell_type": "code",
   "execution_count": 25,
   "metadata": {},
   "outputs": [],
   "source": [
    "#Definition for a binary tree node.\n",
    "class TreeNode:\n",
    "    def __init__(self, x):\n",
    "        self.val = x\n",
    "        self.left = None\n",
    "        self.right = None\n",
    "#Function to insert nodes in level order  \n",
    "def insertLevelOrder(arr, root, i): \n",
    "    \"i is current index in array\"\n",
    "    n = len(arr)\n",
    "    if i < n: \n",
    "        temp = TreeNode(arr[i])  \n",
    "        root = temp  \n",
    "        root.left = insertLevelOrder(arr, root.left, 2 * i + 1) \n",
    "        root.right = insertLevelOrder(arr, root.right,2 * i + 2) \n",
    "    return root "
   ]
  },
  {
   "cell_type": "code",
   "execution_count": 52,
   "metadata": {},
   "outputs": [
    {
     "name": "stdout",
     "output_type": "stream",
     "text": [
      "None-->7-->None-->5-->3-->4-->6-->"
     ]
    }
   ],
   "source": [
    "#    5\n",
    "#   / \\\n",
    "#  1   4\n",
    "#     / \\\n",
    "#    3   6\n",
    "arr = [5,1,4,None,None,3,6]\n",
    "#arr = [5,6,8,None,None,7,9]\n",
    "#arr = [5,1,7,None,None,6,8]\n",
    "r = None\n",
    "r = insertLevelOrder(arr, r, 0)  \n",
    "PrintTree(r)"
   ]
  },
  {
   "cell_type": "code",
   "execution_count": 90,
   "metadata": {},
   "outputs": [
    {
     "name": "stdout",
     "output_type": "stream",
     "text": [
      "None-->1-->None-->5-->6-->7-->8-->"
     ]
    },
    {
     "data": {
      "text/plain": [
       "True"
      ]
     },
     "execution_count": 90,
     "metadata": {},
     "output_type": "execute_result"
    }
   ],
   "source": [
    "arr = [5,1,7,None,None,6,8]\n",
    "r = None\n",
    "r = insertLevelOrder(arr, r, 0)  \n",
    "PrintTree(r)\n",
    "\n",
    "class Solution:\n",
    "    def isValidBST(self, root):\n",
    "        \"\"\"\n",
    "        :type root: TreeNode\n",
    "        :rtype: bool\n",
    "        \"\"\"\n",
    "        def helper(node, lower = float('-inf'), upper = float('inf')):\n",
    "            if not node or not node.right or not node.left:\n",
    "                return True\n",
    "            val = node.val\n",
    "            if val <= lower or val >= upper:\n",
    "                return False\n",
    "            if not helper(node.right, val, upper):\n",
    "                return False\n",
    "            if not helper(node.left, lower, val):\n",
    "                return False\n",
    "            return True\n",
    "        return helper(root)\n",
    "rs = Solution()\n",
    "rs.isValidBST(r)"
   ]
  },
  {
   "cell_type": "markdown",
   "metadata": {},
   "source": [
    "__Question 297. Serialize and Deserialize Binary Tree__\n",
    "\n",
    "Serialization is the process of converting a data structure or object into a sequence of bits so that it can be stored in a file or memory buffer, or transmitted across a network connection link to be reconstructed later in the same or another computer environment.\n",
    "\n",
    "Design an algorithm to serialize and deserialize a binary tree. There is no restriction on how your serialization/deserialization algorithm should work. You just need to ensure that a binary tree can be serialized to a string and this string can be deserialized to the original tree structure"
   ]
  },
  {
   "cell_type": "code",
   "execution_count": 10,
   "metadata": {},
   "outputs": [],
   "source": [
    "#Definition for a binary tree node.\n",
    "class TreeNode(object):\n",
    "    def __init__(self, x):\n",
    "        self.val = x\n",
    "        self.left = None\n",
    "        self.right = None\n",
    "def insertLevelOrder(arr, root, i=0): \n",
    "    n = len(arr)\n",
    "    if i < n: \n",
    "        temp = TreeNode(arr[i])  \n",
    "        root = temp  \n",
    "        root.left = insertLevelOrder(arr, root.left, 2 * i + 1) \n",
    "        root.right = insertLevelOrder(arr, root.right,2 * i + 2) \n",
    "    return root\n",
    "def PrintTree(root):\n",
    "    if root:\n",
    "        PrintTree(root.left)\n",
    "        print(root.val,end=\"-->\"),\n",
    "        PrintTree(root.right)"
   ]
  },
  {
   "cell_type": "code",
   "execution_count": 73,
   "metadata": {},
   "outputs": [
    {
     "name": "stdout",
     "output_type": "stream",
     "text": [
      "None-->2-->None-->1-->4-->3-->5-->"
     ]
    }
   ],
   "source": [
    "#     1\n",
    "#   /  \\\n",
    "#  2    3\n",
    "#      / \\\n",
    "#     4   5\n",
    "arr = [1,2,3,None,None,4,5]\n",
    "r = None\n",
    "r = insertLevelOrder(arr,r, 0)\n",
    "PrintTree(r)"
   ]
  },
  {
   "cell_type": "code",
   "execution_count": 128,
   "metadata": {},
   "outputs": [],
   "source": [
    "class Codec:\n",
    "    def serialize_dfs(self, root):\n",
    "        \"\"\"Encodes a tree to a single string.\n",
    "        \n",
    "        :type root: TreeNode\n",
    "        :rtype: str\n",
    "        \"\"\"\n",
    "        arr = dict()\n",
    "        def add_index(root,i=0):\n",
    "            if root:\n",
    "                arr[i] = root.val\n",
    "                add_index(root.left,2*i+1)\n",
    "                add_index(root.right,2*i+2)\n",
    "        add_index(root)\n",
    "        final = []\n",
    "        for j in range(len(arr)):\n",
    "            final += [str(arr[j])]\n",
    "        return ', '.join(final)\n",
    "    \n",
    "    def serialize_bfs(self, root):\n",
    "        queue = [root]\n",
    "        for node in queue:\n",
    "            if node:\n",
    "                queue.append(node.left)\n",
    "                queue.append(node.right)\n",
    "        queue = queue[:len(queue)//2]\n",
    "        arr = [str(x.val) if x != None else 'None' for x in queue]\n",
    "        return ', '.join(arr)\n",
    "        \n",
    "    def deserialize(self,data):\n",
    "        \"\"\"Decodes your encoded data to tree.\n",
    "        :type data: str\n",
    "        :rtype: TreeNode\n",
    "        \"\"\"\n",
    "        arr = data.split(', ')\n",
    "        arr = [int(x) if x != 'None' else None for x in arr]\n",
    "        root = None\n",
    "        def insert_index(arr,root,i=0):\n",
    "            n = len(arr)\n",
    "            if i < n:\n",
    "                root = TreeNode(arr[i])\n",
    "                root.left = insert_index(arr,root.left,2*i+1)\n",
    "                root.right = insert_index(arr,root.right,2*i+2)\n",
    "            return root\n",
    "        root = insert_index(arr,root)\n",
    "        return root"
   ]
  },
  {
   "cell_type": "code",
   "execution_count": 129,
   "metadata": {
    "scrolled": true
   },
   "outputs": [
    {
     "name": "stdout",
     "output_type": "stream",
     "text": [
      "1, 2, 3, None, None, 4, 5\n",
      "1, 2, 3, None, None, 4, 5\n",
      "None-->2-->None-->1-->4-->3-->5-->"
     ]
    }
   ],
   "source": [
    "#Your Codec object will be instantiated and called as such:\n",
    "codec = Codec()\n",
    "print(codec.serialize_dfs(r))\n",
    "print(codec.serialize_bfs(r))\n",
    "rd = codec.deserialize(codec.serialize_dfs(r))\n",
    "PrintTree(rd)"
   ]
  },
  {
   "cell_type": "markdown",
   "metadata": {},
   "source": [
    "__Question 74. Search a 2D Matrix__\n",
    "\n",
    "Write an efficient algorithm that searches for a value in an m x n matrix. This matrix has the following properties:\n",
    "\n",
    "- Integers in each row are sorted from left to right.\n",
    "- The first integer of each row is greater than the last integer of the previous row."
   ]
  },
  {
   "cell_type": "code",
   "execution_count": 64,
   "metadata": {},
   "outputs": [],
   "source": [
    "class Solution:\n",
    "    def searchMatrix(self, matrix, target):\n",
    "        if not matrix or target is None:\n",
    "            return False\n",
    "        ls = []\n",
    "        for row in matrix:\n",
    "            ls += row\n",
    "        l, r = 0, len(ls)-1\n",
    "        while l <= r:\n",
    "            mid = l + (r-l)//2\n",
    "            if ls[mid] < target:\n",
    "                l = mid + 1\n",
    "            elif ls[mid] > target:\n",
    "                r = mid - 1\n",
    "            else:\n",
    "                return True\n",
    "        return False\n",
    "    # Iteratively\n",
    "    def searchMatrix_iterative(self, matrix, target):\n",
    "        if not matrix or target is None:\n",
    "            return False\n",
    "        l, r = 0, len(matrix) * len(matrix[0]) - 1\n",
    "        while l <= r:\n",
    "            mid = l + (r-l)//2\n",
    "            row, col = mid//len(matrix[0]), mid%(len(matrix[0]))\n",
    "            if matrix[row][col] < target:\n",
    "                l = mid + 1\n",
    "            elif matrix[row][col] > target:\n",
    "                r = mid - 1\n",
    "            else:\n",
    "                return True\n",
    "        return False\n",
    "    \n",
    "    def searchMatrix_recursive(self, matrix, target):\n",
    "        if not matrix or target is None:\n",
    "            return False\n",
    "        return self.helper(matrix, 0, 0, len(matrix)-1, len(matrix[0])-1, target)\n",
    "\n",
    "    def helper(self, matrix, row1, col1, row2, col2, target):\n",
    "        while row1 <= row2 and col1 <= col2:\n",
    "            mid_row = row1 + (row2-row1)//2; mid_col = col1 + (col2-col1)//2\n",
    "            if target == matrix[mid_row][mid_col]:\n",
    "                return True\n",
    "            if target < matrix[mid_row][mid_col]:\n",
    "                return self.helper(matrix, row1, col1, mid_row-1, col2, target) or \\\n",
    "                self.helper(matrix, mid_row, col1, mid_row, mid_col-1, target)\n",
    "            elif target > matrix[mid_row][mid_col]:\n",
    "                return self.helper(matrix, mid_row+1, col1, row2, col2, target) or \\\n",
    "                self.helper(matrix, mid_row, mid_col+1, mid_row, col2, target)\n",
    "        return False"
   ]
  },
  {
   "cell_type": "code",
   "execution_count": 56,
   "metadata": {},
   "outputs": [
    {
     "data": {
      "text/plain": [
       "True"
      ]
     },
     "execution_count": 56,
     "metadata": {},
     "output_type": "execute_result"
    }
   ],
   "source": [
    "matrix = [[1,   3,  5,  7],\n",
    "          [10, 11, 16, 20],\n",
    "          [23, 30, 34, 50]]\n",
    "target = 3\n",
    "s = Solution()\n",
    "s.searchMatrix(matrix,target)"
   ]
  },
  {
   "cell_type": "markdown",
   "metadata": {},
   "source": [
    "matrix size m rows and n cols\n",
    "- __Time:__ O (m + log(m\\*n)) --> O(log(m\\*n))\n",
    "- __Space:__ O (m\\*n)"
   ]
  },
  {
   "cell_type": "code",
   "execution_count": 57,
   "metadata": {},
   "outputs": [
    {
     "data": {
      "text/plain": [
       "True"
      ]
     },
     "execution_count": 57,
     "metadata": {},
     "output_type": "execute_result"
    }
   ],
   "source": [
    "s = Solution()\n",
    "s.searchMatrix_iterative(matrix,target)"
   ]
  },
  {
   "cell_type": "code",
   "execution_count": 65,
   "metadata": {},
   "outputs": [
    {
     "data": {
      "text/plain": [
       "True"
      ]
     },
     "execution_count": 65,
     "metadata": {},
     "output_type": "execute_result"
    }
   ],
   "source": [
    "s = Solution()\n",
    "s.searchMatrix_recursive(matrix,target)"
   ]
  },
  {
   "cell_type": "markdown",
   "metadata": {},
   "source": [
    "matrix size m rows and n cols\n",
    "- __Time:__ O(log(m\\*n))\n",
    "- __Space:__ O (m\\*n)"
   ]
  },
  {
   "cell_type": "markdown",
   "metadata": {},
   "source": [
    "### 2. Subsets"
   ]
  },
  {
   "cell_type": "markdown",
   "metadata": {},
   "source": [
    "__Question 78. Subsets__\n",
    "\n",
    "Given a set of distinct integers, nums, return all possible subsets (the power set).\n",
    "\n",
    "Note: The solution set must not contain duplicate subsets."
   ]
  },
  {
   "cell_type": "code",
   "execution_count": 207,
   "metadata": {},
   "outputs": [
    {
     "name": "stdout",
     "output_type": "stream",
     "text": [
      "8\n"
     ]
    },
    {
     "data": {
      "text/plain": [
       "[[], [1], [2], [1, 2], [3], [1, 3], [2, 3], [1, 2, 3]]"
      ]
     },
     "execution_count": 207,
     "metadata": {},
     "output_type": "execute_result"
    }
   ],
   "source": [
    "class Solution:\n",
    "    def subsets(self, nums):\n",
    "        output = [[]]\n",
    "        for num in nums:\n",
    "            output += [curr + [num] for curr in output]\n",
    "        return output\n",
    "nums = [1,2,3]\n",
    "s = Solution()\n",
    "results = s.subsets(nums)\n",
    "print(len(results))\n",
    "results"
   ]
  },
  {
   "cell_type": "markdown",
   "metadata": {},
   "source": [
    "Complexity Analysis\n",
    "\n",
    "Time complexity: O (N*2<sup>N</sup>) to generate all subsets and then copy them into output list.\n",
    "\n",
    "Space complexity: O (N*2<sup>N</sup>). This is exactly the number of solutions for subsets multiplied by the number N of elements to keep for each subset. For a given number, it could be present or absent (i.e. binary choice) in a subset solution. As as result, for N numbers, we would have in total 2<sup>N</sup>  choices (solutions)."
   ]
  },
  {
   "cell_type": "code",
   "execution_count": 205,
   "metadata": {},
   "outputs": [
    {
     "name": "stdout",
     "output_type": "stream",
     "text": [
      "8\n",
      "[[], [1], [2], [3], [1, 2], [1, 3], [2, 3], [1, 2, 3]]\n"
     ]
    }
   ],
   "source": [
    "class Solution:\n",
    "    def subsets(self, nums):\n",
    "        def backtrack(first = 0, curr = []):\n",
    "            if len(curr) == k:  \n",
    "                output.append(curr[:])\n",
    "            for i in range(first, n):\n",
    "                curr.append(nums[i])\n",
    "                backtrack(i + 1, curr)\n",
    "                curr.pop()\n",
    "                \n",
    "        \n",
    "        output = []\n",
    "        n = len(nums)\n",
    "        for k in range(n + 1):\n",
    "            backtrack()\n",
    "        return output\n",
    "#test function    \n",
    "nums = [1,2,3]\n",
    "s = Solution()\n",
    "results = s.subsets(nums)\n",
    "print(len(results))\n",
    "print(results)"
   ]
  },
  {
   "cell_type": "markdown",
   "metadata": {},
   "source": [
    "__Question 90. Subsets II__\n",
    "\n",
    "Given a collection of integers that might contain duplicates, nums, return all possible subsets (the power set).\n",
    "\n",
    "Note: The solution set must not contain duplicate subsets."
   ]
  },
  {
   "cell_type": "code",
   "execution_count": 216,
   "metadata": {},
   "outputs": [
    {
     "name": "stdout",
     "output_type": "stream",
     "text": [
      "[[], [1], [2], [1, 2], [2, 2], [1, 2, 2]]\n"
     ]
    }
   ],
   "source": [
    "class Solution:\n",
    "    def subsetsWithDup(self, nums):\n",
    "        output = [[]]\n",
    "        for num in nums:\n",
    "            output += [curr + [num] for curr in output if (curr+[num]) not in output]\n",
    "        return output\n",
    "#test function\n",
    "nums = [1,2,2]\n",
    "s = Solution()\n",
    "results = s.subsetsWithDup(nums)\n",
    "#print(len(results))\n",
    "print(results)"
   ]
  },
  {
   "cell_type": "markdown",
   "metadata": {},
   "source": [
    "__Question 940. Distinct Subsequences II__\n",
    "\n",
    "Given a string S, count the number of distinct, non-empty subsequences of S .\n",
    "\n",
    "Since the result may be large, return the answer modulo 10^9 + 7."
   ]
  },
  {
   "cell_type": "code",
   "execution_count": 241,
   "metadata": {},
   "outputs": [
    {
     "name": "stdout",
     "output_type": "stream",
     "text": [
      "21\n"
     ]
    }
   ],
   "source": [
    "class Solution:\n",
    "    def distinctSubseqII(self, S):\n",
    "        output = [[]]\n",
    "        for char in S:\n",
    "            output += [curr_char + [char] for curr_char in output if curr_char + [char] not in output]\n",
    "        return (len(output)-1) % (10**9 + 7)\n",
    "#Test function\n",
    "S = 'aaabab'\n",
    "s = Solution()\n",
    "result = s.distinctSubseqII(S)\n",
    "print(result)"
   ]
  },
  {
   "cell_type": "code",
   "execution_count": 240,
   "metadata": {},
   "outputs": [
    {
     "name": "stdout",
     "output_type": "stream",
     "text": [
      "[1, 2, 3, 4, 8, 13, 22]\n",
      "21\n"
     ]
    }
   ],
   "source": [
    "class Solution(object):\n",
    "    def distinctSubseqII(self, S):\n",
    "        dp = [1]\n",
    "        last = {} #dict of index of the last time character x appears\n",
    "        for i, x in enumerate(S):\n",
    "            dp.append(dp[-1] * 2) #dp = [1,2,4,8...]\n",
    "            if x in last:\n",
    "                dp[-1] -= dp[last[x]] #adjust last elelment of dp by removing the # of output when the char last appears\n",
    "            last[x] = i\n",
    "        print(dp)\n",
    "        return (dp[-1] - 1) % (10**9 + 7)#Test function\n",
    "S = 'aaabab'\n",
    "s = Solution()\n",
    "result = s.distinctSubseqII(S)\n",
    "print(result)"
   ]
  },
  {
   "cell_type": "markdown",
   "metadata": {},
   "source": [
    "Time Complexity: O(N), where NN is the length of S.\n",
    "\n",
    "Space Complexity: O(N). It is possible to adapt this solution to take O(1) space."
   ]
  },
  {
   "cell_type": "markdown",
   "metadata": {},
   "source": [
    "### 3. Sort array"
   ]
  },
  {
   "cell_type": "markdown",
   "metadata": {},
   "source": [
    "__Question 912. Sort an Array__\n",
    "\n",
    "Given an array of integers nums, sort the array in ascending order."
   ]
  },
  {
   "cell_type": "code",
   "execution_count": 242,
   "metadata": {},
   "outputs": [
    {
     "name": "stdout",
     "output_type": "stream",
     "text": [
      "[1, 2, 3, 4, 5, 6]\n"
     ]
    }
   ],
   "source": [
    "class Solution:\n",
    "    def sortArray(self, nums):\n",
    "        if len(nums) <= 1: \n",
    "            return nums\n",
    "        mid = len(nums)//2\n",
    "        left = self.sortArray(nums[:mid])\n",
    "        right = self.sortArray(nums[mid:])\n",
    "        l,r = 0,0\n",
    "        sorted_nums = []\n",
    "        while l < len(left) and r < len(right):\n",
    "            if left[l] < right[r]:\n",
    "                sorted_nums.append(left[l])\n",
    "                l+=1\n",
    "            else:\n",
    "                sorted_nums.append(right[r])\n",
    "                r+=1\n",
    "        sorted_nums.extend(left[l:])\n",
    "        sorted_nums.extend(right[r:])\n",
    "        return sorted_nums\n",
    "\n",
    "nums = [4,3,1,5,2,6]        \n",
    "s = Solution()\n",
    "result = s.sortArray(nums)\n",
    "print(result)        "
   ]
  },
  {
   "cell_type": "markdown",
   "metadata": {},
   "source": [
    "Time Complexity: O(N*log(N)), where N is the length of nums.\n",
    "\n",
    "Space Complexity: O(N)."
   ]
  },
  {
   "cell_type": "code",
   "execution_count": 5,
   "metadata": {},
   "outputs": [],
   "source": [
    "import random\n",
    "def quicksort(nums):\n",
    "    if len(nums) <= 1:\n",
    "        return nums\n",
    "\n",
    "    pivot = random.choice(nums)\n",
    "    lt = [v for v in nums if v < pivot]\n",
    "    eq = [v for v in nums if v == pivot]\n",
    "    gt = [v for v in nums if v > pivot]\n",
    "\n",
    "    return quicksort(lt) + eq + quicksort(gt)"
   ]
  },
  {
   "cell_type": "code",
   "execution_count": 6,
   "metadata": {},
   "outputs": [
    {
     "data": {
      "text/plain": [
       "[1, 2, 3, 4, 5, 6]"
      ]
     },
     "execution_count": 6,
     "metadata": {},
     "output_type": "execute_result"
    }
   ],
   "source": [
    "nums = [4,3,1,5,2,6] \n",
    "quicksort(nums)"
   ]
  },
  {
   "cell_type": "markdown",
   "metadata": {},
   "source": [
    "- __Runtime:__ O(nlogn) expected, O(n^2) worst case. With a proper choice of pivot (using the median of medians algorithm), the runtime can be reduced to strict O(nlogn).\n",
    "- __Space:__ O(n) expected, O(n^2) worst case"
   ]
  },
  {
   "cell_type": "markdown",
   "metadata": {},
   "source": [
    "__Question 88. Merge Sorted Array__\n",
    "\n",
    "Given two sorted integer arrays nums1 and nums2, merge nums2 into nums1 as one sorted array.\n",
    "\n",
    "Note:\n",
    "- The number of elements initialized in nums1 and nums2 are m and n respectively.\n",
    "- You may assume that nums1 has enough space (size that is greater or equal to m + n) to hold additional elements from nums2."
   ]
  },
  {
   "cell_type": "code",
   "execution_count": 29,
   "metadata": {},
   "outputs": [],
   "source": [
    "class Solution:\n",
    "    def merge(self, nums1, m, nums2, n):\n",
    "        \":rtype: None Do not return anything, modify nums1 in-place instead\"\n",
    "        if n == 0:\n",
    "            pass\n",
    "        end_1,end_2 = m - 1,n-1\n",
    "        fill_idx = (m + n) - 1 #5 = last index\n",
    "        while fill_idx >= 0:\n",
    "            if nums1[end_1] < nums2[end_2] or end_1 < 0:\n",
    "                nums1[fill_idx] = nums2[end_2]\n",
    "                nums2[end_2] = 0\n",
    "                end_2 -= 1\n",
    "            else:\n",
    "                nums1[fill_idx] = nums1[end_1]\n",
    "                nums1[end_1] = 0\n",
    "                end_1 -= 1\n",
    "            if end_2 < 0:\n",
    "                return\n",
    "            fill_idx -= 1"
   ]
  },
  {
   "cell_type": "code",
   "execution_count": 30,
   "metadata": {},
   "outputs": [
    {
     "name": "stdout",
     "output_type": "stream",
     "text": [
      "[1, 2, 2, 3, 5, 6]\n",
      "[0, 0, 0]\n"
     ]
    }
   ],
   "source": [
    "nums1 = [1,2,3,0,0,0]\n",
    "m = 3\n",
    "nums2 = [2,5,6]\n",
    "n = 3\n",
    "#[1,2,2,3,5,6]\n",
    "snums = Solution()\n",
    "snums.merge(nums1,m,nums2,n)\n",
    "print(nums1)\n",
    "print(nums2)"
   ]
  },
  {
   "cell_type": "markdown",
   "metadata": {},
   "source": [
    "- __Runtime:__ O(m+n) \n",
    "- __Space:__ O(m+n)"
   ]
  },
  {
   "cell_type": "markdown",
   "metadata": {},
   "source": [
    "### 4. Breadth First Search"
   ]
  },
  {
   "cell_type": "markdown",
   "metadata": {},
   "source": [
    "__Question 127. Word Ladder__\n",
    "\n",
    "Given two words (beginWord and endWord), and a dictionary's word list, find the length of shortest transformation sequence from beginWord to endWord, such that:\n",
    "- Only one letter can be changed at a time.\n",
    "- Each transformed word must exist in the word list. Note that beginWord is not a transformed word.\n",
    "\n",
    "Note:\n",
    "\n",
    "- Return 0 if there is no such transformation sequence.\n",
    "- All words have the same length.\n",
    "- All words contain only lowercase alphabetic characters.\n",
    "- You may assume no duplicates in the word list.\n",
    "- You may assume beginWord and endWord are non-empty and are not the same."
   ]
  },
  {
   "cell_type": "code",
   "execution_count": 106,
   "metadata": {},
   "outputs": [],
   "source": [
    "import collections\n",
    "class Solution:\n",
    "    def ladderLength(self, beginWord, endWord,wordList):\n",
    "        if endWord not in wordList or not endWord or not beginWord or not wordList:\n",
    "            return 0\n",
    "\n",
    "        L = len(beginWord)\n",
    "        all_combo_dict = collections.defaultdict(list)\n",
    "        for word in wordList:\n",
    "            for i in range(L):\n",
    "                all_combo_dict[word[:i] + \"*\" + word[i+1:]].append(word)\n",
    "\n",
    "        queue = collections.deque([(beginWord, 1)])\n",
    "        visited = {beginWord: True}\n",
    "        while queue:\n",
    "            current_word, level = queue.popleft()      \n",
    "            for i in range(L):\n",
    "                intermediate_word = current_word[:i] + \"*\" + current_word[i+1:]\n",
    "                for word in all_combo_dict[intermediate_word]:\n",
    "                    if word == endWord:\n",
    "                        return level + 1\n",
    "                    if word not in visited:\n",
    "                        visited[word] = True\n",
    "                        queue.append((word, level + 1))\n",
    "                all_combo_dict[intermediate_word] = []\n",
    "        return 0"
   ]
  },
  {
   "cell_type": "code",
   "execution_count": 107,
   "metadata": {},
   "outputs": [
    {
     "data": {
      "text/plain": [
       "5"
      ]
     },
     "execution_count": 107,
     "metadata": {},
     "output_type": "execute_result"
    }
   ],
   "source": [
    "beginWord = \"hit\"\n",
    "endWord = \"cog\"\n",
    "wordList = [\"hot\",\"dot\",\"dog\",\"lot\",\"log\",\"cog\"]\n",
    "s = Solution()\n",
    "s.ladderLength(beginWord, endWord,wordList)\n",
    "#Explanation: As one shortest transformation is \"hit\" -> \"hot\" -> \"dot\" -> \"dog\" -> \"cog\","
   ]
  },
  {
   "cell_type": "markdown",
   "metadata": {},
   "source": [
    "### 5. Depth First Search "
   ]
  },
  {
   "cell_type": "markdown",
   "metadata": {},
   "source": [
    "__Question 200. Number of Islands__\n",
    "\n",
    "Given a 2d grid map of '1's (land) and '0's (water), count the number of islands. An island is surrounded by water and is formed by connecting adjacent lands horizontally or vertically. You may assume all four edges of the grid are all surrounded by water."
   ]
  },
  {
   "cell_type": "code",
   "execution_count": 122,
   "metadata": {},
   "outputs": [],
   "source": [
    "class Solution:\n",
    "    def numIslands(self, grid):\n",
    "        def sink(i, j):\n",
    "            if 0 <= i < len(grid) and 0 <= j < len(grid[i]) and grid[i][j] == '1':\n",
    "                grid[i][j] = '0'\n",
    "                tuple(map(sink, (i+1, i-1, i, i), (j, j, j+1, j-1)))\n",
    "                return 1\n",
    "            return 0\n",
    "        return sum(sink(i, j) for i in range(len(grid)) for j in range(len(grid[i])))"
   ]
  },
  {
   "cell_type": "code",
   "execution_count": 123,
   "metadata": {},
   "outputs": [
    {
     "name": "stdout",
     "output_type": "stream",
     "text": [
      "1\n",
      "3\n"
     ]
    }
   ],
   "source": [
    "grid = [['1','1','1','1','0'],\n",
    "        ['1','1','0','1','0'],\n",
    "        ['1','1','0','0','0'],\n",
    "        ['0','0','0','0','0']]\n",
    "grid1 = [['1','1','0','0','0'],\n",
    "         ['1','1','0','0','0'],\n",
    "         ['0','0','1','0','0'],\n",
    "         ['0','0','0','1','1']]\n",
    "s = Solution()\n",
    "print(s.numIslands(grid))\n",
    "print(s.numIslands(grid1))"
   ]
  },
  {
   "cell_type": "markdown",
   "metadata": {},
   "source": [
    "__Question 104. Maximum Depth of Binary Tree__\n",
    "\n",
    "Given a binary tree, find its maximum depth. The maximum depth is the number of nodes along the longest path from the root node down to the farthest leaf node.\n",
    "\n",
    "Note: A leaf is a node with no children."
   ]
  },
  {
   "cell_type": "code",
   "execution_count": 4,
   "metadata": {},
   "outputs": [
    {
     "data": {
      "text/plain": [
       "7"
      ]
     },
     "execution_count": 4,
     "metadata": {},
     "output_type": "execute_result"
    }
   ],
   "source": [
    "#Definition for a binary tree node.\n",
    "class TreeNode:\n",
    "    def __init__(self, x):\n",
    "        self.val = x\n",
    "        self.left = None\n",
    "        self.right = None\n",
    "def insert_index(arr,root,i=0):\n",
    "    n = len(arr)\n",
    "    if i < n:\n",
    "        root = TreeNode(arr[i])\n",
    "        root.left = insert_index(arr,root.left,2*i+1)\n",
    "        root.right = insert_index(arr,root.right,2*i+2)\n",
    "    return root \n",
    "\n",
    "#Create sample tree from array\n",
    "arr=[3,9,20,None,None,15,7]\n",
    "r=None\n",
    "r = insert_index(arr,r)\n",
    "r.right.right.val"
   ]
  },
  {
   "cell_type": "code",
   "execution_count": 97,
   "metadata": {},
   "outputs": [
    {
     "data": {
      "text/plain": [
       "3"
      ]
     },
     "execution_count": 97,
     "metadata": {},
     "output_type": "execute_result"
    }
   ],
   "source": [
    "class Solution:\n",
    "    def maxDepth(self, root):\n",
    "        return 1 + max(map(self.maxDepth, (root.left, root.right))) if root else 0\n",
    "s = Solution()\n",
    "s.maxDepth(r)"
   ]
  },
  {
   "cell_type": "code",
   "execution_count": 7,
   "metadata": {},
   "outputs": [
    {
     "data": {
      "text/plain": [
       "3"
      ]
     },
     "execution_count": 7,
     "metadata": {},
     "output_type": "execute_result"
    }
   ],
   "source": [
    "class Solution:\n",
    "    def maxDepth(self, root):\n",
    "        if root:\n",
    "            return 1 + max(self.maxDepth(root.left),self.maxDepth(root.right))\n",
    "        else:\n",
    "            return 0\n",
    "s = Solution()\n",
    "s.maxDepth(r)"
   ]
  },
  {
   "cell_type": "markdown",
   "metadata": {},
   "source": [
    "### 6. Hash table"
   ]
  },
  {
   "cell_type": "markdown",
   "metadata": {},
   "source": [
    "__Question 1. Two Sum__\n",
    "\n",
    "Given an array of integers, return indices of the two numbers such that they add up to a specific target.\n",
    "\n",
    "You may assume that each input would have exactly one solution, and you may not use the same element twice."
   ]
  },
  {
   "cell_type": "code",
   "execution_count": 15,
   "metadata": {},
   "outputs": [
    {
     "data": {
      "text/plain": [
       "[0, 2]"
      ]
     },
     "execution_count": 15,
     "metadata": {},
     "output_type": "execute_result"
    }
   ],
   "source": [
    "class Solution:\n",
    "    def twoSum(self, nums, target):\n",
    "        for i, num in enumerate(nums):\n",
    "            n = target - num\n",
    "            if n in nums:\n",
    "                return [i, nums.index(n)]\n",
    "        print('There is no combination making the target sum')\n",
    "        \n",
    "s = Solution()\n",
    "s.twoSum([2,7,10,12],12)"
   ]
  },
  {
   "cell_type": "markdown",
   "metadata": {},
   "source": [
    "- __Time complexity:__ O(n). We traverse the list containing nn elements exactly twice.\n",
    "- __Space complexity:__ O(n). The extra space required depends on the number of elements."
   ]
  },
  {
   "cell_type": "markdown",
   "metadata": {},
   "source": [
    "__Quetion 49. Group Anagrams__\n",
    "\n",
    "Given an array of strings, group anagrams together."
   ]
  },
  {
   "cell_type": "code",
   "execution_count": 51,
   "metadata": {},
   "outputs": [
    {
     "data": {
      "text/plain": [
       "[['eat', 'tea', 'ate'], ['tan', 'nat'], ['bat']]"
      ]
     },
     "execution_count": 51,
     "metadata": {},
     "output_type": "execute_result"
    }
   ],
   "source": [
    "import collections\n",
    "class Solution():\n",
    "    def groupAnagrams(self, strs):\n",
    "        ans = collections.defaultdict(list)\n",
    "        for s in strs: #O(len(strs))\n",
    "            ans[tuple(sorted(s))].append(s) #O(len(tuple)*log(tuple)) for sort\n",
    "        return list(ans.values())\n",
    "\n",
    "strs =  [\"eat\", \"tea\", \"tan\", \"ate\", \"nat\", \"bat\"]\n",
    "#Output:[[\"ate\",\"eat\",\"tea\"], [\"nat\",\"tan\"], [\"bat\"]]\n",
    "s = Solution()\n",
    "s.groupAnagrams(strs)"
   ]
  },
  {
   "cell_type": "markdown",
   "metadata": {},
   "source": [
    "- __Time Complexity:__ O(NKlogK) where N is the length of strs, and K is the maximum length of a string in strs.\n",
    "- __Space Complexity:__ O(NK), the total information content stored in ans."
   ]
  },
  {
   "cell_type": "code",
   "execution_count": 50,
   "metadata": {},
   "outputs": [
    {
     "data": {
      "text/plain": [
       "[['eat', 'tea', 'ate'], ['tan', 'nat'], ['bat']]"
      ]
     },
     "execution_count": 50,
     "metadata": {},
     "output_type": "execute_result"
    }
   ],
   "source": [
    "class Solution:\n",
    "    def groupAnagrams(self,strs):\n",
    "        ans = collections.defaultdict(list)\n",
    "        for s in strs:\n",
    "            count = [0] * 26 #26 chars from a to z\n",
    "            for c in s:\n",
    "                count[ord(c) - ord('a')] += 1\n",
    "            ans[str(count)].append(s)\n",
    "        return list(ans.values())\n",
    "\n",
    "s = Solution()\n",
    "s.groupAnagrams(strs)"
   ]
  },
  {
   "cell_type": "markdown",
   "metadata": {},
   "source": [
    "- __Time Complexity:__ O(NK), where N is the length of strs, and K is the maximum length of a string in strs. Counting each string is linear in the size of the string, and we count every string.\n",
    "- __Space Complexity:__ O(NK), the total information content stored in ans."
   ]
  }
 ],
 "metadata": {
  "kernelspec": {
   "display_name": "Python 3",
   "language": "python",
   "name": "python3"
  },
  "language_info": {
   "codemirror_mode": {
    "name": "ipython",
    "version": 3
   },
   "file_extension": ".py",
   "mimetype": "text/x-python",
   "name": "python",
   "nbconvert_exporter": "python",
   "pygments_lexer": "ipython3",
   "version": "3.7.4"
  }
 },
 "nbformat": 4,
 "nbformat_minor": 2
}

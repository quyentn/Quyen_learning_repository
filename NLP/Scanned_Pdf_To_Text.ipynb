{
 "cells": [
  {
   "cell_type": "code",
   "execution_count": 35,
   "metadata": {},
   "outputs": [],
   "source": [
    "import wand\n",
    "import io\n",
    "from wand.image import Image as Img\n",
    "from PIL import Image\n",
    "def scanned_pdf_to_text (file_path, resolution = 300): #Resolution of 300 DPI or higher is the best OCR practice\n",
    "    scr_pdf = PyPDF2.PdfFileReader(file_path,'rb')\n",
    "    number_of_pages = scr_pdf.getNumPages()\n",
    "    whole_text = ''\n",
    "    for i in range(number_of_pages):\n",
    "        dst_pdf = PyPDF2.PdfFileWriter()\n",
    "        dst_pdf.addPage(scr_pdf.getPage(i))\n",
    "        pdf_bytes = io.BytesIO()\n",
    "        dst_pdf.write(pdf_bytes)\n",
    "        pdf_bytes.seek(0)\n",
    "        img = Img(file = pdf_bytes, resolution = resolution)\n",
    "        img.convert('jpg')\n",
    "        save_file = file_path[:-3]+'jpg'\n",
    "        img.save(filename = save_file) #overwrite output file for each page\n",
    "        img = Image.open(save_file)\n",
    "        text = pytesseract.image_to_string(img,lang='eng')\n",
    "        whole_text += ('\\n'+ text)\n",
    "    os.remove(save_file) #remove output jpg picture when the last page is written to text\n",
    "    return whole_text"
   ]
  },
  {
   "cell_type": "raw",
   "metadata": {},
   "source": [
    "import PyPDF2\n",
    "import pytesseract #Tesseract 5.0.0\n",
    "pytesseract.pytesseract.tesseract_cmd = 'C:/Users/plr7443/AppData/Local/Tesseract-OCR/tesseract.exe' \n",
    "from IPython.display import display, Image\n",
    "import os\n",
    "import warnings\n",
    "warnings.filterwarnings('ignore')\n",
    "text = scanned_pdf_to_text (file_path = '...')\n",
    "text"
   ]
  },
  {
   "cell_type": "code",
   "execution_count": 41,
   "metadata": {},
   "outputs": [
    {
     "name": "stdout",
     "output_type": "stream",
     "text": [
      "THE STATE OF TEXAS §\n",
      "KNOW ALL MEN BY THESE PRESENT:\n",
      "\n",
      "County OF HARRIS §\n",
      "\n",
      "|, being duly sworn, upon oath, depose and say:\n",
      "\n",
      "That | am able to read and write both the and\n",
      "English languages; that | have this day examined the document attached\n",
      "and the translation in English also attached; that | hereby certify that the\n",
      "translation is complete and accurate to the best of my knowledge and\n",
      "\n",
      "belief.\n",
      "\n",
      "SUBSCRIBED and SWORN to before me this day of\n",
      "\n",
      "20\n"
     ]
    }
   ],
   "source": [
    "from PIL import Image\n",
    "import pytesseract #Tesseract 5.0.0\n",
    "pytesseract.pytesseract.tesseract_cmd = 'C:/Users/plr7443/AppData/Local/Tesseract-OCR/tesseract.exe' \n",
    "img = Image.open('...')\n",
    "text = pytesseract.image_to_string(img,lang='eng')\n",
    "print(text)"
   ]
  }
 ],
 "metadata": {
  "kernelspec": {
   "display_name": "Python 3",
   "language": "python",
   "name": "python3"
  },
  "language_info": {
   "codemirror_mode": {
    "name": "ipython",
    "version": 3
   },
   "file_extension": ".py",
   "mimetype": "text/x-python",
   "name": "python",
   "nbconvert_exporter": "python",
   "pygments_lexer": "ipython3",
   "version": "3.7.4"
  }
 },
 "nbformat": 4,
 "nbformat_minor": 2
}

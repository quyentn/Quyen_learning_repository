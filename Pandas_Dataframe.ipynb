{
 "cells": [
  {
   "cell_type": "code",
   "execution_count": 1,
   "metadata": {},
   "outputs": [
    {
     "data": {
      "text/html": [
       "<div>\n",
       "<style scoped>\n",
       "    .dataframe tbody tr th:only-of-type {\n",
       "        vertical-align: middle;\n",
       "    }\n",
       "\n",
       "    .dataframe tbody tr th {\n",
       "        vertical-align: top;\n",
       "    }\n",
       "\n",
       "    .dataframe thead th {\n",
       "        text-align: right;\n",
       "    }\n",
       "</style>\n",
       "<table border=\"1\" class=\"dataframe\">\n",
       "  <thead>\n",
       "    <tr style=\"text-align: right;\">\n",
       "      <th></th>\n",
       "      <th>customer_id</th>\n",
       "      <th>start_date</th>\n",
       "      <th>end_date</th>\n",
       "      <th>product_id</th>\n",
       "      <th>product_name</th>\n",
       "    </tr>\n",
       "  </thead>\n",
       "  <tbody>\n",
       "    <tr>\n",
       "      <td>0</td>\n",
       "      <td>001</td>\n",
       "      <td>2019-01-01</td>\n",
       "      <td>2019-12-01</td>\n",
       "      <td>prod1</td>\n",
       "      <td>prod1_name</td>\n",
       "    </tr>\n",
       "    <tr>\n",
       "      <td>1</td>\n",
       "      <td>001</td>\n",
       "      <td>2019-01-01</td>\n",
       "      <td>2019-12-01</td>\n",
       "      <td>prod2</td>\n",
       "      <td>prod2_name</td>\n",
       "    </tr>\n",
       "    <tr>\n",
       "      <td>2</td>\n",
       "      <td>002</td>\n",
       "      <td>2019-05-01</td>\n",
       "      <td>2020-07-31</td>\n",
       "      <td>prod1</td>\n",
       "      <td>prod1_name</td>\n",
       "    </tr>\n",
       "    <tr>\n",
       "      <td>3</td>\n",
       "      <td>002</td>\n",
       "      <td>2019-05-01</td>\n",
       "      <td>2020-07-31</td>\n",
       "      <td>prod3</td>\n",
       "      <td>prod3_name</td>\n",
       "    </tr>\n",
       "    <tr>\n",
       "      <td>4</td>\n",
       "      <td>002</td>\n",
       "      <td>2019-05-01</td>\n",
       "      <td>2020-07-31</td>\n",
       "      <td>prod4</td>\n",
       "      <td>prod4_name</td>\n",
       "    </tr>\n",
       "  </tbody>\n",
       "</table>\n",
       "</div>"
      ],
      "text/plain": [
       "  customer_id  start_date    end_date product_id product_name\n",
       "0         001  2019-01-01  2019-12-01      prod1   prod1_name\n",
       "1         001  2019-01-01  2019-12-01      prod2   prod2_name\n",
       "2         002  2019-05-01  2020-07-31      prod1   prod1_name\n",
       "3         002  2019-05-01  2020-07-31      prod3   prod3_name\n",
       "4         002  2019-05-01  2020-07-31      prod4   prod4_name"
      ]
     },
     "execution_count": 1,
     "metadata": {},
     "output_type": "execute_result"
    }
   ],
   "source": [
    "#Create pandas data frame by hard coding\n",
    "import pandas as pd\n",
    "import warnings \n",
    "warnings.filterwarnings('ignore')\n",
    "df = pd.DataFrame(zip(['001','001','002','002','002'],\n",
    "                      ['2019-01-01','2019-01-01','2019-05-01','2019-05-01','2019-05-01'],\n",
    "                      ['2019-12-01','2019-12-01','2020-07-31','2020-07-31','2020-07-31'],\n",
    "                      ['prod1','prod2','prod1','prod3','prod4'],\n",
    "                      ['prod1_name','prod2_name','prod1_name','prod3_name','prod4_name']),\n",
    "                  columns = ['customer_id', 'start_date','end_date','product_id','product_name'])\n",
    "df"
   ]
  },
  {
   "cell_type": "code",
   "execution_count": 7,
   "metadata": {},
   "outputs": [
    {
     "name": "stdout",
     "output_type": "stream",
     "text": [
      "<class 'pandas.core.frame.DataFrame'>\n",
      "RangeIndex: 5 entries, 0 to 4\n",
      "Data columns (total 5 columns):\n",
      "customer_id     5 non-null object\n",
      "start_date      5 non-null object\n",
      "end_date        5 non-null object\n",
      "product_id      5 non-null object\n",
      "product_name    5 non-null object\n",
      "dtypes: object(5)\n",
      "memory usage: 328.0+ bytes\n"
     ]
    }
   ],
   "source": [
    "df.info()"
   ]
  },
  {
   "cell_type": "code",
   "execution_count": 6,
   "metadata": {},
   "outputs": [
    {
     "data": {
      "text/html": [
       "<div>\n",
       "<style scoped>\n",
       "    .dataframe tbody tr th:only-of-type {\n",
       "        vertical-align: middle;\n",
       "    }\n",
       "\n",
       "    .dataframe tbody tr th {\n",
       "        vertical-align: top;\n",
       "    }\n",
       "\n",
       "    .dataframe thead th {\n",
       "        text-align: right;\n",
       "    }\n",
       "</style>\n",
       "<table border=\"1\" class=\"dataframe\">\n",
       "  <thead>\n",
       "    <tr style=\"text-align: right;\">\n",
       "      <th></th>\n",
       "      <th>customer_id</th>\n",
       "      <th>start_date</th>\n",
       "      <th>end_date</th>\n",
       "      <th>product_id</th>\n",
       "      <th>product_name</th>\n",
       "    </tr>\n",
       "  </thead>\n",
       "  <tbody>\n",
       "    <tr>\n",
       "      <td>0</td>\n",
       "      <td>001</td>\n",
       "      <td>2019-01-01</td>\n",
       "      <td>2019-12-01</td>\n",
       "      <td>[prod1, prod2]</td>\n",
       "      <td>[prod1_name, prod2_name]</td>\n",
       "    </tr>\n",
       "    <tr>\n",
       "      <td>1</td>\n",
       "      <td>002</td>\n",
       "      <td>2019-05-01</td>\n",
       "      <td>2020-07-31</td>\n",
       "      <td>[prod1, prod3, prod4]</td>\n",
       "      <td>[prod1_name, prod3_name, prod4_name]</td>\n",
       "    </tr>\n",
       "  </tbody>\n",
       "</table>\n",
       "</div>"
      ],
      "text/plain": [
       "  customer_id  start_date    end_date             product_id  \\\n",
       "0         001  2019-01-01  2019-12-01         [prod1, prod2]   \n",
       "1         002  2019-05-01  2020-07-31  [prod1, prod3, prod4]   \n",
       "\n",
       "                           product_name  \n",
       "0              [prod1_name, prod2_name]  \n",
       "1  [prod1_name, prod3_name, prod4_name]  "
      ]
     },
     "execution_count": 6,
     "metadata": {},
     "output_type": "execute_result"
    }
   ],
   "source": [
    "#Group Data\n",
    "df_group = df.groupby(('customer_id', 'start_date','end_date'))\\\n",
    "             .agg({'product_id': lambda x :list(x),\n",
    "                   'product_name': lambda x :list(x)\n",
    "                   })\n",
    "df_group.reset_index(inplace = True)\n",
    "df_group"
   ]
  }
 ],
 "metadata": {
  "kernelspec": {
   "display_name": "Python 3",
   "language": "python",
   "name": "python3"
  },
  "language_info": {
   "codemirror_mode": {
    "name": "ipython",
    "version": 3
   },
   "file_extension": ".py",
   "mimetype": "text/x-python",
   "name": "python",
   "nbconvert_exporter": "python",
   "pygments_lexer": "ipython3",
   "version": "3.7.4"
  }
 },
 "nbformat": 4,
 "nbformat_minor": 2
}

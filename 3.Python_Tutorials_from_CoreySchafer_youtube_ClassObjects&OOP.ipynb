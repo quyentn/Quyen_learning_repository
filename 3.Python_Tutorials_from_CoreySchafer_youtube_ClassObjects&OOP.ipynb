{
 "cells": [
  {
   "cell_type": "markdown",
   "metadata": {},
   "source": [
    "# PART 3 - CLASS OBJECT AND OBJECT ORIENTED PROGRAMMING (OOP)"
   ]
  },
  {
   "cell_type": "markdown",
   "metadata": {},
   "source": [
    "## TOPIC 1 - Duck Typing and Asking Forgiveness, Not Permission (EAFP)"
   ]
  },
  {
   "cell_type": "markdown",
   "metadata": {},
   "source": [
    "`class` functions to be a group of functions under it that these functions can be called with dot syntax\n",
    "\n",
    "`isinstance()` is a built-in function to check if an object is an instance of a class"
   ]
  },
  {
   "cell_type": "code",
   "execution_count": 1,
   "metadata": {},
   "outputs": [],
   "source": [
    "# Duck typing\n",
    "class Duck:\n",
    "    def quack(self):\n",
    "        print('Quack,quack')\n",
    "    def fly(self):\n",
    "        print('Flap, Flap!')\n",
    "class Person:\n",
    "    def quack(self):\n",
    "        print(\"I'm Quacking Like a Duck!\")\n",
    "    def fly(self):\n",
    "        print(\"I'm Flapping my Arms!\")"
   ]
  },
  {
   "cell_type": "markdown",
   "metadata": {},
   "source": [
    "Call a function to check condition in a class"
   ]
  },
  {
   "cell_type": "code",
   "execution_count": 2,
   "metadata": {},
   "outputs": [
    {
     "name": "stdout",
     "output_type": "stream",
     "text": [
      "Quack,quack\n",
      "Flap, Flap!\n",
      "This has to be a Duck\n",
      "\n"
     ]
    }
   ],
   "source": [
    "def quack_and_fly(thing):\n",
    "        #Non-Pythonic\n",
    "        if isinstance(thing,Duck): #is thing an instance of Duck?\n",
    "            thing.quack()\n",
    "            thing.fly()\n",
    "        else:\n",
    "            print('This has to be a Duck') #not a duck instance\n",
    "            print()\n",
    "d = Duck()\n",
    "quack_and_fly(d)\n",
    "p = Person()\n",
    "quack_and_fly(p)"
   ]
  },
  {
   "cell_type": "markdown",
   "metadata": {},
   "source": [
    "Pass everything to quack_and_fly function, and doesn't care about if the object is an instance of a class"
   ]
  },
  {
   "cell_type": "code",
   "execution_count": 3,
   "metadata": {},
   "outputs": [
    {
     "name": "stdout",
     "output_type": "stream",
     "text": [
      "Quack,quack\n",
      "Flap, Flap!\n",
      "\n",
      "I'm Quacking Like a Duck!\n",
      "I'm Flapping my Arms!\n",
      "\n"
     ]
    }
   ],
   "source": [
    "def quack_and_fly(thing):\n",
    "    thing.quack()\n",
    "    thing.fly()\n",
    "    print ()\n",
    "d = Duck()\n",
    "quack_and_fly(d)\n",
    "p = Person()\n",
    "quack_and_fly(p)"
   ]
  },
  {
   "cell_type": "markdown",
   "metadata": {},
   "source": [
    "Non-Pythonic way: `LBYL` Look before you leave method\n",
    "\n",
    "This method ask for permission in every step. And if all permissions are passed, we run the function.\n",
    "\n",
    "In the example below, quack_and_fly function check to see if instance thing has attribute `hasattr` quack, then if the attribute quack is `callable` before actually call it"
   ]
  },
  {
   "cell_type": "code",
   "execution_count": 4,
   "metadata": {},
   "outputs": [
    {
     "name": "stdout",
     "output_type": "stream",
     "text": [
      "Quack,quack\n",
      "Flap, Flap!\n",
      "\n",
      "I'm Quacking Like a Duck!\n",
      "I'm Flapping my Arms!\n",
      "\n"
     ]
    }
   ],
   "source": [
    "def quack_and_fly(thing):\n",
    "    if hasattr(thing,'quack'):\n",
    "        if callable(thing.quack):\n",
    "            thing.quack()\n",
    "    if hasattr(thing,'fly'):\n",
    "        if callable(thing.fly):\n",
    "            thing.fly()\n",
    "    print()\n",
    "d= Duck()\n",
    "quack_and_fly(d)\n",
    "p = Person()\n",
    "quack_and_fly(p)"
   ]
  },
  {
   "cell_type": "markdown",
   "metadata": {},
   "source": [
    "Pythonic way (`EAFP`): This method ask for forgiveness by using try and except"
   ]
  },
  {
   "cell_type": "code",
   "execution_count": 5,
   "metadata": {},
   "outputs": [
    {
     "name": "stdout",
     "output_type": "stream",
     "text": [
      "Quack,quack\n",
      "Flap, Flap!\n",
      "'Duck' object has no attribute 'bark'\n",
      "\n",
      "I'm Quacking Like a Duck!\n",
      "I'm Flapping my Arms!\n",
      "'Person' object has no attribute 'bark'\n",
      "\n"
     ]
    }
   ],
   "source": [
    "def quack_and_fly(thing):\n",
    "    try:\n",
    "        thing.quack()\n",
    "        thing.fly()\n",
    "        thing.bark()\n",
    "    except AttributeError as e:\n",
    "        print(e)\n",
    "    print()\n",
    "d = Duck()\n",
    "quack_and_fly(d)\n",
    "p = Person()\n",
    "quack_and_fly(p)"
   ]
  },
  {
   "cell_type": "code",
   "execution_count": 6,
   "metadata": {},
   "outputs": [
    {
     "name": "stdout",
     "output_type": "stream",
     "text": [
      "LBYL (Non_pythonic):\n",
      "I'm Jess. I'm 23 years old and I am a Programmer\n",
      "EAFP (Pythonic):\n",
      "I'm Jess. I'm 23 years old and I am a Programmer\n",
      "=========================================\n",
      "LBYL (Non_pythonic):\n",
      "Missing some keys\n",
      "EAFP (Pythonic):\n",
      "Missing 'job' key\n"
     ]
    }
   ],
   "source": [
    "def check_key(person):\n",
    "    print('LBYL (Non_pythonic):')\n",
    "    if 'name' in person and 'age' in person and 'job' in person:\n",
    "        print(\"I'm {name}. I'm {age} years old and I am a {job}\".format(**person))\n",
    "    else:\n",
    "        print('Missing some keys')\n",
    "    print('EAFP (Pythonic):')\n",
    "    try:\n",
    "        print(\"I'm {name}. I'm {age} years old and I am a {job}\".format(**person))\n",
    "    except KeyError as e:\n",
    "        print(\"Missing {} key\".format(e))\n",
    "\n",
    "person1 = {'name':'Jess','age':23,'job':'Programmer'}\n",
    "check_key(person1)\n",
    "print('=========================================')\n",
    "person2 = {'name':'Jess','age':23}\n",
    "check_key(person2)"
   ]
  },
  {
   "cell_type": "code",
   "execution_count": 7,
   "metadata": {},
   "outputs": [
    {
     "name": "stdout",
     "output_type": "stream",
     "text": [
      "That index does not exist\n",
      "That index does not exist\n"
     ]
    }
   ],
   "source": [
    "my_list = [1,2,3,4,5]\n",
    "#Non-Pythonic\n",
    "if len(my_list) >= 6:\n",
    "    print(my_list[5])\n",
    "else:\n",
    "    print('That index does not exist')\n",
    "#Pythonic\n",
    "try:\n",
    "    print(my_list[5])\n",
    "except IndexError:\n",
    "    print('That index does not exist')"
   ]
  },
  {
   "cell_type": "markdown",
   "metadata": {},
   "source": [
    "`os.R_OK` to check if the file can be accessed"
   ]
  },
  {
   "cell_type": "code",
   "execution_count": 8,
   "metadata": {},
   "outputs": [
    {
     "name": "stdout",
     "output_type": "stream",
     "text": [
      "Race condition:\n",
      "This is the testing content to write into test_file.txt.\n",
      "    This is the 2nd row\n",
      "    This is the 3rd row\n",
      "    And more rows to come\n",
      "    \n",
      "======================\n",
      "No race condition:\n",
      "This is the testing content to write into test_file.txt.\n",
      "    This is the 2nd row\n",
      "    This is the 3rd row\n",
      "    And more rows to come\n",
      "    \n"
     ]
    }
   ],
   "source": [
    "import os\n",
    "my_file = \"Demo_folder/test_file.txt\"\n",
    "print('Race condition:')\n",
    "if os.access(my_file, os.R_OK): \n",
    "    with open (my_file) as f:\n",
    "        print(f.read())\n",
    "else:\n",
    "    print ('File cannot be accessed')\n",
    "    print()\n",
    "print('======================')\n",
    "print('No race condition:')\n",
    "try:\n",
    "    f=open(my_file)\n",
    "except IOError as e:\n",
    "    print ('File cannot be accessed')\n",
    "else:\n",
    "    with f:\n",
    "        print(f.read())"
   ]
  },
  {
   "cell_type": "markdown",
   "metadata": {},
   "source": [
    "## TOPIC 2 - Decorators - Dynamically Alter Functionality of Your Functions"
   ]
  },
  {
   "cell_type": "markdown",
   "metadata": {},
   "source": [
    "First class functions allow us to treat function as any other objects\n",
    "- Pass a function as an argument to any other functions\n",
    "- Return function\n",
    "- Asign a function to a variable"
   ]
  },
  {
   "cell_type": "markdown",
   "metadata": {},
   "source": [
    "Call a function inside another function:\n",
    "- with parentheses --> return the function and execute it\n",
    "- without parentheses --> return the function without execute it. This allow pass in argument to run later when the function is called"
   ]
  },
  {
   "cell_type": "code",
   "execution_count": 1,
   "metadata": {},
   "outputs": [
    {
     "name": "stdout",
     "output_type": "stream",
     "text": [
      "Hi\n"
     ]
    }
   ],
   "source": [
    "def outer_function():\n",
    "    message = 'Hi'\n",
    "    def inner_function():\n",
    "        print(message)\n",
    "    return inner_function()\n",
    "outer_function()"
   ]
  },
  {
   "cell_type": "code",
   "execution_count": 2,
   "metadata": {},
   "outputs": [
    {
     "data": {
      "text/plain": [
       "<function __main__.outer_function.<locals>.inner_function()>"
      ]
     },
     "execution_count": 2,
     "metadata": {},
     "output_type": "execute_result"
    }
   ],
   "source": [
    "def outer_function():\n",
    "    message = 'Hi'\n",
    "    def inner_function():\n",
    "        print(message)\n",
    "    return inner_function\n",
    "outer_function()"
   ]
  },
  {
   "cell_type": "code",
   "execution_count": 5,
   "metadata": {},
   "outputs": [
    {
     "name": "stdout",
     "output_type": "stream",
     "text": [
      "Hi\n",
      "Bye\n"
     ]
    }
   ],
   "source": [
    "#Pass in an argument in a funtion\n",
    "def outer_function(msg):\n",
    "    def inner_function():\n",
    "        print(msg)\n",
    "    return inner_function\n",
    "hi_func = outer_function('Hi')\n",
    "bye_func = outer_function('Bye')\n",
    "hi_func()\n",
    "bye_func()"
   ]
  },
  {
   "cell_type": "markdown",
   "metadata": {},
   "source": [
    "#### Decorator Definition\n",
    "Decorator is just a function that takes another function as an argument at some kind of funtionalities and return another function without alterning the source codes of the original function"
   ]
  },
  {
   "cell_type": "markdown",
   "metadata": {},
   "source": [
    "_In general, when we create a decorator function, we need to do it in 2 steps:_\n",
    " - Create `decorator` function to return wrapper function under it without call the wrapper function `without round brackets`.\n",
    " - Create a `wrapper` function under the decorator to call an original function to run it `with round brackets`. \n",
    "\n",
    "_Explanation:_\n",
    " - The decorator function just refers to wrapper without runs the wrapper yet. Instead it will wait to be called one more time to run.\n",
    " - The wrapper function calls the original function to run. But since the wrapper is blocked inside the decorator, the original will still not be run yet. This will help stop the original function to run automatically when the decorator is put with @ sysntax above the original function right in the define `def` step ."
   ]
  },
  {
   "cell_type": "markdown",
   "metadata": {},
   "source": [
    "_How to apply decorator function: 2 ways:_\n",
    "- `Nested function`: call function inside another function\n",
    "    - `decorator_function(original_function)()`\n",
    "    - `original_function = decorator_function(original_function)` THEN `original_function()`\n",
    "- Use `@ decorator` syntax\n",
    "    - `@decorator_function` THEN `def original_function()` THEN RUN `original_function()`"
   ]
  },
  {
   "cell_type": "markdown",
   "metadata": {},
   "source": [
    "_Basic `decorator function` example_"
   ]
  },
  {
   "cell_type": "markdown",
   "metadata": {},
   "source": [
    "`__name__` is the dot syntax to get name of a function as string"
   ]
  },
  {
   "cell_type": "code",
   "execution_count": 23,
   "metadata": {},
   "outputs": [
    {
     "name": "stdout",
     "output_type": "stream",
     "text": [
      "wrapper function executed this before the funcion named: display\n",
      "display function ran\n"
     ]
    }
   ],
   "source": [
    "def decorator_function(original_function):\n",
    "    def wrapper_function():\n",
    "        print('wrapper function executed this before the funcion named: {}'.format(original_function.__name__))\n",
    "        return original_function()\n",
    "    return wrapper_function\n",
    "def display():\n",
    "    print('display function ran')\n",
    "decorated_display = decorator_function(display)\n",
    "decorated_display()\n",
    "#decorator_function(display)()"
   ]
  },
  {
   "cell_type": "markdown",
   "metadata": {},
   "source": [
    "Decorator function allow us to easily add a funtionality to an existing function by adding this funtionality inside of our wrapper"
   ]
  },
  {
   "cell_type": "markdown",
   "metadata": {},
   "source": [
    "Adding display fuction to the decorator function: no need to call a new function decorated_display and execute it, we just need to @decorator_function"
   ]
  },
  {
   "cell_type": "code",
   "execution_count": 24,
   "metadata": {},
   "outputs": [
    {
     "name": "stdout",
     "output_type": "stream",
     "text": [
      "wrapper function executed this before the funcion named: display\n",
      "display function ran\n",
      "\n",
      "wrapper function executed this before the funcion named: wrapper_function\n",
      "wrapper function executed this before the funcion named: display\n",
      "display function ran\n"
     ]
    }
   ],
   "source": [
    "@decorator_function\n",
    "def display():\n",
    "    print('display function ran')\n",
    "display()\n",
    "print()\n",
    "## The above codes are similar to\n",
    "display = decorator_function(display)\n",
    "display()"
   ]
  },
  {
   "cell_type": "markdown",
   "metadata": {},
   "source": [
    "if we pass in arguments to the original function when the wrapper function doesn't have any argument or keyword argument, there will be error"
   ]
  },
  {
   "cell_type": "code",
   "execution_count": 29,
   "metadata": {},
   "outputs": [
    {
     "name": "stdout",
     "output_type": "stream",
     "text": [
      "wrapper_function() takes 0 positional arguments but 2 were given\n"
     ]
    }
   ],
   "source": [
    "@decorator_function\n",
    "def display_info(name, age):\n",
    "    print('display_info ran with arguments ({},{})'.format(name,age))\n",
    "try:\n",
    "    display_info('John',25)\n",
    "except Exception as e:\n",
    "    print(e)"
   ]
  },
  {
   "cell_type": "markdown",
   "metadata": {},
   "source": [
    "Pass `*args` and `**kwargs` to a decorator function to allow it run both functions and without without arguments"
   ]
  },
  {
   "cell_type": "code",
   "execution_count": 30,
   "metadata": {},
   "outputs": [
    {
     "name": "stdout",
     "output_type": "stream",
     "text": [
      "wrapper function executed this before the funcion named: display\n",
      "display function ran\n",
      "\n",
      "wrapper function executed this before the funcion named: display_info\n",
      "display_info ran with arguments (John,25)\n"
     ]
    }
   ],
   "source": [
    "def decorator_function(original_function):\n",
    "    def wrapper_function(*args,**kwargs):\n",
    "        print('wrapper function executed this before the funcion named: {}'.format(original_function.__name__))\n",
    "        return original_function(*args,**kwargs)\n",
    "    return wrapper_function\n",
    "@decorator_function\n",
    "def display():\n",
    "    print('display function ran')\n",
    "display()\n",
    "print()\n",
    "@decorator_function\n",
    "def display_info(name, age):\n",
    "    print('display_info ran with arguments ({},{})'.format(name,age))\n",
    "display_info('John',25)"
   ]
  },
  {
   "cell_type": "markdown",
   "metadata": {},
   "source": [
    "Use `class` as a `decorator` with `__call__` magic function"
   ]
  },
  {
   "cell_type": "code",
   "execution_count": 32,
   "metadata": {},
   "outputs": [
    {
     "name": "stdout",
     "output_type": "stream",
     "text": [
      "call method executed this before display\n",
      "display function ran\n",
      "\n",
      "call method executed this before display_info\n",
      "display_info ran with arguments (John,25)\n"
     ]
    }
   ],
   "source": [
    "class decorator_class(object):\n",
    "    def __init__(self,original_function):\n",
    "        self.original_function = original_function\n",
    "    def __call__(self,*args,**kwargs):\n",
    "        print('call method executed this before {}'.format(self.original_function.__name__))\n",
    "        return self.original_function(*args,**kwargs)\n",
    "@decorator_class\n",
    "def display():\n",
    "    print('display function ran')\n",
    "display()\n",
    "print()\n",
    "@decorator_class\n",
    "def display_info(name, age):\n",
    "    print('display_info ran with arguments ({},{})'.format(name,age))\n",
    "display_info('John',25)"
   ]
  },
  {
   "cell_type": "markdown",
   "metadata": {},
   "source": [
    "Practical example for Decorator function"
   ]
  },
  {
   "cell_type": "code",
   "execution_count": 33,
   "metadata": {},
   "outputs": [
    {
     "name": "stdout",
     "output_type": "stream",
     "text": [
      "logger wrapper function started\n",
      "display_info ran with arguments (John,25)\n",
      "logger wrapper function started\n",
      "display_info ran with arguments (Hank,30)\n",
      "\n",
      "timer wrapper function started\n",
      "display_info ran with arguments (John,25)\n",
      "display_info ran in : 1.000478982925415 sec\n",
      "timer wrapper function started\n",
      "display_info ran with arguments (Hank,30)\n",
      "display_info ran in : 1.0022573471069336 sec\n"
     ]
    }
   ],
   "source": [
    "def my_logger(orig_func):\n",
    "    import logging\n",
    "    logging.basicConfig(filename='{}.log'.format(orig_func.__name__), level=logging.info)\n",
    "    def wrapper(*args,**kwargs):\n",
    "        print('logger wrapper function started')\n",
    "        logging.info('Ran with args: {} and kwargs: {}'.format(args,kwargs))\n",
    "        return orig_func(*args,**kwargs)\n",
    "    return wrapper\n",
    "def my_timer (orig_func):\n",
    "    import time\n",
    "    def wrapper(*args,**kwargs):\n",
    "        t1=time.time()\n",
    "        print('timer wrapper function started')\n",
    "        result=orig_func(*args,**kwargs)\n",
    "        t2=time.time()-t1\n",
    "        print('{} ran in : {} sec'.format(orig_func.__name__,t2))\n",
    "        return result\n",
    "    return wrapper\n",
    "@my_logger\n",
    "def display_info(name,age):\n",
    "    print('display_info ran with arguments ({},{})'.format(name,age))\n",
    "display_info('John',25)\n",
    "display_info('Hank',30)\n",
    "print()\n",
    "import time\n",
    "@my_timer\n",
    "def display_info(name,age):\n",
    "    time.sleep(1) #sleep for 1 second before run\n",
    "    print('display_info ran with arguments ({},{})'.format(name,age))\n",
    "display_info('John',25)\n",
    "display_info('Hank',30)"
   ]
  },
  {
   "cell_type": "markdown",
   "metadata": {},
   "source": [
    "We can Apply both decorators in one function. The 2 examples below, order matter."
   ]
  },
  {
   "cell_type": "code",
   "execution_count": 35,
   "metadata": {},
   "outputs": [
    {
     "name": "stdout",
     "output_type": "stream",
     "text": [
      "logger wrapper function started\n",
      "timer wrapper function started\n",
      "display_info ran with arguments (John,25)\n",
      "display_info ran in : 1.0007202625274658 sec\n"
     ]
    }
   ],
   "source": [
    "@my_logger #execute 1st with orig_func of display_info\n",
    "@my_timer #execute after @my_logger\n",
    "def display_info(name,age):\n",
    "    time.sleep(1) #sleep for 1 second before run\n",
    "    print('display_info ran with arguments ({},{})'.format(name,age))\n",
    "display_info('John',25)"
   ]
  },
  {
   "cell_type": "code",
   "execution_count": 36,
   "metadata": {},
   "outputs": [
    {
     "name": "stdout",
     "output_type": "stream",
     "text": [
      "timer wrapper function started\n",
      "logger wrapper function started\n",
      "display_info ran with arguments (John,25)\n",
      "wrapper ran in : 1.0014853477478027 sec\n"
     ]
    }
   ],
   "source": [
    "@my_timer\n",
    "@my_logger\n",
    "def display_info(name,age):\n",
    "    time.sleep(1) #sleep for 1 second before run\n",
    "    print('display_info ran with arguments ({},{})'.format(name,age))\n",
    "display_info('John',25)"
   ]
  },
  {
   "cell_type": "code",
   "execution_count": 37,
   "metadata": {},
   "outputs": [
    {
     "name": "stdout",
     "output_type": "stream",
     "text": [
      "wrapper\n",
      "wrapper\n"
     ]
    }
   ],
   "source": [
    "display_info=my_logger(my_timer((display_info)))\n",
    "print(display_info.__name__)\n",
    "display_info=my_timer(my_logger(display_info))\n",
    "print(display_info.__name__)"
   ]
  },
  {
   "cell_type": "markdown",
   "metadata": {},
   "source": [
    "For order that doesn't matter, import and use `wraps` function in `functools` module"
   ]
  },
  {
   "cell_type": "code",
   "execution_count": 38,
   "metadata": {},
   "outputs": [],
   "source": [
    "from functools import wraps\n",
    "def my_logger(orig_func):\n",
    "    import logging\n",
    "    logging.basicConfig(filename='{}.log'.format(orig_func.__name__), level=logging.info)\n",
    "    \n",
    "    @wraps(orig_func)\n",
    "    def wrapper(*args,**kwargs):\n",
    "        print('logger wrapper function started')\n",
    "        logging.info('Ran with args: {} and kwargs: {}'.format(args,kwargs))\n",
    "        return orig_func(*args,**kwargs)\n",
    "    return wrapper\n",
    "def my_timer (orig_func):\n",
    "    import time\n",
    "    @wraps(orig_func)\n",
    "    def wrapper(*args,**kwargs):\n",
    "        t1=time.time()\n",
    "        print('timer wrapper function started')\n",
    "        result=orig_func(*args,**kwargs)\n",
    "        t2=time.time()-t1\n",
    "        print('{} ran in : {} sec'.format(orig_func.__name__,t2))\n",
    "        return result\n",
    "    return wrapper"
   ]
  },
  {
   "cell_type": "code",
   "execution_count": 39,
   "metadata": {},
   "outputs": [
    {
     "name": "stdout",
     "output_type": "stream",
     "text": [
      "timer wrapper function started\n",
      "logger wrapper function started\n",
      "display_info ran with arguments (First Last,30)\n",
      "display_info ran in : 1.0006580352783203 sec\n",
      "========\n",
      "logger wrapper function started\n",
      "timer wrapper function started\n",
      "display_info ran with arguments (First Last,30)\n",
      "display_info ran in : 1.0009543895721436 sec\n"
     ]
    }
   ],
   "source": [
    "@my_timer\n",
    "@my_logger\n",
    "def display_info(name,age):\n",
    "    time.sleep(1) #sleep for 1 second before run\n",
    "    print('display_info ran with arguments ({},{})'.format(name,age))\n",
    "display_info('First Last',30)\n",
    "print('========')\n",
    "@my_logger\n",
    "@my_timer\n",
    "def display_info(name,age):\n",
    "    time.sleep(1) #sleep for 1 second before run\n",
    "    print('display_info ran with arguments ({},{})'.format(name,age))\n",
    "display_info('First Last',30)"
   ]
  },
  {
   "cell_type": "code",
   "execution_count": 40,
   "metadata": {},
   "outputs": [
    {
     "name": "stdout",
     "output_type": "stream",
     "text": [
      "display_info\n"
     ]
    }
   ],
   "source": [
    "display_info=my_timer(display_info)\n",
    "print(display_info.__name__)"
   ]
  },
  {
   "cell_type": "markdown",
   "metadata": {},
   "source": [
    "Decorators with Arguments: we can put `arguments` from original function right in `wrapper` function. We can even create __multiple decorator levels__ like in the example below where prefix_decorator and decorator function are both decorators"
   ]
  },
  {
   "cell_type": "code",
   "execution_count": 41,
   "metadata": {
    "scrolled": true
   },
   "outputs": [
    {
     "name": "stdout",
     "output_type": "stream",
     "text": [
      "TESTING: Executed Before display_info\n",
      "display_info ran with arguments (John,25)\n",
      "TESTING: Executed After display_info \n",
      "\n",
      "TESTING: Executed Before display_info\n",
      "display_info ran with arguments (Travis,30)\n",
      "TESTING: Executed After display_info \n",
      "\n"
     ]
    }
   ],
   "source": [
    "def prefix_decorator(prefix):\n",
    "    def decorator_function(original_function):\n",
    "        def wrapper_function(*args,**kwargs):\n",
    "            print(prefix,'Executed Before', original_function.__name__)\n",
    "            result = original_function(*args,**kwargs)\n",
    "            print(prefix,'Executed After', original_function.__name__,'\\n')\n",
    "            return result\n",
    "        return wrapper_function\n",
    "    return decorator_function\n",
    "\n",
    "@prefix_decorator('TESTING:')\n",
    "def display_info(name, age):\n",
    "    print('display_info ran with arguments ({},{})'.format(name,age))\n",
    "display_info('John',25)\n",
    "display_info('Travis',30)"
   ]
  },
  {
   "cell_type": "code",
   "execution_count": 82,
   "metadata": {},
   "outputs": [
    {
     "name": "stdout",
     "output_type": "stream",
     "text": [
      " * Serving Flask app \"__main__\" (lazy loading)\n",
      " * Environment: production\n",
      "   WARNING: This is a development server. Do not use it in a production deployment.\n",
      "   Use a production WSGI server instead.\n",
      " * Debug mode: off\n"
     ]
    }
   ],
   "source": [
    "from flask import Flask\n",
    "app = Flask(__name__)\n",
    "@app.route(\"/\")\n",
    "def hello():\n",
    "    return \"Hello World!\"\n",
    "@app.route(\"/about\")s\n",
    "def about():\n",
    "    return \"About Page\"\n",
    "if __name__ == \"__main__\":\n",
    "    app.run()"
   ]
  },
  {
   "cell_type": "code",
   "execution_count": 83,
   "metadata": {},
   "outputs": [
    {
     "data": {
      "text/plain": [
       "<Flask '__main__'>"
      ]
     },
     "execution_count": 83,
     "metadata": {},
     "output_type": "execute_result"
    }
   ],
   "source": [
    "Flask(__name__)"
   ]
  },
  {
   "cell_type": "markdown",
   "metadata": {},
   "source": [
    "## TOPIC 3 - OOP 1 - Classes and Instances\n",
    "Object Oriented Progamming (OOP)"
   ]
  },
  {
   "cell_type": "markdown",
   "metadata": {},
   "source": [
    "Class is used to group data and functions in an easy way to reuse and build upon\n",
    "- attribute -- data associated with a class\n",
    "- method -- function associated with a class\n",
    "- class is a blueprint to create instances"
   ]
  },
  {
   "cell_type": "code",
   "execution_count": 42,
   "metadata": {},
   "outputs": [
    {
     "name": "stdout",
     "output_type": "stream",
     "text": [
      "<__main__.Employee object at 0x000001D0B84F6B88>\n",
      "<__main__.Employee object at 0x000001D0B84F6BC8>\n",
      "First.Last@example.com\n",
      "Test.User@test.com\n"
     ]
    }
   ],
   "source": [
    "## Traditional way to create class manually\n",
    "class Employee:\n",
    "    pass\n",
    "emp_1=Employee()\n",
    "emp_2=Employee()\n",
    "print(emp_1)\n",
    "print(emp_2)\n",
    "emp_1.first = 'First'\n",
    "emp_1.last = 'Last'\n",
    "emp_1.email = 'First.Last@example.com'\n",
    "emp_1.pay = 70000\n",
    "emp_2.first = 'Test'\n",
    "emp_2.last = 'User'\n",
    "emp_2.email = 'Test.User@test.com'\n",
    "emp_2.pay = 75000\n",
    "print(emp_1.email)\n",
    "print(emp_2.email)"
   ]
  },
  {
   "cell_type": "code",
   "execution_count": 43,
   "metadata": {},
   "outputs": [
    {
     "name": "stdout",
     "output_type": "stream",
     "text": [
      "First.Last@test.com\n",
      "Test.User@test.com\n",
      "First Last\n",
      "First Last\n"
     ]
    }
   ],
   "source": [
    "## create class with function or method to save time\n",
    "class Employee:\n",
    "    def __init__(self,first,last,pay):\n",
    "        self.first = first\n",
    "        self.last = last\n",
    "        self.pay = pay\n",
    "        self.email = first + '.' + last + '@test.com'\n",
    "emp_1 = Employee('First','Last',70000)\n",
    "emp_2 = Employee('Test','User',75000)\n",
    "print(emp_1.email)\n",
    "print(emp_2.email)\n",
    "print(emp_1.first, emp_1.last)\n",
    "print('{} {}'.format(emp_1.first, emp_1.last))"
   ]
  },
  {
   "cell_type": "code",
   "execution_count": 46,
   "metadata": {},
   "outputs": [
    {
     "name": "stdout",
     "output_type": "stream",
     "text": [
      "emp_1.fullname():  First Last\n",
      "emp_1.fullname without brackets:  <bound method Employee.fullname of <__main__.Employee object at 0x000001D0B84F2D88>>\n",
      "\n",
      "emp_2.fullname():  Test User\n",
      "Employee.fullname(emp_2):  Test User\n"
     ]
    }
   ],
   "source": [
    "## class with more function\n",
    "class Employee:\n",
    "    def __init__(self,first,last,pay):\n",
    "        self.first = first\n",
    "        self.last = last\n",
    "        self.pay = pay\n",
    "        self.email = first + '.' + last + '@test.com'\n",
    "    def fullname(self):\n",
    "        return '{} {}'.format(self.first, self.last)\n",
    "emp_1 = Employee('First','Last',70000)\n",
    "emp_2 = Employee('Test','User',75000)\n",
    "print ('emp_1.fullname(): ',emp_1.fullname())\n",
    "print ('emp_1.fullname without brackets: ',emp_1.fullname)\n",
    "print()\n",
    "#The following two print statements have the same result\n",
    "print ('emp_2.fullname(): ',emp_2.fullname())\n",
    "print('Employee.fullname(emp_2): ',Employee.fullname(emp_2))"
   ]
  },
  {
   "cell_type": "markdown",
   "metadata": {},
   "source": [
    "## TOPIC 4 - OOP 2 - Class Variable"
   ]
  },
  {
   "cell_type": "markdown",
   "metadata": {},
   "source": [
    "We can define class `variable` and apply it to each instance/function inside the class. When applying class variable in an instance, it's better to use prefix `self.` before variable to make it an instance variable. With the instance variable, it'll be easier to change and update later"
   ]
  },
  {
   "cell_type": "markdown",
   "metadata": {},
   "source": [
    "`raise_amount` below is a `class variable`, we can put `self.raise_amount` in instance apply_raise to make the variable an `instance variable`. When calling an instance variable, we can call it as `emp_1.raise_amount` and change it without changing other employee's raise amount."
   ]
  },
  {
   "cell_type": "markdown",
   "metadata": {},
   "source": [
    "`__dict__` magic to list all available attributes inside a class"
   ]
  },
  {
   "cell_type": "code",
   "execution_count": 19,
   "metadata": {},
   "outputs": [
    {
     "name": "stdout",
     "output_type": "stream",
     "text": [
      "70000\n",
      "72800\n",
      "\n",
      "1.04\n",
      "1.04\n",
      "1.04\n",
      "\n",
      "{'__module__': '__main__', 'raise_amount': 1.04, '__init__': <function Employee.__init__ at 0x0000029D07C48DC8>, 'fullname': <function Employee.fullname at 0x0000029D07C48CA8>, 'apply_raise': <function Employee.apply_raise at 0x0000029D07C48AF8>, '__dict__': <attribute '__dict__' of 'Employee' objects>, '__weakref__': <attribute '__weakref__' of 'Employee' objects>, '__doc__': None}\n",
      "\n",
      "{'first': 'First', 'last': 'Last', 'pay': 72800, 'email': 'First.Last@test.com'}\n"
     ]
    }
   ],
   "source": [
    "class Employee:\n",
    "    raise_amount = 1.04\n",
    "    def __init__(self,first,last,pay):\n",
    "        self.first = first\n",
    "        self.last = last\n",
    "        self.pay = pay\n",
    "        self.email = first + '.' + last + '@test.com'\n",
    "    def fullname(self): #must add self here\n",
    "        return '{} {}'.format(self.first, self.last)\n",
    "    def apply_raise(self):\n",
    "        self.pay = int(self.pay*self.raise_amount)\n",
    "\n",
    "emp_1 = Employee('First','Last',70000)\n",
    "emp_2 = Employee('Test','User',75000)\n",
    "print(emp_1.pay)\n",
    "emp_1.apply_raise()\n",
    "print(emp_1.pay)\n",
    "print()\n",
    "print(Employee.raise_amount)\n",
    "print(emp_1.raise_amount)\n",
    "print(emp_2.raise_amount)\n",
    "print()\n",
    "print(Employee.__dict__)\n",
    "print()\n",
    "print(emp_1.__dict__)"
   ]
  },
  {
   "cell_type": "code",
   "execution_count": 20,
   "metadata": {},
   "outputs": [
    {
     "name": "stdout",
     "output_type": "stream",
     "text": [
      "Employee.raise_amount:  1.05\n",
      "emp_1.raise_amount:  1.05\n",
      "emp_2.raise_amount:  1.05\n"
     ]
    }
   ],
   "source": [
    "#Change class variable Employee.raise_amount\n",
    "Employee.raise_amount =1.05\n",
    "print('Employee.raise_amount: ',Employee.raise_amount)\n",
    "print('emp_1.raise_amount: ',emp_1.raise_amount)\n",
    "print('emp_2.raise_amount: ',emp_2.raise_amount)"
   ]
  },
  {
   "cell_type": "markdown",
   "metadata": {},
   "source": [
    "Change instance variable self.raise_amount affects only emp_1 with change"
   ]
  },
  {
   "cell_type": "code",
   "execution_count": 21,
   "metadata": {},
   "outputs": [
    {
     "name": "stdout",
     "output_type": "stream",
     "text": [
      "Employee.raise_amount:  1.05\n",
      "emp_1.raise_amount:  1.06\n",
      "emp_2.raise_amount:  1.05\n",
      "emp_1:  {'first': 'First', 'last': 'Last', 'pay': 72800, 'email': 'First.Last@test.com', 'raise_amount': 1.06}\n",
      "emp_2:  {'first': 'Test', 'last': 'User', 'pay': 75000, 'email': 'Test.User@test.com'}\n"
     ]
    }
   ],
   "source": [
    "emp_1.raise_amount = 1.06\n",
    "print('Employee.raise_amount: ',Employee.raise_amount)\n",
    "print('emp_1.raise_amount: ',emp_1.raise_amount)\n",
    "print('emp_2.raise_amount: ',emp_2.raise_amount)\n",
    "#new argument appears on emp_1: 'raise_amount'\n",
    "print('emp_1: ',emp_1.__dict__)\n",
    "#emp_2 doesn't have that new argument\n",
    "print('emp_2: ',emp_2.__dict__)"
   ]
  },
  {
   "cell_type": "markdown",
   "metadata": {},
   "source": [
    "Sometimes changing class variable makes more sense than just instance variable like the `num_of_emps` variable below"
   ]
  },
  {
   "cell_type": "code",
   "execution_count": 56,
   "metadata": {},
   "outputs": [
    {
     "name": "stdout",
     "output_type": "stream",
     "text": [
      "Number of employees before adding: 0\n",
      "Number of employees after adding: 2\n"
     ]
    }
   ],
   "source": [
    "class Employee:\n",
    "    num_of_emps = 0\n",
    "    raise_amount = 1.04\n",
    "    def __init__(self,first,last,pay):\n",
    "        self.first = first\n",
    "        self.last = last\n",
    "        self.pay = pay\n",
    "        self.email = first + '.' + last + '@test.com'\n",
    "        Employee.num_of_emps += 1\n",
    "    def fullname(self): #must add self here\n",
    "        return '{} {}'.format(self.first, self.last)\n",
    "    def apply_raise(self):\n",
    "        self.pay = int(self.pay*self.raise_amount)\n",
    "print('Number of employees before adding:',Employee.num_of_emps)\n",
    "emp_1 = Employee('First','Last',70000)\n",
    "emp_2 = Employee('Test','User',75000)\n",
    "print('Number of employees after adding:',Employee.num_of_emps)"
   ]
  },
  {
   "cell_type": "markdown",
   "metadata": {},
   "source": [
    "## TOPIC 5 - OOP 3 - Classmethods and Staticmethods"
   ]
  },
  {
   "cell_type": "markdown",
   "metadata": {},
   "source": [
    "- Regular methods of a class automatically take the instance as the first argument (called self by convension)\n",
    "- Classmethods take class as the first argument. To turn regular methods into classmethods, add a decorator on top of a method `@classmethod`\n",
    "- Classmethods are alternative constructure because we can use class to create an object\n",
    "- Staticmethods don't pass anything automatically as an argument"
   ]
  },
  {
   "cell_type": "markdown",
   "metadata": {},
   "source": [
    "set_raise_amt is a class method even if it is defined inside a class. When this class method is called with a class (`Employee`) or even with an instance `emp_1`, the class variable is still affected"
   ]
  },
  {
   "cell_type": "code",
   "execution_count": 61,
   "metadata": {},
   "outputs": [
    {
     "name": "stdout",
     "output_type": "stream",
     "text": [
      "before change raise amount\n",
      "Employee.raise_amt:  1.04\n",
      "emp_1.raise_amt:  1.04\n",
      "emp_2.raise_amt:  1.04\n",
      "==================================\n",
      "Change raise amount by running classmethod from a class\n",
      "Employee.raise_amt:  1.05\n",
      "emp_1.raise_amt:  1.05\n",
      "emp_2.raise_amt:  1.05\n",
      "==================================\n",
      "Change raise amount by running classmethod from an instance:\n",
      "Employee.raise_amt:  1.06\n",
      "emp_1.raise_amt:  1.06\n",
      "emp_2.raise_amt:  1.06\n"
     ]
    }
   ],
   "source": [
    "class Employee:\n",
    "    raise_amt = 1.04\n",
    "    def __init__(self,first,last,pay):\n",
    "        self.first = first\n",
    "        self.last = last\n",
    "        self.pay = pay\n",
    "        self.email = first + '.' + last + '@test.com'\n",
    "    @classmethod\n",
    "    def set_raise_amt(cls,amount): #don't change class variable name from `cls` to `class` because `class` is a keyword\n",
    "        cls.raise_amt = amount\n",
    "emp_1 = Employee('First','Last',70000)\n",
    "emp_2 = Employee('Test','User',75000)\n",
    "print('Before change raise amount')\n",
    "print('Employee.raise_amt: ',Employee.raise_amt)\n",
    "print('emp_1.raise_amt: ',emp_1.raise_amt)\n",
    "print('emp_2.raise_amt: ',emp_2.raise_amt)\n",
    "print('==================================')\n",
    "print('Change raise amount by running classmethod from a class')\n",
    "Employee.set_raise_amt(1.05)\n",
    "print('Employee.raise_amt: ',Employee.raise_amt)\n",
    "print('emp_1.raise_amt: ',emp_1.raise_amt)\n",
    "print('emp_2.raise_amt: ',emp_2.raise_amt)\n",
    "print('==================================')\n",
    "print('Change raise amount by running classmethod from an instance:')\n",
    "emp_1.set_raise_amt(1.06)\n",
    "print('Employee.raise_amt: ',Employee.raise_amt)\n",
    "print('emp_1.raise_amt: ',emp_1.raise_amt)\n",
    "print('emp_2.raise_amt: ',emp_2.raise_amt)"
   ]
  },
  {
   "cell_type": "code",
   "execution_count": 62,
   "metadata": {},
   "outputs": [
    {
     "name": "stdout",
     "output_type": "stream",
     "text": [
      "John.Doe@test.com\n",
      "70000\n"
     ]
    }
   ],
   "source": [
    "#Create an instance from a string\n",
    "emp_str_1 = 'John-Doe-70000'\n",
    "emp_str_2 = 'Steve-Smith-30000'\n",
    "emp_str_3 = 'Jane-Ron-90000'\n",
    "#split string to make multiple variables\n",
    "first, last, pay = emp_str_1.split('-')\n",
    "new_emp_1 = Employee(first,last,pay)\n",
    "print(new_emp_1.email)\n",
    "print(new_emp_1.pay)"
   ]
  },
  {
   "cell_type": "code",
   "execution_count": 63,
   "metadata": {},
   "outputs": [
    {
     "name": "stdout",
     "output_type": "stream",
     "text": [
      "John.Doe@test.com\n",
      "Steve.Smith@test.com\n",
      "Jane.Ron@test.com\n"
     ]
    }
   ],
   "source": [
    "#Alternative way to use class to contruct an instance from a string\n",
    "# Alernative way to create an Object from a string\n",
    "class Employee:\n",
    "    def __init__(self,first,last,pay):\n",
    "        self.first = first\n",
    "        self.last = last\n",
    "        self.pay = pay\n",
    "        self.email = first + '.' + last + '@test.com'\n",
    "    @classmethod\n",
    "    def from_string(cls,emp_str):\n",
    "        first, last, pay = emp_str.split('-')\n",
    "        return cls(first,last,pay)\n",
    "emp_str_1 = 'John-Doe-70000'\n",
    "emp_str_2 = 'Steve-Smith-30000'\n",
    "emp_str_3 = 'Jane-Ron-90000'\n",
    "new_emp_1 = Employee.from_string(emp_str_1)\n",
    "new_emp_2 = Employee.from_string(emp_str_2)\n",
    "new_emp_3 = Employee.from_string(emp_str_3)\n",
    "print(new_emp_1.email)\n",
    "print(new_emp_2.email)\n",
    "print(new_emp_3.email)"
   ]
  },
  {
   "cell_type": "code",
   "execution_count": 65,
   "metadata": {},
   "outputs": [],
   "source": [
    "#Datetime module using classmethod\n",
    "@classmethod\n",
    "def fromtimestamp(cls,t):\n",
    "    \"Construct a date from a POSIX timestamp (like time.time()).\"\n",
    "    y, m, d, hh, ss, weekday, jday, dst = _time.localtime(t)\n",
    "    return cls(y,m,d)\n",
    "@classmethod\n",
    "def today(cls):\n",
    "    \"Construct a date from time.time()\"\n",
    "    t = _time.time()\n",
    "    return cls.fromtimestamp(t)"
   ]
  },
  {
   "cell_type": "code",
   "execution_count": 66,
   "metadata": {},
   "outputs": [],
   "source": [
    "#Statismethods behave just like a regular function without any argument\n",
    "class Employee:\n",
    "    def __init__(self,first,last,pay):\n",
    "        self.first = first\n",
    "        self.last = last\n",
    "        self.pay = pay\n",
    "        self.email = first + '.' + last + '@test.com'\n",
    "    @staticmethod\n",
    "    def is_workday(day): #dont access class and instance anywhere in the class\n",
    "        if day.weekday() == 5 or day.weekday() == 6:\n",
    "            return False\n",
    "        return True"
   ]
  },
  {
   "cell_type": "code",
   "execution_count": 69,
   "metadata": {},
   "outputs": [
    {
     "name": "stdout",
     "output_type": "stream",
     "text": [
      "Employee.is_workday:  True\n",
      "my_date:  2019-11-22\n",
      "emp_1.is_workday:  True\n"
     ]
    }
   ],
   "source": [
    "emp_1 = Employee('First','Last',70000)\n",
    "emp_2 = Employee('Test','User',75000)\n",
    "import datetime\n",
    "my_date = datetime.date(2019,11,22)\n",
    "print('Employee.is_workday: ',Employee.is_workday(my_date))\n",
    "print('my_date: ',my_date)\n",
    "print('emp_1.is_workday: ',emp_1.is_workday(my_date))"
   ]
  },
  {
   "cell_type": "markdown",
   "metadata": {},
   "source": [
    "## TOPIC 6 - OOP 4 - Inheritance - Creating subclasses"
   ]
  },
  {
   "cell_type": "markdown",
   "metadata": {},
   "source": [
    "`help(<class_name>)` is a help function to return all available elements inside a class, similar to `class.__dict__`"
   ]
  },
  {
   "cell_type": "code",
   "execution_count": 74,
   "metadata": {},
   "outputs": [
    {
     "name": "stdout",
     "output_type": "stream",
     "text": [
      "Help on class Developer in module __main__:\n",
      "\n",
      "class Developer(Employee)\n",
      " |  Developer(first, last, pay)\n",
      " |  \n",
      " |  Method resolution order:\n",
      " |      Developer\n",
      " |      Employee\n",
      " |      builtins.object\n",
      " |  \n",
      " |  Methods inherited from Employee:\n",
      " |  \n",
      " |  __init__(self, first, last, pay)\n",
      " |      Initialize self.  See help(type(self)) for accurate signature.\n",
      " |  \n",
      " |  apply_raise(self)\n",
      " |  \n",
      " |  fullname(self)\n",
      " |  \n",
      " |  ----------------------------------------------------------------------\n",
      " |  Data descriptors inherited from Employee:\n",
      " |  \n",
      " |  __dict__\n",
      " |      dictionary for instance variables (if defined)\n",
      " |  \n",
      " |  __weakref__\n",
      " |      list of weak references to the object (if defined)\n",
      " |  \n",
      " |  ----------------------------------------------------------------------\n",
      " |  Data and other attributes inherited from Employee:\n",
      " |  \n",
      " |  raise_amt = 1.04\n",
      "\n",
      "None\n",
      "First.Last@test.com\n",
      "Test.User@test.com\n"
     ]
    }
   ],
   "source": [
    "class Employee:\n",
    "    raise_amt = 1.04\n",
    "    def __init__(self,first,last,pay):\n",
    "        self.first = first\n",
    "        self.last = last\n",
    "        self.pay = pay\n",
    "        self.email = first + '.' + last + '@test.com'\n",
    "    def fullname(self):\n",
    "        return '{} {}'.format(self.first, self.last)\n",
    "    def apply_raise(self):\n",
    "        self.pay = int(self.pay*self.raise_amt)\n",
    "class Developer(Employee): #inheriting from a class\n",
    "    pass\n",
    "dev_1 = Developer('First','Last',70000)\n",
    "dev_2 = Developer('Test','User',75000)\n",
    "print(help(Developer))\n",
    "print(dev_1.email)\n",
    "print(dev_2.email)"
   ]
  },
  {
   "cell_type": "markdown",
   "metadata": {},
   "source": [
    "Subclass inherits methods from parent class. But if we change and subclass variable, it will not affect the parrent class"
   ]
  },
  {
   "cell_type": "code",
   "execution_count": 76,
   "metadata": {},
   "outputs": [
    {
     "name": "stdout",
     "output_type": "stream",
     "text": [
      "70000\n",
      "77000\n"
     ]
    }
   ],
   "source": [
    "class Developer(Employee):\n",
    "    raise_amt = 1.10 #changing subclass will not break out anything in the parent class\n",
    "dev_1 = Developer('First','Last',70000)\n",
    "dev_2 = Developer('Test','User',75000)\n",
    "print(dev_1.pay)\n",
    "dev_1.apply_raise()\n",
    "print(dev_1.pay)"
   ]
  },
  {
   "cell_type": "markdown",
   "metadata": {},
   "source": [
    "Define new argument for the subclass, inheriting `__init__` method from the parent class"
   ]
  },
  {
   "cell_type": "markdown",
   "metadata": {},
   "source": [
    "In the example below, Developer class inherit everything from Employee class. \n",
    "\n",
    "But it can have more functions inside it `__init__(...,more_func)` inherited from Employee by redefining `__init__` and calling parent `__init__` method with `super(cls, self).__init__(...)` or `Employee.__init__(...)` before adding more function to its own `__init__` with `self.more_func`"
   ]
  },
  {
   "cell_type": "code",
   "execution_count": 80,
   "metadata": {},
   "outputs": [
    {
     "name": "stdout",
     "output_type": "stream",
     "text": [
      "First.Last@test.com\n",
      "Python\n"
     ]
    }
   ],
   "source": [
    "class Developer(Employee):\n",
    "    raise_amt = 1.10\n",
    "    def __init__(self,first,last,pay,prog_lang):\n",
    "        \"\"\"Calling parent __init__ method\"\"\"\n",
    "        #super(Developer,self).__init__(first,last,pay)\n",
    "        Employee.__init__(self,first,last,pay)\n",
    "        self.prog_lang = prog_lang\n",
    "dev_1 = Developer('First','Last',70000,'Python')\n",
    "dev_2 = Developer('Test','User',75000,'Java')\n",
    "print(dev_1.email)\n",
    "print(dev_1.prog_lang)"
   ]
  },
  {
   "cell_type": "code",
   "execution_count": 88,
   "metadata": {},
   "outputs": [
    {
     "name": "stdout",
     "output_type": "stream",
     "text": [
      "mgr_1.email:  New.User@test.com\n",
      "mgr_1.print_emps: \n",
      "--> First Last\n",
      "Adding 1 more emp\n",
      "mgr_1.print_emps: \n",
      "--> First Last\n",
      "--> Test User\n",
      "Removing 1 emp\n",
      "mgr_1.print_emps: \n",
      "--> Test User\n"
     ]
    }
   ],
   "source": [
    "class Developer(Employee):\n",
    "    raise_amt = 1.10\n",
    "    def __init__(self,first,last,pay,prog_lang):\n",
    "        super(Developer,self).__init__(first,last,pay)\n",
    "        self.prog_lang = prog_lang\n",
    "class Manager(Employee):\n",
    "    def __init__(self,first,last,pay,employees = None):\n",
    "        super(Manager,self).__init__(first,last,pay)\n",
    "        if employees is None:\n",
    "            self.employess =[]\n",
    "        else:\n",
    "            self.employees = employees\n",
    "    def add_emp(self,emp):\n",
    "        if emp not in self.employees:\n",
    "            self.employees.append(emp)\n",
    "    def remove_emp(self,emp):\n",
    "        if emp in self.employees:\n",
    "            self.employees.remove(emp)\n",
    "    def print_emps(self):\n",
    "        for emp in self.employees:\n",
    "            print('--> {}'.format(emp.fullname()))\n",
    "\n",
    "dev_1 = Developer('First','Last',70000,'Python')\n",
    "dev_2 = Developer('Test','User',75000,'Java')\n",
    "mgr_1 = Manager('New','User',90000,[dev_1])\n",
    "print('mgr_1.email: ',mgr_1.email)\n",
    "print('mgr_1.print_emps: ')\n",
    "mgr_1.print_emps()\n",
    "print('Adding 1 more emp')\n",
    "mgr_1.add_emp(dev_2)\n",
    "print('mgr_1.print_emps: ')\n",
    "mgr_1.print_emps()\n",
    "print('Removing 1 emp')\n",
    "mgr_1.remove_emp(dev_1)\n",
    "print('mgr_1.print_emps: ')\n",
    "mgr_1.print_emps()"
   ]
  },
  {
   "cell_type": "code",
   "execution_count": 100,
   "metadata": {},
   "outputs": [
    {
     "name": "stdout",
     "output_type": "stream",
     "text": [
      "mgr_1 is an instance of Manager:  True\n",
      "mgr_1 is an instance of Employee:  True\n",
      "mgr_1 is an instance of Developer:  False\n",
      "Manager is a subclass of Employee:  True\n",
      "Developer is a subclass of Employee:  True\n",
      "Manager is a subclass of Developer:  False\n"
     ]
    }
   ],
   "source": [
    "print('mgr_1 is an instance of Manager: ',isinstance(mgr_1,Manager))\n",
    "print('mgr_1 is an instance of Employee: ',isinstance(mgr_1,Employee))\n",
    "print('mgr_1 is an instance of Developer: ',isinstance(mgr_1,Developer))\n",
    "print('Manager is a subclass of Employee: ',issubclass(Manager,Employee))\n",
    "print('Developer is a subclass of Employee: ',issubclass(Developer,Employee))\n",
    "print('Manager is a subclass of Developer: ',issubclass(Manager,Developer))"
   ]
  },
  {
   "cell_type": "markdown",
   "metadata": {},
   "source": [
    "## TOPIC 7 - OOP 5 - Special (Magic/Dunder) Methods\n",
    "always surrounded by double underscore (aka double underscore dunder)"
   ]
  },
  {
   "cell_type": "markdown",
   "metadata": {},
   "source": [
    "`__repr__` and `__str__` methods change the way we print out an instance of a class.\n",
    "If we use `__str__` after `__repr__`, the instance printed out following the way specified "
   ]
  },
  {
   "cell_type": "code",
   "execution_count": 101,
   "metadata": {},
   "outputs": [
    {
     "name": "stdout",
     "output_type": "stream",
     "text": [
      "First Last - First.Last@test.com\n",
      "\n"
     ]
    }
   ],
   "source": [
    "class Employee(object):\n",
    "    raise_amt = 1.04\n",
    "    def __init__(self,first,last,pay):\n",
    "        self.first = first\n",
    "        self.last = last\n",
    "        self.pay = pay\n",
    "        self.email = first + '.' + last + '@test.com'\n",
    "    def fullname(self):\n",
    "        return '{} {}'.format(self.first, self.last)\n",
    "    def apply_raise(self):\n",
    "        self.pay = int(self.pay*self.raise_amt)\n",
    "    def __repr__(self): #an unambiguous representation of an object, used for debugging, \n",
    "        return \"Employee('{}', '{}', {})\".format(self.first, self.last, self.pay)\n",
    "    def __str__(self): # more readable representation of an object, displayed to the \n",
    "        return '{} - {}'.format(self.fullname(),self.email)\n",
    "emp_1 = Employee('First','Last',70000)\n",
    "emp_2 = Employee('Test','User',75000)\n",
    "print(emp_1)"
   ]
  },
  {
   "cell_type": "markdown",
   "metadata": {},
   "source": [
    "Call `__repr__` method to print out an instance (both ways work the same as each other)"
   ]
  },
  {
   "cell_type": "code",
   "execution_count": 103,
   "metadata": {},
   "outputs": [
    {
     "name": "stdout",
     "output_type": "stream",
     "text": [
      "Employee('First', 'Last', 70000)\n",
      "Employee('First', 'Last', 70000)\n"
     ]
    }
   ],
   "source": [
    "print(repr(emp_1))\n",
    "print(emp_1.__repr__())"
   ]
  },
  {
   "cell_type": "markdown",
   "metadata": {},
   "source": [
    "Call `__str__` method to print out an instance (both ways work the same as each other)"
   ]
  },
  {
   "cell_type": "code",
   "execution_count": 104,
   "metadata": {},
   "outputs": [
    {
     "name": "stdout",
     "output_type": "stream",
     "text": [
      "First Last - First.Last@test.com\n",
      "First Last - First.Last@test.com\n"
     ]
    }
   ],
   "source": [
    "print(str(emp_1))\n",
    "print(emp_1.__str__())"
   ]
  },
  {
   "cell_type": "markdown",
   "metadata": {},
   "source": [
    "Apply dunder in numeric and string data"
   ]
  },
  {
   "cell_type": "code",
   "execution_count": 105,
   "metadata": {},
   "outputs": [
    {
     "name": "stdout",
     "output_type": "stream",
     "text": [
      "3\n",
      "3\n",
      "ab\n",
      "ab\n"
     ]
    }
   ],
   "source": [
    "## Numeric calculation\n",
    "print(1+2)\n",
    "print(int.__add__(1,2))\n",
    "## String concatenate\n",
    "print('a'+'b')\n",
    "print(str.__add__('a','b'))"
   ]
  },
  {
   "cell_type": "code",
   "execution_count": 114,
   "metadata": {},
   "outputs": [],
   "source": [
    "class Employee():\n",
    "    raise_amt = 1.04\n",
    "    def __init__(self,first,last,pay):\n",
    "        self.first = first\n",
    "        self.last = last\n",
    "        self.pay = pay\n",
    "        self.email = first + '.' + last + '@test.com'\n",
    "    def fullname(self):\n",
    "        return '{} {}'.format(self.first, self.last)\n",
    "    def apply_raise(self):\n",
    "        self.pay = int(self.pay*self.raise_amt)\n",
    "    def __add__(self,other):\n",
    "        return self.pay + other.pay\n",
    "#return self.first + '-' + other.first --> this will be a concatenate function \n",
    "emp_1 = Employee('Firs','Last',70000)\n",
    "emp_2 = Employee('Test','User',75000)"
   ]
  },
  {
   "cell_type": "markdown",
   "metadata": {},
   "source": [
    "apply dunder `__add__` of two emps with plus sign `+`"
   ]
  },
  {
   "cell_type": "code",
   "execution_count": 112,
   "metadata": {},
   "outputs": [
    {
     "name": "stdout",
     "output_type": "stream",
     "text": [
      "145000\n",
      "145000\n"
     ]
    }
   ],
   "source": [
    "print(emp_1 + emp_2)\n",
    "print(Employee.__add__(emp_1,emp_2))"
   ]
  },
  {
   "cell_type": "markdown",
   "metadata": {},
   "source": [
    "web page to find all dunder methods: http://docs.python.org/3/reference/datamodel.html"
   ]
  },
  {
   "cell_type": "markdown",
   "metadata": {},
   "source": [
    "dunder works with data without creating any method"
   ]
  },
  {
   "cell_type": "code",
   "execution_count": 113,
   "metadata": {},
   "outputs": [
    {
     "name": "stdout",
     "output_type": "stream",
     "text": [
      "4\n",
      "4\n"
     ]
    }
   ],
   "source": [
    "print(len('test'))\n",
    "print('test'.__len__())"
   ]
  },
  {
   "cell_type": "code",
   "execution_count": 115,
   "metadata": {},
   "outputs": [
    {
     "name": "stdout",
     "output_type": "stream",
     "text": [
      "10\n",
      "10\n"
     ]
    }
   ],
   "source": [
    "#But if we want a dunder function to work with an object, we need to define that dunder \n",
    "class Employee():\n",
    "    raise_amt = 1.04\n",
    "    def __init__(self,first,last,pay):\n",
    "        self.first = first\n",
    "        self.last = last\n",
    "        self.pay = pay\n",
    "        self.email = first + '.' + last + '@test.com'\n",
    "    def fullname(self):\n",
    "        return '{} {}'.format(self.first, self.last)\n",
    "    def apply_raise(self):\n",
    "        self.pay = int(self.pay*self.raise_amt)\n",
    "    def __len__(self):\n",
    "        return len(self.fullname())\n",
    "emp_1 = Employee('First','Last',70000)\n",
    "\n",
    "print(len(emp_1))\n",
    "print(emp_1.__len__())"
   ]
  },
  {
   "cell_type": "markdown",
   "metadata": {},
   "source": [
    "## TOPIC 8 - OOP 6 - Property Decorators - Getter, Setter, and Deleters"
   ]
  },
  {
   "cell_type": "markdown",
   "metadata": {},
   "source": [
    "When we change an element in `__init__` like `first name`, other elements defined in `__init__` like `email` will not be affected even if they use any part of the changed element"
   ]
  },
  {
   "cell_type": "code",
   "execution_count": 116,
   "metadata": {},
   "outputs": [
    {
     "name": "stdout",
     "output_type": "stream",
     "text": [
      "NewFirst\n",
      "First.Last@test.com\n",
      "NewFirst Last\n"
     ]
    }
   ],
   "source": [
    "class Employee(object):\n",
    "    def __init__(self,first,last):\n",
    "        self.first = first\n",
    "        self.last = last\n",
    "        self.email = first + '.' + last + '@test.com'\n",
    "    def fullname(self):\n",
    "        return '{} {}'.format(self.first, self.last)\n",
    "emp_1 = Employee('First','Last')\n",
    "emp_1.first = 'NewFirst'\n",
    "print(emp_1.first)\n",
    "print(emp_1.email)\n",
    "print(emp_1.fullname())"
   ]
  },
  {
   "cell_type": "markdown",
   "metadata": {},
   "source": [
    "In order to make any derived element reflected after a change from one element, it's better to define the derived element separately in a different function/method rather than the `__init__`. When we call it, we need to use round brackets to excecute the defined method: eg. emp_1.email`()`"
   ]
  },
  {
   "cell_type": "code",
   "execution_count": 5,
   "metadata": {},
   "outputs": [
    {
     "name": "stdout",
     "output_type": "stream",
     "text": [
      "NewFirst\n",
      "NewFirst.Last@test.com\n",
      "NewFirst Last\n"
     ]
    }
   ],
   "source": [
    "class Employee(object):\n",
    "    def __init__(self,first,last):\n",
    "        self.first = first\n",
    "        self.last = last\n",
    "    def fullname(self):\n",
    "        return '{} {}'.format(self.first, self.last)\n",
    "    def email(self):\n",
    "        return '{}.{}@test.com'.format(self.first, self.last)\n",
    "emp_1 = Employee('First','Last')\n",
    "# Change first name\n",
    "emp_1.first = 'NewFirst'\n",
    "print(emp_1.first)\n",
    "print(emp_1.email())\n",
    "print(emp_1.fullname())"
   ]
  },
  {
   "cell_type": "markdown",
   "metadata": {},
   "source": [
    "__Getter:__ Antoher way to call/access a method `without brackets`, or in another word to access a mthoed as an attribute is to use `@property` decorator to specify a method is actually an attribute derived from other attributes."
   ]
  },
  {
   "cell_type": "code",
   "execution_count": 8,
   "metadata": {},
   "outputs": [
    {
     "name": "stdout",
     "output_type": "stream",
     "text": [
      "NewFirst\n",
      "NewFirst.Last@test.com\n",
      "NewFirst Last\n"
     ]
    }
   ],
   "source": [
    "class Employee(object):\n",
    "    def __init__(self,first,last):\n",
    "        self.first = first\n",
    "        self.last = last\n",
    "    @property\n",
    "    def fullname(self):\n",
    "        return '{} {}'.format(self.first, self.last)\n",
    "    @property\n",
    "    def email(self):\n",
    "        return '{}.{}@test.com'.format(self.first, self.last)\n",
    "emp_1 = Employee('First','Last')\n",
    "# Change first name\n",
    "emp_1.first = 'NewFirst'\n",
    "print(emp_1.first)\n",
    "print(emp_1.email)\n",
    "print(emp_1.fullname)"
   ]
  },
  {
   "cell_type": "markdown",
   "metadata": {},
   "source": [
    "__Setter:__ Setter is the opposite of getter that allow making change in a method as in an attribute.\n",
    "\n",
    "In the example below, `fullname` is a method that can be accessed as an attribute because it has `@property` decorator. It's a derived property and can't be changed until we set it up with setter decorator `@fullname.setter`. With this setup, the change in fullname will be reflected in all elements contributing to it."
   ]
  },
  {
   "cell_type": "code",
   "execution_count": 10,
   "metadata": {},
   "outputs": [
    {
     "name": "stdout",
     "output_type": "stream",
     "text": [
      "NewFirst\n",
      "NewFirst.NewLast@test.com\n",
      "NewFirst NewLast\n"
     ]
    }
   ],
   "source": [
    "class Employee(object):\n",
    "    def __init__(self,first,last):\n",
    "        self.first = first\n",
    "        self.last = last\n",
    "    @property\n",
    "    def fullname(self):\n",
    "        return '{} {}'.format(self.first, self.last)\n",
    "    @fullname.setter\n",
    "    def fullname(self,name):\n",
    "        first, last = name.split(' ')\n",
    "        self.first = first\n",
    "        self.last = last\n",
    "    @property\n",
    "    def email(self):\n",
    "        return '{}.{}@test.com'.format(self.first, self.last)\n",
    "emp_1 = Employee('First','Last')\n",
    "# Change fullname\n",
    "emp_1.fullname = 'NewFirst NewLast'\n",
    "print(emp_1.first)\n",
    "print(emp_1.email)\n",
    "print(emp_1.fullname)"
   ]
  },
  {
   "cell_type": "markdown",
   "metadata": {},
   "source": [
    "__Deleter:__ Use `deleter decorator` to allow delete a method value and all of its component attributes"
   ]
  },
  {
   "cell_type": "code",
   "execution_count": 11,
   "metadata": {},
   "outputs": [
    {
     "name": "stdout",
     "output_type": "stream",
     "text": [
      "NewFirst\n",
      "NewFirst.NewLast@test.com\n",
      "NewFirst NewLast\n",
      "========================\n",
      "Delete Name!\n",
      "None None\n",
      "None\n",
      "None.None@test.com\n"
     ]
    }
   ],
   "source": [
    "class Employee(object):\n",
    "    def __init__(self,first,last):\n",
    "        self.first = first\n",
    "        self.last = last\n",
    "    @property\n",
    "    def fullname(self):\n",
    "        return '{} {}'.format(self.first, self.last)\n",
    "    @fullname.setter\n",
    "    def fullname(self,name):\n",
    "        first, last = name.split(' ')\n",
    "        self.first = first\n",
    "        self.last = last\n",
    "    @fullname.deleter\n",
    "    def fullname(self):\n",
    "        print('Delete Name!')\n",
    "        self.first = None\n",
    "        self.last = None\n",
    "    @property\n",
    "    def email(self):\n",
    "        return '{}.{}@test.com'.format(self.first, self.last)\n",
    "emp_1 = Employee('First','Last')\n",
    "# Change fullname\n",
    "emp_1.fullname = 'NewFirst NewLast'\n",
    "print(emp_1.first)\n",
    "print(emp_1.email)\n",
    "print(emp_1.fullname)\n",
    "print('========================')\n",
    "del emp_1.fullname\n",
    "print(emp_1.fullname)\n",
    "print(emp_1.first)\n",
    "print(emp_1.email)"
   ]
  },
  {
   "cell_type": "markdown",
   "metadata": {},
   "source": [
    "#### Common methods in class: str() vs repr()"
   ]
  },
  {
   "cell_type": "markdown",
   "metadata": {},
   "source": [
    "Differences between `str()` and `repr()` \n",
    "- The goal of repr is to be unambiguous --> return something similar to a Python command (means for developers) \n",
    "- The goal of str is to be readable --> more readable version"
   ]
  },
  {
   "cell_type": "code",
   "execution_count": 13,
   "metadata": {},
   "outputs": [
    {
     "name": "stdout",
     "output_type": "stream",
     "text": [
      "[1, 2, 3, 4]\n",
      "[1, 2, 3, 4]\n",
      "sample string\n",
      "'sample string'\n"
     ]
    }
   ],
   "source": [
    "a = [1,2,3,4]\n",
    "b = 'sample string'\n",
    "print(str(a))\n",
    "print(repr(a))\n",
    "print(str(b))\n",
    "print(repr(b))"
   ]
  },
  {
   "cell_type": "code",
   "execution_count": 14,
   "metadata": {},
   "outputs": [
    {
     "name": "stdout",
     "output_type": "stream",
     "text": [
      "str(a): 2019-11-26 17:27:58.462767+00:00\n",
      "str(b): 2019-11-26 17:27:58.462767+00:00\n",
      "\n",
      "repr(a): datetime.datetime(2019, 11, 26, 17, 27, 58, 462767, tzinfo=<UTC>)\n",
      "repr(b): '2019-11-26 17:27:58.462767+00:00'\n",
      "\n"
     ]
    }
   ],
   "source": [
    "import datetime\n",
    "import pytz\n",
    "a = datetime.datetime.utcnow().replace(tzinfo=pytz.UTC) #repr\n",
    "b = str(a) #str or more readable version\n",
    "print('str(a): {}'.format(str(a)))\n",
    "print('str(b): {}'.format(str(b)))\n",
    "print()\n",
    "print('repr(a): {}'.format(repr(a))) #return a Python formula\n",
    "print('repr(b): {}'.format(repr(b))) #return a datetime value with quote\n",
    "print()"
   ]
  },
  {
   "cell_type": "code",
   "execution_count": 18,
   "metadata": {},
   "outputs": [
    {
     "name": "stdout",
     "output_type": "stream",
     "text": [
      "2019-11-26 17:27:58.462767+00:00\n"
     ]
    }
   ],
   "source": [
    "a = datetime.datetime(2019, 11, 26, 17, 27, 58, 462767, tzinfo=pytz.UTC)\n",
    "print(a)"
   ]
  }
 ],
 "metadata": {
  "kernelspec": {
   "display_name": "Python 3",
   "language": "python",
   "name": "python3"
  },
  "language_info": {
   "codemirror_mode": {
    "name": "ipython",
    "version": 3
   },
   "file_extension": ".py",
   "mimetype": "text/x-python",
   "name": "python",
   "nbconvert_exporter": "python",
   "pygments_lexer": "ipython3",
   "version": "3.7.4"
  }
 },
 "nbformat": 4,
 "nbformat_minor": 2
}

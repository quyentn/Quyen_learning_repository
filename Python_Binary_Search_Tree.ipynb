{
 "cells": [
  {
   "cell_type": "markdown",
   "metadata": {},
   "source": [
    "### 1. Binary Search Tree | Set 1 (Search and Insertion)"
   ]
  },
  {
   "cell_type": "code",
   "execution_count": 1,
   "metadata": {},
   "outputs": [],
   "source": [
    "# Python program to demonstrate insert operation in binary search tree  \n",
    "  \n",
    "# A utility class that represents an individual node in a BST \n",
    "class Node: \n",
    "    def __init__(self,key): \n",
    "        self.left = None\n",
    "        self.right = None\n",
    "        self.parent = None\n",
    "        self.val = key\n",
    "\n",
    "# A utility function to insert a new node with the given key \n",
    "def insert(root,node): \n",
    "    if root is None: \n",
    "        root = node \n",
    "    elif root.val < node.val: \n",
    "        if root.right is None: \n",
    "            root.right = node\n",
    "            node.parent  = root\n",
    "        else: \n",
    "            insert(root.right, node) \n",
    "    else: \n",
    "        if root.left is None: \n",
    "            root.left = node\n",
    "            node.parent  = root\n",
    "        else: \n",
    "                insert(root.left, node) "
   ]
  },
  {
   "cell_type": "code",
   "execution_count": 2,
   "metadata": {},
   "outputs": [],
   "source": [
    "# Driver program to test the above functions \n",
    "# Let us create the following BST \n",
    "#      50 \n",
    "#    /      \\ \n",
    "#   30     70 \n",
    "#   / \\    / \\ \n",
    "#  20 40  60 80 \n",
    "r = Node(50) \n",
    "insert(r,Node(30)) \n",
    "insert(r,Node(20)) \n",
    "insert(r,Node(40)) \n",
    "insert(r,Node(70)) \n",
    "insert(r,Node(60)) \n",
    "insert(r,Node(80)) "
   ]
  },
  {
   "cell_type": "code",
   "execution_count": 3,
   "metadata": {},
   "outputs": [],
   "source": [
    "#https://www.geeksforgeeks.org/binary-search-tree-set-1-search-and-insertion/\n",
    "# A utility function to search a given key in BST \n",
    "def search(root,key): \n",
    "     # Base Cases: root is null or key is present at root \n",
    "    if root is None or root.val == key: \n",
    "        return root \n",
    "    # Key is greater than root's key \n",
    "    elif root.val < key: \n",
    "        return search(root.right,key) \n",
    "    # Key is smaller than root's key \n",
    "    else:\n",
    "        return search(root.left,key) "
   ]
  },
  {
   "cell_type": "code",
   "execution_count": 4,
   "metadata": {},
   "outputs": [
    {
     "name": "stdout",
     "output_type": "stream",
     "text": [
      "50\n",
      "20\n",
      "40\n"
     ]
    }
   ],
   "source": [
    "r_v = search(r,30)\n",
    "print(r_v.parent.val)\n",
    "print(r_v.left.val)\n",
    "print(r_v.right.val)"
   ]
  },
  {
   "cell_type": "code",
   "execution_count": 5,
   "metadata": {},
   "outputs": [],
   "source": [
    "# A utility function to do inorder tree traversal \n",
    "def inorder(root): \n",
    "    if root: \n",
    "        inorder(root.left) \n",
    "        print(root.val)\n",
    "        inorder(root.right)  "
   ]
  },
  {
   "cell_type": "code",
   "execution_count": 6,
   "metadata": {},
   "outputs": [
    {
     "name": "stdout",
     "output_type": "stream",
     "text": [
      "20\n",
      "30\n",
      "40\n",
      "50\n",
      "60\n",
      "70\n",
      "80\n"
     ]
    }
   ],
   "source": [
    "# Print inoder traversal of the BST \n",
    "inorder(r) "
   ]
  },
  {
   "cell_type": "markdown",
   "metadata": {},
   "source": [
    "### 2. Inorder Successor in Binary Search Tree on-way down from top"
   ]
  },
  {
   "cell_type": "code",
   "execution_count": 7,
   "metadata": {},
   "outputs": [],
   "source": [
    "# Let us create the following BST \n",
    "#              50 \n",
    "#         /         \\ \n",
    "#        30         70 \n",
    "#      /   \\        / \\ \n",
    "#     20   40      60  80\n",
    "#    / |   /\\      /\\   /\\\n",
    "# 15  25 35 45    55 65 75 85\n",
    "insert(r,Node(15))\n",
    "insert(r,Node(25))\n",
    "insert(r,Node(35))\n",
    "insert(r,Node(45))\n",
    "insert(r,Node(55))\n",
    "insert(r,Node(65))\n",
    "insert(r,Node(75))\n",
    "insert(r,Node(85))"
   ]
  },
  {
   "cell_type": "code",
   "execution_count": 107,
   "metadata": {},
   "outputs": [
    {
     "name": "stdout",
     "output_type": "stream",
     "text": [
      "65\n"
     ]
    }
   ],
   "source": [
    "def successor (root,target):\n",
    "    candidate = None\n",
    "    while root:\n",
    "        if root.val == target:\n",
    "            if root.right:\n",
    "                candidate = root.right\n",
    "                while candidate.left:\n",
    "                    candidate = candidate.left\n",
    "            root = None\n",
    "        elif root.val > target:\n",
    "            root = root.left\n",
    "            candidate = root\n",
    "        else:\n",
    "            root = root.right\n",
    "            candidate = root\n",
    "    return candidate\n",
    "\n",
    "s = successor(r,65)\n",
    "print(s.val)"
   ]
  },
  {
   "cell_type": "code",
   "execution_count": 9,
   "metadata": {},
   "outputs": [
    {
     "name": "stdout",
     "output_type": "stream",
     "text": [
      "65\n"
     ]
    }
   ],
   "source": [
    "def successor_recursive (root,target):\n",
    "    if root.val == target:\n",
    "        if root.right:\n",
    "            candidate = root.right\n",
    "            while candidate.left:\n",
    "                candidate = candidate.left\n",
    "        else:\n",
    "            candidate = root\n",
    "    elif root.val > target:\n",
    "        candidate = successor(root.left,target)\n",
    "    else:\n",
    "        candidate = successor(root.right,target)\n",
    "    return candidate\n",
    "\n",
    "s = successor_recursive(r,65)\n",
    "print(s.val)"
   ]
  },
  {
   "cell_type": "markdown",
   "metadata": {},
   "source": [
    "### 3. Inorder Successor in Binary Search Tree with parent pointer\n",
    "https://www.geeksforgeeks.org/inorder-successor-in-binary-search-tree/"
   ]
  },
  {
   "cell_type": "code",
   "execution_count": 93,
   "metadata": {},
   "outputs": [
    {
     "data": {
      "text/plain": [
       "65"
      ]
     },
     "execution_count": 93,
     "metadata": {},
     "output_type": "execute_result"
    }
   ],
   "source": [
    "# Let us create the following BST \n",
    "#              50 \n",
    "#         /         \\ \n",
    "#        30         70 \n",
    "#      /   \\        / \\ \n",
    "#     20   40      60  80\n",
    "#    / |   /\\      /\\   /\\\n",
    "# 15  25 35 45    55 65 75 85\n",
    "\n",
    "def inOrderSuccessor(root, target_node):\n",
    "    if target_node.right:\n",
    "        candidate = target_node.right\n",
    "        while candidate.left: \n",
    "            candidate = candidate.left\n",
    "        return candidate \n",
    "    p = target_node.parent\n",
    "    while p.right == target_node: #update parent if child is the right one, else take direct parent\n",
    "        target_node = p  \n",
    "        p = target_node.parent \n",
    "    return p\n",
    "\n",
    "#Test func\n",
    "succ = inOrderSuccessor(r, search(r,60)) \n",
    "succ.val"
   ]
  },
  {
   "cell_type": "code",
   "execution_count": 101,
   "metadata": {},
   "outputs": [
    {
     "data": {
      "text/plain": [
       "20"
      ]
     },
     "execution_count": 101,
     "metadata": {},
     "output_type": "execute_result"
    }
   ],
   "source": [
    "#Fix error if incase there is no successor\n",
    "def inOrderSuccessor(root, target_node):\n",
    "    if target_node.right:\n",
    "        candidate = target_node.right\n",
    "        while candidate.left: \n",
    "            candidate = candidate.left\n",
    "        return candidate\n",
    "    origin_target = target_node\n",
    "    p = target_node.parent\n",
    "    while p.right == target_node and p.parent: #update parent if child is the right one, else take direct parent\n",
    "        target_node = p  \n",
    "        p = target_node.parent\n",
    "    if p.parent:\n",
    "        return p\n",
    "    return origin_target\n",
    "#Test func\n",
    "succ = inOrderSuccessor(r, search(r,15)) \n",
    "succ.val"
   ]
  },
  {
   "cell_type": "code",
   "execution_count": 105,
   "metadata": {},
   "outputs": [
    {
     "name": "stdout",
     "output_type": "stream",
     "text": [
      "20\n",
      "25\n",
      "30\n",
      "35\n",
      "40\n",
      "45\n",
      "45\n",
      "55\n",
      "60\n",
      "65\n",
      "70\n",
      "75\n",
      "80\n",
      "85\n",
      "85\n"
     ]
    }
   ],
   "source": [
    "for val in range(15,85+1)[::5]:\n",
    "    succ = inOrderSuccessor(r, search(r,val)) \n",
    "    print(succ.val)"
   ]
  },
  {
   "cell_type": "markdown",
   "metadata": {},
   "source": [
    "### 4. Make Binary Search Tree from Array"
   ]
  },
  {
   "cell_type": "markdown",
   "metadata": {},
   "source": [
    "https://www.geeksforgeeks.org/make-binary-search-tree/?ref=rp"
   ]
  },
  {
   "cell_type": "markdown",
   "metadata": {},
   "source": [
    "Given an array of size N. The task is to find whether it is possible to make Binary Search Tree with the given array of elements such that greatest common divisor of any two vertices connected by a common edge is > 1."
   ]
  },
  {
   "cell_type": "code",
   "execution_count": 109,
   "metadata": {},
   "outputs": [],
   "source": [
    "import math \n",
    "  \n",
    "# Maxium number of vertices  \n",
    "N = 705\n",
    "  \n",
    "# To store is it possible at particular pace or not  \n",
    "dp = [[[-1 for z in range(2)]  \n",
    "           for x in range(N)]  \n",
    "           for y in range(N)]"
   ]
  },
  {
   "cell_type": "code",
   "execution_count": 118,
   "metadata": {},
   "outputs": [],
   "source": [
    "# Return 1 if from l to r, it is possible with the given state  \n",
    "\n",
    "def possibleWithState(l, r, state, a):  \n",
    "    # Base condition  \n",
    "    if (l > r): \n",
    "        return 1\n",
    "  \n",
    "    # If it is already calculated  \n",
    "    if (dp[l][r][state] != -1): \n",
    "        return dp[l][r][state]  \n",
    "  \n",
    "    # Choose the root  \n",
    "    root = 0\n",
    "    if (state == 1) : \n",
    "        root = a[r + 1]  # first right item\n",
    "    else: \n",
    "        root = a[l - 1]  #last left item\n",
    "  \n",
    "    # Traverse in range l to r  \n",
    "    for i in range(l, r + 1):  #i for start of root\n",
    "  \n",
    "        # If gcd is greater than one  \n",
    "        # check for both sides  \n",
    "        if (math.gcd(a[i], root) > 1):  \n",
    "            x = possibleWithState(l, i - 1, 1, a)  \n",
    "            if (x != 1):  \n",
    "                continue\n",
    "            y = possibleWithState(i + 1, r, 0, a)  \n",
    "            if (x == 1 and y == 1) : \n",
    "                return 1\n",
    "  \n",
    "\n",
    "    # If not possible  \n",
    "    return 0"
   ]
  },
  {
   "cell_type": "code",
   "execution_count": 119,
   "metadata": {},
   "outputs": [],
   "source": [
    "# Function that return true if it is  \n",
    "# possible to make Binary Search Tree  \n",
    "def isPossible(a, n):  \n",
    "      \n",
    "    # Sort the given array  \n",
    "    a.sort()  \n",
    "  \n",
    "    # Check it is possible rooted at i  \n",
    "    for i in range(n): \n",
    "          \n",
    "        # Check at both sides  \n",
    "        if (possibleWithState(0, i - 1, 1, a) and \n",
    "            possibleWithState(i + 1, n - 1, 0, a)): \n",
    "            return True\n",
    "              \n",
    "    return False  "
   ]
  },
  {
   "cell_type": "code",
   "execution_count": 120,
   "metadata": {},
   "outputs": [
    {
     "name": "stdout",
     "output_type": "stream",
     "text": [
      "Yes\n"
     ]
    }
   ],
   "source": [
    "# Driver Code  \n",
    "if __name__ == '__main__':  \n",
    "    a = [3, 6, 9, 18, 36, 108] \n",
    "    n = len(a)  \n",
    "    if (isPossible(a, n)): \n",
    "        print(\"Yes\") \n",
    "    else: \n",
    "        print(\"No\") "
   ]
  },
  {
   "cell_type": "markdown",
   "metadata": {},
   "source": [
    "### 5. How to handle duplicates in Binary Search Tree?"
   ]
  },
  {
   "cell_type": "markdown",
   "metadata": {},
   "source": [
    "https://www.geeksforgeeks.org/how-to-handle-duplicates-in-binary-search-tree/?ref=rp\n",
    "\n",
    "In a Binary Search Tree (BST), all keys in left subtree of a key must be smaller and all keys in right subtree must be greater. So a Binary Search Tree by definition has distinct keys.\n",
    "How to allow duplicates where every insertion inserts one more key with a value and every deletion deletes one occurrence?"
   ]
  },
  {
   "cell_type": "code",
   "execution_count": 121,
   "metadata": {},
   "outputs": [],
   "source": [
    "# Python3 program to implement basic operations  (search, insert and delete) on a BST that handles  \n",
    "# duplicates by storing count with every node  \n",
    "  \n",
    "# A utility function to create a new BST node  \n",
    "class newNode:  \n",
    "  \n",
    "    # Constructor to create a new node  \n",
    "    def __init__(self, data):  \n",
    "        self.key = data \n",
    "        self.count = 1\n",
    "        self.left = None\n",
    "        self.right = None\n",
    "        \n",
    "# A utility function to do inorder  \n",
    "# traversal of BST  \n",
    "def inorder(root): \n",
    "    if root != None: \n",
    "        inorder(root.left) \n",
    "        print(root.key,\"(\", root.count,\")\",  \n",
    "                                 end = \" \")  \n",
    "        inorder(root.right)\n",
    "        \n",
    "# A utility function to insert a new node  \n",
    "# with given key in BST  \n",
    "def insert(node, key): \n",
    "      \n",
    "    # If the tree is empty, return a new node  \n",
    "    if node == None: \n",
    "        k = newNode(key) \n",
    "        return k \n",
    "  \n",
    "    # If key already exists in BST, increment \n",
    "    # count and return  \n",
    "    if key == node.key: \n",
    "        (node.count) += 1\n",
    "        return node \n",
    "  \n",
    "    # Otherwise, recur down the tree  \n",
    "    if key < node.key:  \n",
    "        node.left = insert(node.left, key)  \n",
    "    else: \n",
    "        node.right = insert(node.right, key) \n",
    "  \n",
    "    # return the (unchanged) node pointer  \n",
    "    return node \n",
    "  \n",
    "# Given a non-empty binary search tree, return  the node with minimum key value found in that  \n",
    "# tree. Note that the entire tree does not need to be searched.  \n",
    "def minValueNode(node): \n",
    "    current = node  \n",
    "  \n",
    "    # loop down to find the leftmost leaf  \n",
    "    while current.left != None:  \n",
    "        current = current.left  \n",
    "  \n",
    "    return current \n",
    "  "
   ]
  },
  {
   "cell_type": "code",
   "execution_count": 122,
   "metadata": {},
   "outputs": [],
   "source": [
    "# Given a binary search tree and a key,  this function deletes a given key and  returns root of modified tree  \n",
    "def deleteNode(root, key): \n",
    "      \n",
    "    # base case  \n",
    "    if root == None: \n",
    "        return root \n",
    "  \n",
    "    # If the key to be deleted is smaller than the  root's key, then it lies in left subtree  \n",
    "    if key < root.key: \n",
    "        root.left = deleteNode(root.left, key)  \n",
    "  \n",
    "    # If the key to be deleted is greater than  the root's key, then it lies in right subtree  \n",
    "    elif key > root.key:  \n",
    "        root.right = deleteNode(root.right, key)  \n",
    "  \n",
    "    # if key is same as root's key  \n",
    "    else: \n",
    "          \n",
    "        # If key is present more than once,  simply decrement count and return \n",
    "        if root.count > 1: \n",
    "            root.count -= 1\n",
    "            return root \n",
    "          \n",
    "        # ElSE, delete the node node with \n",
    "        # only one child or no child  \n",
    "        if root.left == None: \n",
    "            temp = root.right \n",
    "            return temp \n",
    "        elif root.right == None: \n",
    "            temp = root.left \n",
    "            return temp \n",
    "  \n",
    "        # node with two children: Get the inorder  successor (smallest in the right subtree)  \n",
    "        temp = minValueNode(root.right)  \n",
    "  \n",
    "        # Copy the inorder successor's content to this node  \n",
    "        root.key = temp.key  \n",
    "  \n",
    "        # Delete the inorder successor  \n",
    "        root.right = deleteNode(root.right, temp.key) \n",
    "    return root \n",
    "  "
   ]
  },
  {
   "cell_type": "code",
   "execution_count": 123,
   "metadata": {},
   "outputs": [
    {
     "name": "stdout",
     "output_type": "stream",
     "text": [
      "Inorder traversal of the given tree\n",
      "9 ( 1 ) 10 ( 2 ) 11 ( 1 ) 12 ( 3 ) 20 ( 1 ) \n",
      "Delete 20\n",
      "Inorder traversal of the modified tree\n",
      "9 ( 1 ) 10 ( 2 ) 11 ( 1 ) 12 ( 3 ) \n",
      "Delete 12\n",
      "Inorder traversal of the modified tree\n",
      "9 ( 1 ) 10 ( 2 ) 11 ( 1 ) 12 ( 2 ) \n",
      "Delete 9\n",
      "Inorder traversal of the modified tree\n",
      "10 ( 2 ) 11 ( 1 ) 12 ( 2 ) "
     ]
    }
   ],
   "source": [
    "# Driver Code \n",
    "if __name__ == '__main__': \n",
    "      \n",
    "    # Let us create following BST  \n",
    "    # 12(3)  \n",
    "    # / \\  \n",
    "    # 10(2) 20(1)  \n",
    "    # / \\  \n",
    "    # 9(1) 11(1)  \n",
    "    root = None\n",
    "    root = insert(root, 12)  \n",
    "    root = insert(root, 10)  \n",
    "    root = insert(root, 20)  \n",
    "    root = insert(root, 9)  \n",
    "    root = insert(root, 11)  \n",
    "    root = insert(root, 10)  \n",
    "    root = insert(root, 12)  \n",
    "    root = insert(root, 12) \n",
    "  \n",
    "    print(\"Inorder traversal of the given tree\")  \n",
    "    inorder(root)  \n",
    "    print() \n",
    "      \n",
    "    print(\"Delete 20\")  \n",
    "    root = deleteNode(root, 20)  \n",
    "    print(\"Inorder traversal of the modified tree\")  \n",
    "    inorder(root)  \n",
    "    print() \n",
    "  \n",
    "    print(\"Delete 12\") \n",
    "    root = deleteNode(root, 12)  \n",
    "    print(\"Inorder traversal of the modified tree\")  \n",
    "    inorder(root)  \n",
    "    print() \n",
    "  \n",
    "    print(\"Delete 9\") \n",
    "    root = deleteNode(root, 9)  \n",
    "    print(\"Inorder traversal of the modified tree\")  \n",
    "    inorder(root) "
   ]
  },
  {
   "cell_type": "code",
   "execution_count": null,
   "metadata": {},
   "outputs": [],
   "source": []
  },
  {
   "cell_type": "code",
   "execution_count": null,
   "metadata": {},
   "outputs": [],
   "source": []
  }
 ],
 "metadata": {
  "kernelspec": {
   "display_name": "Python 3",
   "language": "python",
   "name": "python3"
  },
  "language_info": {
   "codemirror_mode": {
    "name": "ipython",
    "version": 3
   },
   "file_extension": ".py",
   "mimetype": "text/x-python",
   "name": "python",
   "nbconvert_exporter": "python",
   "pygments_lexer": "ipython3",
   "version": "3.7.4"
  }
 },
 "nbformat": 4,
 "nbformat_minor": 2
}

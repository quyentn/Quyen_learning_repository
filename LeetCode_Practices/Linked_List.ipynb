{
 "cells": [
  {
   "cell_type": "markdown",
   "metadata": {},
   "source": [
    "## LINKED LIST"
   ]
  },
  {
   "cell_type": "markdown",
   "metadata": {},
   "source": [
    "## Week 2 - Jan 16, 2021"
   ]
  },
  {
   "cell_type": "markdown",
   "metadata": {},
   "source": [
    "### Add Two Numbers\n",
    "https://leetcode.com/explore/featured/card/january-leetcoding-challenge-2021/580/week-2-january-8th-january-14th/3601/\n",
    "\n",
    "You are given two non-empty linked lists representing two non-negative integers. The digits are stored in reverse order, and each of their nodes contains a single digit. Add the two numbers and return the sum as a linked list.\n",
    "\n",
    "You may assume the two numbers do not contain any leading zero, except the number 0 itself.\n",
    "\n",
    " "
   ]
  },
  {
   "cell_type": "markdown",
   "metadata": {},
   "source": [
    "#### Example 1:\n",
    "\n",
    "Input: l1 = [2,4,3], l2 = [5,6,4]\n",
    "\n",
    "Output: [7,0,8]\n",
    "\n",
    "Explanation: 342 + 465 = 807."
   ]
  },
  {
   "cell_type": "markdown",
   "metadata": {},
   "source": [
    "#### Example 2:\n",
    "\n",
    "Input: l1 = [0], l2 = [0]\n",
    "\n",
    "Output: [0]"
   ]
  },
  {
   "cell_type": "markdown",
   "metadata": {},
   "source": [
    "#### Example 3:\n",
    "\n",
    "Input: l1 = [9,9,9,9,9,9,9], l2 = [9,9,9,9]\n",
    "\n",
    "Output: [8,9,9,9,0,0,0,1] "
   ]
  },
  {
   "cell_type": "markdown",
   "metadata": {},
   "source": [
    "#### Constraints:\n",
    "\n",
    "The number of nodes in each linked list is in the range [1, 100].\n",
    "\n",
    "0 <= Node.val <= 9\n",
    "\n",
    "It is guaranteed that the list represents a number that does not have leading zeros."
   ]
  },
  {
   "cell_type": "code",
   "execution_count": 2,
   "metadata": {},
   "outputs": [],
   "source": [
    "# Definition for singly-linked list.\n",
    "class ListNode:\n",
    "     def __init__(self, val=0, next=None):\n",
    "        self.val = val\n",
    "        self.next = next\n",
    "\n",
    "l1 = [9,9,9,9,9,9,9]\n",
    "listNode1, listNode12,listNode13,listNode14,listNode15,listNode16,listNode17 = (ListNode(l1[i]) for i in  range(len(l1)))\n",
    "all_nodes1 = (listNode1, listNode12,listNode13,listNode14,listNode15,listNode16,listNode17)\n",
    "for i in range(1,len(l1)):\n",
    "    all_nodes1[i-1].next = all_nodes1[i]\n",
    "\n",
    "l2 = [9,9,9,9]\n",
    "listNode2, listNode22,listNode23,listNode24 =(ListNode(l2[i]) for i in  range(len(l2)))\n",
    "all_nodes2 = listNode2, listNode22,listNode23,listNode24\n",
    "for i in range(1,len(l2)):\n",
    "    all_nodes2[i-1].next = all_nodes2[i]"
   ]
  },
  {
   "cell_type": "code",
   "execution_count": 87,
   "metadata": {},
   "outputs": [
    {
     "data": {
      "text/plain": [
       "1"
      ]
     },
     "execution_count": 87,
     "metadata": {},
     "output_type": "execute_result"
    }
   ],
   "source": [
    "class Solution(object):\n",
    "    def addTwoNumbers(self, l1, l2):\n",
    "        if l1 == None: return l2\n",
    "        if l2 == None:return l1\n",
    "        sum_val = l1.val + l2.val\n",
    "        if sum_val < 10:\n",
    "            ansNode = ListNode(sum_val)\n",
    "            ansNode.next = self.addTwoNumbers(l1.next, l2.next)\n",
    "            return ansNode\n",
    "        else:\n",
    "            ansNode = ListNode(sum_val - 10)\n",
    "            ansNode.next = self.addTwoNumbers(ListNode(1), self.addTwoNumbers(l1.next, l2.next))\n",
    "            return ansNode\n",
    "ansNode = Solution()\n",
    "ansNode = ansNode.addTwoNumbers(listNode1,listNode2)\n",
    "ansNode.next.next.next.next.next.next.next.val"
   ]
  },
  {
   "cell_type": "markdown",
   "metadata": {},
   "source": [
    "Success \n",
    "\n",
    "- Runtime: 72 ms, faster than 51.07% of Python3 online submissions for Add Two Numbers.\n",
    "- Memory Usage: 14.3 MB, less than 44.40% of Python3 online submissions for Add Two Numbers."
   ]
  },
  {
   "cell_type": "markdown",
   "metadata": {},
   "source": [
    "## Week 37 - Sep 11, 2021"
   ]
  },
  {
   "cell_type": "markdown",
   "metadata": {},
   "source": [
    "### 1290. Convert Binary Number in a Linked List to Integer - Easy\n",
    "https://leetcode.com/problems/convert-binary-number-in-a-linked-list-to-integer/\n",
    "\n",
    "Given head which is a reference node to a singly-linked list. The value of each node in the linked list is either 0 or 1. The linked list holds the binary representation of a number.\n",
    "\n",
    "Return the decimal value of the number in the linked list.\n",
    "#### Example 1:\n",
    "- Input: head = [1,0,1]\n",
    "- Output: 5\n",
    "![pic](<https://assets.leetcode.com/uploads/2019/12/05/graph-1.png>)\n",
    "- Explanation: (101) in base 2 = (5) in base 10\n",
    "\n",
    "#### Example 2:\n",
    "- Input: head = [0]\n",
    "- Output: 0\n",
    "\n",
    "#### Example 3:\n",
    "- Input: head = [1]\n",
    "- Output: 1\n",
    "\n",
    "#### Example 4:\n",
    "- Input: head = [1,0,0,1,0,0,1,1,1,0,0,0,0,0,0]\n",
    "- Output: 18880\n",
    "\n",
    "#### Example 5:\n",
    "- Input: head = [0,0]\n",
    "- Output: 0"
   ]
  },
  {
   "cell_type": "code",
   "execution_count": 42,
   "metadata": {},
   "outputs": [],
   "source": [
    "# Definition for singly-linked list.\n",
    "class ListNode:\n",
    "     def __init__(self, val=0, next=None):\n",
    "        self.val = val\n",
    "        self.next = next\n",
    "class Solution:\n",
    "    def getDecimalValue(self, head: ListNode) -> int:\n",
    "        current = head\n",
    "        length = 1\n",
    "        while current.next:\n",
    "            current = current.next\n",
    "            length += 1\n",
    "        exp = length - 1\n",
    "        ans = 0\n",
    "        current = head\n",
    "        while current:\n",
    "            ans += (current.val*2**exp)\n",
    "            current = current.next\n",
    "            exp -= 1\n",
    "        return ans "
   ]
  },
  {
   "cell_type": "code",
   "execution_count": 39,
   "metadata": {},
   "outputs": [
    {
     "data": {
      "text/plain": [
       "5"
      ]
     },
     "execution_count": 39,
     "metadata": {},
     "output_type": "execute_result"
    }
   ],
   "source": [
    "ansNode = Solution()\n",
    "ansNode.getDecimalValue(node_0)"
   ]
  },
  {
   "cell_type": "markdown",
   "metadata": {},
   "source": [
    "Success Details \n",
    "- Runtime: 32 ms, faster than 63.30% of Python3 online submissions for Convert Binary Number in a Linked List to Integer.\n",
    "- Memory Usage: 14.2 MB, less than 67.01% of Python3 online submissions for Convert Binary Number in a Linked List to Integer."
   ]
  },
  {
   "cell_type": "code",
   "execution_count": null,
   "metadata": {},
   "outputs": [],
   "source": [
    "class Solution:\n",
    "    def getDecimalValue(self, head: ListNode) -> int:\n",
    "        current = head\n",
    "        length = 1\n",
    "        while current.next:\n",
    "            current = current.next\n",
    "            length += 1\n",
    "        exp = length - 1\n",
    "        ans = 0\n",
    "        current = head\n",
    "        while current:\n",
    "            if current.val ==1:\n",
    "                ans += 2**exp\n",
    "            current = current.next\n",
    "            exp -= 1\n",
    "        return ans "
   ]
  },
  {
   "cell_type": "markdown",
   "metadata": {},
   "source": [
    "Success Details \n",
    "- Runtime: 56 ms, faster than 5.11% of Python3 online submissions for Convert Binary Number in a Linked List to Integer.\n",
    "- Memory Usage: 14.1 MB, less than 67.01% of Python3 online submissions for Convert Binary Number in a Linked List to Integer."
   ]
  },
  {
   "cell_type": "code",
   "execution_count": 43,
   "metadata": {},
   "outputs": [
    {
     "name": "stdout",
     "output_type": "stream",
     "text": [
      "15\n"
     ]
    }
   ],
   "source": [
    "def count_nodes(head):\n",
    "    # assuming that head != None\n",
    "    count = 1\n",
    "    current = head\n",
    "    while current.next:\n",
    "        current = current.next\n",
    "        count += 1\n",
    "    return count\n",
    "\n",
    "head = [1,0,0,1,0,0,1,1,1,0,0,0,0,0,0]\n",
    "globals()['node_%s'%0] = ListNode(head[0])\n",
    "for i in range(1,len(head)):\n",
    "    globals()['node_%s'%i] = ListNode(head[i])\n",
    "    globals()['node_%s'%(i-1)].next = globals()['node_%s'%i]\n",
    "print(count_nodes(node_0))"
   ]
  },
  {
   "cell_type": "code",
   "execution_count": 45,
   "metadata": {},
   "outputs": [
    {
     "data": {
      "text/plain": [
       "18880"
      ]
     },
     "execution_count": 45,
     "metadata": {},
     "output_type": "execute_result"
    }
   ],
   "source": [
    "head = node_0 \n",
    "current = head\n",
    "length = 1\n",
    "while current.next:\n",
    "    current = current.next\n",
    "    length += 1\n",
    "exp = length - 1\n",
    "ans = 0\n",
    "current = head\n",
    "while current:\n",
    "    ans += (current.val*2**exp)\n",
    "    current = current.next\n",
    "    exp -= 1\n",
    "ans "
   ]
  },
  {
   "cell_type": "markdown",
   "metadata": {},
   "source": [
    "## Week 38 - Sep 18, 2021"
   ]
  },
  {
   "cell_type": "markdown",
   "metadata": {},
   "source": [
    "### 876. Middle of the Linked List - Easy\n",
    "\n",
    "https://leetcode.com/problems/middle-of-the-linked-list/\n",
    "\n",
    "Given the head of a singly linked list, return the middle node of the linked list.\n",
    "\n",
    "If there are two middle nodes, return the second middle node.\n",
    " \n",
    "#### Example 1:\n",
    "![pic](<https://assets.leetcode.com/uploads/2021/07/23/lc-midlist1.jpg>)\n",
    "- Input: head = [1,2,3,4,5]\n",
    "- Output: [3,4,5]\n",
    "- Explanation: The middle node of the list is node 3.\n",
    "\n",
    "#### Example 2:\n",
    "![pic](<https://assets.leetcode.com/uploads/2021/07/23/lc-midlist2.jpg>)\n",
    "- Input: head = [1,2,3,4,5,6]\n",
    "- Output: [4,5,6]\n",
    "- Explanation: Since the list has two middle nodes with values 3 and 4, we return the second one.\n",
    " \n",
    "#### Constraints:\n",
    "\n",
    "- The number of nodes in the list is in the range [1, 100].\n",
    "- 1 <= Node.val <= 100"
   ]
  },
  {
   "cell_type": "code",
   "execution_count": 53,
   "metadata": {},
   "outputs": [
    {
     "name": "stdout",
     "output_type": "stream",
     "text": [
      "5 5\n"
     ]
    }
   ],
   "source": [
    "# Definition for singly-linked list.\n",
    "class ListNode:\n",
    "    def __init__(self, val=0, next=None):\n",
    "        self.val = val\n",
    "        self.next = next\n",
    "\n",
    "list_head =  [1,2,3,4,5,6,7,8]\n",
    "globals()['node_%s'%0] = ListNode(list_head[0])\n",
    "for i in range(1,len(list_head)):\n",
    "    globals()['node_%s'%i] = ListNode(list_head[i])\n",
    "    globals()['node_%s'%(i-1)].next = globals()['node_%s'%i]\n",
    "#Testing code    \n",
    "head = node_0 \n",
    "current = head\n",
    "length = 1\n",
    "while current.next:\n",
    "    current = current.next\n",
    "    length += 1\n",
    "current = head\n",
    "middle = int(length/2+1)\n",
    "\n",
    "count = 1\n",
    "while count < middle:\n",
    "    current = current.next\n",
    "    count += 1\n",
    "\n",
    "print(middle,current.val)"
   ]
  },
  {
   "cell_type": "code",
   "execution_count": 34,
   "metadata": {},
   "outputs": [
    {
     "data": {
      "text/plain": [
       "4"
      ]
     },
     "execution_count": 34,
     "metadata": {},
     "output_type": "execute_result"
    }
   ],
   "source": [
    "# Definition for singly-linked list.\n",
    "# class ListNode:\n",
    "#     def __init__(self, val=0, next=None):\n",
    "#         self.val = val\n",
    "#         self.next = next\n",
    "class Solution:\n",
    "    def middleNode(self, head):\n",
    "        current = head\n",
    "        length = 1\n",
    "        while current.next:\n",
    "            current = current.next\n",
    "            length += 1\n",
    "        current = head\n",
    "        middle = int(length/2+1)\n",
    "        count = 1\n",
    "        while count < middle:\n",
    "            current = current.next\n",
    "            count+=1\n",
    "\n",
    "        return current\n",
    "ansNode = Solution()\n",
    "ansNode.middleNode(node_0).val"
   ]
  },
  {
   "cell_type": "markdown",
   "metadata": {},
   "source": [
    "Success Details \n",
    "- Runtime: 52 ms, faster than 9.74% of Python3 online submissions for Middle of the Linked List.\n",
    "- Memory Usage: 14.1 MB, less than 90.43% of Python3 online submissions for Middle of the Linked List."
   ]
  },
  {
   "cell_type": "code",
   "execution_count": 35,
   "metadata": {},
   "outputs": [
    {
     "data": {
      "text/plain": [
       "4"
      ]
     },
     "execution_count": 35,
     "metadata": {},
     "output_type": "execute_result"
    }
   ],
   "source": [
    "class Solution:\n",
    "    def middleNode(self, head):\n",
    "        single,double = head,head\n",
    "        while double.next:\n",
    "            single = single.next\n",
    "            double = double.next\n",
    "            if double.next: double = double.next\n",
    "            else: break\n",
    "        return single\n",
    "ansNode = Solution()\n",
    "ansNode.middleNode(node_0).val"
   ]
  },
  {
   "cell_type": "markdown",
   "metadata": {},
   "source": [
    "Success Details \n",
    "- Runtime: 32 ms, faster than 65.31% of Python3 online submissions for Middle of the Linked List.\n",
    "- Memory Usage: 14.1 MB, less than 71.86% of Python3 online submissions for Middle of the Linked List."
   ]
  },
  {
   "cell_type": "code",
   "execution_count": 54,
   "metadata": {
    "scrolled": false
   },
   "outputs": [
    {
     "data": {
      "text/plain": [
       "5"
      ]
     },
     "execution_count": 54,
     "metadata": {},
     "output_type": "execute_result"
    }
   ],
   "source": [
    "class Solution:\n",
    "    def middleNode(self, head):\n",
    "        single,double = head,head\n",
    "        while double.next:\n",
    "            single = single.next\n",
    "            if double.next.next:\n",
    "                double = double.next.next\n",
    "            else: break\n",
    "        return single\n",
    "ansNode = Solution()\n",
    "ansNode.middleNode(node_0).val"
   ]
  },
  {
   "cell_type": "markdown",
   "metadata": {},
   "source": [
    "Success Details \n",
    "- Runtime: 42 ms, faster than 21.45% of Python3 online submissions for Middle of the Linked List.\n",
    "- Memory Usage: 14.1 MB, less than 90.43% of Python3 online submissions for Middle of the Linked List."
   ]
  },
  {
   "cell_type": "markdown",
   "metadata": {},
   "source": [
    "## Week 37 - Sep 25, 2021"
   ]
  },
  {
   "cell_type": "markdown",
   "metadata": {},
   "source": [
    "### 237. Delete Node in a Linked List - Easy\n",
    "\n",
    "https://leetcode.com/problems/delete-node-in-a-linked-list/\n",
    "\n",
    "Write a function to delete a node in a singly-linked list. You will not be given access to the head of the list, instead you will be given access to the node to be deleted directly.\n",
    "\n",
    "It is guaranteed that the node to be deleted is not a tail node in the list.\n",
    "\n",
    "#### Example 1:\n",
    "![pic](<https://assets.leetcode.com/uploads/2020/09/01/node1.jpg>)\n",
    "- nput: head = [4,5,1,9], node = 5\n",
    "- Output: [4,1,9]\n",
    "- Explanation: You are given the second node with value 5, the linked list should become 4 -> 1 -> 9 after calling your function.\n",
    "\n",
    "#### Example 2:\n",
    "![pic](<https://assets.leetcode.com/uploads/2020/09/01/node2.jpg>)\n",
    "- Input: head = [4,5,1,9], node = 1\n",
    "- Output: [4,5,9]\n",
    "- Explanation: You are given the third node with value 1, the linked list should become 4 -> 5 -> 9 after calling your function.\n",
    "\n",
    "#### Example 3:\n",
    "- Input: head = [1,2,3,4], node = 3\n",
    "- Output: [1,2,4]\n",
    "\n",
    "#### Example 4:\n",
    "- Input: head = [0,1], node = 0\n",
    "- Output: [1]\n",
    "#### Example 5:\n",
    "- Input: head = [-3,5,-99], node = -3\n",
    "- Output: [5,-99]\n",
    " \n",
    "\n",
    "\n",
    "#### Constraints:\n",
    "- The number of the nodes in the given list is in the range [2, 1000].\n",
    "- -1000 <= Node.val <= 1000\n",
    "- The value of each node in the list is unique.\n",
    "- The node to be deleted is in the list and is not a tail node"
   ]
  },
  {
   "cell_type": "code",
   "execution_count": 25,
   "metadata": {},
   "outputs": [
    {
     "name": "stdout",
     "output_type": "stream",
     "text": [
      "1\n",
      "9\n"
     ]
    }
   ],
   "source": [
    "# Definition for singly-linked list.\n",
    "class ListNode:\n",
    "    def __init__(self, x):\n",
    "        self.val = x\n",
    "        self.next = None\n",
    "        #self.pre = None\n",
    "\n",
    "list_head =  [4,5,1,9]\n",
    "globals()['node_%s'%0] = ListNode(list_head[0])\n",
    "for i in range(1,len(list_head)):\n",
    "    globals()['node_%s'%i] = ListNode(list_head[i])\n",
    "    globals()['node_%s'%(i-1)].next = globals()['node_%s'%i]\n",
    "    #globals()['node_%s'%i].pre = globals()['node_%s'%(i-1)]\n",
    "#Testing code    \n",
    "#node_1.next.val, node_1.pre.val\n",
    "node = node_1\n",
    "node.val = node.next.val\n",
    "print(node.val)\n",
    "node.next = node.next.next\n",
    "print(node.next.val)\n"
   ]
  },
  {
   "cell_type": "code",
   "execution_count": 24,
   "metadata": {},
   "outputs": [],
   "source": [
    "# Definition for singly-linked list.\n",
    "# class ListNode:\n",
    "#     def __init__(self, x):\n",
    "#         self.val = x\n",
    "#         self.next = None\n",
    "\n",
    "class Solution:\n",
    "    def deleteNode(self, node):\n",
    "        \"\"\"\n",
    "        :type node: ListNode\n",
    "        :rtype: void Do not return anything, modify node in-place instead.\n",
    "        \"\"\"\n",
    "        node.val = node.next.val\n",
    "        node.next = node.next.next\n",
    "        "
   ]
  },
  {
   "cell_type": "markdown",
   "metadata": {},
   "source": [
    "Success Details \n",
    "- Runtime: 71 ms, faster than 5.22% of Python3 online submissions for Delete Node in a Linked List.\n",
    "- Memory Usage: 14.6 MB, less than 85.78% of Python3 online submissions for Delete Node in a Linked List"
   ]
  },
  {
   "cell_type": "markdown",
   "metadata": {},
   "source": [
    "## Week 38 - Oct 02, 2021"
   ]
  },
  {
   "cell_type": "markdown",
   "metadata": {},
   "source": [
    "### 206. Reverse Linked List - Easy\n",
    "\n",
    "https://leetcode.com/problems/reverse-linked-list/\n",
    "\n",
    "Given the head of a singly linked list, reverse the list, and return the reversed list.\n",
    "\n",
    "#### Example 1:\n",
    "![pic](<https://assets.leetcode.com/uploads/2021/02/19/rev1ex1.jpg>)\n",
    "- Input: head = `[1,2,3,4,5]`\n",
    "- Output: `[5,4,3,2,1]`\n",
    "\n",
    "#### Example 2:\n",
    "![pic](<https://assets.leetcode.com/uploads/2021/02/19/rev1ex2.jpg>)\n",
    "- Input: head = `[1,2]`\n",
    "- Output: `[2,1]`\n",
    "\n",
    "#### Example 3:\n",
    "- Input: head = `[]`\n",
    "- Output: `[]`\n",
    " \n",
    "#### Constraints:\n",
    "\n",
    "- The number of nodes in the list is the range `[0, 5000]`.\n",
    "- `-5000 <= Node.val <= 5000`\n",
    " \n",
    "\n",
    "#### Follow up: A linked list can be reversed either iteratively or recursively. Could you implement both?"
   ]
  },
  {
   "cell_type": "code",
   "execution_count": 61,
   "metadata": {},
   "outputs": [],
   "source": [
    "# Definition for singly-linked list.\n",
    "class ListNode:\n",
    "    def __init__(self, x):\n",
    "        self.val = x\n",
    "        self.next = None\n",
    "\n",
    "list_head =  [1,2,3,4,5]\n",
    "globals()['node_%s'%0] = ListNode(list_head[0])\n",
    "for i in range(1,len(list_head)):\n",
    "    globals()['node_%s'%i] = ListNode(list_head[i])\n",
    "    globals()['node_%s'%(i-1)].next = globals()['node_%s'%i]\n",
    "\n"
   ]
  },
  {
   "cell_type": "code",
   "execution_count": 59,
   "metadata": {},
   "outputs": [],
   "source": [
    "class Solution:\n",
    "    def reverseList(self, head):\n",
    "        current =  head\n",
    "        vals = []\n",
    "        while current:\n",
    "            vals.append(current.val)\n",
    "            current = current.next\n",
    "        current =  head\n",
    "        while current:\n",
    "            current.val = vals[-1]\n",
    "            vals.pop()\n",
    "            current = current.next\n",
    "        return head"
   ]
  },
  {
   "cell_type": "code",
   "execution_count": 62,
   "metadata": {},
   "outputs": [
    {
     "data": {
      "text/plain": [
       "5"
      ]
     },
     "execution_count": 62,
     "metadata": {},
     "output_type": "execute_result"
    }
   ],
   "source": [
    "ansNode = Solution()\n",
    "ansNode.reverseList(node_0).val"
   ]
  },
  {
   "cell_type": "markdown",
   "metadata": {},
   "source": [
    "Success Details \n",
    "- Runtime: 36 ms, faster than 72.56% of Python3 online submissions for Reverse Linked List.\n",
    "- Memory Usage: 15.6 MB, less than 44.68% of Python3 online submissions for Reverse Linked List."
   ]
  },
  {
   "cell_type": "code",
   "execution_count": null,
   "metadata": {},
   "outputs": [],
   "source": []
  },
  {
   "cell_type": "markdown",
   "metadata": {},
   "source": [
    "## Week 39 - Oct 09, 2021"
   ]
  },
  {
   "cell_type": "markdown",
   "metadata": {},
   "source": [
    "### 21. Merge Two Sorted Lists - Easy\n",
    "\n",
    "https://leetcode.com/problems/merge-two-sorted-lists/\n",
    "\n",
    "Merge two sorted linked lists and return it as a sorted list. The list should be made by splicing together the nodes of the first two lists.\n",
    "\n",
    "#### Example 1:\n",
    "![pic](<https://assets.leetcode.com/uploads/2020/10/03/merge_ex1.jpg>)\n",
    "- Input: l1 = [1,2,4], l2 = [1,3,4]\n",
    "- Output: [1,1,2,3,4,4]\n",
    "\n",
    "#### Example 2:\n",
    "- Input: l1 = [], l2 = []\n",
    "- Output: []\n",
    "\n",
    "#### Example 3:\n",
    "- Input: l1 = [], l2 = [0]\n",
    "- Output: [0]\n",
    "\n",
    "#### Constraints:\n",
    "- The number of nodes in both lists is in the range [0, 50].\n",
    "- -100 <= Node.val <= 100\n",
    "- Both l1 and l2 are sorted in non-decreasing order.\n",
    "\n",
    "Accepted 1,671,779 Submissions 2,880,908"
   ]
  },
  {
   "cell_type": "code",
   "execution_count": 1,
   "metadata": {},
   "outputs": [],
   "source": [
    "class ListNode:\n",
    "    def __init__(self, x):\n",
    "        self.val = x\n",
    "        self.next = None\n",
    "\n",
    "list_head =  [1,2,4]\n",
    "list_head_ =  [1,3,4]\n",
    "globals()['node_%s'%0] = ListNode(list_head[0])\n",
    "for i in range(1,len(list_head)):\n",
    "    globals()['node_%s'%i] = ListNode(list_head[i])\n",
    "    globals()['node_%s'%(i-1)].next = globals()['node_%s'%i]\n",
    "globals()['node_%s_'%0] = ListNode(list_head[0])\n",
    "for i in range(1,len(list_head_)):\n",
    "    globals()['node_%s_'%i] = ListNode(list_head_[i])\n",
    "    globals()['node_%s_'%(i-1)].next = globals()['node_%s_'%i]"
   ]
  },
  {
   "cell_type": "code",
   "execution_count": 15,
   "metadata": {},
   "outputs": [],
   "source": [
    "head,head_ = node_0,node_0_\n",
    "#if head.val<=head_.val: combined = head\n",
    "#else:  current = head_\n",
    "curr, curr_ = head,head_\n",
    "current = ListNode(None)\n",
    "ans_ = current\n",
    "while curr  and curr_:\n",
    "    if curr.val <= curr_.val: \n",
    "        current.next = ListNode(curr.val)\n",
    "        curr = curr.next\n",
    "    else: \n",
    "        current.next =  ListNode(curr_.val)\n",
    "        curr_ = curr_.next\n",
    "    current = current.next\n",
    "if curr:\n",
    "    while curr:\n",
    "        current.next = ListNode(curr.val)\n",
    "        curr = curr.next\n",
    "        current = current.next\n",
    "else: \n",
    "    while curr_:\n",
    "        current.next = ListNode(curr_.val)\n",
    "        curr_ = curr_.next\n",
    "        current = current.next\n",
    "ans = ans_.next   "
   ]
  },
  {
   "cell_type": "code",
   "execution_count": 26,
   "metadata": {},
   "outputs": [],
   "source": [
    "# Definition for singly-linked list.\n",
    "# class ListNode:\n",
    "#     def __init__(self, val=0, next=None):\n",
    "#         self.val = val\n",
    "#         self.next = next\n",
    "class Solution:\n",
    "    def mergeTwoLists(self, l1, l2):\n",
    "        curr, curr_ = l1,l2\n",
    "        current = ListNode(None)\n",
    "        ans_ = current\n",
    "        while curr  and curr_:\n",
    "            if curr.val <= curr_.val: \n",
    "                current.next = ListNode(curr.val)\n",
    "                curr = curr.next\n",
    "            else: \n",
    "                current.next =  ListNode(curr_.val)\n",
    "                curr_ = curr_.next\n",
    "            current = current.next\n",
    "        if curr:\n",
    "            while curr:\n",
    "                current.next = ListNode(curr.val)\n",
    "                curr = curr.next\n",
    "                current = current.next\n",
    "        else: \n",
    "            while curr_:\n",
    "                current.next = ListNode(curr_.val)\n",
    "                curr_ = curr_.next\n",
    "                current = current.next\n",
    "        ans = ans_.next   \n",
    "        return ans"
   ]
  },
  {
   "cell_type": "code",
   "execution_count": 24,
   "metadata": {},
   "outputs": [
    {
     "name": "stdout",
     "output_type": "stream",
     "text": [
      "1, 1, 2, 3, 4, 4, "
     ]
    }
   ],
   "source": [
    "def print_nodes(head):\n",
    "    current = head\n",
    "    while current:\n",
    "        print(current.val, end = ', ')\n",
    "        current = current.next\n",
    "print_nodes(ans)"
   ]
  },
  {
   "cell_type": "code",
   "execution_count": 28,
   "metadata": {},
   "outputs": [
    {
     "name": "stdout",
     "output_type": "stream",
     "text": [
      "1, 1, 2, 3, 4, 4, Wall time: 999 µs\n"
     ]
    }
   ],
   "source": [
    "%%time\n",
    "ansNode = Solution()\n",
    "ans = ansNode.mergeTwoLists(node_0,node_0_)\n",
    "print_nodes(ans)"
   ]
  },
  {
   "cell_type": "markdown",
   "metadata": {},
   "source": [
    "Success Details \n",
    "- Runtime: 62 ms, faster than 16.52% of Python3 online submissions for Merge Two Sorted Lists.\n",
    "- Memory Usage: 14.1 MB, less than 95.93% of Python3 online submissions for Merge Two Sorted Lists."
   ]
  },
  {
   "cell_type": "code",
   "execution_count": 29,
   "metadata": {},
   "outputs": [],
   "source": [
    "class Solution:\n",
    "    def mergeTwoLists(self, l1, l2):\n",
    "        curr, curr_ = l1,l2\n",
    "        current = ListNode(None)\n",
    "        ans_ = current\n",
    "        while curr  and curr_:\n",
    "            if curr.val <= curr_.val: \n",
    "                current.next = ListNode(curr.val)\n",
    "                curr = curr.next\n",
    "            else: \n",
    "                current.next =  ListNode(curr_.val)\n",
    "                curr_ = curr_.next\n",
    "            current = current.next\n",
    "        while curr:\n",
    "            current.next = ListNode(curr.val)\n",
    "            curr = curr.next\n",
    "            current = current.next\n",
    "        while curr_:\n",
    "            current.next = ListNode(curr_.val)\n",
    "            curr_ = curr_.next\n",
    "            current = current.next\n",
    "        ans = ans_.next   \n",
    "        return ans"
   ]
  },
  {
   "cell_type": "code",
   "execution_count": 30,
   "metadata": {},
   "outputs": [
    {
     "name": "stdout",
     "output_type": "stream",
     "text": [
      "1, 1, 2, 3, 4, 4, Wall time: 0 ns\n"
     ]
    }
   ],
   "source": [
    "%%time\n",
    "ansNode = Solution()\n",
    "ans = ansNode.mergeTwoLists(node_0,node_0_)\n",
    "print_nodes(ans)"
   ]
  },
  {
   "cell_type": "markdown",
   "metadata": {},
   "source": [
    "Success Details \n",
    "- Runtime: 36 ms, faster than 83.75% of Python3 online submissions for Merge Two Sorted Lists.\n",
    "- Memory Usage: 14.2 MB, less than 61.93% of Python3 online submissions for Merge Two Sorted Lists."
   ]
  },
  {
   "cell_type": "markdown",
   "metadata": {},
   "source": [
    "## Week 40 - Oct 16, 2021"
   ]
  },
  {
   "cell_type": "markdown",
   "metadata": {},
   "source": [
    "### 83. Remove Duplicates from Sorted List\n",
    "\n",
    "https://leetcode.com/problems/remove-duplicates-from-sorted-list/\n",
    "\n",
    "Given the head of a sorted linked list, delete all duplicates such that each element appears only once. Return the linked list sorted as well.\n",
    "\n",
    "#### Example 1:\n",
    "![pic](<https://assets.leetcode.com/uploads/2021/01/04/list1.jpg>)\n",
    "- Input: head = [1,1,2]\n",
    "- Output: [1,2]\n",
    "\n",
    "#### Example 2:\n",
    "![pic](<https://assets.leetcode.com/uploads/2021/01/04/list2.jpg>)\n",
    "- Input: head = [1,1,2,3,3]\n",
    "- Output: [1,2,3]\n",
    "\n",
    "#### Constraints:\n",
    "- The number of nodes in the list is in the range `[0, 300]`.\n",
    "- `-100 <= Node.val <= 100`\n",
    "- The list is guaranteed to be sorted in ascending order."
   ]
  },
  {
   "cell_type": "code",
   "execution_count": 7,
   "metadata": {},
   "outputs": [],
   "source": [
    "class ListNode:\n",
    "    def __init__(self, x):\n",
    "        self.val = x\n",
    "        self.next = None\n",
    "\n",
    "list_head =  [1,1,1,2,2,2,3,3,3,3]\n",
    "globals()['node_%s'%0] = ListNode(list_head[0])\n",
    "for i in range(1,len(list_head)):\n",
    "    globals()['node_%s'%i] = ListNode(list_head[i])\n",
    "    globals()['node_%s'%(i-1)].next = globals()['node_%s'%i]"
   ]
  },
  {
   "cell_type": "code",
   "execution_count": 2,
   "metadata": {},
   "outputs": [],
   "source": [
    "# Definition for singly-linked list.\n",
    "# class ListNode:\n",
    "#     def __init__(self, val=0, next=None):\n",
    "#         self.val = val\n",
    "#         self.next = next\n",
    "class Solution:\n",
    "    def deleteDuplicates(self, head):\n",
    "        current, curr = head,head\n",
    "        ans = current\n",
    "        if ans == None: return ans\n",
    "        while curr.next:\n",
    "            if curr.val < curr.next.val:\n",
    "                current.next = curr.next\n",
    "                current = current.next\n",
    "            curr = curr.next\n",
    "        current.next =  None\n",
    "        return ans"
   ]
  },
  {
   "cell_type": "markdown",
   "metadata": {},
   "source": [
    "Success Details \n",
    "- Runtime: 59 ms, faster than 29.38% of Python3 online submissions for Remove Duplicates from Sorted List.\n",
    "- Memory Usage: 14.4 MB, less than 23.94% of Python3 online submissions for Remove Duplicates from Sorted List."
   ]
  },
  {
   "cell_type": "code",
   "execution_count": 4,
   "metadata": {},
   "outputs": [],
   "source": [
    "def print_nodes(head):\n",
    "    current = head\n",
    "    while current:\n",
    "        print(current.val, end = ', ')\n",
    "        current = current.next"
   ]
  },
  {
   "cell_type": "code",
   "execution_count": 5,
   "metadata": {},
   "outputs": [
    {
     "name": "stdout",
     "output_type": "stream",
     "text": [
      "1, 2, 3, Wall time: 1 ms\n"
     ]
    }
   ],
   "source": [
    "%%time\n",
    "ansNode = Solution()\n",
    "ans = ansNode.deleteDuplicates(node_0)\n",
    "print_nodes(ans)"
   ]
  },
  {
   "cell_type": "markdown",
   "metadata": {},
   "source": [
    "## Week 41 - Oct 23, 2021"
   ]
  },
  {
   "cell_type": "markdown",
   "metadata": {},
   "source": [
    "### 160. Intersection of Two Linked Lists\n",
    "\n",
    "https://leetcode.com/problems/intersection-of-two-linked-lists/\n",
    "\n",
    "Given the heads of two singly linked-lists headA and headB, return the node at which the two lists intersect. If the two linked lists have no intersection at all, return null.\n",
    "\n",
    "For example, the following two linked lists begin to intersect at node `c1`:\n",
    "![pic](<https://assets.leetcode.com/uploads/2021/03/05/160_statement.png>)\n",
    "\n",
    "The test cases are generated such that there are no cycles anywhere in the entire linked structure.\n",
    "\n",
    "Note that the linked lists must retain their original structure after the function returns.\n",
    "\n",
    "__Custom Judge:__\n",
    "\n",
    "The inputs to the judge are given as follows (your program is not given these inputs):\n",
    "\n",
    "- `intersectVal` - The value of the node where the intersection occurs. This is 0 if there is no intersected node.\n",
    "- `listA` - The first linked list.\n",
    "- `listB` - The second linked list.\n",
    "- `skipA` - The number of nodes to skip ahead in listA (starting from the head) to get to the intersected node.\n",
    "- `skipB` - The number of nodes to skip ahead in listB (starting from the head) to get to the intersected node.\n",
    "- The judge will then create the linked structure based on these inputs and pass the two heads, headA and headB to your program. If you correctly return the intersected node, then your solution will be accepted.\n",
    "\n",
    "#### Example 1:\n",
    "![pic](<https://assets.leetcode.com/uploads/2021/03/05/160_example_1_1.png>)\n",
    "- Input: intersectVal = 8, listA = [4,1,8,4,5], listB = [5,6,1,8,4,5], skipA = 2, skipB = 3\n",
    "- Output: Intersected at '8'\n",
    "- Explanation: The intersected node's value is 8 (note that this must not be 0 if the two lists intersect).\n",
    "From the head of A, it reads as [4,1,8,4,5]. From the head of B, it reads as [5,6,1,8,4,5]. There are 2 nodes before the intersected node in A; There are 3 nodes before the intersected node in B.\n",
    "\n",
    "#### Example 2:\n",
    "![pic](<https://assets.leetcode.com/uploads/2021/03/05/160_example_2.png>)\n",
    "- Input: intersectVal = 2, listA = [1,9,1,2,4], listB = [3,2,4], skipA = 3, skipB = 1\n",
    "- Output: Intersected at '2'\n",
    "- Explanation: The intersected node's value is 2 (note that this must not be 0 if the two lists intersect).\n",
    "From the head of A, it reads as [1,9,1,2,4]. From the head of B, it reads as [3,2,4]. There are 3 nodes before the intersected node in A; There are 1 node before the intersected node in B.\n",
    "\n",
    "#### Example 3:\n",
    "![pic](<https://assets.leetcode.com/uploads/2021/03/05/160_example_3.png>)\n",
    "- Input: intersectVal = 0, listA = [2,6,4], listB = [1,5], skipA = 3, skipB = 2\n",
    "- Output: No intersection\n",
    "- Explanation: From the head of A, it reads as [2,6,4]. From the head of B, it reads as [1,5]. Since the two lists do not intersect, intersectVal must be 0, while skipA and skipB can be arbitrary values.\n",
    "\n",
    "Explanation: The two lists do not intersect, so return null.\n",
    "\n",
    "#### Constraints:\n",
    "- The number of nodes of listA is in the m.\n",
    "- The number of nodes of listB is in the n.\n",
    "- 0 <= m, n <= 3 * 104\n",
    "- 1 <= Node.val <= 105\n",
    "- 0 <= skipA <= m\n",
    "- 0 <= skipB <= n\n",
    "- intersectVal is 0 if listA and listB do not intersect.\n",
    "- intersectVal == listA[skipA] == listB[skipB] if listA and listB intersect.\n",
    " \n",
    "\n",
    "#### Follow up: Could you write a solution that runs in O(n) time and use only O(1) memory?"
   ]
  },
  {
   "cell_type": "code",
   "execution_count": 24,
   "metadata": {},
   "outputs": [
    {
     "name": "stdout",
     "output_type": "stream",
     "text": [
      "5, 6, 1, 8, 4, 5, "
     ]
    }
   ],
   "source": [
    "class ListNode:\n",
    "    def __init__(self, x):\n",
    "        self.val = x\n",
    "        self.next = None\n",
    "def print_nodes(head):\n",
    "    current = head\n",
    "    while current:\n",
    "        print(current.val, end = ', ')\n",
    "        current = current.next\n",
    "skipA = 2\n",
    "list_A =  [4,1,8,4,5]\n",
    "globals()['nodeA_%s'%0] = ListNode(list_A[0])\n",
    "for i in range(1,len(list_A)):\n",
    "    globals()['nodeA_%s'%i] = ListNode(list_A[i])\n",
    "    globals()['nodeA_%s'%(i-1)].next = globals()['nodeA_%s'%i]\n",
    "\n",
    "list_B =  [5,6,1]\n",
    "globals()['nodeB_%s'%0] = ListNode(list_B[0])\n",
    "for i in range(1,len(list_B)):\n",
    "    globals()['nodeB_%s'%i] = ListNode(list_B[i])\n",
    "    globals()['nodeB_%s'%(i-1)].next = globals()['nodeB_%s'%i]\n",
    "globals()['nodeB_%s'%(len(list_B)-1)].next  =  globals()['nodeA_%s'%(skipA)]\n",
    "headA, headB = nodeA_0, nodeB_0\n",
    "print_nodes(headB)"
   ]
  },
  {
   "cell_type": "code",
   "execution_count": 27,
   "metadata": {},
   "outputs": [],
   "source": [
    "# Definition for singly-linked list.\n",
    "# class ListNode:\n",
    "#     def __init__(self, x):\n",
    "#         self.val = x\n",
    "#         self.next = None\n",
    "\n",
    "class Solution:\n",
    "    def getIntersectionNode(self, headA, headB):\n",
    "        def count_nodes(head):\n",
    "            current,count = head,0\n",
    "            while current:\n",
    "                count += 1\n",
    "                current = current.next\n",
    "            return count\n",
    "        lenA = count_nodes(headA)\n",
    "        lenB = count_nodes(headB)\n",
    "        diff = abs(lenA - lenB)\n",
    "        if diff > 0:\n",
    "            if lenA > lenB: \n",
    "                while diff > 0: \n",
    "                    headA = headA.next\n",
    "                    diff -= 1\n",
    "            else : \n",
    "                while diff > 0: \n",
    "                    headB = headB.next\n",
    "                    diff -= 1\n",
    "        while headA and headB:\n",
    "            if headA == headB: \n",
    "                return headA\n",
    "            headA = headA.next\n",
    "            headB = headB.next\n",
    "        return None"
   ]
  },
  {
   "cell_type": "code",
   "execution_count": 28,
   "metadata": {},
   "outputs": [
    {
     "name": "stdout",
     "output_type": "stream",
     "text": [
      "8, 4, 5, Wall time: 0 ns\n"
     ]
    }
   ],
   "source": [
    "%%time\n",
    "ansNode = Solution()\n",
    "headA, headB = nodeA_0, nodeB_0\n",
    "ans = ansNode.getIntersectionNode(headA,headB)\n",
    "print_nodes(ans)"
   ]
  },
  {
   "cell_type": "markdown",
   "metadata": {},
   "source": [
    "Success Details \n",
    "- Runtime: 160 ms, faster than 83.80% of Python3 online submissions for Intersection of Two Linked Lists.\n",
    "- Memory Usage: 29.3 MB, less than 94.93% of Python3 online submissions for Intersection of Two Linked Lists."
   ]
  },
  {
   "cell_type": "markdown",
   "metadata": {},
   "source": [
    "## Week 42 - Oct 30, 2021"
   ]
  },
  {
   "cell_type": "markdown",
   "metadata": {},
   "source": [
    "### 234. Palindrome Linked List - Easy\n",
    "\n",
    "https://leetcode.com/problems/palindrome-linked-list/\n",
    "\n",
    "Given the head of a singly linked list, return true if it is a palindrome.\n",
    "\n",
    "#### Example 1:\n",
    "![pic](<https://assets.leetcode.com/uploads/2021/03/03/pal1linked-list.jpg>)\n",
    "- Input: head = [1,2,2,1]\n",
    "- Output: true\n",
    "\n",
    "#### Example 2:\n",
    "![pic](<https://assets.leetcode.com/uploads/2021/03/03/pal2linked-list.jpg>)\n",
    "- Input: head = [1,2]\n",
    "- Output: false\n",
    "\n",
    "#### Constraints:\n",
    "- The number of nodes in the list is in the range [1, 105].\n",
    "- 0 <= Node.val <= 9\n",
    " \n",
    "\n",
    "#### Follow up: Could you do it in O(n) time and O(1) space?"
   ]
  },
  {
   "cell_type": "code",
   "execution_count": 46,
   "metadata": {},
   "outputs": [
    {
     "data": {
      "text/plain": [
       "True"
      ]
     },
     "execution_count": 46,
     "metadata": {},
     "output_type": "execute_result"
    }
   ],
   "source": [
    "class ListNode:\n",
    "    def __init__(self, x):\n",
    "        self.val = x\n",
    "        self.next = None\n",
    "list_head =  [1,2,2,1]\n",
    "globals()['node_%s'%0] = ListNode(list_head[0])\n",
    "for i in range(1,len(list_head)):\n",
    "    globals()['node_%s'%i] = ListNode(list_head[i])\n",
    "    globals()['node_%s'%(i-1)].next = globals()['node_%s'%i]    \n",
    "current =  node_0\n",
    "def get_list(head):\n",
    "    vals = []\n",
    "    current = head\n",
    "    while current:\n",
    "        vals.append(current.val)\n",
    "        current = current.next\n",
    "    return vals\n",
    "vals = get_list(node_0)\n",
    "vals[::-1] == vals"
   ]
  },
  {
   "cell_type": "code",
   "execution_count": 43,
   "metadata": {},
   "outputs": [],
   "source": [
    "# Definition for singly-linked list.\n",
    "# class ListNode:\n",
    "#     def __init__(self, val=0, next=None):\n",
    "#         self.val = val\n",
    "#         self.next = next\n",
    "class Solution:\n",
    "    def isPalindrome(self, head):\n",
    "        def get_list(head):\n",
    "            vals = []\n",
    "            current = head\n",
    "            while current:\n",
    "                vals.append(current.val)\n",
    "                current = current.next\n",
    "            return vals\n",
    "        vals = get_list(head)\n",
    "        return vals[::-1] == vals"
   ]
  },
  {
   "cell_type": "code",
   "execution_count": 44,
   "metadata": {},
   "outputs": [
    {
     "name": "stdout",
     "output_type": "stream",
     "text": [
      "Wall time: 0 ns\n"
     ]
    },
    {
     "data": {
      "text/plain": [
       "True"
      ]
     },
     "execution_count": 44,
     "metadata": {},
     "output_type": "execute_result"
    }
   ],
   "source": [
    "%%time\n",
    "ansNode = Solution()\n",
    "ansNode.isPalindrome(node_0)"
   ]
  },
  {
   "cell_type": "markdown",
   "metadata": {},
   "source": [
    "Success Details \n",
    "- Runtime: 792 ms, faster than 78.87% of Python3 online submissions for Palindrome Linked List.\n",
    "- Memory Usage: 47.1 MB, less than 43.88% of Python3 online submissions for Palindrome Linked List."
   ]
  },
  {
   "cell_type": "markdown",
   "metadata": {},
   "source": [
    "## Week 43 - Nov 06, 2021"
   ]
  },
  {
   "cell_type": "markdown",
   "metadata": {},
   "source": [
    "### 141. Linked List Cycle - Easy\n",
    "\n",
    "https://leetcode.com/problems/linked-list-cycle/\n",
    "\n",
    "Given head, the head of a linked list, determine if the linked list has a cycle in it.\n",
    "\n",
    "There is a cycle in a linked list if there is some node in the list that can be reached again by continuously following the next pointer. Internally, pos is used to denote the index of the node that tail's next pointer is connected to. Note that pos is not passed as a parameter.\n",
    "\n",
    "Return true if there is a cycle in the linked list. Otherwise, return false.\n",
    "\n",
    "#### Example 1:\n",
    "![pic](<https://assets.leetcode.com/uploads/2018/12/07/circularlinkedlist.png>)\n",
    "- Input: head = [3,2,0,-4], pos = 1\n",
    "- Output: true\n",
    "- Explanation: There is a cycle in the linked list, where the tail connects to the 1st node (0-indexed).\n",
    "\n",
    "#### Example 2:\n",
    "![pic](<https://assets.leetcode.com/uploads/2018/12/07/circularlinkedlist_test2.png>)\n",
    "- Input: head = [1,2], pos = 0\n",
    "- Output: true\n",
    "- Explanation: There is a cycle in the linked list, where the tail connects to the 0th node.\n",
    "\n",
    "#### Example 3:\n",
    "![pic](<https://assets.leetcode.com/uploads/2018/12/07/circularlinkedlist_test3.png>)\n",
    "- Input: head = [1], pos = -1\n",
    "- Output: false\n",
    "- Explanation: There is no cycle in the linked list.\n",
    " \n",
    "\n",
    "#### Constraints:\n",
    "- The number of the nodes in the list is in the range [0, 104].\n",
    "- -105 <= Node.val <= 105\n",
    "- pos is -1 or a valid index in the linked-list.\n",
    " \n",
    "\n",
    "#### Follow up: Can you solve it using O(1) (i.e. constant) memory?"
   ]
  },
  {
   "cell_type": "code",
   "execution_count": 1,
   "metadata": {},
   "outputs": [],
   "source": [
    "class ListNode:\n",
    "    def __init__(self, x):\n",
    "        self.val = x\n",
    "        self.next = None\n",
    "list_head =  [3,2,0,-4]\n",
    "globals()['node_%s'%0] = ListNode(list_head[0])\n",
    "for i in range(1,len(list_head)):\n",
    "    globals()['node_%s'%i] = ListNode(list_head[i])\n",
    "    globals()['node_%s'%(i-1)].next = globals()['node_%s'%i]   \n",
    "node_3.next = node_1\n",
    "id(node_3),id(node_3.next.next.next),node_3"
   ]
  },
  {
   "cell_type": "code",
   "execution_count": 16,
   "metadata": {
    "scrolled": true
   },
   "outputs": [
    {
     "name": "stdout",
     "output_type": "stream",
     "text": [
      "True\n",
      "False\n"
     ]
    }
   ],
   "source": [
    "current = node_0\n",
    "existing = []\n",
    "while current:\n",
    "    if id(current) not in existing:\n",
    "        existing.append(id(current))\n",
    "    else: \n",
    "        print('True')\n",
    "        break\n",
    "    current = current.next\n",
    "print('False')"
   ]
  },
  {
   "cell_type": "code",
   "execution_count": 22,
   "metadata": {},
   "outputs": [],
   "source": [
    "# Definition for singly-linked list.\n",
    "# class ListNode:\n",
    "#     def __init__(self, x):\n",
    "#         self.val = x\n",
    "#         self.next = None\n",
    "\n",
    "class Solution:\n",
    "    def hasCycle(self, head):\n",
    "        existing = []\n",
    "        current = head\n",
    "        while current:\n",
    "            if id(current) not in existing:\n",
    "                existing.append(id(current))\n",
    "            else: \n",
    "                return True\n",
    "            current = current.next\n",
    "        return False"
   ]
  },
  {
   "cell_type": "code",
   "execution_count": 23,
   "metadata": {},
   "outputs": [
    {
     "name": "stdout",
     "output_type": "stream",
     "text": [
      "Wall time: 0 ns\n"
     ]
    },
    {
     "data": {
      "text/plain": [
       "True"
      ]
     },
     "execution_count": 23,
     "metadata": {},
     "output_type": "execute_result"
    }
   ],
   "source": [
    "%%time\n",
    "ansNode = Solution()\n",
    "ansNode.hasCycle(node_0)"
   ]
  },
  {
   "cell_type": "markdown",
   "metadata": {},
   "source": [
    "Success Details \n",
    "- Runtime: 1507 ms, faster than 5.06% of Python3 online submissions for Linked List Cycle.\n",
    "- Memory Usage: 17.5 MB, less than 92.90% of Python3 online submissions for Linked List Cycle."
   ]
  },
  {
   "cell_type": "code",
   "execution_count": 24,
   "metadata": {},
   "outputs": [
    {
     "data": {
      "text/plain": [
       "True"
      ]
     },
     "execution_count": 24,
     "metadata": {},
     "output_type": "execute_result"
    }
   ],
   "source": [
    "class Solution:\n",
    "    def hasCycle(self, head: ListNode) -> bool:\n",
    "        slow, fast = head,head\n",
    "        while fast and fast.next:\n",
    "            slow = slow.next\n",
    "            fast = fast.next.next\n",
    "            if slow == fast: return True\n",
    "        return False\n",
    "ansNode = Solution()\n",
    "ansNode.hasCycle(node_0)"
   ]
  },
  {
   "cell_type": "markdown",
   "metadata": {},
   "source": [
    "Success Details \n",
    "- Runtime: 62 ms, faster than 31.83% of Python3 online submissions for Linked List Cycle.\n",
    "- Memory Usage: 17.5 MB, less than 92.90% of Python3 online submissions for Linked List Cycle."
   ]
  },
  {
   "cell_type": "code",
   "execution_count": 25,
   "metadata": {},
   "outputs": [
    {
     "data": {
      "text/plain": [
       "True"
      ]
     },
     "execution_count": 25,
     "metadata": {},
     "output_type": "execute_result"
    }
   ],
   "source": [
    "class Solution(object):\n",
    "    def hasCycle(self, head):\n",
    "        while head and head.val != None: \n",
    "            head.val, head = None, head.next\n",
    "        return head != None\n",
    "ansNode = Solution()\n",
    "ansNode.hasCycle(node_0)"
   ]
  },
  {
   "cell_type": "markdown",
   "metadata": {},
   "source": [
    "Success Details \n",
    "- Runtime: 44 ms, faster than 98.67% of Python3 online submissions for Linked List Cycle.\n",
    "- Memory Usage: 17.2 MB, less than 98.88% of Python3 online submissions for Linked List Cycle."
   ]
  },
  {
   "cell_type": "markdown",
   "metadata": {},
   "source": [
    "## Week 44 - Nov 13, 2021"
   ]
  },
  {
   "cell_type": "markdown",
   "metadata": {},
   "source": [
    "### 203. Remove Linked List Elements - Easy\n",
    "\n",
    "https://leetcode.com/problems/remove-linked-list-elements/\n",
    "\n",
    "Given the head of a linked list and an integer val, remove all the nodes of the linked list that has Node.val == val, and return the new head.\n",
    "\n",
    "#### Example 1:\n",
    "![pic](<https://assets.leetcode.com/uploads/2021/03/06/removelinked-list.jpg>)\n",
    "- Input: head = [1,2,6,3,4,5,6], val = 6\n",
    "- Output: [1,2,3,4,5]\n",
    "\n",
    "#### Example 2:\n",
    "- Input: head = [], val = 1\n",
    "- Output: []\n",
    "\n",
    "#### Example 3:\n",
    "- Input: head = [7,7,7,7], val = 7\n",
    "- Output: []\n",
    " \n",
    "\n",
    "#### Constraints:\n",
    "- The number of nodes in the list is in the range [0, 104].\n",
    "- 1 <= Node.val <= 50\n",
    "- 0 <= val <= 50\n"
   ]
  },
  {
   "cell_type": "code",
   "execution_count": 102,
   "metadata": {},
   "outputs": [
    {
     "name": "stdout",
     "output_type": "stream",
     "text": [
      "1, 2, "
     ]
    }
   ],
   "source": [
    "def print_nodes(head):\n",
    "    current = head\n",
    "    while current:\n",
    "        print(current.val, end = ', ')\n",
    "        current = current.next\n",
    "class ListNode:\n",
    "    def __init__(self, x):\n",
    "        self.val = x\n",
    "        self.next = None\n",
    "list_head =   [1,2]\n",
    "globals()['node_%s'%0] = ListNode(list_head[0])\n",
    "for i in range(1,len(list_head)):\n",
    "    globals()['node_%s'%i] = ListNode(list_head[i])\n",
    "    globals()['node_%s'%(i-1)].next = globals()['node_%s'%i]  \n",
    "print_nodes(node_0)"
   ]
  },
  {
   "cell_type": "code",
   "execution_count": 103,
   "metadata": {},
   "outputs": [
    {
     "name": "stdout",
     "output_type": "stream",
     "text": [
      "2, "
     ]
    }
   ],
   "source": [
    "class Solution:\n",
    "    def removeElements(self, head, val):\n",
    "        current = head\n",
    "        if head == None: return None\n",
    "        while current.next:\n",
    "            if current.next.val == val:\n",
    "                current.next = current.next.next\n",
    "            else: current = current.next\n",
    "        if current.val == val: current = None     \n",
    "        if head.val == val: head = head.next \n",
    "        return head\n",
    "ansNode = Solution()\n",
    "result = ansNode.removeElements(node_0,1)\n",
    "print_nodes(result)"
   ]
  },
  {
   "cell_type": "markdown",
   "metadata": {},
   "source": [
    "Success Details \n",
    "- Runtime: 64 ms, faster than 88.77% of Python3 online submissions for Remove Linked List Elements.\n",
    "- Memory Usage: 17 MB, less than 90.25% of Python3 online submissions for Remove Linked List Elements."
   ]
  },
  {
   "cell_type": "markdown",
   "metadata": {},
   "source": [
    "## Week 45 - Nov 20, 2021"
   ]
  },
  {
   "cell_type": "markdown",
   "metadata": {},
   "source": [
    "### 1669. Merge In Between Linked Lists - Medium\n",
    "\n",
    "https://leetcode.com/problems/merge-in-between-linked-lists/\n",
    "\n",
    "You are given two linked lists: list1 and list2 of sizes n and m respectively.\n",
    "\n",
    "Remove list1's nodes from the ath node to the bth node, and put list2 in their place.\n",
    "\n",
    "The blue edges and nodes in the following figure incidate the result:\n",
    "![pic](<https://assets.leetcode.com/uploads/2020/11/05/fig1.png>)\n",
    "Build the result list and return its head.\n",
    "\n",
    " \n",
    "\n",
    "#### Example 1:\n",
    "![pic](<https://assets.leetcode.com/uploads/2020/11/05/merge_linked_list_ex1.png>)\n",
    "- Input: list1 = [0,1,2,3,4,5], a = 3, b = 4, list2 = [1000000,1000001,1000002]\n",
    "- Output: [0,1,2,1000000,1000001,1000002,5]\n",
    "- Explanation: We remove the nodes 3 and 4 and put the entire list2 in their place. The blue edges and nodes in the above figure indicate the result.\n",
    "\n",
    "#### Example 2:\n",
    "![pic](<https://assets.leetcode.com/uploads/2020/11/05/merge_linked_list_ex2.png>)\n",
    "- Input: list1 = [0,1,2,3,4,5,6], a = 2, b = 5, list2 = [1000000,1000001,1000002,1000003,1000004]\n",
    "- Output: [0,1,1000000,1000001,1000002,1000003,1000004,6]\n",
    "- Explanation: The blue edges and nodes in the above figure indicate the result.\n",
    " \n",
    "#### Constraints:\n",
    "\n",
    "- 3 <= list1.length <= 104\n",
    "- 1 <= a <= b < list1.length - 1\n",
    "- 1 <= list2.length <= 104"
   ]
  },
  {
   "cell_type": "code",
   "execution_count": 49,
   "metadata": {},
   "outputs": [],
   "source": [
    "def print_nodes(head):\n",
    "    current = head\n",
    "    while current:\n",
    "        print(current.val, end = ', ')\n",
    "        current = current.next\n",
    "class ListNode:\n",
    "    def __init__(self, x):\n",
    "        self.val = x\n",
    "        self.next = None\n",
    "\n",
    "list1 =    [0,1,2,3,4,5]\n",
    "a,b = 3,4\n",
    "globals()['node_%s'%0] = ListNode(list1[0])\n",
    "for i in range(1,len(list1)):\n",
    "    globals()['node_%s'%i] = ListNode(list1[i])\n",
    "    globals()['node_%s'%(i-1)].next = globals()['node_%s'%i]  \n",
    "    \n",
    "list2 = [1000000,1000001,1000002]\n",
    "globals()['node2_%s'%0] = ListNode(list2[0])\n",
    "for i in range(1,len(list2)):\n",
    "    globals()['node2_%s'%i] = ListNode(list2[i])\n",
    "    globals()['node2_%s'%(i-1)].next = globals()['node2_%s'%i] "
   ]
  },
  {
   "cell_type": "code",
   "execution_count": 45,
   "metadata": {},
   "outputs": [],
   "source": [
    "class Solution:\n",
    "    def mergeInBetween(self, list1, a, b, list2):\n",
    "        current = list1\n",
    "        index = 0\n",
    "        while current.next:\n",
    "            if index == a-1: \n",
    "                node_a = current\n",
    "            index +=1\n",
    "            current = current.next\n",
    "            if index == b+1: \n",
    "                node_b = current\n",
    "        current = list2\n",
    "        node_a.next = list2\n",
    "        while current.next:\n",
    "            current = current.next\n",
    "        current.next = node_b\n",
    "        return list1\n"
   ]
  },
  {
   "cell_type": "code",
   "execution_count": null,
   "metadata": {},
   "outputs": [],
   "source": []
  },
  {
   "cell_type": "markdown",
   "metadata": {},
   "source": [
    "Success Details \n",
    "- Runtime: 472 ms, faster than 30.52% of Python3 online submissions for Merge In Between Linked Lists.\n",
    "- Memory Usage: 20.1 MB, less than 86.85% of Python3 online submissions for Merge In Between Linked Lists.\n"
   ]
  },
  {
   "cell_type": "code",
   "execution_count": 50,
   "metadata": {},
   "outputs": [
    {
     "name": "stdout",
     "output_type": "stream",
     "text": [
      "0, 1, 2, 1000000, 1000001, 1000002, 5, "
     ]
    }
   ],
   "source": [
    "ansNode = Solution()\n",
    "result = ansNode.mergeInBetween(node_0,3,4,node2_0)\n",
    "print_nodes(result)"
   ]
  },
  {
   "cell_type": "code",
   "execution_count": 47,
   "metadata": {},
   "outputs": [],
   "source": [
    "class Solution:\n",
    "    def mergeInBetween(self, list1, a, b, list2):\n",
    "        current = list1\n",
    "        index = 0\n",
    "        while current.next:\n",
    "            if index == a-1: \n",
    "                node_a = current\n",
    "            index +=1\n",
    "            current = current.next\n",
    "            if index == b+1: \n",
    "                node_b = current\n",
    "                break\n",
    "        current = list2\n",
    "        node_a.next = list2\n",
    "        while current.next:\n",
    "            current = current.next\n",
    "        current.next = node_b\n",
    "        return list1\n"
   ]
  },
  {
   "cell_type": "markdown",
   "metadata": {},
   "source": [
    "Success Details \n",
    "- Runtime: 436 ms, faster than 88.53% of Python3 online submissions for Merge In Between Linked Lists.\n",
    "- Memory Usage: 20.1 MB, less than 62.06% of Python3 online submissions for Merge In Between Linked Lists."
   ]
  }
 ],
 "metadata": {
  "kernelspec": {
   "display_name": "Python 3",
   "language": "python",
   "name": "python3"
  },
  "language_info": {
   "codemirror_mode": {
    "name": "ipython",
    "version": 3
   },
   "file_extension": ".py",
   "mimetype": "text/x-python",
   "name": "python",
   "nbconvert_exporter": "python",
   "pygments_lexer": "ipython3",
   "version": "3.7.5"
  }
 },
 "nbformat": 4,
 "nbformat_minor": 2
}

{
 "cells": [
  {
   "cell_type": "markdown",
   "metadata": {},
   "source": [
    "## Week 14 - Apr 3, 2021"
   ]
  },
  {
   "cell_type": "markdown",
   "metadata": {},
   "source": [
    "### 1502. Can Make Arithmetic Progression From Sequence - Easy\n",
    "https://leetcode.com/problems/can-make-arithmetic-progression-from-sequence/\n",
    "\n",
    "Given an array of numbers arr. A sequence of numbers is called an arithmetic progression if the difference between any two consecutive elements is the same.\n",
    "\n",
    "Return true if the array can be rearranged to form an arithmetic progression, otherwise, return false.\n",
    "\n",
    "#### Example 1:\n",
    "- Input: arr = [3,5,1]\n",
    "- Output: true\n",
    "- Explanation: We can reorder the elements as [1,3,5] or [5,3,1] with differences 2 and -2 respectively, between each consecutive elements.\n",
    "\n",
    "#### Example 2:\n",
    "- Input: arr = [1,2,4]\n",
    "- Output: false\n",
    "- Explanation: There is no way to reorder the elements to obtain an arithmetic progression.\n",
    " \n",
    "#### Constraints:\n",
    "- 2 <= arr.length <= 1000\n",
    "- -10^6 <= arr[i] <= 10^6"
   ]
  },
  {
   "cell_type": "code",
   "execution_count": 24,
   "metadata": {},
   "outputs": [
    {
     "data": {
      "text/plain": [
       "False"
      ]
     },
     "execution_count": 24,
     "metadata": {},
     "output_type": "execute_result"
    }
   ],
   "source": [
    "class Solution:\n",
    "    def canMakeArithmeticProgression(self, arr):\n",
    "        s_arr = sorted(arr)\n",
    "        gap = s_arr[1] -s_arr[0] \n",
    "        if len(arr) <=2: \n",
    "            return True\n",
    "        for i in range(2,len(arr)):\n",
    "            if s_arr[i]-s_arr[i-1] != gap:\n",
    "                return False\n",
    "        return True\n",
    "ans = Solution()\n",
    "ans.canMakeArithmeticProgression([-13,-17,-8,-10,-20,2,3,-19,2,-18,-5,7,-12,18,-17,12,-1])"
   ]
  },
  {
   "cell_type": "markdown",
   "metadata": {},
   "source": [
    "Success Details \n",
    "- Runtime: 32 ms, faster than 95.36% of Python3 online submissions for Can Make Arithmetic Progression From Sequence.\n",
    "- Memory Usage: 14.3 MB, less than 87.41% of Python3 online submissions for Can Make Arithmetic Progression From Sequence."
   ]
  },
  {
   "cell_type": "code",
   "execution_count": 25,
   "metadata": {},
   "outputs": [
    {
     "data": {
      "text/plain": [
       "False"
      ]
     },
     "execution_count": 25,
     "metadata": {},
     "output_type": "execute_result"
    }
   ],
   "source": [
    "class Solution:\n",
    "    def canMakeArithmeticProgression(self, arr):\n",
    "        arr.sort()\n",
    "        return len(set(a - b for a, b in zip(arr, arr[1:]))) == 1\n",
    "ans = Solution()\n",
    "ans.canMakeArithmeticProgression([-13,-17,-8,-10,-20,2,3,-19,2,-18,-5,7,-12,18,-17,12,-1])"
   ]
  },
  {
   "cell_type": "markdown",
   "metadata": {},
   "source": [
    "## Week 15 - Apr 10, 2021"
   ]
  },
  {
   "cell_type": "markdown",
   "metadata": {},
   "source": [
    "### 70. Climbing Stairs - Easy\n",
    "https://leetcode.com/problems/climbing-stairs/\n",
    "\n",
    "You are climbing a staircase. It takes n steps to reach the top.\n",
    "\n",
    "Each time you can either climb 1 or 2 steps. In how many distinct ways can you climb to the top?\n",
    "\n",
    "#### Example 1:\n",
    "- Input: n = 2\n",
    "- Output: 2\n",
    "- Explanation: There are two ways to climb to the top.\n",
    "    - 1. 1 step + 1 step\n",
    "    - 2. 2 steps\n",
    "\n",
    "#### Example 2:\n",
    "- Input: n = 3\n",
    "- Output: 3\n",
    "- Explanation: There are three ways to climb to the top.\n",
    "    - 1. 1 step + 1 step + 1 step\n",
    "    - 2. 1 step + 2 steps\n",
    "    - 3. 2 steps + 1 step\n",
    " \n",
    "#### Constraints:\n",
    "- 1 <= n <= 45"
   ]
  },
  {
   "cell_type": "markdown",
   "metadata": {},
   "source": [
    "dynamic programming\n",
    "- recursive\n",
    "- store\n",
    "- bottom up"
   ]
  },
  {
   "cell_type": "markdown",
   "metadata": {},
   "source": [
    "There are only 2 increment steps you can take, 1 or 2.\n",
    "- If you take 1 step, the number of ways to climb is equal to the n-1. \n",
    "- If you take 2 steps, the number of ways to climb is n-2.\n",
    "\n",
    "The base cases are n= 1 step, 1 way and n = 2 steps, 2 ways."
   ]
  },
  {
   "cell_type": "code",
   "execution_count": 55,
   "metadata": {},
   "outputs": [
    {
     "data": {
      "text/plain": [
       "2504730781961"
      ]
     },
     "execution_count": 55,
     "metadata": {},
     "output_type": "execute_result"
    }
   ],
   "source": [
    "class Solution:\n",
    "    def climbStairs(self, n):\n",
    "        dp = [1]*n\n",
    "        if n <=1: \n",
    "            return dp[n-1]\n",
    "        dp[1] = 2 \n",
    "        for i in range(2,n):\n",
    "            dp[i] = dp[i-1]+dp[i-2]\n",
    "        return dp[n-1]\n",
    "ans = Solution()\n",
    "ans.climbStairs(2)"
   ]
  },
  {
   "cell_type": "markdown",
   "metadata": {},
   "source": [
    "Success Details \n",
    "- Runtime: 24 ms, faster than 93.47% of Python3 online submissions for Climbing Stairs.\n",
    "- Memory Usage: 14.2 MB, less than 44.41% of Python3 online submissions for Climbing Stairs."
   ]
  },
  {
   "cell_type": "code",
   "execution_count": 56,
   "metadata": {},
   "outputs": [
    {
     "data": {
      "text/plain": [
       "8"
      ]
     },
     "execution_count": 56,
     "metadata": {},
     "output_type": "execute_result"
    }
   ],
   "source": [
    "class Solution:\n",
    "    def climbStairs(self, n):\n",
    "        a, b = 1, 1\n",
    "        for i in range(n):\n",
    "            a, b = b, a + b\n",
    "        return a\n",
    "ans = Solution()\n",
    "ans.climbStairs(5)"
   ]
  },
  {
   "cell_type": "markdown",
   "metadata": {},
   "source": [
    "Success Details \n",
    "- Runtime: 20 ms, faster than 98.78% of Python3 online submissions for Climbing Stairs.\n",
    "- Memory Usage: 14.1 MB, less than 90.22% of Python3 online submissions for Climbing Stairs."
   ]
  },
  {
   "cell_type": "markdown",
   "metadata": {},
   "source": [
    "## Week 16 - Apr 17, 2021"
   ]
  },
  {
   "cell_type": "markdown",
   "metadata": {},
   "source": [
    "\n",
    "    \n",
    "### 121. Best Time to Buy and Sell Stock - Easy\n",
    "https://leetcode.com/problems/best-time-to-buy-and-sell-stock/\n",
    "\n",
    "You are given an array prices where prices[i] is the price of a given stock on the ith day.\n",
    "\n",
    "You want to maximize your profit by choosing a single day to buy one stock and choosing a different day in the future to sell that stock.\n",
    "\n",
    "Return the maximum profit you can achieve from this transaction. If you cannot achieve any profit, return 0.\n",
    "\n",
    "#### Example 1:\n",
    "- Input: prices = [7,1,5,3,6,4]\n",
    "- Output: 5\n",
    "- Explanation: Buy on day 2 (price = 1) and sell on day 5 (price = 6), profit = 6-1 = 5. Note that buying on day 2 and selling on day 1 is not allowed because you must buy before you sell.\n",
    "\n",
    "#### Example 2:\n",
    "- Input: prices = [7,6,4,3,1]\n",
    "- Output: 0\n",
    "- Explanation: In this case, no transactions are done and the max profit = 0.\n",
    " \n",
    "#### Constraints:\n",
    "- 1 <= prices.length <= 10^5\n",
    "- 0 <= prices[i] <= 10^4"
   ]
  },
  {
   "cell_type": "code",
   "execution_count": 6,
   "metadata": {},
   "outputs": [
    {
     "name": "stdout",
     "output_type": "stream",
     "text": [
      "Wall time: 0 ns\n"
     ]
    },
    {
     "data": {
      "text/plain": [
       "5"
      ]
     },
     "execution_count": 6,
     "metadata": {},
     "output_type": "execute_result"
    }
   ],
   "source": [
    "%%time\n",
    "#return max([max([prices[j]- prices[i] for j in range(i+1,len(prices))]) for i in range(len(prices)-1)]+[0])\n",
    "class Solution:\n",
    "    def maxProfit(self, prices):\n",
    "        if len(prices) <= 1: return 0\n",
    "        buy, sell = prices[0],prices[0]\n",
    "        max_profit = 0\n",
    "        for num in prices:\n",
    "            if num < buy: \n",
    "                buy = num\n",
    "                sell = num\n",
    "            elif num > sell:\n",
    "                sell = num\n",
    "            profit = sell - buy\n",
    "            if profit  > max_profit: \n",
    "                max_profit = profit\n",
    "        return max_profit\n",
    "ans = Solution()\n",
    "ans.maxProfit( [7,1,5,3,6,4])"
   ]
  },
  {
   "cell_type": "markdown",
   "metadata": {},
   "source": [
    "Success Details \n",
    "- Runtime: 928 ms, faster than 94.36% of Python3 online submissions for Best Time to Buy and Sell Stock.\n",
    "- Memory Usage: 25.1 MB, less than 80.89% of Python3 online submissions for Best Time to Buy and Sell Stock."
   ]
  },
  {
   "cell_type": "code",
   "execution_count": 7,
   "metadata": {},
   "outputs": [
    {
     "data": {
      "text/plain": [
       "5"
      ]
     },
     "execution_count": 7,
     "metadata": {},
     "output_type": "execute_result"
    }
   ],
   "source": [
    "class Solution:\n",
    "    def maxProfit(self, prices):\n",
    "        if len(prices) <= 1: return 0\n",
    "        buy, sell = prices[0],prices[0]\n",
    "        max_profit = 0\n",
    "        for num in prices:\n",
    "            if num < buy: \n",
    "                buy = num\n",
    "                sell = num\n",
    "            elif num > sell:\n",
    "                sell = num\n",
    "            max_profit = max(max_profit,sell - buy)\n",
    "        return max_profit\n",
    "ans = Solution()\n",
    "ans.maxProfit( [7,1,5,3,6,4])"
   ]
  },
  {
   "cell_type": "markdown",
   "metadata": {},
   "source": [
    "Details \n",
    "- Runtime: 1048 ms, faster than 52.12% of Python3 online submissions for Best Time to Buy and Sell Stock.\n",
    "- Memory Usage: 25.2 MB, less than 52.43% of Python3 online submissions for Best Time to Buy and Sell Stock."
   ]
  },
  {
   "cell_type": "markdown",
   "metadata": {},
   "source": [
    "## Week 17 - Apr 24, 2021"
   ]
  },
  {
   "cell_type": "markdown",
   "metadata": {},
   "source": [
    "### 312. Burst Balloons - Hard\n",
    "https://leetcode.com/problems/burst-balloons/\n",
    "\n",
    "You are given n balloons, indexed from 0 to n - 1. Each balloon is painted with a number on it represented by an array nums. You are asked to burst all the balloons.\n",
    "\n",
    "If you burst the ith balloon, you will get nums[i - 1] * nums[i] * nums[i + 1] coins. If i - 1 or i + 1 goes out of bounds of the array, then treat it as if there is a balloon with a 1 painted on it.\n",
    "\n",
    "Return the maximum coins you can collect by bursting the balloons wisely.\n",
    "\n",
    "#### Example 1:\n",
    "- Input: nums = [3,1,5,8]\n",
    "- Output: 167\n",
    "- Explanation:\n",
    "\n",
    "- nums = [3,1,5,8] --> [3,5,8] --> [3,8] --> [8] --> []\n",
    "\n",
    "- coins =  3\\*1\\*5    + 3\\*5\\*8  + 1\\*3\\*8 +  1\\*8\\*1 = 167\n",
    "\n",
    "#### Example 2:\n",
    "Input: nums = [1,5]\n",
    "Output: 10\n",
    "\n",
    "#### Constraints:\n",
    "n == nums.length\n",
    "1 <= n <= 500\n",
    "0 <= nums[i] <= 100"
   ]
  },
  {
   "cell_type": "code",
   "execution_count": 1,
   "metadata": {},
   "outputs": [
    {
     "data": {
      "text/plain": [
       "18"
      ]
     },
     "execution_count": 1,
     "metadata": {},
     "output_type": "execute_result"
    }
   ],
   "source": [
    "def maxCoins(nums):\n",
    "    if len (nums) == 1:  ans = nums[0]\n",
    "    elif len (nums) == 2: \n",
    "        ans = nums[0]*nums[1]+max(nums)\n",
    "    elif len(nums) == 3:\n",
    "        ans = max([nums[0]*nums[1]*nums[2] + nums[0]*nums[2] + max(nums[0],nums[2]),\n",
    "                  nums[0]*nums[1]+nums[1]*nums[2]+max(nums[1],nums[2]),\n",
    "                  nums[0]*nums[1]+nums[1]*nums[2]+max(nums[0],nums[1])])\n",
    "        #(middle > 0 and edge values > 1) or middle = 0  --> burst middle first\n",
    "        #if (nums[0] > 1 and nums[2] > 1 and nums[1] > 0) or nums[1] == 0:\n",
    "        #    ans = nums[0]*nums[1]*nums[2] + nums[0]*nums[2] + max(nums[0],nums[2])\n",
    "        #1 edge value contains 1 and the other edge is max value --> burst middle first\n",
    "        #elif (nums[0] == 1 or nums[2] == 1) and nums[1] < max(nums) :\n",
    "        #    ans = nums[0]*nums[1]*nums[2] + nums[0]*nums[2]+max(nums[0],nums[2])\n",
    "        #edge values contain 0 or (edge value contain 1 and middle is max value) --> burst edge first   \n",
    "        #else: \n",
    "        #    ans = nums[1]*nums[0] + nums[1]*nums[2] + nums[1]\n",
    "    elif len(nums) > 3:\n",
    "        if nums[0] != min(nums) and nums[-1] != min(nums):\n",
    "            min_num = 100\n",
    "            max_prod = 0\n",
    "            #burst the num with min value if min value is not at the edge\n",
    "            for i in range(1,len(nums)-1):\n",
    "                prod_3 = nums[i-1] *nums[i]*nums[i+1],nums[i]\n",
    "                if nums[i] < min_num:\n",
    "                    min_num = nums[i]\n",
    "                    max_prod = prod_3\n",
    "                    burst_i = i\n",
    "                elif nums[i] == min_num:\n",
    "                    if prod_3 > max_prod: \n",
    "                        max_prod = prod_3\n",
    "                        burst_i = i\n",
    "            burst_product = (nums[burst_i-1] if burst_i > 0 else 1)*nums[burst_i]*(nums[burst_i+1] if i <len(nums)-1 else 1) \n",
    "            new_nums = [nums[i] for i in range(len(nums)) if i != burst_i] \n",
    "            ans = burst_product + maxCoins(new_nums)\n",
    "        else:\n",
    "            #when min value is at the edge --> burst the num with max product of 3 nums and lowest value of num\n",
    "            if 0 not in nums:\n",
    "                max_prod = 0\n",
    "                burst_num = 100\n",
    "                for i in range(1,len(nums)-1):\n",
    "                    item = nums[i-1] *nums[i]*nums[i+1],nums[i]\n",
    "                    if item[0] > max_prod: \n",
    "                        max_prod = item[0]\n",
    "                        burst_num = item[1]\n",
    "                        burst_i = i\n",
    "                    elif item[0] == max_prod: \n",
    "                        if item[1] < burst_num:\n",
    "                            burst_num = item[1]\n",
    "                            burst_i = i\n",
    "                burst_product = (nums[burst_i-1] if burst_i > 0 else 1)*nums[burst_i]*(nums[burst_i+1] if i <len(nums)-1 else 1) \n",
    "                new_nums = [nums[i] for i in range(len(nums)) if i != burst_i]        \n",
    "                ans = burst_product + maxCoins(new_nums)            \n",
    "            else:\n",
    "                new_nums = [nums[i] for i in range(len(nums)) if i != nums.index(0)]\n",
    "                ans = maxCoins(new_nums)  \n",
    "    return ans\n",
    "maxCoins( [2,3,2])\n",
    "#maxCoins([7,9,8,0,7,1,3,5,5,2])"
   ]
  },
  {
   "cell_type": "code",
   "execution_count": 57,
   "metadata": {},
   "outputs": [
    {
     "data": {
      "text/plain": [
       "72"
      ]
     },
     "execution_count": 57,
     "metadata": {},
     "output_type": "execute_result"
    }
   ],
   "source": [
    "#https://leetcode.com/problems/burst-balloons/discuss/970727/Python-5-lines-dp-explained\n",
    "class Solution:\n",
    "    def maxCoins(self, nums):\n",
    "        A = [1] + nums + [1]\n",
    "        def dfs(i, j):\n",
    "            return max([A[i]*A[k]*A[j] + dfs(i,k) + dfs(k,j) for k in range(i+1, j)] or [0])\n",
    "        return dfs(0, len(A) - 1)\n",
    "ans = Solution()\n",
    "ans.maxCoins([2,3,3,4])"
   ]
  },
  {
   "cell_type": "code",
   "execution_count": 1,
   "metadata": {},
   "outputs": [
    {
     "data": {
      "text/plain": [
       "832"
      ]
     },
     "execution_count": 1,
     "metadata": {},
     "output_type": "execute_result"
    }
   ],
   "source": [
    "#https://leetcode.com/problems/burst-balloons/discuss/76263/My-readable-Python-~500ms-accepted-solution-with-explanation\n",
    "class Solution:\n",
    "    def maxCoins(self, nums):\n",
    "        nums = [1]+[n for n in nums if n!=0]+[1]\n",
    "        regional_max_coins = [[0 for i in range(len(nums))] for j in range(len(nums))]\n",
    "        for balloons_to_burst in range(1, len(nums)-1): # number of balloons in (l,r) region\n",
    "            for l in range(0, len(nums)-balloons_to_burst-1): # for m and r to be assigned legally\n",
    "                r = l+balloons_to_burst+1\n",
    "                for m in range(l+1,r):\n",
    "                    regional_max_coins[l][r] = max(regional_max_coins[l][r], regional_max_coins[l][m]+\n",
    "                                                   regional_max_coins[m][r]+nums[l]*nums[m]*nums[r])\n",
    "        return regional_max_coins[0][-1]\n",
    "ans = Solution()\n",
    "ans.maxCoins([2,3,7,9,1,8,2])"
   ]
  },
  {
   "cell_type": "code",
   "execution_count": 4,
   "metadata": {},
   "outputs": [
    {
     "name": "stdout",
     "output_type": "stream",
     "text": [
      "3\n",
      "5\n",
      "burst: 1 , left: 0 , middle: 1 , right: 2 ==== 6\n",
      "burst: 1 , left: 1 , middle: 2 , right: 3 ==== 12\n",
      "burst: 1 , left: 2 , middle: 3 , right: 4 ==== 6\n",
      "burst: 2 , left: 0 , middle: 1 , right: 3 ==== 16\n",
      "burst: 2 , left: 0 , middle: 2 , right: 3 ==== 16\n",
      "burst: 2 , left: 1 , middle: 2 , right: 4 ==== 12\n",
      "burst: 2 , left: 1 , middle: 3 , right: 4 ==== 16\n",
      "burst: 3 , left: 0 , middle: 1 , right: 4 ==== 18\n",
      "burst: 3 , left: 0 , middle: 2 , right: 4 ==== 18\n",
      "burst: 3 , left: 0 , middle: 3 , right: 4 ==== 18\n"
     ]
    },
    {
     "data": {
      "text/plain": [
       "[[0, 0, 6, 16, 18],\n",
       " [0, 0, 0, 12, 16],\n",
       " [0, 0, 0, 0, 6],\n",
       " [0, 0, 0, 0, 0],\n",
       " [0, 0, 0, 0, 0]]"
      ]
     },
     "execution_count": 4,
     "metadata": {},
     "output_type": "execute_result"
    }
   ],
   "source": [
    "nums = [2,3,2]\n",
    "print(len(nums))\n",
    "nums = [1]+[n for n in nums if n!=0]+[1]\n",
    "print(len(nums))\n",
    "regional_max_coins = [[0 for i in range(len(nums))] for j in range(len(nums))]\n",
    "for balloons_to_burst in range(1, len(nums)-1): # number of balloons in (l,r) region\n",
    "    for l in range(0, len(nums)-balloons_to_burst-1):\n",
    "        r = l+balloons_to_burst+1\n",
    "        for m in range(l+1,r):\n",
    "            regional_max_coins[l][r] = max(regional_max_coins[l][r], regional_max_coins[l][m]+\n",
    "                                           regional_max_coins[m][r]+\n",
    "                                           nums[l]*nums[m]*nums[r])\n",
    "            print('burst:',balloons_to_burst,', left:',l,', middle:',m,', right:',r,'====',regional_max_coins[l][r])\n",
    "        \n",
    "regional_max_coins"
   ]
  },
  {
   "cell_type": "code",
   "execution_count": null,
   "metadata": {},
   "outputs": [],
   "source": []
  },
  {
   "cell_type": "code",
   "execution_count": null,
   "metadata": {},
   "outputs": [],
   "source": []
  },
  {
   "cell_type": "markdown",
   "metadata": {},
   "source": [
    "## Week 18 - May 1, 2021"
   ]
  },
  {
   "cell_type": "markdown",
   "metadata": {},
   "source": [
    "### 53. Maximum Subarray\n",
    "https://leetcode.com/problems/maximum-subarray/\n",
    "\n",
    "Given an integer array nums, find the contiguous subarray (containing at least one number) which has the largest sum and return its sum.\n",
    "\n",
    "#### Example 1:\n",
    "- Input: nums = [-2,1,-3,4,-1,2,1,-5,4]\n",
    "- Output: 6\n",
    "- Explanation: [4,-1,2,1] has the largest sum = 6.\n",
    "\n",
    "#### Example 2:\n",
    "- Input: nums = [1]\n",
    "- Output: 1\n",
    "\n",
    "#### Example 3:\n",
    "- Input: nums = [5,4,-1,7,8]\n",
    "- Output: 23\n",
    "\n",
    "#### Constraints:\n",
    "- 1 <= nums.length <= 3 * 104\n",
    "- -105 <= nums[i] <= 105\n",
    " \n",
    "\n",
    "#### Follow up: \n",
    "- If you have figured out the O(n) solution, try coding another solution using the divide and conquer approach, which is more subtle."
   ]
  },
  {
   "cell_type": "code",
   "execution_count": 14,
   "metadata": {},
   "outputs": [
    {
     "data": {
      "text/plain": [
       "6"
      ]
     },
     "execution_count": 14,
     "metadata": {},
     "output_type": "execute_result"
    }
   ],
   "source": [
    "class Solution:\n",
    "    def maxSubArray(self, nums):\n",
    "        for i in range(1, len(nums)):\n",
    "            if nums[i-1] > 0:\n",
    "                nums[i] += nums[i-1]\n",
    "        return max(nums)\n",
    "ans = Solution()\n",
    "ans.maxSubArray([-2,1,-3,4,-1,2,1,-5,4])"
   ]
  },
  {
   "cell_type": "markdown",
   "metadata": {},
   "source": [
    "Success Details \n",
    "- Runtime: 64 ms, faster than 72.65% of Python3 online submissions for Maximum Subarray.\n",
    "- Memory Usage: 15.1 MB, less than 11.50% of Python3 online submissions for Maximum Subarray."
   ]
  },
  {
   "cell_type": "code",
   "execution_count": 20,
   "metadata": {},
   "outputs": [
    {
     "data": {
      "text/plain": [
       "6"
      ]
     },
     "execution_count": 20,
     "metadata": {},
     "output_type": "execute_result"
    }
   ],
   "source": [
    "class Solution:\n",
    "    def maxSubArray(self, nums):\n",
    "        def divide(nums, l, r):\n",
    "            if l == r:\n",
    "                return nums[l]\n",
    "            mid = l + (r - l)//2\n",
    "            lmax = divide(nums, l, mid)\n",
    "            rmax = divide(nums, mid+1, r)\n",
    "            \n",
    "            ans, left, right = 0, float('-inf'), float('-inf')\n",
    "            for i in range(mid, l-1, -1):\n",
    "                ans += nums[i]\n",
    "                left = max(left, ans)\n",
    "            ans = 0\n",
    "            for j in range(mid+1, r+1):\n",
    "                ans += nums[j]\n",
    "                right = max(ans, right)\n",
    "            return max(lmax, rmax, left+right)\n",
    "        ans = divide(nums, 0, len(nums)-1)\n",
    "        return ans\n",
    "ans = Solution()\n",
    "ans.maxSubArray([-2,1,-3,4,-1,2,1,-5,4])"
   ]
  },
  {
   "cell_type": "markdown",
   "metadata": {},
   "source": [
    "Success Details \n",
    "- Runtime: 148 ms, faster than 5.00% of Python3 online submissions for Maximum Subarray.\n",
    "- Memory Usage: 15.1 MB, less than 31.81% of Python3 online submissions for Maximum Subarray."
   ]
  },
  {
   "cell_type": "markdown",
   "metadata": {},
   "source": [
    "## Week 19 - May 8, 2021"
   ]
  },
  {
   "cell_type": "markdown",
   "metadata": {},
   "source": [
    "### 1025. Divisor Game\n",
    "https://leetcode.com/problems/divisor-game/\n",
    "\n",
    "Alice and Bob take turns playing a game, with Alice starting first.\n",
    "\n",
    "Initially, there is a number n on the chalkboard. On each player's turn, that player makes a move consisting of:\n",
    "\n",
    "Choosing any x with 0 < x < n and n % x == 0.\n",
    "Replacing the number n on the chalkboard with n - x.\n",
    "Also, if a player cannot make a move, they lose the game.\n",
    "\n",
    "Return true if and only if Alice wins the game, assuming both players play optimally.\n",
    "\n",
    "#### Example 1:\n",
    "- Input: n = 2\n",
    "- Output: true\n",
    "- Explanation: Alice chooses 1, and Bob has no more moves.\n",
    "\n",
    "#### Example 2:\n",
    "- Input: n = 3\n",
    "- Output: false\n",
    "- Explanation: Alice chooses 1, Bob chooses 1, and Alice has no more moves.\n",
    " \n",
    "#### Constraints:\n",
    "\n",
    "1 <= n <= 1000"
   ]
  },
  {
   "cell_type": "markdown",
   "metadata": {},
   "source": [
    "The proof of why this works can be done formally using Mathematical Induction, specifically using Strong Mathematical Induction. However an informal proof will also suffice. Note that it is not enough to show that a player who starts on even always wins. One must also show that a player that starts on odd always loses. Otherwise there are more possible ways to guarantee winning aside from starting on even.\n",
    "\n",
    "Given: The Divisor Game as outlined in the problem\n",
    "\n",
    "Prove: Alice will win if and only if N % 2 == 0\n",
    "\n",
    "Part 1) If Alice starts with an even number she will always win.\n",
    "\n",
    "If Alice has an even number, she can always subtract 1, giving Bob an odd number. Odd numbers are not divisible by 2. They are only divisible by odd numbers. Hence Bob must subtract an odd number. Since odd minus odd is even, Bob will always return an even number to Alice. Alice will thus get a smaller even number after each round of play and Bob will get a smaller odd number after each round of play. Eventually Bob will have to play the number 1 and will lose the game since he will have no options.\n",
    "\n",
    "Part 2) If Alice starts with an odd number she will always lose.\n",
    "\n",
    "If Alice has an odd number, she has no choice but to subtract an odd number as odd numbers have no even divisors. Thus Bob will get an even number. Now using the argument from Part 1 above, Bob can take this even number and keep giving an odd number back to Alice by subtracting 1. Thus Bob will always get to play even and Alice will always be stuck with an odd number smaller than her previous odd number after each round. Eventually Alice will have to play the number 1 and will lose the game since she will have no options.\n",
    "\n",
    "Thus, assuming both players play optimally, Alice will win the game if and only if she starts on an even number (i.e. N % 2 == 0)."
   ]
  },
  {
   "cell_type": "code",
   "execution_count": 16,
   "metadata": {},
   "outputs": [
    {
     "data": {
      "text/plain": [
       "True"
      ]
     },
     "execution_count": 16,
     "metadata": {},
     "output_type": "execute_result"
    }
   ],
   "source": [
    "class Solution:\n",
    "    def divisorGame(self, n) :\n",
    "        if n % 2 == 0: return True\n",
    "        else: return False\n",
    "ans = Solution()\n",
    "ans.divisorGame(100)"
   ]
  },
  {
   "cell_type": "markdown",
   "metadata": {},
   "source": [
    "Success Details \n",
    "- Runtime: 32 ms, faster than 59.40% of Python3 online submissions for Divisor Game.\n",
    "- Memory Usage: 14.1 MB, less than 88.66% of Python3 online submissions for Divisor Game."
   ]
  },
  {
   "cell_type": "markdown",
   "metadata": {},
   "source": [
    "## Week 20 - May 15, 2021"
   ]
  },
  {
   "cell_type": "markdown",
   "metadata": {},
   "source": [
    "### 746. Min Cost Climbing Stairs\n",
    "https://leetcode.com/problems/min-cost-climbing-stairs/\n",
    "\n",
    "You are given an integer array cost where cost[i] is the cost of ith step on a staircase. Once you pay the cost, you can either climb one or two steps.\n",
    "\n",
    "You can either start from the step with index 0, or the step with index 1.\n",
    "\n",
    "Return the minimum cost to reach the top of the floor.\n",
    "\n",
    "#### Example 1:\n",
    "- Input: cost = [10,15,20]\n",
    "- Output: 15\n",
    "- Explanation: Cheapest is: start on cost[1], pay that cost, and go to the top.\n",
    "\n",
    "#### Example 2:\n",
    "- Input: cost = [1,100,1,1,1,100,1,1,100,1]\n",
    "- Output: 6\n",
    "- Explanation: Cheapest is: start on cost[0], and only step on 1s, skipping cost[3].\n",
    "\n",
    "#### Constraints:\n",
    "- 2 <= cost.length <= 1000\n",
    "- 0 <= cost[i] <= 999"
   ]
  },
  {
   "cell_type": "code",
   "execution_count": 18,
   "metadata": {},
   "outputs": [
    {
     "data": {
      "text/plain": [
       "15"
      ]
     },
     "execution_count": 18,
     "metadata": {},
     "output_type": "execute_result"
    }
   ],
   "source": [
    "class Solution:\n",
    "    def minCostClimbingStairs(self, cost):\n",
    "        if len(cost)==2: return(min(cost))\n",
    "        for i in range(2,len(cost)):\n",
    "            cost[i] += min(cost[i-2],cost[i-1])\n",
    "        return (min(cost[-2],cost[-1]))\n",
    "ans = Solution()\n",
    "ans.minCostClimbingStairs([10,15,20])"
   ]
  },
  {
   "cell_type": "markdown",
   "metadata": {},
   "source": [
    "Success Details \n",
    "- Runtime: 52 ms, faster than 88.33% of Python3 online submissions for Min Cost Climbing Stairs.\n",
    "- Memory Usage: 14.5 MB, less than 19.81% of Python3 online submissions for Min Cost Climbing Stairs."
   ]
  },
  {
   "cell_type": "code",
   "execution_count": 19,
   "metadata": {},
   "outputs": [],
   "source": [
    "class Solution:\n",
    "    def minCostClimbingStairs(self, cost):\n",
    "        cost = [0,0]+cost\n",
    "        for i in range(3,len(cost)):\n",
    "            cost[i] += min(cost[i-2],cost[i-1])\n",
    "        return (min(cost[-2],cost[-1]))"
   ]
  },
  {
   "cell_type": "markdown",
   "metadata": {},
   "source": [
    "Success Details \n",
    "- Runtime: 56 ms, faster than 70.63% of Python3 online submissions for Min Cost Climbing Stairs.\n",
    "- Memory Usage: 14.2 MB, less than 88.47% of Python3 online submissions for Min Cost Climbing Stairs."
   ]
  },
  {
   "cell_type": "markdown",
   "metadata": {},
   "source": [
    "## Week 21 - May 22, 2021"
   ]
  },
  {
   "cell_type": "markdown",
   "metadata": {},
   "source": [
    "### 303. Range Sum Query - Immutable\n",
    "https://leetcode.com/problems/range-sum-query-immutable/\n",
    "\n",
    "Given an integer array nums, handle multiple queries of the following type:\n",
    "\n",
    "Calculate the sum of the elements of nums between indices left and right inclusive where `left <= right`.\n",
    "\n",
    "Implement the NumArray class:\n",
    "- NumArray(int[] nums) Initializes the object with the integer array nums.\n",
    "- int `sumRange(int left, int right)` Returns the sum of the elements of nums between indices left and right inclusive (i.e.` nums[left] + nums[left + 1] + ... + nums[right]`).\n",
    " \n",
    "\n",
    "#### Example 1:\n",
    "- Input \n",
    "\n",
    "    - [\"NumArray\", \"sumRange\", \"sumRange\", \"sumRange\"]\n",
    "    - [[[-2, 0, 3, -5, 2, -1]], [0, 2], [2, 5], [0, 5]]\n",
    "    \n",
    "- Output: [null, 1, -1, -3]\n",
    "\n",
    "- Explanation:\n",
    "    - NumArray numArray = new NumArray([-2, 0, 3, -5, 2, -1]);\n",
    "    - numArray.sumRange(0, 2); // return (-2) + 0 + 3 = 1\n",
    "    - numArray.sumRange(2, 5); // return 3 + (-5) + 2 + (-1) = -1\n",
    "    - numArray.sumRange(0, 5); // return (-2) + 0 + 3 + (-5) + 2 + (-1) = -3\n",
    " \n",
    "\n",
    "#### Constraints:\n",
    "- 1 <= nums.length <= 104\n",
    "- -105 <= nums[i] <= 105\n",
    "- 0 <= left <= right < nums.length\n",
    "- At most 104 calls will be made to sumRange."
   ]
  },
  {
   "cell_type": "code",
   "execution_count": 10,
   "metadata": {},
   "outputs": [
    {
     "data": {
      "text/plain": [
       "-1"
      ]
     },
     "execution_count": 10,
     "metadata": {},
     "output_type": "execute_result"
    }
   ],
   "source": [
    "class NumArray:\n",
    "    def __init__(self, nums):\n",
    "        self.sum = nums\n",
    "        for i in range(1,len(nums)):\n",
    "            self.sum[i] += self.sum[i-1]  \n",
    "    def sumRange(self, left, right):\n",
    "        return self.sum[right] - (self.sum[left - 1] if left > 0 else 0)\n",
    "\n",
    "\n",
    "# Your NumArray object will be instantiated and called as such:\n",
    "nums = [-2, 0, 3, -5, 2, -1]\n",
    "obj = NumArray(nums)\n",
    "param_1 = obj.sumRange(2,5)\n",
    "param_1"
   ]
  },
  {
   "cell_type": "markdown",
   "metadata": {},
   "source": [
    "Success Details \n",
    "- Runtime: 80 ms, faster than 62.11% of Python3 online submissions for Range Sum Query - Immutable.\n",
    "- Memory Usage: 17.6 MB, less than 61.23% of Python3 online submissions for Range Sum Query - Immutable."
   ]
  },
  {
   "cell_type": "code",
   "execution_count": 13,
   "metadata": {},
   "outputs": [
    {
     "data": {
      "text/plain": [
       "1"
      ]
     },
     "execution_count": 13,
     "metadata": {},
     "output_type": "execute_result"
    }
   ],
   "source": [
    "class NumArray:\n",
    "    def __init__(self, nums):\n",
    "        self.sum = [0]\n",
    "        for n in nums:\n",
    "            self.sum += [self.sum[-1]+n] \n",
    "    def sumRange(self, left, right):\n",
    "        return self.sum[right+1] - self.sum[left]\n",
    "    \n",
    "nums = [-2, 0, 3, -5, 2, -1]\n",
    "obj = NumArray(nums)\n",
    "param_1 = obj.sumRange(0,2)\n",
    "param_1"
   ]
  },
  {
   "cell_type": "markdown",
   "metadata": {},
   "source": [
    "Success Details \n",
    "- Runtime: 72 ms, faster than 91.95% of Python3 online submissions for Range Sum Query - Immutable.\n",
    "- Memory Usage: 17.9 MB, less than 20.95% of Python3 online submissions for Range Sum Query - Immutable."
   ]
  },
  {
   "cell_type": "markdown",
   "metadata": {},
   "source": [
    "## Week 22 - May 29, 2021"
   ]
  },
  {
   "cell_type": "markdown",
   "metadata": {},
   "source": [
    "### 392. Is Subsequence\n",
    "https://leetcode.com/problems/is-subsequence/\n",
    "\n",
    "Given two strings s and t, return true if s is a subsequence of t, or false otherwise.\n",
    "\n",
    "A subsequence of a string is a new string that is formed from the original string by deleting some (can be none) of the characters without disturbing the relative positions of the remaining characters. (i.e., \"ace\" is a subsequence of \"abcde\" while \"aec\" is not).\n",
    "\n",
    "#### Example 1:\n",
    "- Input: s = \"abc\", t = \"ahbgdc\"\n",
    "- Output: true\n",
    "\n",
    "#### Example 2:\n",
    "- Input: s = \"axc\", t = \"ahbgdc\"\n",
    "- Output: false\n",
    "\n",
    "#### Constraints:\n",
    "- 0 <= s.length <= 100\n",
    "- 0 <= t.length <= 104\n",
    "- s and t consist only of lowercase English letters.\n",
    "\n",
    "#### Follow up: \n",
    "Suppose there are lots of incoming s, say s1, s2, ..., sk where k >= 109, and you want to check one by one to see if t has its subsequence. In this scenario, how would you change your code?"
   ]
  },
  {
   "cell_type": "code",
   "execution_count": 6,
   "metadata": {},
   "outputs": [],
   "source": [
    "def dp(s:str,t:str):\n",
    "        if s in t:\n",
    "            idx = t.index(s)\n",
    "            if idx < len(t):\n",
    "                new_t = t[idx+1:]\n",
    "                return new_t\n",
    "class Solution:\n",
    "    def isSubsequence(self, s: str, t: str) -> bool:\n",
    "        i = 0\n",
    "        while i <len(s):\n",
    "            char = s[i]\n",
    "            if char not in t: return False\n",
    "            else:\n",
    "                t = dp(char,t)\n",
    "            i += 1\n",
    "        return True"
   ]
  },
  {
   "cell_type": "code",
   "execution_count": 8,
   "metadata": {},
   "outputs": [
    {
     "data": {
      "text/plain": [
       "False"
      ]
     },
     "execution_count": 8,
     "metadata": {},
     "output_type": "execute_result"
    }
   ],
   "source": [
    "ans = Solution()\n",
    "ans.isSubsequence('axc','ahbgdc')"
   ]
  },
  {
   "cell_type": "markdown",
   "metadata": {},
   "source": [
    "Success Details \n",
    "- Runtime: 32 ms, faster than 63.52% of Python3 online submissions for Is Subsequence.\n",
    "- Memory Usage: 14.5 MB, less than 22.06% of Python3 online submissions for Is Subsequence."
   ]
  },
  {
   "cell_type": "code",
   "execution_count": 16,
   "metadata": {},
   "outputs": [],
   "source": [
    "class Solution:\n",
    "    def isSubsequence(self, s: str, t: str) -> bool:\n",
    "        i = 0\n",
    "        while i <len(s):\n",
    "            char = s[i]\n",
    "            if char not in t: return False\n",
    "            else:\n",
    "                t = t[t.index(char)+1:]\n",
    "            i += 1\n",
    "        return True"
   ]
  },
  {
   "cell_type": "markdown",
   "metadata": {},
   "source": [
    "Success Details \n",
    "- Runtime: 20 ms, faster than 99.13% of Python3 online submissions for Is Subsequence.\n",
    "- Memory Usage: 14.2 MB, less than 73.44% of Python3 online submissions for Is Subsequence."
   ]
  },
  {
   "cell_type": "markdown",
   "metadata": {},
   "source": [
    "## Week 23 - June 05, 2021"
   ]
  },
  {
   "cell_type": "markdown",
   "metadata": {},
   "source": [
    "### 338. Counting Bits\n",
    "https://leetcode.com/problems/counting-bits/\n",
    "\n",
    "Given an integer n, return an array ans of length n + 1 such that for each i (0 <= i <= n), ans[i] is the number of 1's in the binary representation of i.\n",
    "\n",
    "#### Example 1:\n",
    "\n",
    "- Input: n = 2\n",
    "- Output: [0,1,1]\n",
    "- Explanation:\n",
    "    - 0 --> 0\n",
    "    - 1 --> 1\n",
    "    - 2 --> 10\n",
    "\n",
    "#### Example 2:\n",
    "\n",
    "- Input: n = 5\n",
    "- Output: [0,1,1,2,1,2]\n",
    "- Explanation:\n",
    "    - 0 --> 0\n",
    "    - 1 --> 1\n",
    "    - 2 --> 10\n",
    "    - 3 --> 11\n",
    "    - 4 --> 100\n",
    "    - 5 --> 101\n",
    " \n",
    "\n",
    "#### Constraints:\n",
    "- 0 <= n <= 105\n",
    " \n",
    "\n",
    "#### Follow up:\n",
    "- It is very easy to come up with a solution with a runtime of O(n log n). Can you do it in linear time O(n) and possibly in a single pass?\n",
    "- Can you do it without using any built-in function (i.e., like __builtin_popcount in C++)?"
   ]
  },
  {
   "cell_type": "code",
   "execution_count": 115,
   "metadata": {},
   "outputs": [
    {
     "data": {
      "text/plain": [
       "[0, 1, 1, 2, 1, 2, 2]"
      ]
     },
     "execution_count": 115,
     "metadata": {},
     "output_type": "execute_result"
    }
   ],
   "source": [
    "import math\n",
    "class Solution:\n",
    "    def countBits(self, n: int):\n",
    "        ans = [0] #default for the first value = 0\n",
    "        for num in range(1,n+1):\n",
    "            extra_1 = 0\n",
    "            while num>len(ans)-1:\n",
    "                extra_1 += num%2\n",
    "                num =math.floor(num/2)\n",
    "            ans += [extra_1+ans[num]]\n",
    "        return ans\n",
    "ans = Solution()\n",
    "ans.countBits(6)"
   ]
  },
  {
   "cell_type": "markdown",
   "metadata": {},
   "source": [
    "Success  Details \n",
    "- Runtime: 96 ms, faster than 43.30% of Python3 online submissions for Counting Bits.\n",
    "- Memory Usage: 21 MB, less than 38.37% of Python3 online submissions for Counting Bits."
   ]
  },
  {
   "cell_type": "code",
   "execution_count": 121,
   "metadata": {},
   "outputs": [
    {
     "data": {
      "text/plain": [
       "[0, 1, 1, 2, 1, 2, 2, 3]"
      ]
     },
     "execution_count": 121,
     "metadata": {},
     "output_type": "execute_result"
    }
   ],
   "source": [
    "class Solution:\n",
    "    def countBits(self, n: int):\n",
    "        ans = [0] #default for the first value = 0\n",
    "        for num in range(1,n+1):\n",
    "            extra_1 = 0\n",
    "            while num>len(ans)-1:\n",
    "                extra_1 += num%2\n",
    "                num =int(num/2)\n",
    "            ans += [extra_1+ans[num]]\n",
    "        return ans\n",
    "ans = Solution()\n",
    "ans.countBits(7)"
   ]
  },
  {
   "cell_type": "markdown",
   "metadata": {},
   "source": [
    "Success Details \n",
    "- Runtime: 104 ms, faster than 41.22% of Python3 online submissions for Counting Bits.\n",
    "- Memory Usage: 20.8 MB, less than 71.64% of Python3 online submissions for Counting Bits\n"
   ]
  },
  {
   "cell_type": "code",
   "execution_count": 5,
   "metadata": {},
   "outputs": [
    {
     "name": "stdout",
     "output_type": "stream",
     "text": [
      "divider: 7 , remain: 1 --> divider: 3 , remain: 1 --> divider: 1 , remain: 1 --> "
     ]
    },
    {
     "data": {
      "text/plain": [
       "'111'"
      ]
     },
     "execution_count": 5,
     "metadata": {},
     "output_type": "execute_result"
    }
   ],
   "source": [
    "n = 7\n",
    "remainder = ''\n",
    "while n > 0:\n",
    "    remainder += str(n%2)\n",
    "    print(\"divider:\",n,', remain:',n%2,end = ' --> ')\n",
    "    n = int(n/2)\n",
    "    \n",
    "remainder[::-1]"
   ]
  },
  {
   "cell_type": "markdown",
   "metadata": {},
   "source": [
    "## Week 24 - June 12, 2021"
   ]
  },
  {
   "cell_type": "markdown",
   "metadata": {},
   "source": [
    "\n",
    "### 1641. Count Sorted Vowel Strings\n",
    "https://leetcode.com/problems/count-sorted-vowel-strings/\n",
    "\n",
    "Given an integer n, return the number of strings of length n that consist only of vowels (a, e, i, o, u) and are lexicographically sorted.\n",
    "\n",
    "A string s is lexicographically sorted if for all valid i, s[i] is the same as or comes before s[i+1] in the alphabet.\n",
    "\n",
    "#### Example 1:\n",
    "- Input: n = 1\n",
    "- Output: 5\n",
    "- Explanation: The 5 sorted strings that consist of vowels only are [\"a\",\"e\",\"i\",\"o\",\"u\"].\n",
    "\n",
    "#### Example 2:\n",
    "- Input: n = 2\n",
    "- Output: 15\n",
    "- Explanation: The 15 sorted strings that consist of vowels only are\n",
    "[\"aa\",\"ae\",\"ai\",\"ao\",\"au\",\"ee\",\"ei\",\"eo\",\"eu\",\"ii\",\"io\",\"iu\",\"oo\",\"ou\",\"uu\"].\n",
    "Note that \"ea\" is not a valid string since 'e' comes after 'a' in the alphabet.\n",
    "\n",
    "#### Example 3:\n",
    "- Input: n = 33\n",
    "- Output: 66045\n",
    "\n",
    "#### Constraints:\n",
    "- 1 <= n <= 50 "
   ]
  },
  {
   "cell_type": "code",
   "execution_count": 7,
   "metadata": {},
   "outputs": [],
   "source": [
    "class Solution:\n",
    "    def countVowelStrings(self, n: int):\n",
    "        dp = [1,1,1,1,1]\n",
    "        if n == 1: \n",
    "            return sum(dp)\n",
    "        for i in range(2,n+1):\n",
    "            dp = [sum(dp[:j+1]) for j in range(5)]\n",
    "        return sum(dp)"
   ]
  },
  {
   "cell_type": "code",
   "execution_count": 15,
   "metadata": {},
   "outputs": [
    {
     "data": {
      "text/plain": [
       "66045"
      ]
     },
     "execution_count": 15,
     "metadata": {},
     "output_type": "execute_result"
    }
   ],
   "source": [
    "ans = Solution()\n",
    "ans.countVowelStrings(33)"
   ]
  },
  {
   "cell_type": "markdown",
   "metadata": {},
   "source": [
    "Success Details \n",
    "- Runtime: 32 ms, faster than 70.71% of Python3 online submissions for Count Sorted Vowel Strings.\n",
    "- Memory Usage: 14.3 MB, less than 56.48% of Python3 online submissions for Count Sorted Vowel Strings."
   ]
  },
  {
   "cell_type": "code",
   "execution_count": 16,
   "metadata": {},
   "outputs": [
    {
     "data": {
      "text/plain": [
       "66045"
      ]
     },
     "execution_count": 16,
     "metadata": {},
     "output_type": "execute_result"
    }
   ],
   "source": [
    "class Solution:\n",
    "    def countVowelStrings(self, n: int) -> int:\n",
    "        a = e = i = o = u = 1\n",
    "        for _ in range(n - 1):\n",
    "            a, e, i, o, u = a+e+i+o+u, e+i+o+u, i+o+u, o+u, u\n",
    "        \n",
    "        return a+e+i+o+u\n",
    "ans = Solution()\n",
    "ans.countVowelStrings(33)"
   ]
  },
  {
   "cell_type": "markdown",
   "metadata": {},
   "source": [
    "Success Details \n",
    "- Runtime: 28 ms, faster than 88.25% of Python3 online submissions for Count Sorted Vowel Strings.\n",
    "- Memory Usage: 14.4 MB, less than 28.07% of Python3 online submissions for Count Sorted Vowel Strings."
   ]
  },
  {
   "cell_type": "markdown",
   "metadata": {},
   "source": [
    "## Week 25 - June 19, 2021"
   ]
  },
  {
   "cell_type": "markdown",
   "metadata": {},
   "source": [
    "### 1314. Matrix Block Sum \n",
    "https://leetcode.com/problems/matrix-block-sum/\n",
    "\n",
    "Given a `m x n` matrix `mat` and an integer `k`, return a matrix answer where each `answer[i][j]` is the sum of all elements `mat[r][c]` for:\n",
    "\n",
    "- i - k <= r <= i + k,\n",
    "- j - k <= c <= j + k, and\n",
    "- (r, c) is a valid position in the matrix.\n",
    " \n",
    "\n",
    "#### Example 1:\n",
    "- Input: `mat = [[1,2,3],[4,5,6],[7,8,9]]`, `k` = 1\n",
    "- Output: `[[12,21,16],[27,45,33],[24,39,28]]`\n",
    "\n",
    "#### Example 2:\n",
    "- Input: mat = `[[1,2,3],[4,5,6],[7,8,9]]`, `k` = 2\n",
    "- Output: `[[45,45,45],[45,45,45],[45,45,45]]`\n",
    "\n",
    "#### Constraints:\n",
    "- m == `mat.length`\n",
    "- n == `mat[i].length`\n",
    "- 1 <= `m`, `n`, `k` <= 100\n",
    "- 1 <= `mat[i][j] <= 100`\n"
   ]
  },
  {
   "cell_type": "code",
   "execution_count": 225,
   "metadata": {},
   "outputs": [
    {
     "name": "stdout",
     "output_type": "stream",
     "text": [
      "[[0, 2], [0, 2], [0, 2]]\n"
     ]
    },
    {
     "data": {
      "text/plain": [
       "[[45, 45, 45], [45, 45, 45], [45, 45, 45]]"
      ]
     },
     "execution_count": 225,
     "metadata": {},
     "output_type": "execute_result"
    }
   ],
   "source": [
    "class Solution:\n",
    "    def matrixBlockSum(self, mat , k):\n",
    "        r, c = len(mat),len(mat[0]) #row, col\n",
    "        r_indexes = [[max(0,i-k),min(r-1,i+k)] for i in range(r)]\n",
    "        c_indexes = [[max(0,j-k),min(c-1,j+k)] for j in range(c)]\n",
    "        print(c_indexes)\n",
    "\n",
    "        ans = [[sum([sum(x[c_indexes[j][0]:c_indexes[j][1]+1]) for x in mat[r_indexes[i][0]:r_indexes[i][1]+1]]) \n",
    "                 for j in range(c)] for i in range(r)]\n",
    "        return ans\n",
    "ans = Solution()\n",
    "ans.matrixBlockSum( [[1,2,3],[4,5,6],[7,8,9]], 2)"
   ]
  },
  {
   "cell_type": "markdown",
   "metadata": {},
   "source": [
    "Success Details \n",
    "- Runtime: 1632 ms, faster than 11.09% of Python3 online submissions for Matrix Block Sum.\n",
    "- Memory Usage: 15.2 MB, less than 89.24% of Python3 online submissions for Matrix Block Sum."
   ]
  },
  {
   "cell_type": "markdown",
   "metadata": {},
   "source": [
    "https://leetcode.com/problems/matrix-block-sum/discuss/482730/Python-O(-m*n-)-sol.-by-integral-image-technique.-90%2B-with-Explanation"
   ]
  },
  {
   "cell_type": "code",
   "execution_count": 246,
   "metadata": {},
   "outputs": [
    {
     "data": {
      "text/plain": [
       "[[12, 21, 16], [27, 45, 33], [24, 39, 28]]"
      ]
     },
     "execution_count": 246,
     "metadata": {},
     "output_type": "execute_result"
    }
   ],
   "source": [
    "class Solution:\n",
    "    def matrixBlockSum(self, mat , k):\n",
    "        r, c = len(mat),len(mat[0]) #row, col\n",
    "        integral_image = [[0 for i in range(c)]for j in range(r)]\n",
    "        for i in range(r):\n",
    "            sum_ = 0\n",
    "            for j in range(c):\n",
    "                sum_ += mat[i][j]\n",
    "                integral_image[i][j] = sum_\n",
    "                if i > 0: integral_image[i][j] += integral_image[i-1][j]\n",
    "        r_indexes = [[max(0,i-k),min(r-1,i+k)] for i in range(r)]\n",
    "        c_indexes = [[max(0,j-k),min(c-1,j+k)] for j in range(c)]\n",
    "        ans = [[0 for i in range(c)]for j in range(r)]\n",
    "        for i in range(r):\n",
    "            for j in range(c):\n",
    "                ans[i][j] = integral_image[r_indexes[i][1]][c_indexes[j][1]]\n",
    "                if r_indexes[i][0] > 0: ans[i][j] -= integral_image[r_indexes[i][0]-1][c_indexes[j][1]]\n",
    "                if c_indexes[j][0] > 0: ans[i][j] -= integral_image[r_indexes[i][1]][c_indexes[j][0]-1]\n",
    "                if r_indexes[i][0] > 0 and c_indexes[j][0] > 0: ans[i][j] += integral_image[r_indexes[i][0]-1][c_indexes[j][0]-1]\n",
    "        return ans\n",
    "ans = Solution()\n",
    "ans.matrixBlockSum( [[1,2,3],[4,5,6],[7,8,9]], 1)"
   ]
  },
  {
   "cell_type": "markdown",
   "metadata": {},
   "source": [
    "Success Details \n",
    "- Runtime: 100 ms, faster than 91.30% of Python3 online submissions for Matrix Block Sum.\n",
    "- Memory Usage: 15.5 MB, less than 21.63% of Python3 online submissions for Matrix Block Sum."
   ]
  },
  {
   "cell_type": "code",
   "execution_count": 254,
   "metadata": {},
   "outputs": [
    {
     "data": {
      "text/plain": [
       "[[12, 21, 16], [27, 45, 33], [24, 39, 28]]"
      ]
     },
     "execution_count": 254,
     "metadata": {},
     "output_type": "execute_result"
    }
   ],
   "source": [
    "class Solution:\n",
    "    def matrixBlockSum(self, mat , k):\n",
    "        r, c = len(mat),len(mat[0]) #row, col\n",
    "        integral_image = [[0 for i in range(c)]for j in range(r)]\n",
    "        for i in range(r):\n",
    "            sum_ = 0\n",
    "            for j in range(c):\n",
    "                sum_ += mat[i][j]\n",
    "                integral_image[i][j] = sum_\n",
    "                if i > 0: integral_image[i][j] += integral_image[i-1][j]\n",
    "        r_indexes = [[max(0,i-k),min(r-1,i+k)] for i in range(r)]\n",
    "        c_indexes = [[max(0,j-k),min(c-1,j+k)] for j in range(c)]\n",
    "        ans = [[0 for i in range(c)]for j in range(r)]\n",
    "        for i in range(r):\n",
    "            for j in range(c):\n",
    "                min_row, max_row = r_indexes[i]\n",
    "                min_col, max_col = c_indexes[j]\n",
    "                ans[i][j] = integral_image[max_row][max_col]\n",
    "                if min_row > 0: ans[i][j] -= integral_image[min_row - 1][max_col]\n",
    "                if min_col > 0: ans[i][j] -= integral_image[max_row][min_col - 1]\n",
    "                if min_row > 0 and min_col > 0: ans[i][j] += integral_image[min_row-1][min_col-1]\n",
    "        return ans\n",
    "ans = Solution()\n",
    "ans.matrixBlockSum( [[1,2,3],[4,5,6],[7,8,9]], 1)"
   ]
  },
  {
   "cell_type": "markdown",
   "metadata": {},
   "source": [
    "Success Details \n",
    "- Runtime: 96 ms, faster than 96.41% of Python3 online submissions for Matrix Block Sum.\n",
    "- Memory Usage: 15.4 MB, less than 64.89% of Python3 online submissions for Matrix Block Sum."
   ]
  },
  {
   "cell_type": "markdown",
   "metadata": {},
   "source": [
    "## Week 26 - June 26, 2021"
   ]
  },
  {
   "cell_type": "markdown",
   "metadata": {},
   "source": [
    "### 1277. Count Square Submatrices with All Ones\n",
    "https://leetcode.com/problems/count-square-submatrices-with-all-ones/\n",
    "\n",
    "\n",
    "Given a `m * n` matrix of ones and zeros, return how many square submatrices have all ones.\n",
    "\n",
    " \n",
    "\n",
    "#### Example 1:\n",
    "\n",
    "- Input: matrix =\n",
    "`[\n",
    "  [0,1,1,1],\n",
    "  [1,1,1,1],\n",
    "  [0,1,1,1]\n",
    "]`\n",
    "\n",
    "- Output: 15\n",
    "- Explanation: \n",
    "    - There are 10 squares of side 1.\n",
    "    - There are 4 squares of side 2.\n",
    "    - There is  1 square of side 3.\n",
    "    - Total number of squares = 10 + 4 + 1 = 15.\n",
    "\n",
    "#### Example 2:\n",
    "\n",
    "- Input: matrix = \n",
    "`[\n",
    "  [1,0,1],\n",
    "  [1,1,0],\n",
    "  [1,1,0]\n",
    "]`\n",
    "- Output: 7\n",
    "- Explanation: \n",
    "    - There are 6 squares of side 1.  \n",
    "    - There is 1 square of side 2. \n",
    "    - Total number of squares = 6 + 1 = 7.\n",
    " \n",
    "\n",
    "#### Constraints:\n",
    "\n",
    "- `1 <= arr.length <= 300`\n",
    "- `1 <= arr[0].length <= 300`\n",
    "- `0 <= arr[i][j] <= 1`"
   ]
  },
  {
   "cell_type": "code",
   "execution_count": 20,
   "metadata": {},
   "outputs": [],
   "source": [
    "class Solution:\n",
    "    def countSquares(self, matrix):\n",
    "        r,c = len(matrix), len(matrix[0])\n",
    "        all_squares = 0\n",
    "\n",
    "        for i in range(r):\n",
    "            for j in range(c):\n",
    "                if matrix[i][j] == 1:\n",
    "                    if i == 0 or j == 0: \n",
    "                        all_squares +=1\n",
    "                    else:\n",
    "                        cell_val = min(matrix[i-1][j-1],matrix[i-1][j],matrix[i][j-1])+matrix[i][j]\n",
    "                        all_squares += cell_val\n",
    "                        matrix[i][j] = cell_val\n",
    "        return all_squares"
   ]
  },
  {
   "cell_type": "code",
   "execution_count": 22,
   "metadata": {},
   "outputs": [
    {
     "data": {
      "text/plain": [
       "15"
      ]
     },
     "execution_count": 22,
     "metadata": {},
     "output_type": "execute_result"
    }
   ],
   "source": [
    "ans = Solution()\n",
    "#ans.countSquares([[1,0,1],[1,1,0],[1,1,0]])\n",
    "ans.countSquares([[0,1,1,1],[1,1,1,1],[0,1,1,1]])"
   ]
  },
  {
   "cell_type": "markdown",
   "metadata": {},
   "source": [
    "Success Details \n",
    "- Runtime: 584 ms, faster than 95.88% of Python3 online submissions for Count Square Submatrices with All Ones.\n",
    "- Memory Usage: 16.4 MB, less than 65.68% of Python3 online submissions for Count Square Submatrices with All Ones."
   ]
  },
  {
   "cell_type": "markdown",
   "metadata": {},
   "source": [
    "## Week 27 - July 03, 2021"
   ]
  },
  {
   "cell_type": "markdown",
   "metadata": {},
   "source": [
    "### 221. Maximal Square\n",
    "https://leetcode.com/problems/maximal-square/\n",
    "\n",
    "Given an `m x n` binary matrix filled with 0's and 1's, find the largest square containing only 1's and return its area.\n",
    "\n",
    "#### Example 1:\n",
    "- Input: matrix = [[\"1\",\"0\",\"1\",\"0\",\"0\"],[\"1\",\"0\",\"1\",\"1\",\"1\"],[\"1\",\"1\",\"1\",\"1\",\"1\"],[\"1\",\"0\",\"0\",\"1\",\"0\"]]\n",
    "- Output: 4\n",
    "\n",
    "#### Example 2:\n",
    "- Input: matrix = [[\"0\",\"1\"],[\"1\",\"0\"]]\n",
    "- Output: 1\n",
    "\n",
    "#### Example 3:\n",
    "- Input: matrix = [[\"0\"]]\n",
    "- Output: 0\n",
    " \n",
    "\n",
    "\n",
    "#### Constraints:\n",
    "- `m == matrix.length`\n",
    "- `n == matrix[i].length`\n",
    "- `1 <= m, n <= 300`\n",
    "- matrix[i][j] is '0' or '1'."
   ]
  },
  {
   "cell_type": "code",
   "execution_count": 49,
   "metadata": {},
   "outputs": [],
   "source": [
    "class Solution:\n",
    "    def maximalSquare(self, matrix):\n",
    "        m,n = len(matrix), len(matrix[0])\n",
    "        max_val = 0\n",
    "        for i in range(m):\n",
    "            for j in range(n):\n",
    "                if matrix[i][j] == '1':\n",
    "                    if i == 0 or j == 0: \n",
    "                        cell_val = 1\n",
    "                    else: \n",
    "                        cell_val = min(int(matrix[i-1][j-1]),int(matrix[i-1][j]),\n",
    "                                       int(matrix[i][j-1]))+int(matrix[i][j])\n",
    "                        matrix[i][j] = cell_val\n",
    "                    max_val = max(max_val,cell_val)\n",
    "        return max_val**2      "
   ]
  },
  {
   "cell_type": "code",
   "execution_count": 52,
   "metadata": {},
   "outputs": [
    {
     "data": {
      "text/plain": [
       "1"
      ]
     },
     "execution_count": 52,
     "metadata": {},
     "output_type": "execute_result"
    }
   ],
   "source": [
    "ans = Solution()\n",
    "ans.maximalSquare([[\"0\",\"1\"],[\"1\",\"0\"]])"
   ]
  },
  {
   "cell_type": "markdown",
   "metadata": {},
   "source": [
    "Success Details \n",
    "- Runtime: 224 ms, faster than 43.09% of Python3 online submissions for Maximal Square.\n",
    "- Memory Usage: 15.6 MB, less than 74.25% of Python3 online submissions for Maximal Square."
   ]
  },
  {
   "cell_type": "code",
   "execution_count": 65,
   "metadata": {},
   "outputs": [],
   "source": [
    "class Solution:\n",
    "    def maximalSquare(self, matrix):\n",
    "        m,n = len(matrix), len(matrix[0])\n",
    "        max_val = 0\n",
    "        for i in range(m):\n",
    "            for j in range(n):\n",
    "                matrix[i][j] = int(matrix[i][j] )\n",
    "                if matrix[i][j] == 1:   \n",
    "                    max_val = max(max_val,1)\n",
    "                    if i != 0 and j!= 0: \n",
    "                        cell_val = min(matrix[i-1][j-1],matrix[i-1][j],\n",
    "                                       matrix[i][j-1])+matrix[i][j]\n",
    "                        matrix[i][j] = cell_val\n",
    "                        max_val = max(max_val,cell_val)\n",
    "            \n",
    "        return max_val**2      "
   ]
  },
  {
   "cell_type": "code",
   "execution_count": 66,
   "metadata": {},
   "outputs": [
    {
     "data": {
      "text/plain": [
       "4"
      ]
     },
     "execution_count": 66,
     "metadata": {},
     "output_type": "execute_result"
    }
   ],
   "source": [
    "ans = Solution()\n",
    "ans.maximalSquare([[\"1\",\"0\",\"1\",\"0\",\"0\"],[\"1\",\"0\",\"1\",\"1\",\"1\"],[\"1\",\"1\",\"1\",\"1\",\"1\"],[\"1\",\"0\",\"0\",\"1\",\"0\"]])"
   ]
  },
  {
   "cell_type": "markdown",
   "metadata": {},
   "source": [
    "Success Details \n",
    "- Runtime: 236 ms, faster than 36.72% of Python3 online submissions for Maximal Square.\n",
    "- Memory Usage: 15.4 MB, less than 97.74% of Python3 online submissions for Maximal Square."
   ]
  },
  {
   "cell_type": "code",
   "execution_count": 64,
   "metadata": {},
   "outputs": [
    {
     "data": {
      "text/plain": [
       "4"
      ]
     },
     "execution_count": 64,
     "metadata": {},
     "output_type": "execute_result"
    }
   ],
   "source": [
    "matrix = [[\"1\",\"0\",\"1\",\"0\",\"0\"],[\"1\",\"0\",\"1\",\"1\",\"1\"],[\"1\",\"1\",\"1\",\"1\",\"1\"],[\"1\",\"0\",\"0\",\"1\",\"0\"]]\n",
    "#matrix = [[\"0\",\"1\"],[\"1\",\"0\"]]\n",
    "#matrix = [[\"1\",\"0\"],[\"0\",\"0\"]]\n",
    "#matrix = [[\"1\"]]\n",
    "m,n = len(matrix), len(matrix[0])\n",
    "max_val = 0\n",
    "for i in range(m):\n",
    "    for j in range(n):\n",
    "        matrix[i][j] = int(matrix[i][j] )\n",
    "        if matrix[i][j] == 1:   \n",
    "            max_val = max(max_val,1)\n",
    "            if i != 0 and j!= 0: \n",
    "                cell_val = min(matrix[i-1][j-1],matrix[i-1][j],\n",
    "                               matrix[i][j-1])+matrix[i][j]\n",
    "                matrix[i][j] = cell_val\n",
    "                max_val = max(max_val,cell_val)\n",
    "            \n",
    "max_val**2"
   ]
  },
  {
   "cell_type": "markdown",
   "metadata": {},
   "source": [
    "## Week 28 - July 10, 2021"
   ]
  },
  {
   "cell_type": "markdown",
   "metadata": {},
   "source": [
    "### 119. Pascal's Triangle II\n",
    "https://leetcode.com/problems/pascals-triangle-ii/\n",
    "\n",
    "Given an integer rowIndex, return the rowIndexth (0-indexed) row of the Pascal's triangle.\n",
    "\n",
    "In Pascal's triangle, each number is the sum of the two numbers directly above it as shown:\n",
    "\n",
    "#### Example 1:\n",
    "- Input: rowIndex = 3\n",
    "- Output: [1,3,3,1]\n",
    "\n",
    "#### Example 2:\n",
    "- Input: rowIndex = 0\n",
    "- Output: [1]\n",
    "\n",
    "#### Example 3:\n",
    "- Input: rowIndex = 1\n",
    "- Output: [1,1]\n",
    "\n",
    "#### Constraints:\n",
    "- 0 <= rowIndex <= 33\n",
    "\n",
    "#### Follow up: Could you optimize your algorithm to use only O(rowIndex) extra space?"
   ]
  },
  {
   "cell_type": "code",
   "execution_count": 1,
   "metadata": {},
   "outputs": [],
   "source": [
    "class Solution:\n",
    "    def getRow(self, rowIndex):\n",
    "        dp = []\n",
    "        for i in range(rowIndex+1):\n",
    "            dp.append([0]*(i+1))\n",
    "            dp[i][0],dp[i][-1] = 1,1\n",
    "            if i >=2:\n",
    "                for j in range(1,len(dp[i])-1):\n",
    "                    dp[i][j] = dp[i-1][j-1]+dp[i-1][j]\n",
    "        return dp[rowIndex]"
   ]
  },
  {
   "cell_type": "code",
   "execution_count": 2,
   "metadata": {},
   "outputs": [
    {
     "data": {
      "text/plain": [
       "[1, 3, 3, 1]"
      ]
     },
     "execution_count": 2,
     "metadata": {},
     "output_type": "execute_result"
    }
   ],
   "source": [
    "ans = Solution()\n",
    "ans.getRow(3)"
   ]
  },
  {
   "cell_type": "markdown",
   "metadata": {},
   "source": [
    "Success Details \n",
    "- Runtime: 32 ms, faster than 63.11% of Python3 online submissions for Pascal's Triangle II.\n",
    "- Memory Usage: 14.2 MB, less than 77.19% of Python3 online submissions for Pascal's Triangle II."
   ]
  },
  {
   "cell_type": "code",
   "execution_count": 3,
   "metadata": {},
   "outputs": [],
   "source": [
    "class Solution:\n",
    "    def getRow(self, rowIndex):\n",
    "        dp = []\n",
    "        for i in range(rowIndex+1):\n",
    "            dp.append([1]*(i+1))\n",
    "            if i >=2:\n",
    "                for j in range(1,len(dp[i])-1):\n",
    "                    dp[i][j] = dp[i-1][j-1]+dp[i-1][j]\n",
    "        return dp[rowIndex]"
   ]
  },
  {
   "cell_type": "markdown",
   "metadata": {},
   "source": [
    "Success Details \n",
    "- Runtime: 52 ms, faster than 6.36% of Python3 online submissions for Pascal's Triangle II.\n",
    "- Memory Usage: 14.3 MB, less than 50.85% of Python3 online submissions for Pascal's Triangle II."
   ]
  },
  {
   "cell_type": "code",
   "execution_count": 4,
   "metadata": {},
   "outputs": [],
   "source": [
    "class Solution:\n",
    "    def getRow(self, rowIndex):\n",
    "        dp = []\n",
    "        for i in range(rowIndex+1):\n",
    "            dp.append([0]*(i+1))\n",
    "            dp[i][0],dp[i][-1] = 1,1\n",
    "            if i >=2:\n",
    "                for j in range(1,len(dp[i])-1):\n",
    "                    dp[i][j] = dp[i-1][j-1]+dp[i-1][j]\n",
    "        return dp[rowIndex]"
   ]
  },
  {
   "cell_type": "markdown",
   "metadata": {},
   "source": [
    "Success Details \n",
    "- Runtime: 32 ms, faster than 63.11% of Python3 online submissions for Pascal's Triangle II.\n",
    "- Memory Usage: 14.4 MB, less than 18.95% of Python3 online submissions for Pascal's Triangle II."
   ]
  },
  {
   "cell_type": "code",
   "execution_count": 5,
   "metadata": {},
   "outputs": [],
   "source": [
    "class Solution:\n",
    "    def getRow(self,rowIndex):\n",
    "        rt=[1]*(rowIndex+1)\n",
    "        for i in range(2, rowIndex+1):\n",
    "            for j in range(1, i):\n",
    "                rt[i-j]+=rt[i-j-1]\n",
    "        return rt"
   ]
  },
  {
   "cell_type": "markdown",
   "metadata": {},
   "source": [
    "Success Details \n",
    "- Runtime: 44 ms, faster than 8.76% of Python3 online submissions for Pascal's Triangle II.\n",
    "- Memory Usage: 14.4 MB, less than 18.95% of Python3 online submissions for Pascal's Triangle II."
   ]
  },
  {
   "cell_type": "markdown",
   "metadata": {},
   "source": [
    "## Week 29 - July 17, 2021"
   ]
  },
  {
   "cell_type": "markdown",
   "metadata": {},
   "source": [
    "\n",
    "### 1137. N-th Tribonacci Number\n",
    "\n",
    "https://leetcode.com/problems/n-th-tribonacci-number/submissions/\n",
    "\n",
    "The Tribonacci sequence Tn is defined as follows: \n",
    "T0 = 0, T1 = 1, T2 = 1, and Tn+3 = Tn + Tn+1 + Tn+2 for n >= 0.\n",
    "Given n, return the value of Tn.\n",
    "\n",
    "#### Example 1:\n",
    "- Input: n = 4\n",
    "- Output: 4\n",
    "- Explanation:\n",
    "    - T_3 = 0 + 1 + 1 = 2\n",
    "    - T_4 = 1 + 1 + 2 = 4\n",
    "\n",
    "#### Example 2:\n",
    "- Input: n = 25\n",
    "- Output: 1389537\n",
    "\n",
    "#### Constraints:\n",
    "- 0 <= n <= 37\n",
    "- The answer is guaranteed to fit within a 32-bit integer, ie. answer <= 2^31 - 1."
   ]
  },
  {
   "cell_type": "code",
   "execution_count": 7,
   "metadata": {},
   "outputs": [],
   "source": [
    "class Solution:\n",
    "    def tribonacci(self, n: int) -> int:\n",
    "        dp = [0,1,1]\n",
    "        for i in range(3,n+1):\n",
    "            dp.append(dp[i-3]+dp[i-2]+dp[i-1])\n",
    "        return dp[n]"
   ]
  },
  {
   "cell_type": "code",
   "execution_count": 8,
   "metadata": {},
   "outputs": [
    {
     "data": {
      "text/plain": [
       "1389537"
      ]
     },
     "execution_count": 8,
     "metadata": {},
     "output_type": "execute_result"
    }
   ],
   "source": [
    "ans = Solution()\n",
    "ans.tribonacci(25)"
   ]
  },
  {
   "cell_type": "markdown",
   "metadata": {},
   "source": [
    "Success Details \n",
    "- Runtime: 28 ms, faster than 80.98% of Python3 online submissions for N-th Tribonacci Number.\n",
    "- Memory Usage: 14.2 MB, less than 71.38% of Python3 online submissions for N-th Tribonacci Number."
   ]
  },
  {
   "cell_type": "code",
   "execution_count": 1,
   "metadata": {},
   "outputs": [],
   "source": [
    "class Solution:\n",
    "    def tribonacci(self, n: int) -> int:\n",
    "        dp = [0]+[1]*n\n",
    "        for i in range(3,n+1):\n",
    "            dp[i]=dp[i-3]+dp[i-2]+dp[i-1]\n",
    "        return dp[n]"
   ]
  },
  {
   "cell_type": "markdown",
   "metadata": {},
   "source": [
    "Success Details \n",
    "- Runtime: 28 ms, faster than 80.98% of Python3 online submissions for N-th Tribonacci Number.\n",
    "- Memory Usage: 14.2 MB, less than 71.38% of Python3 online submissions for N-th Tribonacci Number."
   ]
  },
  {
   "cell_type": "markdown",
   "metadata": {},
   "source": [
    "## Week 30 - July 24, 2021"
   ]
  },
  {
   "cell_type": "markdown",
   "metadata": {},
   "source": [
    "### 1646. Get Maximum in Generated Array\n",
    "\n",
    "https://leetcode.com/problems/get-maximum-in-generated-array/\n",
    "\n",
    "You are given an integer n. An array nums of length n + 1 is generated in the following way:\n",
    "- nums[0] = 0\n",
    "- nums[1] = 1\n",
    "- nums[2 * i] = nums[i] when 2 <= 2 * i <= n\n",
    "- nums[2 * i + 1] = nums[i] + nums[i + 1] when 2 <= 2 * i + 1 <= n\n",
    "Return the maximum integer in the array nums​​​.\n",
    "\n",
    "#### Example 1:\n",
    "- Input: n = 7\n",
    "- Output: 3\n",
    "- Explanation: According to the given rules:\n",
    "     - nums[0] = 0\n",
    "     - nums[1] = 1\n",
    "     - nums[(1 * 2) = 2] = nums[1] = 1\n",
    "     - nums[(1 * 2) + 1 = 3] = nums[1] + nums[2] = 1 + 1 = 2\n",
    "     - nums[(2 * 2) = 4] = nums[2] = 1\n",
    "     - nums[(2 * 2) + 1 = 5] = nums[2] + nums[3] = 1 + 2 = 3\n",
    "     - nums[(3 * 2) = 6] = nums[3] = 2\n",
    "     - nums[(3 * 2) + 1 = 7] = nums[3] + nums[4] = 2 + 1 = 3\n",
    "Hence, nums = [0,1,1,2,1,3,2,3], and the maximum is 3.\n",
    "\n",
    "#### Example 2:\n",
    "- Input: n = 2\n",
    "- Output: 1\n",
    "- Explanation: According to the given rules, the maximum between nums[0], nums[1], and nums[2] is 1.\n",
    "\n",
    "#### Example 3:\n",
    "- Input: n = 3\n",
    "- Output: 2\n",
    "- Explanation: According to the given rules, the maximum between nums[0], nums[1], nums[2], and nums[3] is 2.\n",
    "\n",
    "#### Constraints:\n",
    "- 0 <= n <= 100"
   ]
  },
  {
   "cell_type": "code",
   "execution_count": 6,
   "metadata": {},
   "outputs": [],
   "source": [
    "class Solution:\n",
    "    def getMaximumGenerated(self, n: int) -> int:\n",
    "        dp = [0]+[1]*n\n",
    "        for i in range(2,n+1):\n",
    "            if i%2==0:\n",
    "                dp[i] = dp[int(i/2)]\n",
    "            else:\n",
    "                dp[i] = dp[int((i-1)/2)]+dp[int((i-1)/2)+1]\n",
    "        return max(dp)"
   ]
  },
  {
   "cell_type": "code",
   "execution_count": 7,
   "metadata": {},
   "outputs": [
    {
     "data": {
      "text/plain": [
       "3"
      ]
     },
     "execution_count": 7,
     "metadata": {},
     "output_type": "execute_result"
    }
   ],
   "source": [
    "ans = Solution()\n",
    "ans.getMaximumGenerated(7)"
   ]
  },
  {
   "cell_type": "markdown",
   "metadata": {},
   "source": [
    "Success Details \n",
    "- Runtime: 32 ms, faster than 60.76% of Python3 online submissions for Get Maximum in Generated Array.\n",
    "- Memory Usage: 14.2 MB, less than 46.24% of Python3 online submissions for Get Maximum in Generated Array."
   ]
  },
  {
   "cell_type": "markdown",
   "metadata": {},
   "source": [
    "## Week 31 - July 31, 2021"
   ]
  },
  {
   "cell_type": "markdown",
   "metadata": {},
   "source": [
    "\n",
    "    \n",
    "### 1395. Count Number of Teams\n",
    "\n",
    "https://leetcode.com/problems/count-number-of-teams/\n",
    "\n",
    "There are `n` soldiers standing in a line. Each soldier is assigned a unique rating value.\n",
    "\n",
    "You have to form a team of `3` soldiers amongst them under the following rules:\n",
    "\n",
    "- Choose 3 soldiers with index `(i, j, k)` with rating `(rating[i], rating[j], rating[k])`.\n",
    "- A team is valid if: `(rating[i] < rating[j] < rating[k])` or `(rating[i] > rating[j] > rating[k])` where `(0 <= i < j < k < n)`.\n",
    "- Return the number of teams you can form given the conditions. (soldiers can be part of multiple teams).\n",
    "\n",
    "#### Example 1:\n",
    "- Input: rating = [2,5,3,4,1]\n",
    "- Output: 3\n",
    "- Explanation: We can form three teams given the conditions. (2,3,4), (5,4,1), (5,3,1). \n",
    "\n",
    "#### Example 2:\n",
    "- Input: rating = [2,1,3]\n",
    "- Output: 0\n",
    "- Explanation: We can't form any team given the conditions.\n",
    "\n",
    "#### Example 3:\n",
    "- Input: rating = [1,2,3,4]\n",
    "- Output: 4\n",
    " \n",
    "#### Constraints:\n",
    "- n == rating.length\n",
    "- 3 <= n <= 1000\n",
    "- 1 <= rating[i] <= 105\n",
    "- All the integers in rating are unique."
   ]
  },
  {
   "cell_type": "code",
   "execution_count": 35,
   "metadata": {},
   "outputs": [],
   "source": [
    "class Solution:\n",
    "    def numTeams(self, rating) -> int:\n",
    "        all_results = []\n",
    "        len_rating = len(rating) \n",
    "        for i in range(len_rating-2):\n",
    "             for j in range(i+1,len_rating-1):\n",
    "                if rating[j] > rating[i]:\n",
    "                    for k in range(j+1,len(rating)):\n",
    "                        if rating[k] > rating[j]:\n",
    "                            if (rating[i],rating[j],rating[k]) not in all_results : \n",
    "                                all_results.append((rating[i],rating[j],rating[k]))\n",
    "                else:\n",
    "                    for k in range(j+1,len(rating)):\n",
    "                        if rating[k] < rating[j]:\n",
    "                            if (rating[i],rating[j],rating[k]) not in all_results : \n",
    "                                all_results.append((rating[i],rating[j],rating[k]))\n",
    "        print(all_results)\n",
    "        return len(all_results)  "
   ]
  },
  {
   "cell_type": "code",
   "execution_count": 17,
   "metadata": {},
   "outputs": [
    {
     "data": {
      "text/plain": [
       "4"
      ]
     },
     "execution_count": 17,
     "metadata": {},
     "output_type": "execute_result"
    }
   ],
   "source": [
    "ans = Solution()\n",
    "ans.numTeams([1,2,3,4])"
   ]
  },
  {
   "cell_type": "markdown",
   "metadata": {},
   "source": [
    "Time Limit Exceeded"
   ]
  },
  {
   "cell_type": "raw",
   "metadata": {},
   "source": [
    "class Solution:\n",
    "    def numTeams(self, rating) -> int:\n",
    "        all_results = []\n",
    "        len_rating = len(rating) \n",
    "        for i,i_val in enumerate(rating[:-2]):\n",
    "             for j_val in rating[i+1:-1]:\n",
    "                if j_val > i_val:\n",
    "                    for k_val in rating[i+2:]:\n",
    "                        if k_val > j_val and (i_val,j_val,k_val) not in all_results:\n",
    "                            all_results.append((i_val,j_val,k_val))\n",
    "                else:\n",
    "                    for k_val in rating[i+2:]:\n",
    "                        if k_val < j_val and (i_val,j_val,k_val) not in all_results:\n",
    "                            all_results.append((i_val,j_val,k_val))\n",
    "        print(all_results)\n",
    "        return len(all_results)  "
   ]
  },
  {
   "cell_type": "code",
   "execution_count": 36,
   "metadata": {},
   "outputs": [
    {
     "name": "stdout",
     "output_type": "stream",
     "text": [
      "[(3, 6, 7), (6, 5, 1), (7, 5, 1)]\n",
      "[(1, 2, 3), (1, 2, 4), (1, 3, 4), (2, 3, 4)]\n"
     ]
    },
    {
     "data": {
      "text/plain": [
       "4"
      ]
     },
     "execution_count": 36,
     "metadata": {},
     "output_type": "execute_result"
    }
   ],
   "source": [
    "ans = Solution()\n",
    "ans.numTeams([3,6,7,5,1])\n",
    "ans.numTeams([1,2,3,4])"
   ]
  },
  {
   "cell_type": "code",
   "execution_count": 9,
   "metadata": {},
   "outputs": [
    {
     "data": {
      "text/plain": [
       "4"
      ]
     },
     "execution_count": 9,
     "metadata": {},
     "output_type": "execute_result"
    }
   ],
   "source": [
    "rating = [2,5,3,4,1]\n",
    "rating = [2,1,3]\n",
    "rating = [1,2,3,4]\n",
    "\n",
    "all_results = []\n",
    "for i in rating[:-2]:\n",
    "     for j in rating[rating.index(i)+1:-1]:\n",
    "        if j > i:\n",
    "            for k in rating[rating.index(j)+1:]:\n",
    "                if k > j:\n",
    "                    if (i,j,k) not in all_results : all_results.append((i,j,k))\n",
    "        else:\n",
    "            for k in rating[rating.index(j)+1:]:\n",
    "                if k < j:\n",
    "                    if (i,j,k) not in all_results : all_results.append((i,j,k))\n",
    "len(all_results)"
   ]
  },
  {
   "cell_type": "code",
   "execution_count": null,
   "metadata": {},
   "outputs": [],
   "source": []
  },
  {
   "cell_type": "markdown",
   "metadata": {},
   "source": [
    "## Week ## - MM DD, 2021"
   ]
  },
  {
   "cell_type": "markdown",
   "metadata": {},
   "source": [
    "https://leetcode.com/tag/dynamic-programming/"
   ]
  }
 ],
 "metadata": {
  "kernelspec": {
   "display_name": "Python 3",
   "language": "python",
   "name": "python3"
  },
  "language_info": {
   "codemirror_mode": {
    "name": "ipython",
    "version": 3
   },
   "file_extension": ".py",
   "mimetype": "text/x-python",
   "name": "python",
   "nbconvert_exporter": "python",
   "pygments_lexer": "ipython3",
   "version": "3.7.4"
  }
 },
 "nbformat": 4,
 "nbformat_minor": 2
}

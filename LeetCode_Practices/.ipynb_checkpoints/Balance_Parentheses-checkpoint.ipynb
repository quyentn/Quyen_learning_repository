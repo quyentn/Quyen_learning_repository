{
 "cells": [
  {
   "cell_type": "markdown",
   "metadata": {},
   "source": [
    "### 1541. Minimum Insertions to Balance a Parentheses String (Medium)\n",
    "https://leetcode.com/problems/minimum-insertions-to-balance-a-parentheses-string/\n",
    "\n",
    "Given a parentheses string s containing only the characters `'('` and `')'`. A parentheses string is balanced if:\n",
    "\n",
    "Any left parenthesis `'('` must have a corresponding two consecutive right parenthesis `'))'`.\n",
    "Left parenthesis `'('` must go before the corresponding two consecutive right parenthesis `'))'`.\n",
    "In other words, we treat `'('` as openning parenthesis and `'))'` as closing parenthesis.\n",
    "\n",
    "For example, `\"())\"`, `\"())(())))\"` and `\"(())())))\"` are balanced, `\")()\"`, `\"()))`\" and `\"(()))\"` are not balanced.\n",
    "\n",
    "You can insert the characters `'('` and `')'` at any position of the string to balance it if needed.\n",
    "\n",
    "Return the minimum number of insertions needed to make s balanced."
   ]
  },
  {
   "cell_type": "markdown",
   "metadata": {},
   "source": [
    "#### Example 1:\n",
    "- Input: s = \"(()))\"\n",
    "- Output: 1\n",
    "- Explanation: The second '(' has two matching '))', but the first '(' has only ')' matching. We need to to add one more ')' at the end of the string to be \"(())))\" which is balanced.\n",
    "\n",
    "#### Example 2:\n",
    "- Input: s = \"())\"\n",
    "- Output: 0\n",
    "- Explanation: The string is already balanced.\n",
    "\n",
    "#### Example 3:\n",
    "- Input: s = \"))())(\"\n",
    "- Output: 3\n",
    "- Explanation: Add '(' to match the first '))', Add '))' to match the last '('.\n",
    "\n",
    "#### Example 4:\n",
    "- Input: s = \"((((((\"\n",
    "- Output: 12\n",
    "- Explanation: Add 12 ')' to balance the string.\n",
    "\n",
    "#### Example 5:\n",
    "- Input: s = \")))))))\"\n",
    "- Output: 5\n",
    "- Explanation: Add 4 '(' at the beginning of the string and one ')' at the end. The string becomes \"(((())))))))\"."
   ]
  },
  {
   "cell_type": "code",
   "execution_count": 11,
   "metadata": {},
   "outputs": [
    {
     "name": "stdout",
     "output_type": "stream",
     "text": [
      "[0, 1, 12, 13, 14, 15, 16, 33] [49]\n"
     ]
    },
    {
     "data": {
      "text/plain": [
       "13"
      ]
     },
     "execution_count": 11,
     "metadata": {},
     "output_type": "execute_result"
    }
   ],
   "source": [
    "class Solution: #wrong answer\n",
    "    def minInsertions(self, s):\n",
    "        add_close = 0\n",
    "        add_open = 0\n",
    "        matched_opens = []\n",
    "        matched_closes = []\n",
    "        un_matched_opens = []\n",
    "        un_matched_closes = []\n",
    "        for i,x in enumerate(s):\n",
    "            if x =='(':\n",
    "                pair_closes = [idx for idx,y in enumerate(s) if idx > i and y ==')' and idx not in matched_closes] #(O)n2\n",
    "                if len(pair_closes)>=1:\n",
    "                    matched_opens.append(i)\n",
    "                    if len(pair_closes)> 1 and pair_closes[0] == pair_closes[1]-1: matched_closes+= pair_closes[:2]\n",
    "                    else: \n",
    "                        matched_closes.append(pair_closes[0])\n",
    "                        add_close+=1\n",
    "                else:un_matched_opens.append(i)\n",
    "            elif i not in matched_closes: # i is the index for close bracket\n",
    "                un_matched_closes.append(i)\n",
    "        #print(un_matched_opens,un_matched_closes)\n",
    "        if len(un_matched_closes)%2==0: \n",
    "            add_open += len(un_matched_closes)/2\n",
    "            add_close += len(un_matched_opens)*2\n",
    "        else: \n",
    "            add_open += (len(un_matched_closes)+1)/2\n",
    "            add_close += len(un_matched_opens)*2+1\n",
    "\n",
    "        total_add = int(add_open +add_close)\n",
    "        print(un_matched_closes,un_matched_opens)\n",
    "        return total_add\n",
    "ans = Solution()\n",
    "ans.minInsertions(\"))(()()))()))))))()())()(())()))))()())(()())))()(\")"
   ]
  },
  {
   "cell_type": "code",
   "execution_count": 11,
   "metadata": {},
   "outputs": [
    {
     "data": {
      "text/plain": [
       "5"
      ]
     },
     "execution_count": 11,
     "metadata": {},
     "output_type": "execute_result"
    }
   ],
   "source": [
    "class Solution:\n",
    "    def minInsertions(self, s: str) -> int:\n",
    "        stack = []\n",
    "        cur_closed,total_add = 0 , 0\n",
    "        \n",
    "        for char in s: #(O)n\n",
    "            if char == '(':\n",
    "                if cur_closed == 1: #the previous open bracket has only 1 close bracket\n",
    "                    total_add += 1 #add 1 close bracket to finish openning\n",
    "                    cur_closed = 0 #reset to 0 openning\n",
    "                    stack.pop() #reset to 0 openning\n",
    "                    \n",
    "                stack.append('(') #assume open bracket without closed\n",
    "            \n",
    "            else: #char != '(':\n",
    "                if not stack: #no previous openning\n",
    "                    stack.append('(') #add open braket\n",
    "                    total_add += 1 #add open braket\n",
    "                    cur_closed += 1\n",
    "                    \n",
    "                elif cur_closed == 1: #exist open bracket with only one previous close bracket\n",
    "                    cur_closed = 0 #reset to 0 openning\n",
    "                    stack.pop() #reset to 0 openning\n",
    "                else: #open bracket without any previous close bracket\n",
    "                    cur_closed += 1\n",
    "                    \n",
    "        if stack:\n",
    "            total_add += (len(stack) * 2) - cur_closed\n",
    "            \n",
    "        return total_add\n",
    "ans = Solution()\n",
    "ans.minInsertions(\")))))))\")"
   ]
  },
  {
   "cell_type": "markdown",
   "metadata": {},
   "source": [
    "Success  \n",
    "- Runtime: 152 ms, faster than 79.50% of Python3 online submissions for Minimum Insertions to Balance a Parentheses String.\n",
    "- Memory Usage: 15.8 MB, less than 21.77% of Python3 online submissions for Minimum Insertions to Balance a Parentheses String."
   ]
  },
  {
   "cell_type": "code",
   "execution_count": 12,
   "metadata": {},
   "outputs": [
    {
     "data": {
      "text/plain": [
       "12"
      ]
     },
     "execution_count": 12,
     "metadata": {},
     "output_type": "execute_result"
    }
   ],
   "source": [
    "class Solution:\n",
    "    def minInsertions(self, s: str) -> int:                \n",
    "        ans, len_string, i, count_open = 0, len(s), 0, 0        \n",
    "        while i < len_string:     #<(O)n because of skipping a few close bracket position \n",
    "            if s[i] == '(': count_open += 1                                                \n",
    "            else: #close bracket\n",
    "                if count_open == 0: #no open --> add open\n",
    "                    ans += 1\n",
    "                    count_open = 1 \n",
    "                if i+1 <len_string and s[i+1] == ')':  #exits next position in the string\n",
    "                    i+= 1 #skip 1 next close bracket\n",
    "                    count_open -= 1\n",
    "                else: #end without sufficient close brackets\n",
    "                    ans += 1        \n",
    "                    count_open -= 1 \n",
    "            i += 1            \n",
    "        return ans + 2*count_open\n",
    "ans = Solution()\n",
    "ans.minInsertions(\"((((((\")"
   ]
  },
  {
   "cell_type": "markdown",
   "metadata": {},
   "source": [
    "Success \n",
    "- Runtime: 188 ms, faster than 58.36% of Python3 online submissions for Minimum Insertions to Balance a Parentheses String.\n",
    "- Memory Usage: 14.9 MB, less than 82.02% of Python3 online submissions for Minimum Insertions to Balance a Parentheses String."
   ]
  },
  {
   "cell_type": "markdown",
   "metadata": {},
   "source": [
    "### 1021. Remove Outermost Parentheses\n",
    "\n",
    "https://leetcode.com/problems/remove-outermost-parentheses/\n",
    "\n",
    "A valid parentheses string is either empty (\"\"), \"(\" + A + \")\", or A + B, where A and B are valid parentheses strings, and + represents string concatenation.  For example, \"\", \"()\", \"(())()\", and \"(()(()))\" are all valid parentheses strings.\n",
    "\n",
    "A valid parentheses string S is primitive if it is nonempty, and there does not exist a way to split it into S = A+B, with A and B nonempty valid parentheses strings.\n",
    "\n",
    "Given a valid parentheses string S, consider its primitive decomposition: S = P_1 + P_2 + ... + P_k, where P_i are primitive valid parentheses strings.\n",
    "\n",
    "Return S after removing the outermost parentheses of every primitive string in the primitive decomposition of S.\n",
    "\n",
    " \n",
    "\n",
    "#### Example 1:\n",
    "\n",
    "- Input: \"(()())(())\"\n",
    "- Output: \"()()()\"\n",
    "- Explanation: The input string is \"(()())(())\", with primitive decomposition \"(()())\" + \"(())\". After removing outer parentheses of each part, this is \"()()\" + \"()\" = \"()()()\".\n",
    "#### Example 2:\n",
    "- Input: \"(()())(())(()(()))\"\n",
    "- Output: \"()()()()(())\"\n",
    "- Explanation: The input string is \"(()())(())(()(()))\", with primitive decomposition \"(()())\" + \"(())\" + \"(()(()))\". After removing outer parentheses of each part, this is \"()()\" + \"()\" + \"()(())\" = \"()()()()(())\".\n",
    "#### Example 3:\n",
    "- Input: \"()()\"\n",
    "- Output: \"\"\n",
    "- Explanation: The input string is \"()()\", with primitive decomposition \"()\" + \"()\". After removing outer parentheses of each part, this is \"\" + \"\" = \"\".\n",
    " \n",
    "\n",
    "####  Note:\n",
    "- S.length <= 10000\n",
    "- S[i] is \"(\" or \")\"\n",
    "- S is a valid parentheses string\n",
    " "
   ]
  },
  {
   "cell_type": "code",
   "execution_count": 38,
   "metadata": {},
   "outputs": [
    {
     "data": {
      "text/plain": [
       "''"
      ]
     },
     "execution_count": 38,
     "metadata": {},
     "output_type": "execute_result"
    }
   ],
   "source": [
    "class Solution:\n",
    "    def removeOuterParentheses(self, S: str) -> str:\n",
    "        stack = []\n",
    "        cur_prim = ''\n",
    "        cur_open = 0\n",
    "        for char in S:\n",
    "            if cur_prim != '' and cur_open == 0:\n",
    "                stack.append(cur_prim)\n",
    "                cur_prim = ''\n",
    "            if char == '(':\n",
    "                cur_prim += char\n",
    "                cur_open += 1\n",
    "            else: #char == ')'\n",
    "                cur_open -= 1\n",
    "                cur_prim += char\n",
    "        stack.append(cur_prim)\n",
    "        ans = ''.join([x[1:-1] for x in stack])\n",
    "        return ans\n",
    "    \n",
    "ans = Solution()\n",
    "ans.removeOuterParentheses(\"()()\")"
   ]
  },
  {
   "cell_type": "markdown",
   "metadata": {},
   "source": [
    "Success Details \n",
    "- Runtime: 40 ms, faster than 58.27% of Python3 online submissions for Remove Outermost Parentheses.\n",
    "- Memory Usage: 14.5 MB, less than 37.72% of Python3 online submissions for Remove Outermost Parentheses."
   ]
  },
  {
   "cell_type": "code",
   "execution_count": 37,
   "metadata": {},
   "outputs": [
    {
     "data": {
      "text/plain": [
       "''"
      ]
     },
     "execution_count": 37,
     "metadata": {},
     "output_type": "execute_result"
    }
   ],
   "source": [
    "class Solution:\n",
    "    def removeOuterParentheses(self, S: str) -> str:\n",
    "        ans = ''\n",
    "        cur_prim = ''\n",
    "        cur_open = 0\n",
    "        for char in S:\n",
    "            if cur_prim != '' and cur_open == 0:\n",
    "                ans += cur_prim[1:-1]\n",
    "                cur_prim = ''\n",
    "            if char == '(':\n",
    "                cur_prim += char\n",
    "                cur_open += 1\n",
    "            else: #char == ')'\n",
    "                cur_open -= 1\n",
    "                cur_prim += char\n",
    "        ans += cur_prim[1:-1]\n",
    "        return ans\n",
    "    \n",
    "ans = Solution()\n",
    "ans.removeOuterParentheses(\"()()\")"
   ]
  },
  {
   "cell_type": "markdown",
   "metadata": {},
   "source": [
    "Success Details \n",
    "- Runtime: 36 ms, faster than 82.95% of Python3 online submissions for Remove Outermost Parentheses.\n",
    "- Memory Usage: 14.4 MB, less than 64.69% of Python3 online submissions for Remove Outermost Parentheses."
   ]
  },
  {
   "cell_type": "code",
   "execution_count": 40,
   "metadata": {},
   "outputs": [
    {
     "data": {
      "text/plain": [
       "'()()()()(())'"
      ]
     },
     "execution_count": 40,
     "metadata": {},
     "output_type": "execute_result"
    }
   ],
   "source": [
    "class Solution:\n",
    "    def removeOuterParentheses(self, S: str) -> str:\n",
    "        ans = ''\n",
    "        cur_prim = ''\n",
    "        cur_open = 0\n",
    "        for char in S:\n",
    "            if cur_prim != '' and cur_open == 0:\n",
    "                ans += cur_prim[1:-1]\n",
    "                cur_prim = ''\n",
    "            cur_prim += char\n",
    "            if char == '(':cur_open += 1\n",
    "            else: cur_open -= 1\n",
    "        ans += cur_prim[1:-1]\n",
    "        return ans\n",
    "    \n",
    "ans = Solution()\n",
    "ans.removeOuterParentheses(\"(()())(())(()(()))\")"
   ]
  },
  {
   "cell_type": "markdown",
   "metadata": {},
   "source": [
    "Success Details \n",
    "- Runtime: 32 ms, faster than 94.84% of Python3 online submissions for Remove Outermost Parentheses.\n",
    "- Memory Usage: 14.3 MB, less than 86.26% of Python3 online submissions for Remove Outermost Parentheses."
   ]
  },
  {
   "cell_type": "markdown",
   "metadata": {},
   "source": [
    "### 1614. Maximum Nesting Depth of the Parentheses\n",
    "https://leetcode.com/problems/maximum-nesting-depth-of-the-parentheses/\n",
    "\n",
    "A string is a valid parentheses string (denoted VPS) if it meets one of the following:\n",
    "\n",
    "- It is an empty string \"\", or a single character not equal to \"(\" or \")\",\n",
    "- It can be written as AB (A concatenated with B), where A and B are VPS's, or\n",
    "- It can be written as (A), where A is a VPS.\n",
    "\n",
    "We can similarly define the nesting depth depth(S) of any VPS S as follows:\n",
    "\n",
    "- depth(\"\") = 0\n",
    "- depth(C) = 0, where C is a string with a single character not equal to \"(\" or \")\".\n",
    "- depth(A + B) = max(depth(A), depth(B)), where A and B are VPS's.\n",
    "- depth(\"(\" + A + \")\") = 1 + depth(A), where A is a VPS.\n",
    "\n",
    "For example, \"\", \"()()\", and \"()(()())\" are VPS's (with nesting depths 0, 1, and 2), and \")(\" and \"(()\" are not VPS's. Given a VPS represented as string s, return the nesting depth of s.\n",
    "\n",
    "#### Example 1:\n",
    "- Input: s = \"(1+(2*3)+((8)/4))+1\"\n",
    "- Output: 3\n",
    "- Explanation: Digit 8 is inside of 3 nested parentheses in the string.\n",
    "\n",
    "#### Example 2:\n",
    "- Input: s = \"(1)+((2))+(((3)))\"\n",
    "- Output: 3\n",
    "\n",
    "#### Example 3\n",
    "- Input: s = \"1+(2*3)/(2-1)\"\n",
    "- Output: 1\n",
    "\n",
    "#### Example 4:\n",
    "- Input: s = \"1\"\n",
    "- Output: 0\n",
    "\n",
    "#### Constraints:\n",
    "\n",
    "- 1 <= s.length <= 100\n",
    "- s consists of digits 0-9 and characters '+', '-', '*', '/', '(', and ')'.\n",
    "- It is guaranteed that parentheses expression s is a VPS."
   ]
  },
  {
   "cell_type": "code",
   "execution_count": 46,
   "metadata": {},
   "outputs": [
    {
     "data": {
      "text/plain": [
       "3"
      ]
     },
     "execution_count": 46,
     "metadata": {},
     "output_type": "execute_result"
    }
   ],
   "source": [
    "class Solution:\n",
    "    def maxDepth(self, s: str) -> int:\n",
    "        max_depth = 0\n",
    "        cur_depth = 0\n",
    "        for char in s:\n",
    "            if char == '(':cur_depth += 1\n",
    "            elif char == ')': cur_depth -= 1\n",
    "            if cur_depth > max_depth: max_depth = cur_depth\n",
    "        return max_depth\n",
    "ans = Solution()\n",
    "ans.maxDepth(\"(1)+((2))+(((3)))\")"
   ]
  },
  {
   "cell_type": "markdown",
   "metadata": {},
   "source": [
    "Success\n",
    "- Runtime: 32 ms, faster than 61.64% of Python3 online submissions for Maximum Nesting Depth of the Parentheses.\n",
    "- Memory Usage: 14.1 MB, less than 72.70% of Python3 online submissions for Maximum Nesting Depth of the Parentheses."
   ]
  },
  {
   "cell_type": "code",
   "execution_count": 48,
   "metadata": {},
   "outputs": [
    {
     "data": {
      "text/plain": [
       "3"
      ]
     },
     "execution_count": 48,
     "metadata": {},
     "output_type": "execute_result"
    }
   ],
   "source": [
    "class Solution:\n",
    "    def maxDepth(self, s: str) -> int:\n",
    "        max_depth = 0\n",
    "        cur_depth = 0\n",
    "        for char in s:\n",
    "            if char == '(':\n",
    "                cur_depth += 1\n",
    "                max_depth = max(cur_depth,max_depth)\n",
    "            elif char == ')': cur_depth -= 1\n",
    "        return max_depth\n",
    "ans = Solution()\n",
    "ans.maxDepth(\"(1)+((2))+(((3)))\")"
   ]
  },
  {
   "cell_type": "markdown",
   "metadata": {},
   "source": [
    "Success Details \n",
    "- Runtime: 24 ms, faster than 95.83% of Python3 online submissions for Maximum Nesting Depth of the Parentheses.\n",
    "- Memory Usage: 14.1 MB, less than 72.70% of Python3 online submissions for Maximum Nesting Depth of the Parentheses."
   ]
  },
  {
   "cell_type": "markdown",
   "metadata": {},
   "source": [
    "### 20. Valid Parentheses\n",
    "https://leetcode.com/problems/valid-parentheses/\n",
    "\n",
    "Given a string s containing just the characters '(', ')', '{', '}', '[' and ']', determine if the input string is valid.\n",
    "\n",
    "An input string is valid if:\n",
    "\n",
    "- Open brackets must be closed by the same type of brackets.\n",
    "- Open brackets must be closed in the correct order.\n",
    "\n",
    "#### Example 1:\n",
    "- Input: s = \"()\"\n",
    "- Output: true\n",
    "\n",
    "#### Example 2:\n",
    "- Input: s = \"()[]{}\"\n",
    "- Output: true\n",
    "\n",
    "#### Example 3:\n",
    "- Input: s = \"(]\"\n",
    "- Output: false\n",
    "\n",
    "#### Example 4:\n",
    "- Input: s = \"([)]\"\n",
    "- Output: false\n",
    "\n",
    "#### Example 5:\n",
    "- Input: s = \"{[]}\"\n",
    "- Output: true\n",
    " \n",
    "\n",
    "#### Constraints:\n",
    "- 1 <= s.length <= 104\n",
    "- s consists of parentheses only '()[]{}'."
   ]
  },
  {
   "cell_type": "code",
   "execution_count": 64,
   "metadata": {},
   "outputs": [
    {
     "data": {
      "text/plain": [
       "False"
      ]
     },
     "execution_count": 64,
     "metadata": {},
     "output_type": "execute_result"
    }
   ],
   "source": [
    "class Solution:\n",
    "    def isValid(self, s: str) -> bool:\n",
    "        open_r,open_c,open_s = 0,0,0\n",
    "        stack = []\n",
    "        for char in s:\n",
    "            if char == ')':\n",
    "                if open_r == 0: return False\n",
    "                elif stack[-1] != '(': return False\n",
    "                else: open_r -= 1; stack.pop()\n",
    "            elif char == '}':\n",
    "                if open_c == 0: return False\n",
    "                elif stack[-1] != '{': return False\n",
    "                else: open_c -= 1; stack.pop()\n",
    "            elif char == ']':\n",
    "                if open_s == 0: return False\n",
    "                elif stack[-1] != '[': return False\n",
    "                else: open_s -= 1; stack.pop()\n",
    "            elif char == '(': open_r += 1; stack.append(char)\n",
    "            elif char == '{': open_c += 1; stack.append(char)\n",
    "            elif char == '[': open_s += 1; stack.append(char)\n",
    "        \n",
    "        total = open_r + open_c + open_s    \n",
    "        if total == 0: return True\n",
    "        else: return False\n",
    "ans = Solution()\n",
    "ans.isValid(\"(]\")"
   ]
  },
  {
   "cell_type": "markdown",
   "metadata": {},
   "source": [
    "Success Details \n",
    "- Runtime: 24 ms, faster than 95.85% of Python3 online submissions for Valid Parentheses.\n",
    "- Memory Usage: 14.3 MB, less than 66.84% of Python3 online submissions for Valid Parentheses."
   ]
  },
  {
   "cell_type": "code",
   "execution_count": null,
   "metadata": {},
   "outputs": [],
   "source": [
    "class Solution:\n",
    "    def isValid(self, s: str) -> bool:\n",
    "        open_r,open_c,open_s = 0,0,0\n",
    "        stack = []\n",
    "        for char in s:\n",
    "            if char == ')':\n",
    "                if open_r == 0: return False\n",
    "                elif stack[-1] != '(': return False\n",
    "                else: open_r -= 1; stack.pop()\n",
    "            elif char == '}':\n",
    "                if open_c == 0: return False\n",
    "                elif stack[-1] != '{': return False\n",
    "                else: open_c -= 1; stack.pop()\n",
    "            elif char == ']':\n",
    "                if open_s == 0: return False\n",
    "                elif stack[-1] != '[': return False\n",
    "                else: open_s -= 1; stack.pop()\n",
    "            elif char == '(': open_r += 1; stack.append(char)\n",
    "            elif char == '{': open_c += 1; stack.append(char)\n",
    "            elif char == '[': open_s += 1; stack.append(char)\n",
    "\n",
    "        return not open_r + open_c + open_s\n",
    "ans = Solution()\n",
    "ans.isValid(\"(]\")"
   ]
  },
  {
   "cell_type": "code",
   "execution_count": null,
   "metadata": {},
   "outputs": [],
   "source": []
  },
  {
   "cell_type": "code",
   "execution_count": null,
   "metadata": {},
   "outputs": [],
   "source": []
  },
  {
   "cell_type": "code",
   "execution_count": null,
   "metadata": {},
   "outputs": [],
   "source": []
  },
  {
   "cell_type": "code",
   "execution_count": null,
   "metadata": {},
   "outputs": [],
   "source": []
  },
  {
   "cell_type": "code",
   "execution_count": null,
   "metadata": {},
   "outputs": [],
   "source": []
  },
  {
   "cell_type": "code",
   "execution_count": null,
   "metadata": {},
   "outputs": [],
   "source": []
  },
  {
   "cell_type": "markdown",
   "metadata": {},
   "source": [
    "### Stack problem"
   ]
  },
  {
   "cell_type": "markdown",
   "metadata": {},
   "source": [
    "### 1441. Build an Array With Stack Operations (Easy)\n",
    "https://leetcode.com/problems/build-an-array-with-stack-operations/\n",
    "\n",
    "\n",
    "Given an array target and an integer n. In each iteration, you will read a number from  list = {1,2,3..., n}.\n",
    "\n",
    "Build the target array using the following operations:\n",
    "\n",
    "- Push: Read a new element from the beginning list, and push it in the array.\n",
    "- Pop: delete the last element of the array.\n",
    "- If the target array is already built, stop reading more elements.\n",
    "- Return the operations to build the target array. You are guaranteed that the answer is unique.\n",
    "\n",
    " "
   ]
  },
  {
   "cell_type": "markdown",
   "metadata": {},
   "source": [
    "#### Example 1:\n",
    "\n",
    "- Input: target = [1,3], n = 3\n",
    "- Output: [\"Push\",\"Push\",\"Pop\",\"Push\"]\n",
    "\n",
    "Explanation: \n",
    "- Read number 1 and automatically push in the array -> [1]\n",
    "- Read number 2 and automatically push in the array then Pop it -> [1]\n",
    "- Read number 3 and automatically push in the array -> [1,3]"
   ]
  },
  {
   "cell_type": "markdown",
   "metadata": {},
   "source": [
    "#### Example 2:\n",
    "\n",
    "- Input: target = [1,2,3], n = 3\n",
    "- Output: [\"Push\",\"Push\",\"Push\"]"
   ]
  },
  {
   "cell_type": "markdown",
   "metadata": {},
   "source": [
    "#### Example 3:\n",
    "\n",
    "- Input: target = [1,2], n = 4\n",
    "- Output: [\"Push\",\"Push\"]\n",
    "\n",
    "Explanation: You only need to read the first 2 numbers and stop."
   ]
  },
  {
   "cell_type": "markdown",
   "metadata": {},
   "source": [
    "#### Example 4:\n",
    "\n",
    "- Input: target = [2,3,4], n = 4\n",
    "- Output: [\"Push\",\"Pop\",\"Push\",\"Push\",\"Push\"]\n",
    " "
   ]
  },
  {
   "cell_type": "markdown",
   "metadata": {},
   "source": [
    "#### Constraints:\n",
    "\n",
    "- 1 <= target.length <= 100\n",
    "- 1 <= target[i] <= n\n",
    "- 1 <= n <= 100\n",
    "- target is strictly increasing."
   ]
  },
  {
   "cell_type": "code",
   "execution_count": 217,
   "metadata": {},
   "outputs": [
    {
     "data": {
      "text/plain": [
       "['Push', 'Pop', 'Push', 'Push', 'Push']"
      ]
     },
     "execution_count": 217,
     "metadata": {},
     "output_type": "execute_result"
    }
   ],
   "source": [
    "#Time (O)N N = len(target) << n\n",
    "class Solution:\n",
    "    def buildArray(self, target, n):\n",
    "        output = []\n",
    "        for i,num in enumerate(target):\n",
    "            if i > 0:add_commands  = (num - target[i-1]-1)*[\"Push\",\"Pop\"]+[\"Push\"]\n",
    "            else:add_commands  = (num - 1)*[\"Push\",\"Pop\"]+[\"Push\"]\n",
    "            output+= add_commands\n",
    "        return output\n",
    "target = [2,3,4]\n",
    "n = 4\n",
    "Solution.buildArray(n,target,n)"
   ]
  },
  {
   "cell_type": "markdown",
   "metadata": {},
   "source": [
    "Success Details \n",
    "\n",
    "Runtime: 44 ms, faster than 7.79% of Python3 online submissions for Build an Array With Stack Operations.\n",
    "\n",
    "Memory Usage: 14.4 MB, less than 16.22% of Python3 online submissions for Build an Array With Stack Operations."
   ]
  },
  {
   "cell_type": "code",
   "execution_count": 91,
   "metadata": {},
   "outputs": [
    {
     "data": {
      "text/plain": [
       "['Push', 'Pop', 'Push', 'Push', 'Push']"
      ]
     },
     "execution_count": 91,
     "metadata": {},
     "output_type": "execute_result"
    }
   ],
   "source": [
    "class Solution:\n",
    "    def buildArray(self, target, n):\n",
    "        output = []\n",
    "        pre= 0\n",
    "        for cur in target:\n",
    "            output+= (cur-pre-1)*[\"Push\",\"Pop\"]+[\"Push\"]\n",
    "            pre = cur\n",
    "        return output\n",
    "\n",
    "    \n",
    "target = [2,3,4]\n",
    "n = 3\n",
    "ans = Solution()\n",
    "ans.buildArray(target,n)"
   ]
  },
  {
   "cell_type": "markdown",
   "metadata": {},
   "source": [
    "Success Details \n",
    "\n",
    "Runtime: 48 ms, faster than 6.53% of Python3 online submissions for Build an Array With Stack Operations.\n",
    "\n",
    "Memory Usage: 14.3 MB, less than 16.84% of Python3 online submissions for Build an Array With Stack Operations."
   ]
  },
  {
   "cell_type": "code",
   "execution_count": 101,
   "metadata": {},
   "outputs": [
    {
     "data": {
      "text/plain": [
       "['Push', 'Pop', 'Push', 'Push', 'Push']"
      ]
     },
     "execution_count": 101,
     "metadata": {},
     "output_type": "execute_result"
    }
   ],
   "source": [
    "class Solution:\n",
    "    def buildArray(self, target, n):\n",
    "        output = target[-1]*[\"Push\",\"Pop\"]\n",
    "        output = [x for i,x in enumerate(output) if (i+1)/2 not in  target]#pre= 0\n",
    "        return output\n",
    "    \n",
    "target = [2,3,4]\n",
    "n = 3\n",
    "ans = Solution()\n",
    "ans.buildArray(target,n)"
   ]
  },
  {
   "cell_type": "markdown",
   "metadata": {},
   "source": [
    "Success  \n",
    "\n",
    "- Runtime: 36 ms, faster than 45.32% of Python3 online submissions for Build an Array With Stack Operations.\n",
    "- Memory Usage: 14.4 MB, less than 18.94% of Python3 online submissions for Build an Array With Stack Operations.\n"
   ]
  }
 ],
 "metadata": {
  "kernelspec": {
   "display_name": "Python 3",
   "language": "python",
   "name": "python3"
  },
  "language_info": {
   "codemirror_mode": {
    "name": "ipython",
    "version": 3
   },
   "file_extension": ".py",
   "mimetype": "text/x-python",
   "name": "python",
   "nbconvert_exporter": "python",
   "pygments_lexer": "ipython3",
   "version": "3.7.4"
  }
 },
 "nbformat": 4,
 "nbformat_minor": 2
}

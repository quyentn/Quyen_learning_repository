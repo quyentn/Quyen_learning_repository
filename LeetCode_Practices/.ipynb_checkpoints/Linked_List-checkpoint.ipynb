{
 "cells": [
  {
   "cell_type": "markdown",
   "metadata": {},
   "source": [
    "## LINKED LIST"
   ]
  },
  {
   "cell_type": "markdown",
   "metadata": {},
   "source": [
    "## Week 2 - Jan 16, 2021"
   ]
  },
  {
   "cell_type": "markdown",
   "metadata": {},
   "source": [
    "### Add Two Numbers\n",
    "https://leetcode.com/explore/featured/card/january-leetcoding-challenge-2021/580/week-2-january-8th-january-14th/3601/\n",
    "\n",
    "You are given two non-empty linked lists representing two non-negative integers. The digits are stored in reverse order, and each of their nodes contains a single digit. Add the two numbers and return the sum as a linked list.\n",
    "\n",
    "You may assume the two numbers do not contain any leading zero, except the number 0 itself.\n",
    "\n",
    " "
   ]
  },
  {
   "cell_type": "markdown",
   "metadata": {},
   "source": [
    "#### Example 1:\n",
    "\n",
    "Input: l1 = [2,4,3], l2 = [5,6,4]\n",
    "\n",
    "Output: [7,0,8]\n",
    "\n",
    "Explanation: 342 + 465 = 807."
   ]
  },
  {
   "cell_type": "markdown",
   "metadata": {},
   "source": [
    "#### Example 2:\n",
    "\n",
    "Input: l1 = [0], l2 = [0]\n",
    "\n",
    "Output: [0]"
   ]
  },
  {
   "cell_type": "markdown",
   "metadata": {},
   "source": [
    "#### Example 3:\n",
    "\n",
    "Input: l1 = [9,9,9,9,9,9,9], l2 = [9,9,9,9]\n",
    "\n",
    "Output: [8,9,9,9,0,0,0,1] "
   ]
  },
  {
   "cell_type": "markdown",
   "metadata": {},
   "source": [
    "#### Constraints:\n",
    "\n",
    "The number of nodes in each linked list is in the range [1, 100].\n",
    "\n",
    "0 <= Node.val <= 9\n",
    "\n",
    "It is guaranteed that the list represents a number that does not have leading zeros."
   ]
  },
  {
   "cell_type": "code",
   "execution_count": 2,
   "metadata": {},
   "outputs": [],
   "source": [
    "# Definition for singly-linked list.\n",
    "class ListNode:\n",
    "     def __init__(self, val=0, next=None):\n",
    "        self.val = val\n",
    "        self.next = next\n",
    "\n",
    "l1 = [9,9,9,9,9,9,9]\n",
    "listNode1, listNode12,listNode13,listNode14,listNode15,listNode16,listNode17 = (ListNode(l1[i]) for i in  range(len(l1)))\n",
    "all_nodes1 = (listNode1, listNode12,listNode13,listNode14,listNode15,listNode16,listNode17)\n",
    "for i in range(1,len(l1)):\n",
    "    all_nodes1[i-1].next = all_nodes1[i]\n",
    "\n",
    "l2 = [9,9,9,9]\n",
    "listNode2, listNode22,listNode23,listNode24 =(ListNode(l2[i]) for i in  range(len(l2)))\n",
    "all_nodes2 = listNode2, listNode22,listNode23,listNode24\n",
    "for i in range(1,len(l2)):\n",
    "    all_nodes2[i-1].next = all_nodes2[i]"
   ]
  },
  {
   "cell_type": "code",
   "execution_count": 87,
   "metadata": {},
   "outputs": [
    {
     "data": {
      "text/plain": [
       "1"
      ]
     },
     "execution_count": 87,
     "metadata": {},
     "output_type": "execute_result"
    }
   ],
   "source": [
    "class Solution(object):\n",
    "    def addTwoNumbers(self, l1, l2):\n",
    "        if l1 == None: return l2\n",
    "        if l2 == None:return l1\n",
    "        sum_val = l1.val + l2.val\n",
    "        if sum_val < 10:\n",
    "            ansNode = ListNode(sum_val)\n",
    "            ansNode.next = self.addTwoNumbers(l1.next, l2.next)\n",
    "            return ansNode\n",
    "        else:\n",
    "            ansNode = ListNode(sum_val - 10)\n",
    "            ansNode.next = self.addTwoNumbers(ListNode(1), self.addTwoNumbers(l1.next, l2.next))\n",
    "            return ansNode\n",
    "ansNode = Solution()\n",
    "ansNode = ansNode.addTwoNumbers(listNode1,listNode2)\n",
    "ansNode.next.next.next.next.next.next.next.val"
   ]
  },
  {
   "cell_type": "markdown",
   "metadata": {},
   "source": [
    "Success \n",
    "\n",
    "- Runtime: 72 ms, faster than 51.07% of Python3 online submissions for Add Two Numbers.\n",
    "- Memory Usage: 14.3 MB, less than 44.40% of Python3 online submissions for Add Two Numbers."
   ]
  }
 ],
 "metadata": {
  "kernelspec": {
   "display_name": "Python 3",
   "language": "python",
   "name": "python3"
  },
  "language_info": {
   "codemirror_mode": {
    "name": "ipython",
    "version": 3
   },
   "file_extension": ".py",
   "mimetype": "text/x-python",
   "name": "python",
   "nbconvert_exporter": "python",
   "pygments_lexer": "ipython3",
   "version": "3.7.4"
  }
 },
 "nbformat": 4,
 "nbformat_minor": 2
}

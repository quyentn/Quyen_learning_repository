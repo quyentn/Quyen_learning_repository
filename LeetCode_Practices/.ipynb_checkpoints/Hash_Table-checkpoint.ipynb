{
 "cells": [
  {
   "cell_type": "markdown",
   "metadata": {},
   "source": [
    "## Week 46 - Nov 27, 2021"
   ]
  },
  {
   "cell_type": "markdown",
   "metadata": {},
   "source": [
    "### 1512. Number of Good Pairs\n",
    "\n",
    "https://leetcode.com/problems/number-of-good-pairs/\n",
    "\n",
    "Given an array of integers `nums`, return the number of good pairs.\n",
    "\n",
    "A pair `(i, j)` is called good if `ums[i] == nums[j]` and `i < j`.\n",
    "\n",
    "![pic](<>)\n",
    "\n",
    "#### Example 1:\n",
    "- Input: nums = [1,2,3,1,1,3]\n",
    "- Output: 4\n",
    "- Explanation: There are 4 good pairs (0,3), (0,4), (3,4), (2,5) 0-indexed.\n",
    "\n",
    "#### Example 2:\n",
    "- Input: nums = [1,1,1,1]\n",
    "- Output: 6\n",
    "- Explanation: Each pair in the array are good.\n",
    "\n",
    "#### Example 3:\n",
    "- Input: nums = [1,2,3]\n",
    "- Output: 0\n",
    "\n",
    "#### Constraints:\n",
    "\n",
    "- 1 <= nums.length <= 100\n",
    "- 1 <= nums[i] <= 100\n",
    "\n"
   ]
  },
  {
   "cell_type": "code",
   "execution_count": 10,
   "metadata": {},
   "outputs": [
    {
     "data": {
      "text/plain": [
       "0"
      ]
     },
     "execution_count": 10,
     "metadata": {},
     "output_type": "execute_result"
    }
   ],
   "source": [
    "class Solution:\n",
    "    def numIdenticalPairs(self, nums):\n",
    "        repeat = {}\n",
    "        num = 0\n",
    "        for v in nums:\n",
    "            if v in repeat:\n",
    "                if repeat[v] == 1: num += 1\n",
    "                else: num += repeat[v]\n",
    "                repeat[v] += 1\n",
    "            else: repeat[v] = 1\n",
    "        return num\n",
    "ans = Solution()\n",
    "ans.numIdenticalPairs([1,2,3,1,1,3])"
   ]
  },
  {
   "cell_type": "markdown",
   "metadata": {},
   "source": [
    "Success Details \n",
    "- Runtime: 28 ms, faster than 92.19% of Python3 online submissions for Number of Good Pairs.\n",
    "- Memory Usage: 14.1 MB, less than 91.90% of Python3 online submissions for Number of Good Pairs."
   ]
  },
  {
   "cell_type": "markdown",
   "metadata": {},
   "source": [
    "## Week 47 - Dec 04, 2021"
   ]
  },
  {
   "cell_type": "markdown",
   "metadata": {},
   "source": [
    "### 771. Jewels and Stones\n",
    "\n",
    "https://leetcode.com/problems/jewels-and-stones/\n",
    "\n",
    "You're given strings jewels representing the types of stones that are jewels, and stones representing the stones you have. Each character in stones is a type of stone you have. You want to know how many of the stones you have are also jewels.\n",
    "\n",
    "Letters are case sensitive, so \"a\" is considered a different type of stone from \"A\".\n",
    "\n",
    "#### Example 1:\n",
    "- Input: jewels = \"aA\", stones = \"aAAbbbb\"\n",
    "- Output: 3\n",
    "\n",
    "#### Example 2:\n",
    "- Input: jewels = \"z\", stones = \"ZZ\"\n",
    "- Output: 0\n",
    "\n",
    "#### Constraints:\n",
    "- 1 <= jewels.length, stones.length <= 50\n",
    "- jewels and stones consist of only English letters.\n",
    "- All the characters of jewels are unique."
   ]
  },
  {
   "cell_type": "code",
   "execution_count": null,
   "metadata": {},
   "outputs": [],
   "source": [
    "class Solution:\n",
    "    def numJewelsInStones(self, jewels, stones):\n",
    "        num = 0\n",
    "        for s in stones:\n",
    "            if s in jewels:\n",
    "                num += 1\n",
    "        return num"
   ]
  },
  {
   "cell_type": "markdown",
   "metadata": {},
   "source": [
    "Success Details \n",
    "- Runtime: 28 ms, faster than 85.27% of Python3 online submissions for Jewels and Stones.\n",
    "- Memory Usage: 14.3 MB, less than 12.82% of Python3 online submissions for Jewels and Stones."
   ]
  },
  {
   "cell_type": "code",
   "execution_count": 18,
   "metadata": {},
   "outputs": [],
   "source": [
    "class Solution:\n",
    "    def numJewelsInStones(self, jewels, stones):\n",
    "        return sum(map(jewels.count, stones))"
   ]
  },
  {
   "cell_type": "markdown",
   "metadata": {},
   "source": [
    "Success Details \n",
    "- Runtime: 32 ms, faster than 64.73% of Python3 online submissions for Jewels and Stones.\n",
    "- Memory Usage: 14 MB, less than 91.39% of Python3 online submissions for Jewels and Stones."
   ]
  },
  {
   "cell_type": "markdown",
   "metadata": {},
   "source": [
    "## Week 48 - Dec 11, 2021"
   ]
  },
  {
   "cell_type": "markdown",
   "metadata": {},
   "source": [
    "### 1365. How Many Numbers Are Smaller Than the Current Number\n",
    "\n",
    "https://leetcode.com/problems/how-many-numbers-are-smaller-than-the-current-number/\n",
    "\n",
    "Given the array nums, for each `nums[i]` find out how many numbers in the array are smaller than it. That is, for each `nums[i]` you have to count the number of valid `j's` such that `j != i` and `nums[j] < nums[i]`.\n",
    "\n",
    "Return the answer in an array.\n",
    "\n",
    "#### Example 1:\n",
    "- Input: `nums = [8,1,2,2,3]`\n",
    "- Output: `[4,0,1,1,3]`\n",
    "- Explanation: \n",
    "    - For nums[0]=8 there exist four smaller numbers than it (1, 2, 2 and 3). \n",
    "    - For nums[1]=1 does not exist any smaller number than it.\n",
    "    - For nums[2]=2 there exist one smaller number than it (1). \n",
    "    - For nums[3]=2 there exist one smaller number than it (1). \n",
    "    - For nums[4]=3 there exist three smaller numbers than it (1, 2 and 2).\n",
    "\n",
    "#### Example 2:\n",
    "- Input: `nums = [6,5,4,8]`\n",
    "- Output: `[2,1,0,3]`\n",
    "\n",
    "#### Example 3:\n",
    "- Input: nums = [7,7,7,7]\n",
    "- Output: [0,0,0,0]\n",
    "\n",
    "#### Constraints:\n",
    "- 2 <= nums.length <= 500\n",
    "- 0 <= nums[i] <= 100"
   ]
  },
  {
   "cell_type": "code",
   "execution_count": 28,
   "metadata": {},
   "outputs": [],
   "source": [
    "class Solution:\n",
    "    def smallerNumbersThanCurrent(self, nums):\n",
    "        sorted_nums = sorted(nums)\n",
    "        ans = []\n",
    "        for n in nums:\n",
    "            ans.append(sorted_nums.index(n))\n",
    "        return ans    "
   ]
  },
  {
   "cell_type": "markdown",
   "metadata": {},
   "source": [
    "Success Details \n",
    "- Runtime: 72 ms, faster than 62.70% of Python3 online submissions for How Many Numbers Are Smaller Than the Current Number.\n",
    "- Memory Usage: 14.3 MB, less than 47.61% of Python3 online submissions for How Many Numbers Are Smaller Than the Current Number."
   ]
  },
  {
   "cell_type": "code",
   "execution_count": 29,
   "metadata": {},
   "outputs": [],
   "source": [
    "class Solution:\n",
    "    def smallerNumbersThanCurrent(self, nums):\n",
    "        sorted_nums = sorted(nums)\n",
    "        hash_dict = {}\n",
    "        for i,v in enumerate(sorted_nums):\n",
    "            if v not in hash_dict: \n",
    "                hash_dict[v] = i\n",
    "        ans = []\n",
    "        for n in nums:\n",
    "            ans.append(hash_dict[n])\n",
    "        return ans    "
   ]
  },
  {
   "cell_type": "markdown",
   "metadata": {},
   "source": [
    "Success Details \n",
    "- Runtime: 52 ms, faster than 90.25% of Python3 online submissions for How Many Numbers Are Smaller Than the Current Number.\n",
    "- Memory Usage: 14.4 MB, less than 13.19% of Python3 online submissions for How Many Numbers Are Smaller Than the Current Number.\n"
   ]
  },
  {
   "cell_type": "markdown",
   "metadata": {},
   "source": [
    "## Week 49 - Dec 18, 2021"
   ]
  },
  {
   "cell_type": "markdown",
   "metadata": {},
   "source": [
    "### 1656. Design an Ordered Stream\n",
    "\n",
    "https://leetcode.com/problems/design-an-ordered-stream/\n",
    "\n",
    "There is a stream of `n (idKey, value)` pairs arriving in an arbitrary order, where `idKey` is an integer between `1` and `n` and `value` is a string. No two pairs have the same `id`.\n",
    "\n",
    "Design a stream that returns the values in __increasing order of their IDs__ by returning a __chunk__ (list) of values after each insertion. The concatenation of all the __chunks__ should result in a list of the sorted values.\n",
    "\n",
    "Implement the `OrderedStream` class:\n",
    "\n",
    "- `OrderedStream(int n)` Constructs the stream to take `n` values.\n",
    "- `String[] insert(int idKey, String value)` Inserts the pair `(idKey, value)` into the stream, then returns the __largest possible chunk__ of currently inserted values that appear next in the order.\n",
    "\n",
    "#### Example:\n",
    "![pic](<https://assets.leetcode.com/uploads/2020/11/10/q1.gif>)\n",
    "- Input\n",
    "`[\"OrderedStream\", \"insert\", \"insert\", \"insert\", \"insert\", \"insert\"]\n",
    "[[5], [3, \"ccccc\"], [1, \"aaaaa\"], [2, \"bbbbb\"], [5, \"eeeee\"], [4, \"ddddd\"]]`\n",
    "- Output\n",
    "`[null, [], [\"aaaaa\"], [\"bbbbb\", \"ccccc\"], [], [\"ddddd\", \"eeeee\"]]`\n",
    "- Explanation\n",
    "    - // Note that the values ordered by ID is `[\"aaaaa\", \"bbbbb\", \"ccccc\", \"ddddd\", \"eeeee\"]`.\n",
    "    - OrderedStream `os = new OrderedStream(5)`;\n",
    "    - `os.insert(3, \"ccccc\")`; // Inserts (3, \"ccccc\"), returns `[]`.\n",
    "    - `os.insert(1, \"aaaaa\")`; // Inserts (1, \"aaaaa\"), returns `[\"aaaaa\"]`.\n",
    "    - `os.insert(2, \"bbbbb\")`; // Inserts (2, \"bbbbb\"), returns `[\"bbbbb\", \"ccccc\"]`.\n",
    "    - `os.insert(5, \"eeeee\")`; // Inserts (5, \"eeeee\"), returns `[]`.\n",
    "    - `os.insert(4, \"ddddd\")`; // Inserts (4, \"ddddd\"), returns `[\"ddddd\", \"eeeee\"]`.\n",
    "    - // Concatentating all the chunks returned:\n",
    "    - // `[] + [\"aaaaa\"] + [\"bbbbb\", \"ccccc\"] + [] + [\"ddddd\", \"eeeee\"] = [\"aaaaa\", \"bbbbb\", \"ccccc\", \"ddddd\", \"eeeee\"]`\n",
    "    - // The resulting order is the same as the order above.\n",
    " \n",
    "\n",
    "#### Constraints:\n",
    "- `1 <= n <= 1000`\n",
    "- `1 <= id <= n`\n",
    "- `value.length == 5`\n",
    "- `value` consists only of lowercase letters.\n",
    "- Each call to `insert` will have a unique `id`.\n",
    "- Exactly `n` calls will be made to `insert`."
   ]
  },
  {
   "cell_type": "code",
   "execution_count": 14,
   "metadata": {},
   "outputs": [],
   "source": [
    "class OrderedStream:\n",
    "\n",
    "    def __init__(self, n: int):\n",
    "        self.val=[[] for i in range(n+1)]\n",
    "        self.id_key=0\n",
    "\n",
    "    def insert(self, idKey: int, value: str):\n",
    "        self.val[idKey-1]=value\n",
    "        print(self.val[idKey-1])\n",
    "        if self.id_key!=idKey-1:\n",
    "            return []\n",
    "        ans=[]\n",
    "        while self.val[self.id_key]!=[]:\n",
    "            ans.append(self.val[self.id_key])\n",
    "            self.id_key+=1 \n",
    "        return ans\n",
    "\n",
    "# Your OrderedStream object will be instantiated and called as such:\n",
    "# obj = OrderedStream(n)\n",
    "# param_1 = obj.insert(idKey,value)"
   ]
  },
  {
   "cell_type": "markdown",
   "metadata": {},
   "source": [
    "Success Details \n",
    "- Runtime: 240 ms, faster than 24.71% of Python3 online submissions for Design an Ordered Stream.\n",
    "- Memory Usage: 15.2 MB, less than 33.95% of Python3 online submissions for Design an Ordered Stream."
   ]
  },
  {
   "cell_type": "code",
   "execution_count": 22,
   "metadata": {},
   "outputs": [
    {
     "name": "stdout",
     "output_type": "stream",
     "text": [
      "aaaaa\n"
     ]
    },
    {
     "data": {
      "text/plain": [
       "['aaaaa', 'aaaaa', 'aaaaa']"
      ]
     },
     "execution_count": 22,
     "metadata": {},
     "output_type": "execute_result"
    }
   ],
   "source": [
    "OrderedStream_ = OrderedStream(5)\n",
    "OrderedStream_.insert(1,'aaaaa')"
   ]
  },
  {
   "cell_type": "markdown",
   "metadata": {},
   "source": [
    "## Week 50 - Dec 25, 2021"
   ]
  },
  {
   "cell_type": "markdown",
   "metadata": {},
   "source": [
    "### 1684. Count the Number of Consistent Strings\n",
    "\n",
    "https://leetcode.com/problems/count-the-number-of-consistent-strings/\n",
    "\n",
    "You are given a string allowed consisting of distinct characters and an array of strings words. A string is consistent if all characters in the string appear in the string allowed.\n",
    "\n",
    "Return the number of consistent strings in the array words.\n",
    "\n",
    "#### Example 1:\n",
    "\n",
    "- Input: allowed = `\"ab\"`, words = `[\"ad\",\"bd\",\"aaab\",\"baa\",\"badab\"]`\n",
    "- Output: 2\n",
    "- Explanation: Strings `\"aaab\"` and `\"baa\"` are consistent since they only contain characters `'a'` and `'b'`.\n",
    "\n",
    "#### Example 2:\n",
    "\n",
    "- Input: allowed = `\"abc\"`, words = `[\"a\",\"b\",\"c\",\"ab\",\"ac\",\"bc\",\"abc\"]`\n",
    "- Output: 7\n",
    "- Explanation: All strings are consistent.\n",
    "\n",
    "#### Example 3:\n",
    "\n",
    "- Input: allowed = `\"cad\"`, words = `[\"cc\",\"acd\",\"b\",\"ba\",\"bac\",\"bad\",\"ac\",\"d\"]`\n",
    "- Output: 4\n",
    "- Explanation: Strings `\"cc\"`, `\"acd\"`, `\"ac\"`, and `\"d\"` are consistent.\n",
    " \n",
    "#### Constraints:\n",
    "\n",
    "- 1 <= words.length <= 104\n",
    "- 1 <= allowed.length <= 26\n",
    "- 1 <= words[i].length <= 10\n",
    "- The characters in allowed are distinct.\n",
    "- words[i] and allowed contain only lowercase English letters."
   ]
  },
  {
   "cell_type": "code",
   "execution_count": null,
   "metadata": {},
   "outputs": [],
   "source": [
    "class Solution:\n",
    "    def countConsistentStrings(self, allowed: str, words: List[str]) -> int:\n",
    "        count = 0\n",
    "        for word in words:\n",
    "            if all([c in allowed for c in word]):\n",
    "                count += 1\n",
    "        return count"
   ]
  },
  {
   "cell_type": "markdown",
   "metadata": {},
   "source": [
    "Success Details  \n",
    "- Runtime: 272 ms, faster than 41.86% of Python3 online submissions for Count the Number of Consistent Strings.\n",
    "- Memory Usage: 16.2 MB, less than 60.82% of Python3 online submissions for Count the Number of Consistent Strings."
   ]
  },
  {
   "cell_type": "code",
   "execution_count": null,
   "metadata": {},
   "outputs": [],
   "source": [
    "class Solution:\n",
    "    def countConsistentStrings(self, allowed: str, words: List[str]) -> int:\n",
    "        count = 0\n",
    "        for word in words:\n",
    "            for c in word:\n",
    "                if c not in allowed:\n",
    "                    count += 1\n",
    "                    break\n",
    "        return len(words) - count"
   ]
  },
  {
   "cell_type": "markdown",
   "metadata": {},
   "source": [
    "Success Details \n",
    "- Runtime: 224 ms, faster than 83.91% of Python3 online submissions for Count the Number of Consistent Strings.\n",
    "- Memory Usage: 16.1 MB, less than 86.84% of Python3 online submissions for Count the Number of Consistent Strings"
   ]
  },
  {
   "cell_type": "code",
   "execution_count": null,
   "metadata": {},
   "outputs": [],
   "source": [
    "class Solution:\n",
    "    def countConsistentStrings(self, allowed: str, words: List[str]) -> int:\n",
    "        count = 0\n",
    "        allowed = set(allowed)\n",
    "        for word in words:\n",
    "            word = set(word)\n",
    "            if len(word.difference(allowed))>0:\n",
    "                count += 1\n",
    "        return len(words) - count"
   ]
  },
  {
   "cell_type": "markdown",
   "metadata": {},
   "source": [
    "Success Details \n",
    "- Runtime: 240 ms, faster than 65.69% of Python3 online submissions for Count the Number of Consistent Strings.\n",
    "- Memory Usage: 16.2 MB, less than 60.82% of Python3 online submissions for Count the Number of Consistent Strings."
   ]
  },
  {
   "cell_type": "markdown",
   "metadata": {},
   "source": [
    "## Week 51 - Dec 31, 2021"
   ]
  },
  {
   "cell_type": "markdown",
   "metadata": {},
   "source": [
    "### 1832. Check if the Sentence Is Pangram\n",
    "\n",
    "https://leetcode.com/problems/check-if-the-sentence-is-pangram/\n",
    "\n",
    "A pangram is a sentence where every letter of the English alphabet appears at least once.\n",
    "\n",
    "Given a string sentence containing only lowercase English letters, return true if sentence is a pangram, or false otherwise.\n",
    "\n",
    "#### Example 1:\n",
    "- Input: sentence = \"thequickbrownfoxjumpsoverthelazydog\"\n",
    "- Output: true\n",
    "- Explanation: sentence contains at least one of every letter of the English alphabet.\n",
    "\n",
    "#### Example 2:\n",
    "- Input: sentence = \"leetcode\"\n",
    "- Output: false\n",
    "\n",
    "#### Constraints:\n",
    "- 1 <= sentence.length <= 1000\n",
    "- sentence consists of lowercase English letters."
   ]
  },
  {
   "cell_type": "code",
   "execution_count": 11,
   "metadata": {},
   "outputs": [
    {
     "name": "stdout",
     "output_type": "stream",
     "text": [
      "False\n"
     ]
    }
   ],
   "source": [
    "sentence = \"thequickbrownfoxjumpsoverthelazydog\"\n",
    "sentence = \"leetcode\"\n",
    "alphabet = set('abcdefghijklmnopqrstuvwxyz')\n",
    "if len(set(sentence).intersection(alphabet)) == 26:\n",
    "    print('True')\n",
    "else: print('False')"
   ]
  },
  {
   "cell_type": "code",
   "execution_count": null,
   "metadata": {},
   "outputs": [],
   "source": [
    "class Solution:\n",
    "    def checkIfPangram(self, sentence: str) -> bool:\n",
    "        alphabet = set('abcdefghijklmnopqrstuvwxyz')\n",
    "        if len(set(sentence).intersection(alphabet)) == 26:\n",
    "            return True\n",
    "        else:\n",
    "            return False"
   ]
  },
  {
   "cell_type": "markdown",
   "metadata": {},
   "source": [
    "Success Details \n",
    "- Runtime: 32 ms, faster than 65.78% of Python3 online submissions for Check if the Sentence Is Pangram.\n",
    "- Memory Usage: 14.3 MB, less than 46.67% of Python3 online submissions for Check if the Sentence Is Pangram."
   ]
  },
  {
   "cell_type": "code",
   "execution_count": null,
   "metadata": {},
   "outputs": [],
   "source": [
    "class Solution:\n",
    "    def checkIfPangram(self, sentence: str) -> bool:\n",
    "        alphabet = 'abcdefghijklmnopqrstuvwxyz'\n",
    "        for c in alphabet:\n",
    "            if c not in sentence:\n",
    "                return False\n",
    "        return True"
   ]
  },
  {
   "cell_type": "markdown",
   "metadata": {},
   "source": [
    "Success Details \n",
    "- Runtime: 24 ms, faster than 96.08% of Python3 online submissions for Check if the Sentence Is Pangram.\n",
    "- Memory Usage: 14.1 MB, less than 74.13% of Python3 online submissions for Check if the Sentence Is Pangram."
   ]
  },
  {
   "cell_type": "code",
   "execution_count": null,
   "metadata": {},
   "outputs": [],
   "source": [
    "class Solution:\n",
    "    def checkIfPangram(self, sentence: str) -> bool:\n",
    "        if len(set(sentence)) == 26:\n",
    "            return True\n",
    "        else:\n",
    "            return False"
   ]
  },
  {
   "cell_type": "markdown",
   "metadata": {},
   "source": [
    "Success Details \n",
    "- Runtime: 32 ms, faster than 65.78% of Python3 online submissions for Check if the Sentence Is Pangram.\n",
    "- Memory Usage: 14 MB, less than 98.75% of Python3 online submissions for Check if the Sentence Is Pangram."
   ]
  },
  {
   "cell_type": "code",
   "execution_count": null,
   "metadata": {},
   "outputs": [],
   "source": [
    "class Solution:\n",
    "    def checkIfPangram(self, sentence: str) -> bool:\n",
    "        dic ={}\n",
    "        for c in sentence:\n",
    "            if c in dic:\n",
    "                dic[c] +=1\n",
    "            else:\n",
    "                dic[c] =1\n",
    "        if len(dic) == 26:\n",
    "            return True\n",
    "        else:\n",
    "            return False"
   ]
  },
  {
   "cell_type": "markdown",
   "metadata": {},
   "source": [
    "Success Details \n",
    "- Runtime: 32 ms, faster than 65.78% of Python3 online submissions for Check if the Sentence Is Pangram.\n",
    "- Memory Usage: 14 MB, less than 98.75% of Python3 online submissions for Check if the Sentence Is Pangram."
   ]
  },
  {
   "cell_type": "markdown",
   "metadata": {},
   "source": [
    "https://leetcode.com/tag/hash-table/"
   ]
  }
 ],
 "metadata": {
  "kernelspec": {
   "display_name": "Python 3",
   "language": "python",
   "name": "python3"
  },
  "language_info": {
   "codemirror_mode": {
    "name": "ipython",
    "version": 3
   },
   "file_extension": ".py",
   "mimetype": "text/x-python",
   "name": "python",
   "nbconvert_exporter": "python",
   "pygments_lexer": "ipython3",
   "version": "3.7.5"
  }
 },
 "nbformat": 4,
 "nbformat_minor": 2
}

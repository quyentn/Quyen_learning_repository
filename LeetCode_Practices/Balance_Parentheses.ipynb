{
 "cells": [
  {
   "cell_type": "markdown",
   "metadata": {},
   "source": [
    "## Week 1 - Jan 01, 2021"
   ]
  },
  {
   "cell_type": "markdown",
   "metadata": {},
   "source": [
    "### 1541. Minimum Insertions to Balance a Parentheses String (Medium)\n",
    "https://leetcode.com/problems/minimum-insertions-to-balance-a-parentheses-string/\n",
    "\n",
    "Given a parentheses string s containing only the characters `'('` and `')'`. A parentheses string is balanced if:\n",
    "\n",
    "Any left parenthesis `'('` must have a corresponding two consecutive right parenthesis `'))'`.\n",
    "Left parenthesis `'('` must go before the corresponding two consecutive right parenthesis `'))'`.\n",
    "In other words, we treat `'('` as openning parenthesis and `'))'` as closing parenthesis.\n",
    "\n",
    "For example, `\"())\"`, `\"())(())))\"` and `\"(())())))\"` are balanced, `\")()\"`, `\"()))`\" and `\"(()))\"` are not balanced.\n",
    "\n",
    "You can insert the characters `'('` and `')'` at any position of the string to balance it if needed.\n",
    "\n",
    "Return the minimum number of insertions needed to make s balanced."
   ]
  },
  {
   "cell_type": "markdown",
   "metadata": {},
   "source": [
    "#### Example 1:\n",
    "- Input: s = \"(()))\"\n",
    "- Output: 1\n",
    "- Explanation: The second '(' has two matching '))', but the first '(' has only ')' matching. We need to to add one more ')' at the end of the string to be \"(())))\" which is balanced.\n",
    "\n",
    "#### Example 2:\n",
    "- Input: s = \"())\"\n",
    "- Output: 0\n",
    "- Explanation: The string is already balanced.\n",
    "\n",
    "#### Example 3:\n",
    "- Input: s = \"))())(\"\n",
    "- Output: 3\n",
    "- Explanation: Add '(' to match the first '))', Add '))' to match the last '('.\n",
    "\n",
    "#### Example 4:\n",
    "- Input: s = \"((((((\"\n",
    "- Output: 12\n",
    "- Explanation: Add 12 ')' to balance the string.\n",
    "\n",
    "#### Example 5:\n",
    "- Input: s = \")))))))\"\n",
    "- Output: 5\n",
    "- Explanation: Add 4 '(' at the beginning of the string and one ')' at the end. The string becomes \"(((())))))))\"."
   ]
  },
  {
   "cell_type": "code",
   "execution_count": 11,
   "metadata": {},
   "outputs": [
    {
     "name": "stdout",
     "output_type": "stream",
     "text": [
      "[0, 1, 12, 13, 14, 15, 16, 33] [49]\n"
     ]
    },
    {
     "data": {
      "text/plain": [
       "13"
      ]
     },
     "execution_count": 11,
     "metadata": {},
     "output_type": "execute_result"
    }
   ],
   "source": [
    "class Solution: #wrong answer\n",
    "    def minInsertions(self, s):\n",
    "        add_close = 0\n",
    "        add_open = 0\n",
    "        matched_opens = []\n",
    "        matched_closes = []\n",
    "        un_matched_opens = []\n",
    "        un_matched_closes = []\n",
    "        for i,x in enumerate(s):\n",
    "            if x =='(':\n",
    "                pair_closes = [idx for idx,y in enumerate(s) if idx > i and y ==')' and idx not in matched_closes] #(O)n2\n",
    "                if len(pair_closes)>=1:\n",
    "                    matched_opens.append(i)\n",
    "                    if len(pair_closes)> 1 and pair_closes[0] == pair_closes[1]-1: matched_closes+= pair_closes[:2]\n",
    "                    else: \n",
    "                        matched_closes.append(pair_closes[0])\n",
    "                        add_close+=1\n",
    "                else:un_matched_opens.append(i)\n",
    "            elif i not in matched_closes: # i is the index for close bracket\n",
    "                un_matched_closes.append(i)\n",
    "        #print(un_matched_opens,un_matched_closes)\n",
    "        if len(un_matched_closes)%2==0: \n",
    "            add_open += len(un_matched_closes)/2\n",
    "            add_close += len(un_matched_opens)*2\n",
    "        else: \n",
    "            add_open += (len(un_matched_closes)+1)/2\n",
    "            add_close += len(un_matched_opens)*2+1\n",
    "\n",
    "        total_add = int(add_open +add_close)\n",
    "        print(un_matched_closes,un_matched_opens)\n",
    "        return total_add\n",
    "ans = Solution()\n",
    "ans.minInsertions(\"))(()()))()))))))()())()(())()))))()())(()())))()(\")"
   ]
  },
  {
   "cell_type": "code",
   "execution_count": 11,
   "metadata": {},
   "outputs": [
    {
     "data": {
      "text/plain": [
       "5"
      ]
     },
     "execution_count": 11,
     "metadata": {},
     "output_type": "execute_result"
    }
   ],
   "source": [
    "class Solution:\n",
    "    def minInsertions(self, s: str) -> int:\n",
    "        stack = []\n",
    "        cur_closed,total_add = 0 , 0\n",
    "        \n",
    "        for char in s: #(O)n\n",
    "            if char == '(':\n",
    "                if cur_closed == 1: #the previous open bracket has only 1 close bracket\n",
    "                    total_add += 1 #add 1 close bracket to finish openning\n",
    "                    cur_closed = 0 #reset to 0 openning\n",
    "                    stack.pop() #reset to 0 openning\n",
    "                    \n",
    "                stack.append('(') #assume open bracket without closed\n",
    "            \n",
    "            else: #char != '(':\n",
    "                if not stack: #no previous openning\n",
    "                    stack.append('(') #add open braket\n",
    "                    total_add += 1 #add open braket\n",
    "                    cur_closed += 1\n",
    "                    \n",
    "                elif cur_closed == 1: #exist open bracket with only one previous close bracket\n",
    "                    cur_closed = 0 #reset to 0 openning\n",
    "                    stack.pop() #reset to 0 openning\n",
    "                else: #open bracket without any previous close bracket\n",
    "                    cur_closed += 1\n",
    "                    \n",
    "        if stack:\n",
    "            total_add += (len(stack) * 2) - cur_closed\n",
    "            \n",
    "        return total_add\n",
    "ans = Solution()\n",
    "ans.minInsertions(\")))))))\")"
   ]
  },
  {
   "cell_type": "markdown",
   "metadata": {},
   "source": [
    "Success  \n",
    "- Runtime: 152 ms, faster than 79.50% of Python3 online submissions for Minimum Insertions to Balance a Parentheses String.\n",
    "- Memory Usage: 15.8 MB, less than 21.77% of Python3 online submissions for Minimum Insertions to Balance a Parentheses String."
   ]
  },
  {
   "cell_type": "code",
   "execution_count": 12,
   "metadata": {},
   "outputs": [
    {
     "data": {
      "text/plain": [
       "12"
      ]
     },
     "execution_count": 12,
     "metadata": {},
     "output_type": "execute_result"
    }
   ],
   "source": [
    "class Solution:\n",
    "    def minInsertions(self, s: str) -> int:                \n",
    "        ans, len_string, i, count_open = 0, len(s), 0, 0        \n",
    "        while i < len_string:     #<(O)n because of skipping a few close bracket position \n",
    "            if s[i] == '(': count_open += 1                                                \n",
    "            else: #close bracket\n",
    "                if count_open == 0: #no open --> add open\n",
    "                    ans += 1\n",
    "                    count_open = 1 \n",
    "                if i+1 <len_string and s[i+1] == ')':  #exits next position in the string\n",
    "                    i+= 1 #skip 1 next close bracket\n",
    "                    count_open -= 1\n",
    "                else: #end without sufficient close brackets\n",
    "                    ans += 1        \n",
    "                    count_open -= 1 \n",
    "            i += 1            \n",
    "        return ans + 2*count_open\n",
    "ans = Solution()\n",
    "ans.minInsertions(\"((((((\")"
   ]
  },
  {
   "cell_type": "markdown",
   "metadata": {},
   "source": [
    "Success \n",
    "- Runtime: 188 ms, faster than 58.36% of Python3 online submissions for Minimum Insertions to Balance a Parentheses String.\n",
    "- Memory Usage: 14.9 MB, less than 82.02% of Python3 online submissions for Minimum Insertions to Balance a Parentheses String."
   ]
  },
  {
   "cell_type": "markdown",
   "metadata": {},
   "source": [
    "## Week 4 - Jan 23, 2021"
   ]
  },
  {
   "cell_type": "markdown",
   "metadata": {},
   "source": [
    "### 921. Minimum Add to Make Parentheses Valid\n",
    "Medium\n",
    "https://leetcode.com/problems/minimum-add-to-make-parentheses-valid/\n",
    "\n",
    "Given a string S of '(' and ')' parentheses, we add the minimum number of parentheses ( '(' or ')', and in any positions ) so that the resulting parentheses string is valid.\n",
    "\n",
    "Formally, a parentheses string is valid if and only if:\n",
    "\n",
    "- It is the empty string, or\n",
    "- It can be written as AB (A concatenated with B), where A and B are valid strings, or\n",
    "- It can be written as (A), where A is a valid string.\n",
    "\n",
    "Given a parentheses string, return the minimum number of parentheses we must add to make the resulting string valid.\n",
    "\n",
    "#### Example 1:\n",
    "- Input: \"())\"\n",
    "- Output: 1\n",
    "\n",
    "#### Example 2:\n",
    "- Input: \"(((\"\n",
    "- Output: 3\n",
    "\n",
    "#### Example 3:\n",
    "- Input: \"()\"\n",
    "- Output: 0\n",
    "\n",
    "#### Example 4:\n",
    "- Input: \"()))((\"\n",
    "- Output: 4\n",
    "\n",
    "#### Note:\n",
    "- S.length <= 1000\n",
    "- S only consists of '(' and ')' characters.\n",
    " "
   ]
  },
  {
   "cell_type": "code",
   "execution_count": 20,
   "metadata": {},
   "outputs": [
    {
     "data": {
      "text/plain": [
       "2"
      ]
     },
     "execution_count": 20,
     "metadata": {},
     "output_type": "execute_result"
    }
   ],
   "source": [
    "class Solution:\n",
    "    def minAddToMakeValid(self, S: str) -> int:\n",
    "        stack = []\n",
    "        ans = 0\n",
    "        for c in S:\n",
    "            if c == '(' : stack.append(c)\n",
    "            else:\n",
    "                if stack: stack.pop()\n",
    "                else: ans += 1\n",
    "        return ans + len(stack)\n",
    "ans = Solution()\n",
    "ans.minAddToMakeValid(\"(())(())))\")"
   ]
  },
  {
   "cell_type": "markdown",
   "metadata": {},
   "source": [
    "Success Details \n",
    "- Runtime: 32 ms, faster than 64.18% of Python3 online submissions for Minimum Add to Make Parentheses Valid.\n",
    "- Memory Usage: 14.3 MB, less than 14.12% of Python3 online submissions for Minimum Add to Make Parentheses Valid."
   ]
  },
  {
   "cell_type": "code",
   "execution_count": 23,
   "metadata": {},
   "outputs": [
    {
     "data": {
      "text/plain": [
       "1"
      ]
     },
     "execution_count": 23,
     "metadata": {},
     "output_type": "execute_result"
    }
   ],
   "source": [
    "class Solution:\n",
    "    def minAddToMakeValid(self, S: str) -> int:\n",
    "        while '()' in S:\n",
    "            S = S.replace('()','')\n",
    "        return len(S)\n",
    "ans = Solution()\n",
    "ans.minAddToMakeValid(\"(()\")"
   ]
  },
  {
   "cell_type": "markdown",
   "metadata": {},
   "source": [
    "Success Details \n",
    "- Runtime: 28 ms, faster than 87.01% of Python3 online submissions for Minimum Add to Make Parentheses Valid.\n",
    "- Memory Usage: 14.1 MB, less than 72.84% of Python3 online submissions for Minimum Add to Make Parentheses Valid."
   ]
  },
  {
   "cell_type": "markdown",
   "metadata": {},
   "source": [
    "## Week 5 - Jan 30, 2021"
   ]
  },
  {
   "cell_type": "markdown",
   "metadata": {},
   "source": [
    "### 1021. Remove Outermost Parentheses\n",
    "\n",
    "https://leetcode.com/problems/remove-outermost-parentheses/\n",
    "\n",
    "A valid parentheses string is either empty (\"\"), \"(\" + A + \")\", or A + B, where A and B are valid parentheses strings, and + represents string concatenation.  For example, \"\", \"()\", \"(())()\", and \"(()(()))\" are all valid parentheses strings.\n",
    "\n",
    "A valid parentheses string S is primitive if it is nonempty, and there does not exist a way to split it into S = A+B, with A and B nonempty valid parentheses strings.\n",
    "\n",
    "Given a valid parentheses string S, consider its primitive decomposition: S = P_1 + P_2 + ... + P_k, where P_i are primitive valid parentheses strings.\n",
    "\n",
    "Return S after removing the outermost parentheses of every primitive string in the primitive decomposition of S.\n",
    "\n",
    " \n",
    "\n",
    "#### Example 1:\n",
    "\n",
    "- Input: \"(()())(())\"\n",
    "- Output: \"()()()\"\n",
    "- Explanation: The input string is \"(()())(())\", with primitive decomposition \"(()())\" + \"(())\". After removing outer parentheses of each part, this is \"()()\" + \"()\" = \"()()()\".\n",
    "#### Example 2:\n",
    "- Input: \"(()())(())(()(()))\"\n",
    "- Output: \"()()()()(())\"\n",
    "- Explanation: The input string is \"(()())(())(()(()))\", with primitive decomposition \"(()())\" + \"(())\" + \"(()(()))\". After removing outer parentheses of each part, this is \"()()\" + \"()\" + \"()(())\" = \"()()()()(())\".\n",
    "#### Example 3:\n",
    "- Input: \"()()\"\n",
    "- Output: \"\"\n",
    "- Explanation: The input string is \"()()\", with primitive decomposition \"()\" + \"()\". After removing outer parentheses of each part, this is \"\" + \"\" = \"\".\n",
    " \n",
    "\n",
    "####  Note:\n",
    "- S.length <= 10000\n",
    "- S[i] is \"(\" or \")\"\n",
    "- S is a valid parentheses string\n",
    " "
   ]
  },
  {
   "cell_type": "code",
   "execution_count": 38,
   "metadata": {},
   "outputs": [
    {
     "data": {
      "text/plain": [
       "''"
      ]
     },
     "execution_count": 38,
     "metadata": {},
     "output_type": "execute_result"
    }
   ],
   "source": [
    "class Solution:\n",
    "    def removeOuterParentheses(self, S: str) -> str:\n",
    "        stack = []\n",
    "        cur_prim = ''\n",
    "        cur_open = 0\n",
    "        for char in S:\n",
    "            if cur_prim != '' and cur_open == 0:\n",
    "                stack.append(cur_prim)\n",
    "                cur_prim = ''\n",
    "            if char == '(':\n",
    "                cur_prim += char\n",
    "                cur_open += 1\n",
    "            else: #char == ')'\n",
    "                cur_open -= 1\n",
    "                cur_prim += char\n",
    "        stack.append(cur_prim)\n",
    "        ans = ''.join([x[1:-1] for x in stack])\n",
    "        return ans\n",
    "    \n",
    "ans = Solution()\n",
    "ans.removeOuterParentheses(\"()()\")"
   ]
  },
  {
   "cell_type": "markdown",
   "metadata": {},
   "source": [
    "Success Details \n",
    "- Runtime: 40 ms, faster than 58.27% of Python3 online submissions for Remove Outermost Parentheses.\n",
    "- Memory Usage: 14.5 MB, less than 37.72% of Python3 online submissions for Remove Outermost Parentheses."
   ]
  },
  {
   "cell_type": "code",
   "execution_count": 37,
   "metadata": {},
   "outputs": [
    {
     "data": {
      "text/plain": [
       "''"
      ]
     },
     "execution_count": 37,
     "metadata": {},
     "output_type": "execute_result"
    }
   ],
   "source": [
    "class Solution:\n",
    "    def removeOuterParentheses(self, S: str) -> str:\n",
    "        ans = ''\n",
    "        cur_prim = ''\n",
    "        cur_open = 0\n",
    "        for char in S:\n",
    "            if cur_prim != '' and cur_open == 0:\n",
    "                ans += cur_prim[1:-1]\n",
    "                cur_prim = ''\n",
    "            if char == '(':\n",
    "                cur_prim += char\n",
    "                cur_open += 1\n",
    "            else: #char == ')'\n",
    "                cur_open -= 1\n",
    "                cur_prim += char\n",
    "        ans += cur_prim[1:-1]\n",
    "        return ans\n",
    "    \n",
    "ans = Solution()\n",
    "ans.removeOuterParentheses(\"()()\")"
   ]
  },
  {
   "cell_type": "markdown",
   "metadata": {},
   "source": [
    "Success Details \n",
    "- Runtime: 36 ms, faster than 82.95% of Python3 online submissions for Remove Outermost Parentheses.\n",
    "- Memory Usage: 14.4 MB, less than 64.69% of Python3 online submissions for Remove Outermost Parentheses."
   ]
  },
  {
   "cell_type": "code",
   "execution_count": 40,
   "metadata": {},
   "outputs": [
    {
     "data": {
      "text/plain": [
       "'()()()()(())'"
      ]
     },
     "execution_count": 40,
     "metadata": {},
     "output_type": "execute_result"
    }
   ],
   "source": [
    "class Solution:\n",
    "    def removeOuterParentheses(self, S: str) -> str:\n",
    "        ans = ''\n",
    "        cur_prim = ''\n",
    "        cur_open = 0\n",
    "        for char in S:\n",
    "            if cur_prim != '' and cur_open == 0:\n",
    "                ans += cur_prim[1:-1]\n",
    "                cur_prim = ''\n",
    "            cur_prim += char\n",
    "            if char == '(':cur_open += 1\n",
    "            else: cur_open -= 1\n",
    "        ans += cur_prim[1:-1]\n",
    "        return ans\n",
    "    \n",
    "ans = Solution()\n",
    "ans.removeOuterParentheses(\"(()())(())(()(()))\")"
   ]
  },
  {
   "cell_type": "markdown",
   "metadata": {},
   "source": [
    "Success Details \n",
    "- Runtime: 32 ms, faster than 94.84% of Python3 online submissions for Remove Outermost Parentheses.\n",
    "- Memory Usage: 14.3 MB, less than 86.26% of Python3 online submissions for Remove Outermost Parentheses."
   ]
  },
  {
   "cell_type": "markdown",
   "metadata": {},
   "source": [
    "## Week 6 - Feb 6, 2021"
   ]
  },
  {
   "cell_type": "markdown",
   "metadata": {},
   "source": [
    "### 1614. Maximum Nesting Depth of the Parentheses\n",
    "https://leetcode.com/problems/maximum-nesting-depth-of-the-parentheses/\n",
    "\n",
    "A string is a valid parentheses string (denoted VPS) if it meets one of the following:\n",
    "\n",
    "- It is an empty string \"\", or a single character not equal to \"(\" or \")\",\n",
    "- It can be written as AB (A concatenated with B), where A and B are VPS's, or\n",
    "- It can be written as (A), where A is a VPS.\n",
    "\n",
    "We can similarly define the nesting depth depth(S) of any VPS S as follows:\n",
    "\n",
    "- depth(\"\") = 0\n",
    "- depth(C) = 0, where C is a string with a single character not equal to \"(\" or \")\".\n",
    "- depth(A + B) = max(depth(A), depth(B)), where A and B are VPS's.\n",
    "- depth(\"(\" + A + \")\") = 1 + depth(A), where A is a VPS.\n",
    "\n",
    "For example, \"\", \"()()\", and \"()(()())\" are VPS's (with nesting depths 0, 1, and 2), and \")(\" and \"(()\" are not VPS's. Given a VPS represented as string s, return the nesting depth of s.\n",
    "\n",
    "#### Example 1:\n",
    "- Input: s = \"(1+(2*3)+((8)/4))+1\"\n",
    "- Output: 3\n",
    "- Explanation: Digit 8 is inside of 3 nested parentheses in the string.\n",
    "\n",
    "#### Example 2:\n",
    "- Input: s = \"(1)+((2))+(((3)))\"\n",
    "- Output: 3\n",
    "\n",
    "#### Example 3\n",
    "- Input: s = \"1+(2*3)/(2-1)\"\n",
    "- Output: 1\n",
    "\n",
    "#### Example 4:\n",
    "- Input: s = \"1\"\n",
    "- Output: 0\n",
    "\n",
    "#### Constraints:\n",
    "\n",
    "- 1 <= s.length <= 100\n",
    "- s consists of digits 0-9 and characters '+', '-', '*', '/', '(', and ')'.\n",
    "- It is guaranteed that parentheses expression s is a VPS."
   ]
  },
  {
   "cell_type": "code",
   "execution_count": 46,
   "metadata": {},
   "outputs": [
    {
     "data": {
      "text/plain": [
       "3"
      ]
     },
     "execution_count": 46,
     "metadata": {},
     "output_type": "execute_result"
    }
   ],
   "source": [
    "class Solution:\n",
    "    def maxDepth(self, s: str) -> int:\n",
    "        max_depth = 0\n",
    "        cur_depth = 0\n",
    "        for char in s:\n",
    "            if char == '(':cur_depth += 1\n",
    "            elif char == ')': cur_depth -= 1\n",
    "            if cur_depth > max_depth: max_depth = cur_depth\n",
    "        return max_depth\n",
    "ans = Solution()\n",
    "ans.maxDepth(\"(1)+((2))+(((3)))\")"
   ]
  },
  {
   "cell_type": "markdown",
   "metadata": {},
   "source": [
    "Success\n",
    "- Runtime: 32 ms, faster than 61.64% of Python3 online submissions for Maximum Nesting Depth of the Parentheses.\n",
    "- Memory Usage: 14.1 MB, less than 72.70% of Python3 online submissions for Maximum Nesting Depth of the Parentheses."
   ]
  },
  {
   "cell_type": "code",
   "execution_count": 48,
   "metadata": {},
   "outputs": [
    {
     "data": {
      "text/plain": [
       "3"
      ]
     },
     "execution_count": 48,
     "metadata": {},
     "output_type": "execute_result"
    }
   ],
   "source": [
    "class Solution:\n",
    "    def maxDepth(self, s: str) -> int:\n",
    "        max_depth = 0\n",
    "        cur_depth = 0\n",
    "        for char in s:\n",
    "            if char == '(':\n",
    "                cur_depth += 1\n",
    "                max_depth = max(cur_depth,max_depth)\n",
    "            elif char == ')': cur_depth -= 1\n",
    "        return max_depth\n",
    "ans = Solution()\n",
    "ans.maxDepth(\"(1)+((2))+(((3)))\")"
   ]
  },
  {
   "cell_type": "markdown",
   "metadata": {},
   "source": [
    "Success Details \n",
    "- Runtime: 24 ms, faster than 95.83% of Python3 online submissions for Maximum Nesting Depth of the Parentheses.\n",
    "- Memory Usage: 14.1 MB, less than 72.70% of Python3 online submissions for Maximum Nesting Depth of the Parentheses."
   ]
  },
  {
   "cell_type": "markdown",
   "metadata": {},
   "source": [
    "## Week 7 - Feb 13, 2021"
   ]
  },
  {
   "cell_type": "markdown",
   "metadata": {},
   "source": [
    "### 20. Valid Parentheses\n",
    "https://leetcode.com/problems/valid-parentheses/\n",
    "\n",
    "Given a string s containing just the characters '(', ')', '{', '}', '[' and ']', determine if the input string is valid.\n",
    "\n",
    "An input string is valid if:\n",
    "\n",
    "- Open brackets must be closed by the same type of brackets.\n",
    "- Open brackets must be closed in the correct order.\n",
    "\n",
    "#### Example 1:\n",
    "- Input: s = \"()\"\n",
    "- Output: true\n",
    "\n",
    "#### Example 2:\n",
    "- Input: s = \"()[]{}\"\n",
    "- Output: true\n",
    "\n",
    "#### Example 3:\n",
    "- Input: s = \"(]\"\n",
    "- Output: false\n",
    "\n",
    "#### Example 4:\n",
    "- Input: s = \"([)]\"\n",
    "- Output: false\n",
    "\n",
    "#### Example 5:\n",
    "- Input: s = \"{[]}\"\n",
    "- Output: true\n",
    " \n",
    "\n",
    "#### Constraints:\n",
    "- 1 <= s.length <= 104\n",
    "- s consists of parentheses only '()[]{}'."
   ]
  },
  {
   "cell_type": "code",
   "execution_count": 64,
   "metadata": {},
   "outputs": [
    {
     "data": {
      "text/plain": [
       "False"
      ]
     },
     "execution_count": 64,
     "metadata": {},
     "output_type": "execute_result"
    }
   ],
   "source": [
    "class Solution:\n",
    "    def isValid(self, s: str) -> bool:\n",
    "        open_r,open_c,open_s = 0,0,0\n",
    "        stack = []\n",
    "        for char in s:\n",
    "            if char == ')':\n",
    "                if open_r == 0: return False\n",
    "                elif stack[-1] != '(': return False\n",
    "                else: open_r -= 1; stack.pop()\n",
    "            elif char == '}':\n",
    "                if open_c == 0: return False\n",
    "                elif stack[-1] != '{': return False\n",
    "                else: open_c -= 1; stack.pop()\n",
    "            elif char == ']':\n",
    "                if open_s == 0: return False\n",
    "                elif stack[-1] != '[': return False\n",
    "                else: open_s -= 1; stack.pop()\n",
    "            elif char == '(': open_r += 1; stack.append(char)\n",
    "            elif char == '{': open_c += 1; stack.append(char)\n",
    "            elif char == '[': open_s += 1; stack.append(char)\n",
    "        \n",
    "        total = open_r + open_c + open_s    \n",
    "        if total == 0: return True\n",
    "        else: return False\n",
    "ans = Solution()\n",
    "ans.isValid(\"(]\")"
   ]
  },
  {
   "cell_type": "markdown",
   "metadata": {},
   "source": [
    "Success Details \n",
    "- Runtime: 24 ms, faster than 95.85% of Python3 online submissions for Valid Parentheses.\n",
    "- Memory Usage: 14.3 MB, less than 66.84% of Python3 online submissions for Valid Parentheses."
   ]
  },
  {
   "cell_type": "code",
   "execution_count": null,
   "metadata": {},
   "outputs": [],
   "source": [
    "class Solution:\n",
    "    def isValid(self, s: str) -> bool:\n",
    "        open_r,open_c,open_s = 0,0,0\n",
    "        stack = []\n",
    "        for char in s:\n",
    "            if char == ')':\n",
    "                if open_r == 0: return False\n",
    "                elif stack[-1] != '(': return False\n",
    "                else: open_r -= 1; stack.pop()\n",
    "            elif char == '}':\n",
    "                if open_c == 0: return False\n",
    "                elif stack[-1] != '{': return False\n",
    "                else: open_c -= 1; stack.pop()\n",
    "            elif char == ']':\n",
    "                if open_s == 0: return False\n",
    "                elif stack[-1] != '[': return False\n",
    "                else: open_s -= 1; stack.pop()\n",
    "            elif char == '(': open_r += 1; stack.append(char)\n",
    "            elif char == '{': open_c += 1; stack.append(char)\n",
    "            elif char == '[': open_s += 1; stack.append(char)\n",
    "\n",
    "        return not open_r + open_c + open_s\n",
    "ans = Solution()\n",
    "ans.isValid(\"(]\")"
   ]
  },
  {
   "cell_type": "markdown",
   "metadata": {},
   "source": [
    "## Week 8 - Feb 20, 2021"
   ]
  },
  {
   "cell_type": "markdown",
   "metadata": {},
   "source": [
    "### 301. Remove Invalid Parentheses (Hard)\n",
    "https://leetcode.com/problems/remove-invalid-parentheses/\n",
    "\n",
    "Remove the minimum number of invalid parentheses in order to make the input string valid. Return all possible results.\n",
    "\n",
    "Note: The input string may contain letters other than the parentheses ( and ).\n",
    "\n",
    "#### Example 1:\n",
    "- Input: \"()())()\"\n",
    "- Output: [\"()()()\", \"(())()\"]\n",
    "\n",
    "#### Example 2:\n",
    "- Input: \"(a)())()\"\n",
    "- Output: [\"(a)()()\", \"(a())()\"]\n",
    "\n",
    "#### Example 3:\n",
    "- Input: \")(\"\n",
    "- Output: [\"\"]"
   ]
  },
  {
   "cell_type": "code",
   "execution_count": 174,
   "metadata": {},
   "outputs": [
    {
     "data": {
      "text/plain": [
       "['']"
      ]
     },
     "execution_count": 174,
     "metadata": {},
     "output_type": "execute_result"
    }
   ],
   "source": [
    "class Solution:\n",
    "    def isValid(self, s: str) -> bool:\n",
    "        open_bracket = 0\n",
    "        stack = []\n",
    "        for char in s:\n",
    "            if char == ')':\n",
    "                if open_bracket == 0: return False\n",
    "                else: open_bracket -= 1; stack.pop()\n",
    "            elif char == '(': open_bracket += 1; stack.append(char)   \n",
    "        if open_bracket == 0: return True\n",
    "        else: return False\n",
    "        \n",
    "    def removeInvalidParentheses(self, s: str):\n",
    "        cur_open = 0\n",
    "        output = ['']\n",
    "        for char in s:\n",
    "            output = [x+char for x in output]\n",
    "            if char == '(':\n",
    "                cur_open += 1\n",
    "            elif char == ')':\n",
    "                if cur_open ==0: #close bracket without open bracket\n",
    "                    new_ouput = []\n",
    "                    for x in output: #Remove one random close bracket\n",
    "                        close_i = [i for i,c in enumerate(x) if c == ')']\n",
    "                        for i in close_i:\n",
    "                            new_string = x[:i]+x[i+1:]\n",
    "                            if new_string not in new_ouput:\n",
    "                                new_ouput.append(new_string)\n",
    "                    output = new_ouput\n",
    "                else: cur_open -= 1 # cur_open > 0     \n",
    "        # Fix any extra open brackets in middle of the string\n",
    "        while cur_open > 0:  \n",
    "            new_ouput = []\n",
    "            for x in output: \n",
    "                open_i = [i for i,c in enumerate(x) if c == '(' ]\n",
    "                for i in open_i:\n",
    "                    new_string = x[:i]+x[i+1:]\n",
    "                    if new_string not in new_ouput:\n",
    "                        new_ouput.append(new_string)\n",
    "            output = new_ouput\n",
    "            cur_open -= 1\n",
    "        output = [x for x in output if self.isValid(x)]\n",
    "        return output\n",
    "ans = Solution()\n",
    "ans.removeInvalidParentheses(\")(\")"
   ]
  },
  {
   "cell_type": "markdown",
   "metadata": {},
   "source": [
    "Success Details \n",
    "- Runtime: 40 ms, faster than 92.94% of Python3 online submissions for Remove Invalid Parentheses.\n",
    "- Memory Usage: 14.3 MB, less than 73.80% of Python3 online submissions for Remove Invalid Parentheses."
   ]
  },
  {
   "cell_type": "markdown",
   "metadata": {},
   "source": [
    "## Week 9 - Feb 27, 2021"
   ]
  },
  {
   "cell_type": "markdown",
   "metadata": {},
   "source": [
    "### 32. Longest Valid Parentheses (Hard)\n",
    "https://leetcode.com/problems/longest-valid-parentheses/\n",
    "\n",
    "Given a string containing just the characters '(' and ')', find the length of the longest valid (well-formed) parentheses substring.\n",
    "\n",
    "#### Example 1:\n",
    "- Input: s = \"(()\"\n",
    "- Output: 2\n",
    "- Explanation: The longest valid parentheses substring is \"()\".\n",
    "\n",
    "#### Example 2:\n",
    "- Input: s = \")()())\"\n",
    "- Output: 4\n",
    "- Explanation: The longest valid parentheses substring is \"()()\".\n",
    "\n",
    "#### Example 3:\n",
    "- Input: s = \"\"\n",
    "- Output: 0\n",
    " \n",
    "#### Constraints:\n",
    "- 0 <= s.length <= 3 * 104\n",
    "- s[i] is '(', or ')'."
   ]
  },
  {
   "cell_type": "code",
   "execution_count": 72,
   "metadata": {},
   "outputs": [
    {
     "data": {
      "text/plain": [
       "8"
      ]
     },
     "execution_count": 72,
     "metadata": {},
     "output_type": "execute_result"
    }
   ],
   "source": [
    "class Solution:\n",
    "    def isValid(self, s: str) -> bool:\n",
    "        open_bracket = 0\n",
    "        stack = []\n",
    "        for char in s:\n",
    "            if char == ')':\n",
    "                if open_bracket == 0: return False\n",
    "                else: open_bracket -= 1; stack.pop()\n",
    "            elif char == '(': open_bracket += 1; stack.append(char)   \n",
    "        if open_bracket == 0: return True\n",
    "        else: return False\n",
    "    def longestValidParentheses(self, s: str) -> int:\n",
    "        final_substrings = []\n",
    "        while not self.isValid(s) and '(' in s:\n",
    "            s = s[s.index('('):] #truncated from the first open bracket\n",
    "            if self.isValid(s): \n",
    "                final_substrings.append(s)\n",
    "                s = ''\n",
    "            else:\n",
    "                longest_sub = ''\n",
    "                for i,c in enumerate(s):\n",
    "                    if self.isValid(s[:i]): longest_sub =s[:i] #overwrite untill the last one => longest\n",
    "                if longest_sub != '': \n",
    "                    max_len = len(longest_sub)\n",
    "                    final_substrings.append(longest_sub)\n",
    "                    s = s[max_len+1:] #max_len always less than len(s) because s is not valid in the loop\n",
    "                else: #no valid sub string with that open bracket\n",
    "                    s = s[1:]\n",
    "        if self.isValid(s): final_substrings.append(s)\n",
    "        if len(final_substrings) == 0: \n",
    "            ans = 0\n",
    "        else: \n",
    "            ans = max([len (x) for x in final_substrings] )\n",
    "        return ans\n",
    "ans = Solution()\n",
    "ans.longestValidParentheses(\"))((()()))\")"
   ]
  },
  {
   "cell_type": "code",
   "execution_count": 90,
   "metadata": {},
   "outputs": [
    {
     "data": {
      "text/plain": [
       "2644"
      ]
     },
     "execution_count": 90,
     "metadata": {},
     "output_type": "execute_result"
    }
   ],
   "source": [
    "class Solution:\n",
    "    def longestValidParentheses(self, s):\n",
    "        dp, stack = [0]*(len(s) + 1), []\n",
    "        for i in range(len(s)):\n",
    "            if s[i] == '(':\n",
    "                stack.append(i)\n",
    "            else:\n",
    "                if stack:\n",
    "                    p = stack.pop()\n",
    "                    dp[i + 1] = dp[p] + i - p + 1\n",
    "        return max(dp)\n",
    "ans = Solution()\n",
    "ans.longestValidParentheses(s)"
   ]
  },
  {
   "cell_type": "markdown",
   "metadata": {},
   "source": [
    "Success Details \n",
    "- Runtime: 32 ms, faster than 99.43% of Python3 online submissions for Longest Valid Parentheses.\n",
    "- Memory Usage: 14.8 MB, less than 23.04% of Python3 online submissions for Longest Valid Parentheses."
   ]
  },
  {
   "cell_type": "code",
   "execution_count": 17,
   "metadata": {},
   "outputs": [
    {
     "name": "stdout",
     "output_type": "stream",
     "text": [
      "10\n",
      "['0', '0', '0', '0', '0', '0', '2', '4', '6', '0', '0', '2', '10', '0', '0', '0', '2']\n",
      "[')', ')', '(', '(', '(', ')', ')', ')', '(', '(', ')', ')', ')', '(', '(', ')']\n"
     ]
    }
   ],
   "source": [
    "s =  \"))((()))(()))(()\"\n",
    "dp, stack = [0]*(len(s) + 1), []\n",
    "for i in range(len(s)):\n",
    "    if s[i] == '(':\n",
    "        stack.append(i)\n",
    "    else:\n",
    "        if stack:\n",
    "            p = stack.pop() #index of the corresponding openning\n",
    "            dp[i + 1] = dp[p] + i - p + 1\n",
    "print( max(dp))\n",
    "print([str(x) for x in dp])\n",
    "print(list(s))"
   ]
  },
  {
   "cell_type": "markdown",
   "metadata": {},
   "source": [
    "## Week 10 - Mar 6, 2021"
   ]
  },
  {
   "cell_type": "markdown",
   "metadata": {},
   "source": [
    "### 856. Score of Parentheses - Medium\n",
    "https://leetcode.com/problems/score-of-parentheses/\n",
    "\n",
    "Given a balanced parentheses string S, compute the score of the string based on the following rule:\n",
    "\n",
    "- () has score 1\n",
    "- AB has score A + B, where A and B are balanced parentheses strings.\n",
    "- (A) has score 2 * A, where A is a balanced parentheses string. \n",
    "\n",
    "#### Example 1:\n",
    "- Input: \"()\"\n",
    "- Output: 1\n",
    "\n",
    "#### Example 2:\n",
    "- Input: \"(())\"\n",
    "- Output: 2\n",
    "\n",
    "#### Example 3:\n",
    "- Input: \"()()\"\n",
    "- Output: 2\n",
    "\n",
    "#### Example 4:\n",
    "- Input: \"(()(()))\"\n",
    "- Output: 6 \n",
    "\n",
    "#### Note:\n",
    "- S is a balanced parentheses string, containing only ( and ).\n",
    "- 2 <= S.length <= 50"
   ]
  },
  {
   "cell_type": "code",
   "execution_count": 95,
   "metadata": {},
   "outputs": [
    {
     "name": "stdout",
     "output_type": "stream",
     "text": [
      "2*(1+2*(1))+2*(1)+2*(1+2*(1)))\n",
      "2*(1+2*(1))+2*(1)+2*(1+2*(1))\n"
     ]
    },
    {
     "data": {
      "text/plain": [
       "14"
      ]
     },
     "execution_count": 95,
     "metadata": {},
     "output_type": "execute_result"
    }
   ],
   "source": [
    "s =  \"(()(()))(())(()(()))\"\n",
    "final_string = ''\n",
    "for i in range(len(s)):\n",
    "    if s[i] == '(':\n",
    "        if i+1 < len(s) and s[i+1] == '(': final_string+= '2*('\n",
    "        else: final_string += '1'\n",
    "    else:\n",
    "        if i+1 < len(s) and s[i+1] == '(' : final_string+= '+'\n",
    "        else :\n",
    "            final_string += ')'\n",
    "print(final_string)\n",
    "final_string = final_string[:-1]\n",
    "print(final_string)\n",
    "eval(final_string)"
   ]
  },
  {
   "cell_type": "code",
   "execution_count": 94,
   "metadata": {},
   "outputs": [
    {
     "data": {
      "text/plain": [
       "14"
      ]
     },
     "execution_count": 94,
     "metadata": {},
     "output_type": "execute_result"
    }
   ],
   "source": [
    "class Solution:\n",
    "    def scoreOfParentheses(self, S: str):\n",
    "        final_string = ''\n",
    "        for i in range(len(S)):\n",
    "            if S[i] == '(':\n",
    "                if i+1 < len(S) and S[i+1] == '(': final_string+= '2*('\n",
    "                else: final_string += '1'\n",
    "            else:\n",
    "                if i+1 < len(S) and S[i+1] == '(' : final_string+= '+'\n",
    "                else :\n",
    "                    final_string += ')'\n",
    "        final_string = final_string[:-1]\n",
    "        ans = eval(final_string)\n",
    "        return ans\n",
    "ans = Solution()\n",
    "ans.scoreOfParentheses( \"(()(()))(())(()(()))\")"
   ]
  },
  {
   "cell_type": "markdown",
   "metadata": {},
   "source": [
    "Success Details \n",
    "- Runtime: 32 ms, faster than 56.58% of Python3 online submissions for Score of Parentheses.\n",
    "- Memory Usage: 14.4 MB, less than 12.96% of Python3 online submissions for Score of Parentheses."
   ]
  },
  {
   "cell_type": "code",
   "execution_count": 6,
   "metadata": {},
   "outputs": [
    {
     "data": {
      "text/plain": [
       "15"
      ]
     },
     "execution_count": 6,
     "metadata": {},
     "output_type": "execute_result"
    }
   ],
   "source": [
    "class Solution:\n",
    "    def scoreOfParentheses(self, S: str):\n",
    "        final_string = S.replace(')(',')+(').replace('()','1').replace('(','2*(')\n",
    "        ans = eval(final_string)\n",
    "        return ans\n",
    "ans = Solution()\n",
    "ans.scoreOfParentheses( \"(()(()))(())(()(()))()\")"
   ]
  },
  {
   "cell_type": "markdown",
   "metadata": {},
   "source": [
    "Success Details \n",
    "- Runtime: 32 ms, faster than 56.58% of Python3 online submissions for Score of Parentheses.\n",
    "- Memory Usage: 14 MB, less than 98.48% of Python3 online submissions for Score of Parentheses."
   ]
  },
  {
   "cell_type": "code",
   "execution_count": 8,
   "metadata": {},
   "outputs": [],
   "source": [
    "class Solution:\n",
    "    def scoreOfParentheses(self, S: str):\n",
    "        return eval(S.replace(')(',')+(').replace('()','1').replace('(','2*('))"
   ]
  },
  {
   "cell_type": "markdown",
   "metadata": {},
   "source": [
    "Success Details\n",
    "- Runtime: 28 ms, faster than 83.50% of Python3 online submissions for Score of Parentheses.\n",
    "- Memory Usage: 14 MB, less than 89.68% of Python3 online submissions for Score of Parentheses."
   ]
  },
  {
   "cell_type": "markdown",
   "metadata": {},
   "source": [
    "## Week 11 - Mar 13, 2021"
   ]
  },
  {
   "cell_type": "markdown",
   "metadata": {},
   "source": [
    "### 241. Different Ways to Add Parentheses - Medium\n",
    "\n",
    "https://leetcode.com/problems/different-ways-to-add-parentheses/\n",
    "\n",
    "Given a string of numbers and operators, return all possible results from computing all the different possible ways to group numbers and operators. The valid operators are +, - and *.\n",
    "\n",
    "#### Example 1:\n",
    "- Input: \"2-1-1\"\n",
    "- Output: [0, 2]\n",
    "- Explanation: \n",
    "    - ((2-1)-1) = 0 \n",
    "    - (2-(1-1)) = 2\n",
    "\n",
    "#### Example 2:\n",
    "- Input: \"2\\*3-4*5\"\n",
    "- Output: [-34, -14, -10, -10, 10]\n",
    "- Explanation: \n",
    "    - (2\\*(3-(4*5))) = -34 \n",
    "    - ((2\\*3)-(4*5)) = -14 \n",
    "    - ((2\\*(3-4))*5) = -10 \n",
    "    - (2\\*((3-4)*5)) = -10 \n",
    "    - (((2\\*3)-4)*5) = 10\n"
   ]
  },
  {
   "cell_type": "code",
   "execution_count": 4,
   "metadata": {},
   "outputs": [
    {
     "name": "stdout",
     "output_type": "stream",
     "text": [
      "(2*3)-(4)*(5) = -14\n",
      "(2*3-4)*(5) = 10\n",
      "(2*3)-(4*5) = -14\n",
      "(2)*(3-4)*(5) = -10\n",
      "(2*3-4)*(5) = 10\n",
      "(2)*(3-4*5) = -34\n",
      "(2)*(3)-(4*5) = -14\n",
      "(2*3)-(4*5) = -14\n",
      "(2)*(3-4*5) = -34\n"
     ]
    }
   ],
   "source": [
    "input = \"2*3-4*5\"\n",
    "full_parentheses= '('+input.replace('*',')*(').replace('-',')-(').replace('+',')+(')+')'\n",
    "for i, char in enumerate(full_parentheses):\n",
    "    if char == ')' and i != len(full_parentheses) -1:\n",
    "        new_string = full_parentheses[:i]+full_parentheses[i+1]+full_parentheses[i+3:]\n",
    "        print(new_string,'=',eval(new_string))\n",
    "        for idx,c in enumerate(new_string):\n",
    "            if c ==')' and idx != len(new_string)-1:\n",
    "                new_string1 = new_string[:idx]+new_string[idx+1]+new_string[idx+3:]\n",
    "                print(new_string1,'=',eval(new_string1))"
   ]
  },
  {
   "cell_type": "code",
   "execution_count": 41,
   "metadata": {},
   "outputs": [
    {
     "name": "stdout",
     "output_type": "stream",
     "text": [
      "2*(3-(4*5)) = -34\n",
      "2*((3-4)*5) = -10\n",
      "(2*3)-(4*5) = -14\n",
      "(2*(3-4))*5 = -10\n",
      "((2*3)-4)*5 = 10\n"
     ]
    }
   ],
   "source": [
    "def str_diffWaysToCompute(input):\n",
    "    if '-' not in input and '+' not in input and '*' not in input:\n",
    "        return [input]\n",
    "    output = []\n",
    "    for i, c in enumerate(input):\n",
    "        if c in '+-*':\n",
    "            a_list = ['('+x+')' if len(x) >1 else x for x in str_diffWaysToCompute(input[:i])]\n",
    "            b_list = ['('+x+')' if len(x) >1 else x for x in str_diffWaysToCompute(input[i+1:])]\n",
    "            output += [a+c+b for a in a_list for b in b_list]\n",
    "    return output\n",
    "for x in str_diffWaysToCompute(\"2*3-4*5\"):\n",
    "    print(x,'=',eval(x))"
   ]
  },
  {
   "cell_type": "code",
   "execution_count": 40,
   "metadata": {},
   "outputs": [
    {
     "data": {
      "text/plain": [
       "[-34, -10, -14, -10, 10]"
      ]
     },
     "execution_count": 40,
     "metadata": {},
     "output_type": "execute_result"
    }
   ],
   "source": [
    "class Solution:\n",
    "    def diffWaysToCompute(self, input):\n",
    "        return [eval(str(a)+c+str(b))\n",
    "                for i, c in enumerate(input) if c in '+-*'\n",
    "                for a in self.diffWaysToCompute(input[:i])\n",
    "                for b in self.diffWaysToCompute(input[i+1:])] or [int(input)]\n",
    "ans = Solution()\n",
    "ans.diffWaysToCompute(\"2*3-4*5\")"
   ]
  },
  {
   "cell_type": "markdown",
   "metadata": {},
   "source": [
    "Success Details \n",
    "- Runtime: 80 ms, faster than 5.53% of Python3 online submissions for Different Ways to Add Parentheses.\n",
    "- Memory Usage: 14.4 MB, less than 79.09% of Python3 online submissions for Different Ways to Add Parentheses."
   ]
  },
  {
   "cell_type": "code",
   "execution_count": 11,
   "metadata": {},
   "outputs": [
    {
     "data": {
      "text/plain": [
       "[-34, -10, -14, -10, 10]"
      ]
     },
     "execution_count": 11,
     "metadata": {},
     "output_type": "execute_result"
    }
   ],
   "source": [
    "class Solution:\n",
    "    def diffWaysToCompute(self, input):\n",
    "        return [a+b if c == '+' else a-b if c == '-' else a*b\n",
    "            for i, c in enumerate(input) if c in '+-*'\n",
    "            for a in self.diffWaysToCompute(input[:i])\n",
    "            for b in self.diffWaysToCompute(input[i+1:])] or [int(input)]\n",
    "ans = Solution()\n",
    "ans.diffWaysToCompute(\"2*3-4*5\")"
   ]
  },
  {
   "cell_type": "markdown",
   "metadata": {},
   "source": [
    "Success Details \n",
    "- Runtime: 36 ms, faster than 62.96% of Python3 online submissions for Different Ways to Add Parentheses.\n",
    "- Memory Usage: 14.7 MB, less than 6.12% of Python3 online submissions for Different Ways to Add Parentheses."
   ]
  },
  {
   "cell_type": "code",
   "execution_count": 43,
   "metadata": {},
   "outputs": [
    {
     "data": {
      "text/plain": [
       "[-34, -10, -14, -10, 10]"
      ]
     },
     "execution_count": 43,
     "metadata": {},
     "output_type": "execute_result"
    }
   ],
   "source": [
    "class Solution:\n",
    "    def diffWaysToCompute(self, input):\n",
    "        if '-' not in input and '+' not in input and '*' not in input:\n",
    "            return [int(input)]\n",
    "        output = []\n",
    "        for i, c in enumerate(input):\n",
    "            if c in '+-*':\n",
    "                a_list = self.diffWaysToCompute(input[:i])\n",
    "                b_list = self.diffWaysToCompute(input[i+1:])\n",
    "                output += [eval(str(a)+c+str(b)) for a in a_list for b in b_list]\n",
    "        return output\n",
    "ans = Solution()\n",
    "ans.diffWaysToCompute(\"2*3-4*5\")"
   ]
  },
  {
   "cell_type": "markdown",
   "metadata": {},
   "source": [
    "Success Details \n",
    "- Runtime: 68 ms, faster than 14.86% of Python3 online submissions for Different Ways to Add Parentheses.\n",
    "- Memory Usage: 14.5 MB, less than 24.12% of Python3 online submissions for Different Ways to Add Parentheses."
   ]
  },
  {
   "cell_type": "code",
   "execution_count": null,
   "metadata": {},
   "outputs": [],
   "source": [
    "class Solution:\n",
    "    def diffWaysToCompute(self, input):\n",
    "        if all([func not in input for func in '+-*']):\n",
    "            return [int(input)]\n",
    "        else:\n",
    "            output = []\n",
    "            for i, c in enumerate(input):\n",
    "                if c in '+-*':\n",
    "                    a_list = self.diffWaysToCompute(input[:i])\n",
    "                    b_list = self.diffWaysToCompute(input[i+1:])\n",
    "                    output += [eval(str(a)+c+str(b)) for a in a_list for b in b_list]\n",
    "            return output\n",
    "ans = Solution()\n",
    "ans.diffWaysToCompute(\"2*3-4*5\")"
   ]
  },
  {
   "cell_type": "markdown",
   "metadata": {},
   "source": [
    "Success Details \n",
    "- Runtime: 68 ms, faster than 14.86% of Python3 online submissions for Different Ways to Add Parentheses.\n",
    "- Memory Usage: 14.2 MB, less than 93.05% of Python3 online submissions for Different Ways to Add Parentheses."
   ]
  },
  {
   "cell_type": "code",
   "execution_count": 44,
   "metadata": {},
   "outputs": [
    {
     "data": {
      "text/plain": [
       "[-34, -10, -14, -10, 10]"
      ]
     },
     "execution_count": 44,
     "metadata": {},
     "output_type": "execute_result"
    }
   ],
   "source": [
    "class Solution:\n",
    "    def diffWaysToCompute(self, input):\n",
    "        if all([func not in input for func in '+-*']):\n",
    "            return [int(input)]\n",
    "        else:\n",
    "            output = []\n",
    "            for i, c in enumerate(input):\n",
    "                if c in '+-*':\n",
    "                    a_list = self.diffWaysToCompute(input[:i])\n",
    "                    b_list = self.diffWaysToCompute(input[i+1:])\n",
    "                    output += [a+b if c == '+' else a-b if c=='-' else a*b  for a in a_list for b in b_list]\n",
    "            return output\n",
    "ans = Solution()\n",
    "ans.diffWaysToCompute(\"2*3-4*5\")"
   ]
  },
  {
   "cell_type": "markdown",
   "metadata": {},
   "source": [
    "Success Details \n",
    "- Runtime: 40 ms, faster than 43.76% of Python3 online submissions for Different Ways to Add Parentheses.\n",
    "- Memory Usage: 14.2 MB, less than 98.81% of Python3 online submissions for Different Ways to Add Parentheses."
   ]
  },
  {
   "cell_type": "code",
   "execution_count": 45,
   "metadata": {},
   "outputs": [
    {
     "data": {
      "text/plain": [
       "[-34, -10, -14, -10, 10]"
      ]
     },
     "execution_count": 45,
     "metadata": {},
     "output_type": "execute_result"
    }
   ],
   "source": [
    "class Solution:\n",
    "    def diffWaysToCompute(self, input):\n",
    "        output = []\n",
    "        for i, c in enumerate(input):\n",
    "            if c in '+-*':\n",
    "                a_list = self.diffWaysToCompute(input[:i])\n",
    "                b_list = self.diffWaysToCompute(input[i+1:])\n",
    "                output += [a+b if c == '+' else a-b if c=='-' else a*b  for a in a_list for b in b_list]\n",
    "        return output or [int(input)]\n",
    "ans = Solution()\n",
    "ans.diffWaysToCompute(\"2*3-4*5\")"
   ]
  },
  {
   "cell_type": "markdown",
   "metadata": {},
   "source": [
    "Success Details  \n",
    "- Runtime: 36 ms, faster than 62.96% of Python3 online submissions for Different Ways to Add Parentheses.\n",
    "- Memory Usage: 14.6 MB, less than 6.12% of Python3 online submissions for Different Ways to Add Parentheses."
   ]
  },
  {
   "cell_type": "markdown",
   "metadata": {},
   "source": [
    "## Week 12 - Mar 20, 2021"
   ]
  },
  {
   "cell_type": "markdown",
   "metadata": {},
   "source": [
    "### 22. Generate Parentheses Medium (65%)\n",
    "\n",
    "https://leetcode.com/problems/generate-parentheses/ \n",
    "    \n",
    "Given n pairs of parentheses, write a function to generate all combinations of well-formed parentheses.\n",
    "\n",
    "#### Example 1:\n",
    "- Input: n = 3\n",
    "- Output: [\"((()))\",\"(()())\",\"(())()\",\"()(())\",\"()()()\"]\n",
    "\n",
    "#### Example 2:\n",
    "- Input: n = 1\n",
    "- Output: [\"()\"]\n",
    " \n",
    "#### Constraints:\n",
    "\n",
    "- 1 <= n <= 8"
   ]
  },
  {
   "cell_type": "code",
   "execution_count": 46,
   "metadata": {},
   "outputs": [
    {
     "name": "stdout",
     "output_type": "stream",
     "text": [
      "{('((', 2), ('()', 0)}\n",
      "{('()(', 1), ('(((', 3), ('(()', 1)}\n",
      "{('()()', 0), ('((()', 2), ('(()(', 2), ('()((', 2), ('(())', 0), ('((((', 4)}\n",
      "{('((()(', 3), ('(()()', 1), ('()(()', 1), ('(())(', 1), ('()()(', 1), ('(((((', 5), ('(()((', 3), ('(((()', 3), ('((())', 1), ('()(((', 3)}\n",
      "\n",
      "['(()())', '()(())', '(())()', '()()()', '((()))']\n",
      "Wall time: 0 ns\n"
     ]
    }
   ],
   "source": [
    "%%time\n",
    "n = 3\n",
    "outputs = [('(',1)]\n",
    "for i in range(2*n-2):\n",
    "    outputs = set([(x[0]+'(',x[1]+1) if x[1] > 0 and c == '('\n",
    "               else (x[0]+')',x[1]-1) if x[1] > 0 and c ==')'\n",
    "               else (x[0]+'(',x[1]+1)\n",
    "               for x in outputs for c in '()'])\n",
    "    print(outputs)\n",
    "outputs = [(x[0]+')',x[1]-1 )for x in outputs]\n",
    "print()\n",
    "#print(outputs)\n",
    "print([x[0] for x in outputs if x[1] == 0])"
   ]
  },
  {
   "cell_type": "code",
   "execution_count": 47,
   "metadata": {},
   "outputs": [
    {
     "name": "stdout",
     "output_type": "stream",
     "text": [
      "['(()())', '()(())', '(())()', '()()()', '((()))']\n",
      "Wall time: 998 µs\n"
     ]
    }
   ],
   "source": [
    "%%time\n",
    "class Solution:\n",
    "    def generateParenthesis(self, n: int):\n",
    "        outputs = [('(',1)]\n",
    "        for i in range(2*n-2):\n",
    "            outputs = set([(x[0]+'(',x[1]+1) if x[1] > 0 and c == '('\n",
    "                       else (x[0]+')',x[1]-1) if x[1] > 0 and c ==')'\n",
    "                       else (x[0]+'(',x[1]+1)\n",
    "                       for x in outputs for c in '()'])\n",
    "        outputs = [x[0]+')' for x in outputs if x[1] == 1]\n",
    "        return outputs\n",
    "ans = Solution()\n",
    "print(ans.generateParenthesis(3))"
   ]
  },
  {
   "cell_type": "markdown",
   "metadata": {},
   "source": [
    "Success Details \n",
    "- Runtime: 36 ms, faster than 65.58% of Python3 online submissions for Generate Parentheses.\n",
    "- Memory Usage: 16.2 MB, less than 11.27% of Python3 online submissions for Generate Parentheses."
   ]
  },
  {
   "cell_type": "code",
   "execution_count": 50,
   "metadata": {},
   "outputs": [
    {
     "name": "stdout",
     "output_type": "stream",
     "text": [
      "['(()()())', '(((())))', '(()())()', '(())()()', '(()(()))', '()()()()', '()()(())', '()((()))', '((())())', '((()))()', '((()()))', '()(()())', '()(())()', '(())(())']\n",
      "Wall time: 0 ns\n"
     ]
    }
   ],
   "source": [
    "%%time\n",
    "class Solution:\n",
    "    def generateParenthesis(self, n: int):\n",
    "        outputs = [('',0)]\n",
    "        for i in range(2*n):\n",
    "            outputs = set([(x[0]+'(',x[1]+1) if x[1] > 0 and c == '('\n",
    "                       else (x[0]+')',x[1]-1) if x[1] > 0 and c ==')'\n",
    "                       else (x[0]+'(',x[1]+1)\n",
    "                       for x in outputs for c in '()'])\n",
    "        outputs = [x[0] for x in outputs if x[1] == 0]\n",
    "        return outputs\n",
    "ans = Solution()\n",
    "print(ans.generateParenthesis(4))"
   ]
  },
  {
   "cell_type": "markdown",
   "metadata": {},
   "source": [
    "Success Details \n",
    "- Runtime: 40 ms, faster than 31.58% of Python3 online submissions for Generate Parentheses.\n",
    "- Memory Usage: 17.8 MB, less than 11.27% of Python3 online submissions for Generate Parentheses."
   ]
  },
  {
   "cell_type": "code",
   "execution_count": 64,
   "metadata": {},
   "outputs": [
    {
     "name": "stdout",
     "output_type": "stream",
     "text": [
      "['()']\n",
      "Wall time: 0 ns\n"
     ]
    }
   ],
   "source": [
    "%%time\n",
    "class Solution:\n",
    "    def generateParenthesis(self, n, open=0):\n",
    "        if n > 0 <= open:\n",
    "            return ['(' + p for p in self.generateParenthesis(n-1, open+1)] + \\\n",
    "               [')' + p for p in self.generateParenthesis(n, open-1)]\n",
    "        return [')' * open] * (not n)\n",
    "ans = Solution()\n",
    "print(ans.generateParenthesis(1))"
   ]
  },
  {
   "cell_type": "markdown",
   "metadata": {},
   "source": [
    "Success Details \n",
    "- Runtime: 36 ms, faster than 65.58% of Python3 online submissions for Generate Parentheses.\n",
    "- Memory Usage: 14.8 MB, less than 11.27% of Python3 online submissions for Generate Parentheses."
   ]
  },
  {
   "cell_type": "markdown",
   "metadata": {},
   "source": [
    "## Week 13 - Mar 27, 2021"
   ]
  },
  {
   "cell_type": "markdown",
   "metadata": {},
   "source": [
    "### 678. Valid Parenthesis String Medium (31%)\n",
    "\n",
    "https://leetcode.com/problems/valid-parenthesis-string/\n",
    "\n",
    "Given a string s containing only three types of characters: '(', ')' and '*', return true if s is valid.\n",
    "\n",
    "The following rules define a valid string:\n",
    "\n",
    "- Any left parenthesis '(' must have a corresponding right parenthesis ')'.\n",
    "- Any right parenthesis ')' must have a corresponding left parenthesis '('.\n",
    "- Left parenthesis '(' must go before the corresponding right parenthesis ')'.\n",
    "- '*' could be treated as a single right parenthesis ')' or a single left parenthesis '(' or an empty string \"\".\n",
    "\n",
    "#### Example 1:\n",
    "\n",
    "- Input: s = \"()\"\n",
    "- Output: true\n",
    "\n",
    "#### Example 2:\n",
    "\n",
    "- Input: s = \"(*)\"\n",
    "- Output: true\n",
    "\n",
    "#### Example 3:\n",
    "\n",
    "- Input: s = \"(*))\"\n",
    "- Output: true\n",
    " \n",
    "#### Constraints:\n",
    "\n",
    "- 1 <= s.length <= 100\n",
    "- s[i] is '(', ')' or '*'."
   ]
  },
  {
   "cell_type": "code",
   "execution_count": 113,
   "metadata": {},
   "outputs": [
    {
     "name": "stdout",
     "output_type": "stream",
     "text": [
      "[0, 1, 2, 3, 4, 5] [6, 7]\n",
      "[2, 3, 4, 5]\n",
      "False\n"
     ]
    }
   ],
   "source": [
    "s = \"((((((**()\"\n",
    "#s = \"((*))))\"\n",
    "stack = []\n",
    "stars = []\n",
    "for i,c in enumerate(s):\n",
    "    if c == '(': stack.append(i)\n",
    "    elif c == '*': stars.append(i)\n",
    "    else:\n",
    "        if stack: stack.pop()\n",
    "        else:\n",
    "            if stars: stars.pop()\n",
    "            else: print('False')\n",
    "if stack:\n",
    "    print(stack, stars)\n",
    "    for i in stack:\n",
    "        for idx in stars:\n",
    "            if i < idx:\n",
    "                stars = stars[stars.index(idx)+1:]\n",
    "                if len(stack) > 1: stack = stack[1:]\n",
    "                else: stack = []\n",
    "                break\n",
    "    print(stack)\n",
    "    if stack: print('False')"
   ]
  },
  {
   "cell_type": "code",
   "execution_count": 112,
   "metadata": {},
   "outputs": [
    {
     "data": {
      "text/plain": [
       "False"
      ]
     },
     "execution_count": 112,
     "metadata": {},
     "output_type": "execute_result"
    }
   ],
   "source": [
    "class Solution:\n",
    "    def checkValidString(self, s: str) -> bool:\n",
    "        stack = []\n",
    "        stars = []\n",
    "        for i,c in enumerate(s):\n",
    "            if c == '(': stack.append(i)\n",
    "            elif c == '*': stars.append(i)\n",
    "            else:\n",
    "                if stack: stack.pop()\n",
    "                else:\n",
    "                    if stars: stars.pop()\n",
    "                    else: return False\n",
    "\n",
    "        if not stack: return True\n",
    "        else:\n",
    "            for i in stack:\n",
    "                for idx in stars:\n",
    "                    if i < idx:\n",
    "                        stars = stars[stars.index(idx)+1:]\n",
    "                        if len(stack) > 1: stack = stack[1:]\n",
    "                        else: stack = []\n",
    "                        break\n",
    "            if not stack: return True\n",
    "            else: return False\n",
    "ans = Solution()\n",
    "ans.checkValidString( \"((((((**()\")"
   ]
  },
  {
   "cell_type": "markdown",
   "metadata": {},
   "source": [
    "Success Details \n",
    "- Runtime: 28 ms, faster than 87.11% of Python3 online submissions for Valid Parenthesis String.\n",
    "- Memory Usage: 14.3 MB, less than 25.34% of Python3 online submissions for Valid Parenthesis String."
   ]
  },
  {
   "cell_type": "code",
   "execution_count": 119,
   "metadata": {},
   "outputs": [
    {
     "data": {
      "text/plain": [
       "True"
      ]
     },
     "execution_count": 119,
     "metadata": {},
     "output_type": "execute_result"
    }
   ],
   "source": [
    "class Solution:\n",
    "    def checkValidString(self, s):\n",
    "        stack=[]  # go through s from left to right, try to test all the ( and * can balance all the )\n",
    "        for x in s:\n",
    "            if x != ')': stack.append(x)\n",
    "            else:\n",
    "                if stack: stack.pop()\n",
    "                else: return False # this means left ( is not enough\n",
    "        stack=[]  # go through s from right to left, try to test all the ) and * can balance all the (\n",
    "        for x in s[::-1]:\n",
    "            if x!= '(': stack.append(x)\n",
    "            else:\n",
    "                if stack: stack.pop()\n",
    "                else: return False # this means right ) is not enough\n",
    "        return True\n",
    "    \n",
    "ans = Solution()\n",
    "ans.checkValidString( \"((**))\")"
   ]
  },
  {
   "cell_type": "markdown",
   "metadata": {},
   "source": [
    "Success Details \n",
    "- Runtime: 28 ms, faster than 87.11% of Python3 online submissions for Valid Parenthesis String.\n",
    "- Memory Usage: 14.3 MB, less than 54.64% of Python3 online submissions for Valid Parenthesis String."
   ]
  },
  {
   "cell_type": "code",
   "execution_count": 120,
   "metadata": {},
   "outputs": [
    {
     "data": {
      "text/plain": [
       "True"
      ]
     },
     "execution_count": 120,
     "metadata": {},
     "output_type": "execute_result"
    }
   ],
   "source": [
    "class Solution:\n",
    "    def checkValidString(self, s):\n",
    "        stack = 0 # go through s from left to right, try to test all the ( and * can balance all the )\n",
    "        for x in s:\n",
    "            if x != ')': stack += 1\n",
    "            else:\n",
    "                if stack: stack -= 1\n",
    "                else: return False # this means left ( is not enough\n",
    "        stack = 0   # go through s from right to left, try to test all the ) and * can balance all the (\n",
    "        for x in s[::-1]:\n",
    "            if x!= '(': stack += 1\n",
    "            else:\n",
    "                if stack: stack -= 1\n",
    "                else: return False # this means right ) is not enough\n",
    "        return True\n",
    "    \n",
    "ans = Solution()\n",
    "ans.checkValidString( \"((**)))\")"
   ]
  },
  {
   "cell_type": "markdown",
   "metadata": {},
   "source": [
    "Success Details \n",
    "- Runtime: 20 ms, faster than 99.19% of Python3 online submissions for Valid Parenthesis String.\n",
    "- Memory Usage: 14.3 MB, less than 25.34% of Python3 online submissions for Valid Parenthesis String."
   ]
  },
  {
   "cell_type": "markdown",
   "metadata": {},
   "source": [
    "## Week 2 - Jan 09, 2021"
   ]
  },
  {
   "cell_type": "markdown",
   "metadata": {},
   "source": [
    "### Stack problem"
   ]
  },
  {
   "cell_type": "markdown",
   "metadata": {},
   "source": [
    "### 1441. Build an Array With Stack Operations (Easy)\n",
    "https://leetcode.com/problems/build-an-array-with-stack-operations/\n",
    "\n",
    "\n",
    "Given an array target and an integer n. In each iteration, you will read a number from  list = {1,2,3..., n}.\n",
    "\n",
    "Build the target array using the following operations:\n",
    "\n",
    "- Push: Read a new element from the beginning list, and push it in the array.\n",
    "- Pop: delete the last element of the array.\n",
    "- If the target array is already built, stop reading more elements.\n",
    "- Return the operations to build the target array. You are guaranteed that the answer is unique.\n",
    "\n",
    " "
   ]
  },
  {
   "cell_type": "markdown",
   "metadata": {},
   "source": [
    "#### Example 1:\n",
    "\n",
    "- Input: target = [1,3], n = 3\n",
    "- Output: [\"Push\",\"Push\",\"Pop\",\"Push\"]\n",
    "\n",
    "Explanation: \n",
    "- Read number 1 and automatically push in the array -> [1]\n",
    "- Read number 2 and automatically push in the array then Pop it -> [1]\n",
    "- Read number 3 and automatically push in the array -> [1,3]"
   ]
  },
  {
   "cell_type": "markdown",
   "metadata": {},
   "source": [
    "#### Example 2:\n",
    "\n",
    "- Input: target = [1,2,3], n = 3\n",
    "- Output: [\"Push\",\"Push\",\"Push\"]"
   ]
  },
  {
   "cell_type": "markdown",
   "metadata": {},
   "source": [
    "#### Example 3:\n",
    "\n",
    "- Input: target = [1,2], n = 4\n",
    "- Output: [\"Push\",\"Push\"]\n",
    "\n",
    "Explanation: You only need to read the first 2 numbers and stop."
   ]
  },
  {
   "cell_type": "markdown",
   "metadata": {},
   "source": [
    "#### Example 4:\n",
    "\n",
    "- Input: target = [2,3,4], n = 4\n",
    "- Output: [\"Push\",\"Pop\",\"Push\",\"Push\",\"Push\"]\n",
    " "
   ]
  },
  {
   "cell_type": "markdown",
   "metadata": {},
   "source": [
    "#### Constraints:\n",
    "\n",
    "- 1 <= target.length <= 100\n",
    "- 1 <= target[i] <= n\n",
    "- 1 <= n <= 100\n",
    "- target is strictly increasing."
   ]
  },
  {
   "cell_type": "code",
   "execution_count": 217,
   "metadata": {},
   "outputs": [
    {
     "data": {
      "text/plain": [
       "['Push', 'Pop', 'Push', 'Push', 'Push']"
      ]
     },
     "execution_count": 217,
     "metadata": {},
     "output_type": "execute_result"
    }
   ],
   "source": [
    "#Time (O)N N = len(target) << n\n",
    "class Solution:\n",
    "    def buildArray(self, target, n):\n",
    "        output = []\n",
    "        for i,num in enumerate(target):\n",
    "            if i > 0:add_commands  = (num - target[i-1]-1)*[\"Push\",\"Pop\"]+[\"Push\"]\n",
    "            else:add_commands  = (num - 1)*[\"Push\",\"Pop\"]+[\"Push\"]\n",
    "            output+= add_commands\n",
    "        return output\n",
    "target = [2,3,4]\n",
    "n = 4\n",
    "Solution.buildArray(n,target,n)"
   ]
  },
  {
   "cell_type": "markdown",
   "metadata": {},
   "source": [
    "Success Details \n",
    "\n",
    "Runtime: 44 ms, faster than 7.79% of Python3 online submissions for Build an Array With Stack Operations.\n",
    "\n",
    "Memory Usage: 14.4 MB, less than 16.22% of Python3 online submissions for Build an Array With Stack Operations."
   ]
  },
  {
   "cell_type": "code",
   "execution_count": 91,
   "metadata": {},
   "outputs": [
    {
     "data": {
      "text/plain": [
       "['Push', 'Pop', 'Push', 'Push', 'Push']"
      ]
     },
     "execution_count": 91,
     "metadata": {},
     "output_type": "execute_result"
    }
   ],
   "source": [
    "class Solution:\n",
    "    def buildArray(self, target, n):\n",
    "        output = []\n",
    "        pre= 0\n",
    "        for cur in target:\n",
    "            output+= (cur-pre-1)*[\"Push\",\"Pop\"]+[\"Push\"]\n",
    "            pre = cur\n",
    "        return output\n",
    "\n",
    "    \n",
    "target = [2,3,4]\n",
    "n = 3\n",
    "ans = Solution()\n",
    "ans.buildArray(target,n)"
   ]
  },
  {
   "cell_type": "markdown",
   "metadata": {},
   "source": [
    "Success Details \n",
    "\n",
    "Runtime: 48 ms, faster than 6.53% of Python3 online submissions for Build an Array With Stack Operations.\n",
    "\n",
    "Memory Usage: 14.3 MB, less than 16.84% of Python3 online submissions for Build an Array With Stack Operations."
   ]
  },
  {
   "cell_type": "code",
   "execution_count": 101,
   "metadata": {},
   "outputs": [
    {
     "data": {
      "text/plain": [
       "['Push', 'Pop', 'Push', 'Push', 'Push']"
      ]
     },
     "execution_count": 101,
     "metadata": {},
     "output_type": "execute_result"
    }
   ],
   "source": [
    "class Solution:\n",
    "    def buildArray(self, target, n):\n",
    "        output = target[-1]*[\"Push\",\"Pop\"]\n",
    "        output = [x for i,x in enumerate(output) if (i+1)/2 not in  target]#pre= 0\n",
    "        return output\n",
    "    \n",
    "target = [2,3,4]\n",
    "n = 3\n",
    "ans = Solution()\n",
    "ans.buildArray(target,n)"
   ]
  },
  {
   "cell_type": "markdown",
   "metadata": {},
   "source": [
    "Success  \n",
    "\n",
    "- Runtime: 36 ms, faster than 45.32% of Python3 online submissions for Build an Array With Stack Operations.\n",
    "- Memory Usage: 14.4 MB, less than 18.94% of Python3 online submissions for Build an Array With Stack Operations.\n"
   ]
  }
 ],
 "metadata": {
  "kernelspec": {
   "display_name": "Python 3",
   "language": "python",
   "name": "python3"
  },
  "language_info": {
   "codemirror_mode": {
    "name": "ipython",
    "version": 3
   },
   "file_extension": ".py",
   "mimetype": "text/x-python",
   "name": "python",
   "nbconvert_exporter": "python",
   "pygments_lexer": "ipython3",
   "version": "3.7.4"
  }
 },
 "nbformat": 4,
 "nbformat_minor": 2
}

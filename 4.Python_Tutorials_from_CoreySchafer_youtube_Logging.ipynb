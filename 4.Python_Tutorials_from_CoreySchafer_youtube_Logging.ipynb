{
 "cells": [
  {
   "cell_type": "markdown",
   "metadata": {},
   "source": [
    "# PART 4 - LOGGING"
   ]
  },
  {
   "cell_type": "markdown",
   "metadata": {},
   "source": [
    "## TOPIC 1 - LOGGING BASICS: Logging to Files, Setting Level,and Formatting"
   ]
  },
  {
   "cell_type": "markdown",
   "metadata": {},
   "source": [
    "__LEVELS OF LOGGING:__\n",
    "- `DEBUG`: Detailed information, typically of interest only when diagnosing problems.\n",
    "- `INFO`: Confirmation that things are working as expected.\n",
    "- `WARNING`: An indication that something unexpected happened, or indicative of some problems in the near future (e.g. 'disk space low'). The software is still working as expected.\n",
    "- `ERROR`: Due to a more serious problem, the software has not been able to perform some functions.\n",
    "- `CRITICAL`: A serious error, indicating that the program itself may be unable to continue running.\n",
    "\n",
    "Default level is Warning. So it ignore levels of debug and info and print out only from warning to\n",
    "critical"
   ]
  },
  {
   "cell_type": "code",
   "execution_count": 2,
   "metadata": {},
   "outputs": [
    {
     "name": "stderr",
     "output_type": "stream",
     "text": [
      "DEBUG:root:Add: 10 + 5 = 15\n",
      "DEBUG:root:Sub: 10 - 5 = 5\n",
      "DEBUG:root:Mul: 10 * 5 = 50\n",
      "DEBUG:root:Div: 10 / 5 = 2.0\n"
     ]
    }
   ],
   "source": [
    "# Write result to console, not a log file\n",
    "import logging\n",
    "logging.getLogger('').handlers = []\n",
    "#getLogger to create a log file, handler to set level\n",
    "logging.basicConfig(level=logging.DEBUG)\n",
    "def add(x,y):\n",
    "    \"\"\"Add Function\"\"\"\n",
    "    return x + y\n",
    "def subtract(x,y):\n",
    "    \"\"\"Subtract Function\"\"\"\n",
    "    return x - y\n",
    "def multiply (x,y):\n",
    "    \"\"\"Multiply Function\"\"\"\n",
    "    return x * y\n",
    "def divide (x,y):\n",
    "    \"\"\"Divide Function\"\"\"\n",
    "    return x / y\n",
    "num_1 = 10\n",
    "num_2 = 5\n",
    "add_result = add(num_1, num_2)\n",
    "logging.debug('Add: {} + {} = {}'.format(num_1, num_2, add_result))\n",
    "sub_result = subtract(num_1, num_2)\n",
    "logging.debug('Sub: {} - {} = {}'.format(num_1, num_2, sub_result))\n",
    "mul_result = multiply(num_1, num_2)\n",
    "logging.debug('Mul: {} * {} = {}'.format(num_1, num_2, mul_result))\n",
    "div_result = divide(num_1, num_2)\n",
    "logging.debug('Div: {} / {} = {}'.format(num_1, num_2, div_result))"
   ]
  },
  {
   "cell_type": "markdown",
   "metadata": {},
   "source": [
    "`:root` is for the result without any format specified"
   ]
  },
  {
   "cell_type": "code",
   "execution_count": 3,
   "metadata": {},
   "outputs": [],
   "source": [
    "#Create a log file\n",
    "import logging\n",
    "logging.getLogger('').handlers = []\n",
    "#getLogger to create a log file, handler to set level\n",
    "logging.basicConfig(filename='test.log', level=logging.DEBUG)\n",
    "\n",
    "num_1 = 10\n",
    "num_2 = 5\n",
    "add_result = add(num_1, num_2)\n",
    "logging.debug('Add: {} + {} = {}'.format(num_1, num_2, add_result))\n",
    "sub_result = subtract(num_1, num_2)\n",
    "logging.debug('Sub: {} - {} = {}'.format(num_1, num_2, sub_result))\n",
    "mul_result = multiply(num_1, num_2)\n",
    "logging.debug('Mul: {} * {} = {}'.format(num_1, num_2, mul_result))\n",
    "div_result = divide(num_1, num_2)\n",
    "logging.debug('Div: {} / {} = {}'.format(num_1, num_2, div_result))"
   ]
  },
  {
   "cell_type": "markdown",
   "metadata": {},
   "source": [
    "The above logging will return DEBUG message exactly like the previous case but instead of printing it out, everything is sent to test.log file"
   ]
  },
  {
   "cell_type": "code",
   "execution_count": 4,
   "metadata": {},
   "outputs": [],
   "source": [
    "# Change format of a log\n",
    "# for more formats, go: https://docs.python.org/3/library/logging.html\n",
    "import logging\n",
    "logging.getLogger('').handlers = []\n",
    "logging.basicConfig(filename='test.log', level=logging.INFO,format='%(asctime)s:%(levelname)s:%(message)s')\n",
    "\n",
    "num_1 = 10\n",
    "num_2 = 5\n",
    "add_result = add(num_1, num_2)\n",
    "logging.info('Add: {} + {} = {}'.format(num_1, num_2, add_result))\n",
    "sub_result = subtract(num_1, num_2)\n",
    "logging.info('Sub: {} - {} = {}'.format(num_1, num_2, sub_result))\n",
    "mul_result = multiply(num_1, num_2)\n",
    "logging.info('Mul: {} * {} = {}'.format(num_1, num_2, mul_result))\n",
    "div_result = divide(num_1, num_2)\n",
    "logging.info('Div: {} / {} = {}'.format(num_1, num_2, div_result))"
   ]
  },
  {
   "cell_type": "markdown",
   "metadata": {},
   "source": [
    "RESULT IN test.log\n",
    "\n",
    "    2019-11-26 15:20:58,217:INFO:Add: 10 + 5 = 15\n",
    "    2019-11-26 15:20:58,218:INFO:Sub: 10 - 5 = 5\n",
    "    2019-11-26 15:20:58,219:INFO:Mul: 10 * 5 = 50\n",
    "    2019-11-26 15:20:58,220:INFO:Div: 10 / 5 = 2.0"
   ]
  },
  {
   "cell_type": "code",
   "execution_count": 5,
   "metadata": {},
   "outputs": [],
   "source": [
    "# Add log and format inside a function\n",
    "import logging\n",
    "logging.getLogger('').handlers = []\n",
    "logging.basicConfig(filename='employee.log',level=logging.INFO, format='%(levelname)s: %(message)s')\n",
    "class Employee():\n",
    "    def __init__(self,first,last):\n",
    "        self.first = first\n",
    "        self.last = last\n",
    "        logging.info('Created Employee: {} - {}'.format(self.fullname,self.email))\n",
    "    @property\n",
    "    def email(self):\n",
    "        return '{}.{}@test.com'.format(self.first, self.last)\n",
    "    @property\n",
    "    def fullname(self):\n",
    "        return '{} {}'.format(self.first, self.last)\n",
    "emp_1 = Employee('First1','Last1')\n",
    "emp_2 = Employee('First2','Last2')\n",
    "emp_3 = Employee('First3','Last3')"
   ]
  },
  {
   "cell_type": "markdown",
   "metadata": {},
   "source": [
    "RESULT IN employee.log\n",
    "\n",
    "    INFO: Created Employee: First1 Last1 - First1.Last1@test.com\n",
    "    INFO: Created Employee: First2 Last2 - First2.Last2@test.com\n",
    "    INFO: Created Employee: First3 Last3 - First3.Last3@test.com"
   ]
  },
  {
   "cell_type": "markdown",
   "metadata": {},
   "source": [
    "## TOPIC 2 - Logging Advanced - Loggers, Handlers, and Formatters"
   ]
  },
  {
   "cell_type": "markdown",
   "metadata": {},
   "source": [
    "#### When run a Python code with 2 basicConfig, \n",
    "the 2nd config is ignored and everything is written in the first config log file"
   ]
  },
  {
   "cell_type": "code",
   "execution_count": 6,
   "metadata": {},
   "outputs": [],
   "source": [
    "import logging\n",
    "logging.getLogger('').handlers = []\n",
    "logging.basicConfig(filename='sample.log',level=logging.INFO,format='%(asctime)s:%(levelname)s:%(message)s')\n",
    "def add(x,y):\n",
    "    \"\"\"Add Function\"\"\"\n",
    "    return x + y\n",
    "def subtract(x,y):\n",
    "    \"\"\"Subtract Function\"\"\"\n",
    "    return x - y\n",
    "def multiply (x,y):\n",
    "    \"\"\"Multiply Function\"\"\"\n",
    "    return x * y\n",
    "def divide (x,y):\n",
    "    \"\"\"Divide Function\"\"\"\n",
    "    return x / y\n",
    "num_1 = 10\n",
    "num_2 = 5\n",
    "add_result = add(num_1, num_2)\n",
    "logging.info('Add: {} + {} = {}'.format(num_1, num_2, add_result))\n",
    "sub_result = subtract(num_1, num_2)\n",
    "logging.info('Sub: {} - {} = {}'.format(num_1, num_2, sub_result))\n",
    "mul_result = multiply(num_1, num_2)\n",
    "logging.info('Mul: {} * {} = {}'.format(num_1, num_2, mul_result))\n",
    "div_result = divide(num_1, num_2)\n",
    "logging.info('Div: {} / {} = {}'.format(num_1, num_2, div_result))       \n",
    "\n",
    "#2nd logging from here\n",
    "logging.basicConfig(filename='employee.log',level=logging.INFO, format='%(asctime)s:%(levelname)s:%(message)s')\n",
    "class Employee(object):\n",
    "    def __init__(self,first,last):\n",
    "        self.first = first\n",
    "        self.last = last\n",
    "        logging.info('Created Employee: {} - {}'.format(self.fullname,self.email))\n",
    "    @property\n",
    "    def email(self):\n",
    "        return '{}.{}@test.com'.format(self.first, self.last)\n",
    "    @property\n",
    "    def fullname(self):\n",
    "        return '{} {}'.format(self.first, self.last)\n",
    "emp_1 = Employee('First1','Last1')\n",
    "emp_2 = Employee('First2','Last2')\n",
    "emp_3 = Employee('First3','Last3')"
   ]
  },
  {
   "cell_type": "markdown",
   "metadata": {},
   "source": [
    "7 log messages were printed out in sample.log and none was printed out in employee.log\n",
    "\n",
    "RESULT IN sample.log\n",
    "\n",
    "    2019-11-26 15:23:04,252:INFO:Add: 10 + 5 = 15\n",
    "    2019-11-26 15:23:04,256:INFO:Sub: 10 - 5 = 5\n",
    "    2019-11-26 15:23:04,258:INFO:Mul: 10 * 5 = 50\n",
    "    2019-11-26 15:23:04,259:INFO:Div: 10 / 5 = 2.0\n",
    "    2019-11-26 15:23:04,261:INFO:Created Employee: First1 Last1 - First1.Last1@test.com\n",
    "    2019-11-26 15:23:04,263:INFO:Created Employee: First2 Last2 - First2.Last2@test.com\n",
    "    2019-11-26 15:23:04,264:INFO:Created Employee: First3 Last3 - First3.Last3@test.com"
   ]
  },
  {
   "cell_type": "markdown",
   "metadata": {},
   "source": [
    "#### In order to have something for the 2nd log config written, \n",
    "we must specify empty loger and handlers `logging.getLogger('').handlers = []`"
   ]
  },
  {
   "cell_type": "code",
   "execution_count": 1,
   "metadata": {},
   "outputs": [],
   "source": [
    "import logging\n",
    "logging.getLogger('').handlers = []\n",
    "logging.basicConfig(filename='sample.log',level=logging.INFO,format='%(asctime)s:%(levelname)s:%(message)s')\n",
    "def add(x,y):\n",
    "    \"\"\"Add Function\"\"\"\n",
    "    return x + y\n",
    "def subtract(x,y):\n",
    "    \"\"\"Subtract Function\"\"\"\n",
    "    return x - y\n",
    "def multiply (x,y):\n",
    "    \"\"\"Multiply Function\"\"\"\n",
    "    return x * y\n",
    "def divide (x,y):\n",
    "    \"\"\"Divide Function\"\"\"\n",
    "    return x / y\n",
    "num_1 = 10\n",
    "num_2 = 5\n",
    "add_result = add(num_1, num_2)\n",
    "logging.info('Add: {} + {} = {}'.format(num_1, num_2, add_result))\n",
    "sub_result = subtract(num_1, num_2)\n",
    "logging.info('Sub: {} - {} = {}'.format(num_1, num_2, sub_result))\n",
    "mul_result = multiply(num_1, num_2)\n",
    "logging.info('Mul: {} * {} = {}'.format(num_1, num_2, mul_result))\n",
    "div_result = divide(num_1, num_2)\n",
    "logging.info('Div: {} / {} = {}'.format(num_1, num_2, div_result))       \n",
    "\n",
    "#2nd logging from here\n",
    "logging.getLogger('').handlers = []\n",
    "logging.basicConfig(filename='employee.log',level=logging.INFO, format='%(asctime)s:%(levelname)s:%(message)s')\n",
    "class Employee(object):\n",
    "    def __init__(self,first,last):\n",
    "        self.first = first\n",
    "        self.last = last\n",
    "        logging.info('Created Employee: {} - {}'.format(self.fullname,self.email))\n",
    "    @property\n",
    "    def email(self):\n",
    "        return '{}.{}@test.com'.format(self.first, self.last)\n",
    "    @property\n",
    "    def fullname(self):\n",
    "        return '{} {}'.format(self.first, self.last)\n",
    "emp_1 = Employee('First1','Last1')\n",
    "emp_2 = Employee('First2','Last2')\n",
    "emp_3 = Employee('First3','Last3')"
   ]
  },
  {
   "cell_type": "markdown",
   "metadata": {},
   "source": [
    "RESULT IN sample.log\n",
    "\n",
    "    2019-11-26 15:29:59,863:INFO:Add: 10 + 5 = 15\n",
    "    2019-11-26 15:29:59,865:INFO:Sub: 10 - 5 = 5\n",
    "    2019-11-26 15:29:59,865:INFO:Mul: 10 * 5 = 50\n",
    "    2019-11-26 15:29:59,866:INFO:Div: 10 / 5 = 2.0\n",
    "\n",
    "RESULT IN employee.log\n",
    "\n",
    "    2019-11-26 15:29:59,877:INFO:Created Employee: First1 Last1 - First1.Last1@test.com\n",
    "    2019-11-26 15:29:59,878:INFO:Created Employee: First2 Last2 - First2.Last2@test.com\n",
    "    2019-11-26 15:29:59,880:INFO:Created Employee: First3 Last3 - First3.Last3@test.com"
   ]
  },
  {
   "cell_type": "markdown",
   "metadata": {},
   "source": [
    "#### Another way to specify logger and handler under a name then run logging from the defined name (say: logger)\n",
    "- logger = `logging.getLogger`(__name__)\n",
    "- logger.`setLevel`(logging.INFO)\n",
    "- formatter = `logging.Formatter`('%(levelname)s:%(name)s:%(message)s')\n",
    "- file_handler = `logging.FileHandler`('employee.log')\n",
    "- file_handler.`setFormatter`(formatter)\n",
    "- logger.`addHandler`(file_handler)"
   ]
  },
  {
   "cell_type": "code",
   "execution_count": 1,
   "metadata": {},
   "outputs": [],
   "source": [
    "import logging\n",
    "logging.getLogger('').handlers = []\n",
    "logging.basicConfig(filename='sample.log',level=logging.WARNING,format='%(asctime)s:%(levelname)s:%(message)s')\n",
    "#2nd log from here\n",
    "logger = logging.getLogger(__name__)\n",
    "logger.setLevel(logging.INFO)\n",
    "file_handler = logging.FileHandler('employee.log')\n",
    "formatter = logging.Formatter('%(levelname)s:%(name)s:%(message)s')\n",
    "file_handler.setFormatter(formatter)\n",
    "logger.addHandler(file_handler)\n",
    "\n",
    "class Employee(object):\n",
    "    def __init__(self,first,last):\n",
    "        self.first = first\n",
    "        self.last = last\n",
    "        logger.info('Created Employee: {} - {}'.format(self.fullname,self.email))\n",
    "    @property\n",
    "    def email(self):\n",
    "        return '{}.{}@test.com'.format(self.first, self.last)\n",
    "    @property\n",
    "    def fullname(self):\n",
    "        return '{} {}'.format(self.first, self.last)\n",
    "emp_1 = Employee('First1','Last1')\n",
    "emp_2 = Employee('First2','Last2')\n",
    "emp_3 = Employee('First3','Last3')"
   ]
  },
  {
   "cell_type": "markdown",
   "metadata": {},
   "source": [
    "RESULT IN sample.log\n",
    "\n",
    "    2019-11-26 15:53:05,705:INFO:Created Employee: First1 Last1 - First1.Last1@test.com\n",
    "    2019-11-26 15:53:05,707:INFO:Created Employee: First2 Last2 - First2.Last2@test.com\n",
    "    2019-11-26 15:53:05,708:INFO:Created Employee: First3 Last3 - First3.Last3@test.com\n",
    "\n",
    "RESULT IN employee.log\n",
    "\n",
    "    INFO:__main__:Created Employee: First1 Last1 - First1.Last1@test.com\n",
    "    INFO:__main__:Created Employee: First2 Last2 - First2.Last2@test.com\n",
    "    INFO:__main__:Created Employee: First3 Last3 - First3.Last3@test.com"
   ]
  },
  {
   "cell_type": "markdown",
   "metadata": {},
   "source": [
    "`__main__` for the function created in current working py or ipynb file"
   ]
  },
  {
   "cell_type": "markdown",
   "metadata": {},
   "source": [
    "#### Debug logging level will only print out debug message and above"
   ]
  },
  {
   "cell_type": "code",
   "execution_count": 1,
   "metadata": {},
   "outputs": [],
   "source": [
    "import logging\n",
    "logger = logging.getLogger(__name__)\n",
    "logger.setLevel(logging.DEBUG)\n",
    "formatter = logging.Formatter('%(asctime)s:%(name)s:%(message)s')\n",
    "file_handler = logging.FileHandler('sample.log')\n",
    "file_handler.setFormatter(formatter)\n",
    "logger.addHandler(file_handler)\n",
    "def add(x,y):\n",
    "    \"\"\"Add Function\"\"\"\n",
    "    return x + y\n",
    "def subtract(x,y):\n",
    "    \"\"\"Subtract Function\"\"\"\n",
    "    return x - y\n",
    "def multiply (x,y):\n",
    "    \"\"\"Multiply Function\"\"\"\n",
    "    return x * y\n",
    "def divide (x,y):\n",
    "    \"\"\"Divide Function\"\"\"\n",
    "    return x / y\n",
    "num_1 = 10\n",
    "num_2 = 5\n",
    "add_result = add(num_1, num_2)\n",
    "logger.debug('Add: {} + {} = {}'.format(num_1, num_2, add_result))\n",
    "sub_result = subtract(num_1, num_2)\n",
    "logger.debug('Sub: {} - {} = {}'.format(num_1, num_2, sub_result))\n",
    "mul_result = multiply(num_1, num_2)\n",
    "logger.debug('Mul: {} * {} = {}'.format(num_1, num_2, mul_result))\n",
    "div_result = divide(num_1, num_2)\n",
    "logger.debug('Div: {} / {} = {}'.format(num_1, num_2, div_result))"
   ]
  },
  {
   "cell_type": "markdown",
   "metadata": {},
   "source": [
    "RESULT IN sample.log\n",
    "\n",
    "    2019-11-26 16:01:22,521:__main__:Add: 10 + 5 = 15\n",
    "    2019-11-26 16:01:22,522:__main__:Sub: 10 - 5 = 5\n",
    "    2019-11-26 16:01:22,523:__main__:Mul: 10 * 5 = 50\n",
    "    2019-11-26 16:01:22,524:__main__:Div: 10 / 5 = 2.0"
   ]
  },
  {
   "cell_type": "markdown",
   "metadata": {},
   "source": [
    "#### Set logging level in file handler itself to select message to print out in a log"
   ]
  },
  {
   "cell_type": "code",
   "execution_count": 1,
   "metadata": {},
   "outputs": [],
   "source": [
    "import logging\n",
    "logger = logging.getLogger(__name__)\n",
    "logger.setLevel(logging.DEBUG)\n",
    "formatter = logging.Formatter('%(asctime)s:%(name)s:%(message)s')\n",
    "file_handler = logging.FileHandler('sample.log')\n",
    "file_handler.setFormatter(formatter)\n",
    "file_handler.setLevel(logging.ERROR)\n",
    "logger.addHandler(file_handler)\n",
    "def add(x,y):\n",
    "    \"\"\"Add Function\"\"\"\n",
    "    return x + y\n",
    "def subtract(x,y):\n",
    "    \"\"\"Subtract Function\"\"\"\n",
    "    return x - y\n",
    "def multiply (x,y):\n",
    "    \"\"\"Multiply Function\"\"\"\n",
    "    return x * y\n",
    "def divide (x,y):\n",
    "    \"\"\"Divide Function\"\"\"\n",
    "    return x / y\n",
    "num_1 = 10\n",
    "num_2 = 5\n",
    "add_result = add(num_1, num_2)\n",
    "logger.debug('Add: {} + {} = {}'.format(num_1, num_2, add_result))\n",
    "sub_result = subtract(num_1, num_2)\n",
    "logger.debug('Sub: {} - {} = {}'.format(num_1, num_2, sub_result))\n",
    "mul_result = multiply(num_1, num_2)\n",
    "logger.debug('Mul: {} * {} = {}'.format(num_1, num_2, mul_result))\n",
    "div_result = divide(num_1, num_2)\n",
    "logger.debug('Div: {} / {} = {}'.format(num_1, num_2, div_result))"
   ]
  },
  {
   "cell_type": "markdown",
   "metadata": {},
   "source": [
    "RESULT IN sample.log: empty file because file_handler level is set to ERROR"
   ]
  },
  {
   "cell_type": "code",
   "execution_count": 1,
   "metadata": {},
   "outputs": [],
   "source": [
    "import logging\n",
    "logger = logging.getLogger(__name__)\n",
    "logger.setLevel(logging.DEBUG)\n",
    "formatter = logging.Formatter('%(asctime)s:%(name)s:%(message)s')\n",
    "file_handler = logging.FileHandler('sample.log')\n",
    "file_handler.setFormatter(formatter)\n",
    "file_handler.setLevel(logging.ERROR)\n",
    "logger.addHandler(file_handler)\n",
    "def add(x,y):\n",
    "    \"\"\"Add Function\"\"\"\n",
    "    return x + y\n",
    "def subtract(x,y):\n",
    "    \"\"\"Subtract Function\"\"\"\n",
    "    return x - y\n",
    "def multiply (x,y):\n",
    "    \"\"\"Multiply Function\"\"\"\n",
    "    return x * y\n",
    "def divide (x,y):\n",
    "    \"\"\"Divide Function\"\"\"\n",
    "    try:\n",
    "        result = x / y\n",
    "    except ZeroDivisionError:\n",
    "        logger.error('Tried to divide by zero')\n",
    "    else:\n",
    "        return result\n",
    "num_1 = 10\n",
    "num_2 = 0\n",
    "add_result = add(num_1, num_2)\n",
    "logger.debug('Add: {} + {} = {}'.format(num_1, num_2, add_result))\n",
    "sub_result = subtract(num_1, num_2)\n",
    "logger.debug('Sub: {} - {} = {}'.format(num_1, num_2, sub_result))\n",
    "mul_result = multiply(num_1, num_2)\n",
    "logger.debug('Mul: {} * {} = {}'.format(num_1, num_2, mul_result))\n",
    "div_result = divide(num_1, num_2)\n",
    "logger.debug('Div: {} / {} = {}'.format(num_1, num_2, div_result))"
   ]
  },
  {
   "cell_type": "markdown",
   "metadata": {},
   "source": [
    "RESULT IN sample.log\n",
    "\n",
    "    2019-11-26 16:06:09,148:__main__:Tried to divide by zero"
   ]
  },
  {
   "cell_type": "markdown",
   "metadata": {},
   "source": [
    "Change `logger.error` to `logger.exception` in except statement of divide function definition"
   ]
  },
  {
   "cell_type": "code",
   "execution_count": 2,
   "metadata": {},
   "outputs": [],
   "source": [
    "def divide (x,y):\n",
    "    \"\"\"Divide Function\"\"\"\n",
    "    try:\n",
    "        result = x / y\n",
    "    except ZeroDivisionError:\n",
    "        logger.exception('Tried to divide by zero')\n",
    "    else:\n",
    "        return result\n",
    "num_1 = 10\n",
    "num_2 = 0\n",
    "div_result = divide(num_1, num_2)\n",
    "logger.debug('Div: {} / {} = {}'.format(num_1, num_2, div_result))"
   ]
  },
  {
   "cell_type": "markdown",
   "metadata": {},
   "source": [
    "RESULT IN sample.log\n",
    "\n",
    "    2019-11-26 16:09:14,325:__main__:Tried to divide by zero\n",
    "    Traceback (most recent call last):\n",
    "      File \"<ipython-input-2-ef5266f1f37d>\", line 4, in divide\n",
    "        result = x / y\n",
    "    ZeroDivisionError: division by zero"
   ]
  },
  {
   "cell_type": "markdown",
   "metadata": {},
   "source": [
    "#### Add multiple handlers to a single logger"
   ]
  },
  {
   "cell_type": "code",
   "execution_count": 3,
   "metadata": {},
   "outputs": [
    {
     "name": "stderr",
     "output_type": "stream",
     "text": [
      "2019-11-26 16:13:55,882:__main__:Add: 10 + 0 = 10\n",
      "2019-11-26 16:13:55,891:__main__:Sub: 10 - 0 = 10\n",
      "2019-11-26 16:13:55,893:__main__:Mul: 10 * 0 = 0\n",
      "2019-11-26 16:13:55,893:__main__:Tried to divide by zero\n",
      "2019-11-26 16:13:55,897:__main__:Div: 10 / 0 = None\n"
     ]
    }
   ],
   "source": [
    "import logging\n",
    "logger = logging.getLogger(__name__)\n",
    "logger.setLevel(logging.DEBUG)\n",
    "formatter = logging.Formatter('%(asctime)s:%(name)s:%(message)s')\n",
    "file_handler = logging.FileHandler('sample.log')\n",
    "file_handler.setFormatter(formatter)\n",
    "file_handler.setLevel(logging.ERROR)\n",
    "\n",
    "stream_handler = logging.StreamHandler() #no argument\n",
    "stream_handler.setFormatter(formatter)\n",
    "logger.addHandler(file_handler)\n",
    "logger.addHandler(stream_handler)\n",
    "def divide (x,y):\n",
    "    \"\"\"Divide Function\"\"\"\n",
    "    try:\n",
    "        result = x / y\n",
    "    except ZeroDivisionError:\n",
    "        logger.error('Tried to divide by zero')\n",
    "    else:\n",
    "        return result\n",
    "num_1 = 10\n",
    "num_2 = 0\n",
    "add_result = add(num_1, num_2)\n",
    "logger.debug('Add: {} + {} = {}'.format(num_1, num_2, add_result))\n",
    "sub_result = subtract(num_1, num_2)\n",
    "logger.debug('Sub: {} - {} = {}'.format(num_1, num_2, sub_result))\n",
    "mul_result = multiply(num_1, num_2)\n",
    "logger.debug('Mul: {} * {} = {}'.format(num_1, num_2, mul_result))\n",
    "div_result = divide(num_1, num_2)\n",
    "logger.debug('Div: {} / {} = {}'.format(num_1, num_2, div_result))"
   ]
  },
  {
   "cell_type": "markdown",
   "metadata": {},
   "source": [
    "- Message print out above is the stream_handler output.\n",
    "- Message from file_handler will be printed out in sample.log\n",
    "        2019-11-26 16:13:55,893:__main__:Tried to divide by zero"
   ]
  },
  {
   "cell_type": "markdown",
   "metadata": {},
   "source": [
    "#### Special values in Python"
   ]
  },
  {
   "cell_type": "markdown",
   "metadata": {},
   "source": [
    "if `__name__` == `'__main__'`\n",
    "\n",
    "Python sets some special variables, and __name__ is one of them. \n",
    "- When we run any python codes in the same py file without importing any module, variable `__name__` has the default value of '__main__'\n",
    "- If we import a module, then the variable `__name__` will have a value of the imported module's name\n",
    "\n",
    "This method is used to check if a python code is run directly from a file or from an imported module"
   ]
  },
  {
   "cell_type": "code",
   "execution_count": 5,
   "metadata": {},
   "outputs": [
    {
     "name": "stdout",
     "output_type": "stream",
     "text": [
      "This will be always run\n",
      "First Module's Name: __main__\n"
     ]
    }
   ],
   "source": [
    "#Using function to check __name__ = '__main__'\n",
    "print('This will be always run')\n",
    "def main():\n",
    "    print( \"First Module's Name: {}\".format(__name__))\n",
    "#Only when condition if is met, then the main function is run\n",
    "if __name__ =='__main__':\n",
    "    main()"
   ]
  },
  {
   "cell_type": "markdown",
   "metadata": {},
   "source": [
    "If the module is imported, then the main function will not be run. But if we want to run the main function in the imported module anyway, we can use dot syntax\n",
    "\n",
    "    import first_module\n",
    "    first_module.main()\n",
    "\n",
    "OR\n",
    "\n",
    "    try:\n",
    "        import first_module\n",
    "    except ImportError as e:\n",
    "        print \"First Module's Name: {}\".format(e)"
   ]
  },
  {
   "cell_type": "markdown",
   "metadata": {},
   "source": [
    "Import First_Module will result in the module named \"First_Module\". This doesnt work in jupyter notebook because Jupyter notebooks work in ipynb file instead of a py file\n",
    "\n",
    "    %run first_module.ipynb"
   ]
  },
  {
   "cell_type": "code",
   "execution_count": 7,
   "metadata": {},
   "outputs": [
    {
     "name": "stdout",
     "output_type": "stream",
     "text": [
      "Run Directly\n"
     ]
    }
   ],
   "source": [
    "if __name__ =='__main__':\n",
    "    print(\"Run Directly\")\n",
    "else:\n",
    "    print(\"Run From Import\")"
   ]
  }
 ],
 "metadata": {
  "kernelspec": {
   "display_name": "Python 3",
   "language": "python",
   "name": "python3"
  },
  "language_info": {
   "codemirror_mode": {
    "name": "ipython",
    "version": 3
   },
   "file_extension": ".py",
   "mimetype": "text/x-python",
   "name": "python",
   "nbconvert_exporter": "python",
   "pygments_lexer": "ipython3",
   "version": "3.7.4"
  }
 },
 "nbformat": 4,
 "nbformat_minor": 2
}

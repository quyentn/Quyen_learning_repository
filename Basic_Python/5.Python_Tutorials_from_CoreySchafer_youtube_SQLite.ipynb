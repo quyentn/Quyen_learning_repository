{
 "cells": [
  {
   "cell_type": "markdown",
   "metadata": {},
   "source": [
    "# PART 5 - SQLITE"
   ]
  },
  {
   "cell_type": "markdown",
   "metadata": {},
   "source": [
    "## TOPIC 1 - Complete Overview - Creating a Database, Table, and Running Queries"
   ]
  },
  {
   "cell_type": "markdown",
   "metadata": {},
   "source": [
    "- create a connection named conn conn = sqlite3.connect(':memory:') #using memory in RAM\n",
    "- OR create a connection named `conn` in current working directory by connecting to employee.db\n",
    "- if the database doesn't exist --> create new database employee.db \n",
    "- if the database does exist --> connect to the database employee.db"
   ]
  },
  {
   "cell_type": "code",
   "execution_count": 1,
   "metadata": {},
   "outputs": [
    {
     "ename": "OperationalError",
     "evalue": "no such table: employees",
     "output_type": "error",
     "traceback": [
      "\u001b[1;31m---------------------------------------------------------------------------\u001b[0m",
      "\u001b[1;31mOperationalError\u001b[0m                          Traceback (most recent call last)",
      "\u001b[1;32m<ipython-input-1-321c409290f4>\u001b[0m in \u001b[0;36m<module>\u001b[1;34m\u001b[0m\n\u001b[0;32m      2\u001b[0m \u001b[0mconn\u001b[0m \u001b[1;33m=\u001b[0m \u001b[0msqlite3\u001b[0m\u001b[1;33m.\u001b[0m\u001b[0mconnect\u001b[0m\u001b[1;33m(\u001b[0m\u001b[1;34m'employee.db'\u001b[0m\u001b[1;33m)\u001b[0m\u001b[1;33m\u001b[0m\u001b[1;33m\u001b[0m\u001b[0m\n\u001b[0;32m      3\u001b[0m \u001b[0mc\u001b[0m \u001b[1;33m=\u001b[0m \u001b[0mconn\u001b[0m\u001b[1;33m.\u001b[0m\u001b[0mcursor\u001b[0m\u001b[1;33m(\u001b[0m\u001b[1;33m)\u001b[0m\u001b[1;33m\u001b[0m\u001b[1;33m\u001b[0m\u001b[0m\n\u001b[1;32m----> 4\u001b[1;33m \u001b[0mc\u001b[0m\u001b[1;33m.\u001b[0m\u001b[0mexecute\u001b[0m\u001b[1;33m(\u001b[0m\u001b[1;34m\"DROP TABLE employees\"\u001b[0m\u001b[1;33m)\u001b[0m\u001b[1;33m\u001b[0m\u001b[1;33m\u001b[0m\u001b[0m\n\u001b[0m\u001b[0;32m      5\u001b[0m \u001b[0mconn\u001b[0m\u001b[1;33m.\u001b[0m\u001b[0mcommit\u001b[0m\u001b[1;33m(\u001b[0m\u001b[1;33m)\u001b[0m\u001b[1;33m\u001b[0m\u001b[1;33m\u001b[0m\u001b[0m\n\u001b[0;32m      6\u001b[0m \u001b[0mconn\u001b[0m\u001b[1;33m.\u001b[0m\u001b[0mclose\u001b[0m\u001b[1;33m(\u001b[0m\u001b[1;33m)\u001b[0m\u001b[1;33m\u001b[0m\u001b[1;33m\u001b[0m\u001b[0m\n",
      "\u001b[1;31mOperationalError\u001b[0m: no such table: employees"
     ]
    }
   ],
   "source": [
    "import sqlite3\n",
    "conn = sqlite3.connect('employee.db')\n",
    "c = conn.cursor()\n",
    "c.execute(\"DROP TABLE employees\")\n",
    "conn.commit()\n",
    "conn.close()"
   ]
  },
  {
   "cell_type": "markdown",
   "metadata": {},
   "source": [
    "4 steps to run SQL query using python sqlite3\n",
    "- Create connection with conn = `sqlite3.connect(<...db>)`\n",
    "- Create cursor for a connection with c = conn`.cursor()`\n",
    "- Execute query from connection with c`.execute(\"\"\"<query>\"\"\")` . Note: triple quotes to add string in multiple rows\n",
    "- Commit query conn`.commit()`\n",
    "- Close connection after running query conn`.close()`"
   ]
  },
  {
   "cell_type": "code",
   "execution_count": 2,
   "metadata": {},
   "outputs": [],
   "source": [
    "import sqlite3\n",
    "conn = sqlite3.connect('employee.db')\n",
    "#create a cursor\n",
    "c = conn.cursor()\n",
    "c.execute(\"\"\"CREATE TABLE employees (\n",
    "                first text,\n",
    "                last text,\n",
    "                pay integer)\"\"\")\n",
    "conn.commit()\n",
    "conn.close()"
   ]
  },
  {
   "cell_type": "markdown",
   "metadata": {},
   "source": [
    "For more data format when creating a new table using SQLite http://www.sqlite.org/datatype3.html"
   ]
  },
  {
   "cell_type": "code",
   "execution_count": 3,
   "metadata": {},
   "outputs": [],
   "source": [
    "import sqlite3\n",
    "conn = sqlite3.connect('employee.db')\n",
    "c = conn.cursor()\n",
    "c.execute(\"INSERT INTO employees VALUES ('First1','Last1',70000)\")\n",
    "conn.commit()\n",
    "conn.close()"
   ]
  },
  {
   "cell_type": "markdown",
   "metadata": {},
   "source": [
    "Multiple ways to view query result:\n",
    "- `fetchone()`: show only 1 row of result    \n",
    "- `fetchmany(n)`: show n rows of result\n",
    "- `fetchall()`: show all result"
   ]
  },
  {
   "cell_type": "code",
   "execution_count": 4,
   "metadata": {},
   "outputs": [
    {
     "name": "stdout",
     "output_type": "stream",
     "text": [
      "('First1', 'Last1', 70000)\n"
     ]
    }
   ],
   "source": [
    "import sqlite3\n",
    "conn = sqlite3.connect('employee.db')\n",
    "c = conn.cursor()\n",
    "c.execute(\"SELECT * FROM employees WHERE last = 'Last1'\")\n",
    "print(c.fetchone())\n",
    "conn.commit()\n",
    "conn.close()"
   ]
  },
  {
   "cell_type": "code",
   "execution_count": 5,
   "metadata": {},
   "outputs": [
    {
     "name": "stdout",
     "output_type": "stream",
     "text": [
      "[('First1', 'Last1', 70000), ('First2', 'Last1', 50000)]\n"
     ]
    }
   ],
   "source": [
    "import sqlite3\n",
    "conn = sqlite3.connect('employee.db')\n",
    "c = conn.cursor()\n",
    "c.execute(\"INSERT INTO employees VALUES ('First2','Last1',50000)\")\n",
    "conn.commit()\n",
    "c.execute(\"SELECT * FROM employees WHERE last = 'Last1'\")\n",
    "print(c.fetchall())\n",
    "conn.commit()\n",
    "conn.close()"
   ]
  },
  {
   "cell_type": "code",
   "execution_count": 6,
   "metadata": {},
   "outputs": [],
   "source": [
    "#%run employee.ipynb\n",
    "class Employee:\n",
    "    raise_amount = 1.04\n",
    "    def __init__(self,first,last,pay):\n",
    "        self.first = first\n",
    "        self.last = last\n",
    "        self.pay = pay\n",
    "        self.email = first + '.' + last + '@test.com'\n",
    "    def fullname(self): #must add self here\n",
    "        return '{} {}'.format(self.first, self.last)\n",
    "    def apply_raise(self):\n",
    "        self.pay = int(self.pay*self.raise_amount)"
   ]
  },
  {
   "cell_type": "code",
   "execution_count": 7,
   "metadata": {},
   "outputs": [
    {
     "name": "stdout",
     "output_type": "stream",
     "text": [
      "[('First1', 'Last1', 70000), ('First2', 'Last1', 50000)]\n",
      "[('First3', 'Last2', 80000), ('First4', 'Last2', 90000)]\n"
     ]
    }
   ],
   "source": [
    "conn = sqlite3.connect('employee.db')\n",
    "c = conn.cursor()\n",
    "emp_1=Employee('First3','Last2',80000)\n",
    "emp_2=Employee('First4','Last2',90000)\n",
    "c.execute(\"INSERT INTO employees VALUES (?,?,?)\",(emp_1.first,emp_1.last,emp_1.pay))\n",
    "conn.commit()\n",
    "c.execute(\"INSERT INTO employees VALUES (:first,:last,:pay)\",\n",
    "          {'first':emp_2.first,'last':emp_2.last,'pay':emp_2.pay})\n",
    "conn.commit()\n",
    "c.execute(\"SELECT * FROM employees WHERE last = ?\",('Last1',))\n",
    "print(c.fetchall())\n",
    "c.execute(\"SELECT * FROM employees WHERE last =:last\",{'last':'Last2'})\n",
    "print(c.fetchall())\n",
    "conn.close()"
   ]
  },
  {
   "cell_type": "markdown",
   "metadata": {},
   "source": [
    "Run create table and all insert statements using `:memory:` to run the code in RAM. This can be __run multiple times__ without any error like the table already exists"
   ]
  },
  {
   "cell_type": "code",
   "execution_count": 9,
   "metadata": {},
   "outputs": [
    {
     "name": "stdout",
     "output_type": "stream",
     "text": [
      "[('First1', 'Last1', 70000), ('First2', 'Last1', 50000)]\n",
      "[('First3', 'Last2', 80000), ('First4', 'Last2', 90000)]\n"
     ]
    }
   ],
   "source": [
    "#%run employee.ipynb\n",
    "import sqlite3\n",
    "conn = sqlite3.connect(':memory:')\n",
    "c = conn.cursor()\n",
    "c.execute(\"\"\"CREATE TABLE employees (\n",
    "                first text,\n",
    "                last text,\n",
    "                pay integer\n",
    "            )\"\"\")\n",
    "conn.commit()\n",
    "c.execute(\"INSERT INTO employees VALUES ('First1','Last1',70000)\")\n",
    "c.execute(\"INSERT INTO employees VALUES ('First2','Last1',50000)\")\n",
    "conn.commit()\n",
    "emp_1=Employee('First3','Last2',80000)\n",
    "emp_2=Employee('First4','Last2',90000)\n",
    "c.execute(\"INSERT INTO employees VALUES (?,?,?)\",(emp_1.first,emp_1.last,emp_1.pay))\n",
    "conn.commit()\n",
    "c.execute(\"INSERT INTO employees VALUES (:first,:last,:pay)\",\n",
    "          {'first':emp_2.first,'last':emp_2.last,'pay':emp_2.pay})\n",
    "conn.commit()\n",
    "c.execute(\"SELECT * FROM employees WHERE last = ?\",('Last1',))\n",
    "print(c.fetchall())\n",
    "c.execute(\"SELECT * FROM employees WHERE last =:last\",{'last':'Last2'})\n",
    "print(c.fetchall())\n",
    "conn.commit()\n",
    "conn.close()"
   ]
  },
  {
   "cell_type": "markdown",
   "metadata": {},
   "source": [
    "There are 2 ways to use placeholders for SQLite query:\n",
    "- Quesion mark syntax: Use `?` as placeholder in the query string then pass a tuple of values in round brackets after comma\n",
    "- Dictionary syntax: Use colon `:` before placeholder(s)' name then pass a dictionary for corresponding values of each placholder\n",
    "\n",
    "__Note:__ When there is only one placeholder, the passed value need to be followed by 1 comma `,` for the question mark syntax"
   ]
  },
  {
   "cell_type": "markdown",
   "metadata": {},
   "source": [
    "The 2 examples below use exactly the same query but with different placeholder syntax"
   ]
  },
  {
   "cell_type": "code",
   "execution_count": 11,
   "metadata": {},
   "outputs": [
    {
     "name": "stdout",
     "output_type": "stream",
     "text": [
      "[('First1', 'Last', 80000), ('First2', 'Last', 90000)]\n",
      "[('First2', 'Last', 95000)]\n"
     ]
    }
   ],
   "source": [
    "#%run employee.ipynb\n",
    "conn = sqlite3.connect(':memory:')\n",
    "c = conn.cursor()\n",
    "c.execute(\"\"\"CREATE TABLE employees (\n",
    "                first text,\n",
    "                last text,\n",
    "                pay integer\n",
    "            )\"\"\")\n",
    "def insert_emp(emp):\n",
    "    with conn:\n",
    "        c.execute(\"INSERT INTO employees VALUES (:first,:last,:pay)\",\n",
    "                  {'first':emp.first,'last':emp.last,'pay':emp.pay})\n",
    "def get_emps_by_name(lastname):\n",
    "    c.execute(\"SELECT * FROM employees WHERE last =:last\",{'last':lastname})\n",
    "    return c.fetchall()\n",
    "def update_pay(emp,pay):\n",
    "    with conn:\n",
    "        c.execute(\"\"\"UPDATE employees SET pay = :pay\n",
    "                     WHERE first = :first AND last = :last\"\"\",\n",
    "                  {'first':emp.first,'last':emp.last, 'pay':pay})\n",
    "def remove_emp(emp):\n",
    "    with conn:\n",
    "        c.execute(\"DELETE FROM employees WHERE first = :first AND last = :last\",\n",
    "                  {'first':emp.first,'last':emp.last})\n",
    "\n",
    "emp_1=Employee('First1','Last',80000)\n",
    "emp_2=Employee('First2','Last',90000)\n",
    "insert_emp(emp_1)\n",
    "insert_emp(emp_2)\n",
    "emps = get_emps_by_name('Last')\n",
    "print(emps)\n",
    "update_pay(emp_2,95000)\n",
    "remove_emp(emp_1)\n",
    "emps = get_emps_by_name('Last')\n",
    "print(emps)\n",
    "conn.close()\n"
   ]
  },
  {
   "cell_type": "code",
   "execution_count": 14,
   "metadata": {},
   "outputs": [
    {
     "name": "stdout",
     "output_type": "stream",
     "text": [
      "[('First1', 'Last', 80000), ('First2', 'Last', 90000)]\n",
      "[('First2', 'Last', 95000)]\n"
     ]
    }
   ],
   "source": [
    "#%run employee.ipynb\n",
    "import sqlite3\n",
    "conn = sqlite3.connect(':memory:')\n",
    "c = conn.cursor()\n",
    "c.execute(\"\"\"CREATE TABLE employees (\n",
    "                first text,\n",
    "                last text,\n",
    "                pay integer\n",
    "                )\"\"\")\n",
    "def insert_emp(emp):\n",
    "    with conn:\n",
    "        c.execute(\"INSERT INTO employees VALUES (?,?,?)\",(emp.first, emp.last,emp.pay))\n",
    "def get_emps_by_name(lastname):\n",
    "    c.execute(\"SELECT * FROM employees WHERE last =?\",(lastname,))\n",
    "    return c.fetchall()\n",
    "def update_pay(emp,pay):\n",
    "    with conn:\n",
    "        c.execute(\"\"\"UPDATE employees SET pay = ? WHERE first = ? AND last = ?\"\"\",\n",
    "                  (pay,emp.first,emp.last))\n",
    "def remove_emp(emp):\n",
    "    with conn:\n",
    "        c.execute(\"DELETE FROM employees WHERE first = ? AND last = ?\",(emp.first,emp.last))\n",
    "emp_1=Employee('First1','Last',80000)\n",
    "emp_2=Employee('First2','Last',90000)\n",
    "insert_emp(emp_1)\n",
    "insert_emp(emp_2)\n",
    "emps = get_emps_by_name('Last')\n",
    "print(emps)\n",
    "update_pay(emp_2,95000)\n",
    "remove_emp(emp_1)\n",
    "emps = get_emps_by_name('Last')\n",
    "print(emps)\n",
    "conn.close()"
   ]
  }
 ],
 "metadata": {
  "kernelspec": {
   "display_name": "Python 3",
   "language": "python",
   "name": "python3"
  },
  "language_info": {
   "codemirror_mode": {
    "name": "ipython",
    "version": 3
   },
   "file_extension": ".py",
   "mimetype": "text/x-python",
   "name": "python",
   "nbconvert_exporter": "python",
   "pygments_lexer": "ipython3",
   "version": "3.7.4"
  }
 },
 "nbformat": 4,
 "nbformat_minor": 2
}

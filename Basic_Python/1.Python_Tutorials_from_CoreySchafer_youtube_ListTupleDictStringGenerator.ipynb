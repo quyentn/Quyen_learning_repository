{
 "cells": [
  {
   "cell_type": "markdown",
   "metadata": {},
   "source": [
    "# PART 1 - LIST, TUPLE, DICT, STRING AND GENERATOR"
   ]
  },
  {
   "cell_type": "markdown",
   "metadata": {},
   "source": [
    "## TOPIC 1 - Variable scope LEGB Local Enclosing Global Built-in"
   ]
  },
  {
   "cell_type": "markdown",
   "metadata": {},
   "source": [
    "The order of processing variables with common name in Python is `Local` --> `Enclosing` --> `Global` --> `Built-in`:\n",
    "- 1st: Look for the present of `Local` variable, then take Local variable inside local context, and take global variable outside local context\n",
    "- 2nd: Check for `enclosing` context, then return enclosing variable inside enclosing function context, and return outer function vaiable outside of enclosing function context\n",
    "- 3rd: If there is no local, enclosing, global variables, use `built-in` variable/function"
   ]
  },
  {
   "cell_type": "markdown",
   "metadata": {},
   "source": [
    "`local` vs `global` outside of a function"
   ]
  },
  {
   "cell_type": "code",
   "execution_count": 12,
   "metadata": {},
   "outputs": [
    {
     "name": "stdout",
     "output_type": "stream",
     "text": [
      "global x\n",
      "global x\n"
     ]
    }
   ],
   "source": [
    "x='global x'\n",
    "def test():\n",
    "    x='local x' \n",
    "print (x) #return global x since local function hasn't been called yet\n",
    "test() #call function for local x\n",
    "print(x) #return global x because it's outside of local context"
   ]
  },
  {
   "cell_type": "markdown",
   "metadata": {},
   "source": [
    "rewrite `global` variable by calling global and rewriting it inside a function"
   ]
  },
  {
   "cell_type": "code",
   "execution_count": 13,
   "metadata": {},
   "outputs": [
    {
     "name": "stdout",
     "output_type": "stream",
     "text": [
      "local x\n",
      "local x\n"
     ]
    }
   ],
   "source": [
    "def test():\n",
    "    global x\n",
    "    x='local x'\n",
    "    print (x)\n",
    "test() #call function\n",
    "print(x) #print global x"
   ]
  },
  {
   "cell_type": "markdown",
   "metadata": {},
   "source": [
    "Calling `local` variable outside of a function result in error"
   ]
  },
  {
   "cell_type": "code",
   "execution_count": 4,
   "metadata": {},
   "outputs": [
    {
     "name": "stdout",
     "output_type": "stream",
     "text": [
      "local z\n",
      "None\n"
     ]
    },
    {
     "ename": "NameError",
     "evalue": "name 'z' is not defined",
     "output_type": "error",
     "traceback": [
      "\u001b[1;31m---------------------------------------------------------------------------\u001b[0m",
      "\u001b[1;31mNameError\u001b[0m                                 Traceback (most recent call last)",
      "\u001b[1;32m<ipython-input-4-fa483463bfe7>\u001b[0m in \u001b[0;36m<module>\u001b[1;34m\u001b[0m\n\u001b[0;32m      3\u001b[0m     \u001b[0mprint\u001b[0m \u001b[1;33m(\u001b[0m\u001b[0mz\u001b[0m\u001b[1;33m)\u001b[0m\u001b[1;33m\u001b[0m\u001b[1;33m\u001b[0m\u001b[0m\n\u001b[0;32m      4\u001b[0m \u001b[0mprint\u001b[0m\u001b[1;33m(\u001b[0m\u001b[0mtest\u001b[0m\u001b[1;33m(\u001b[0m\u001b[1;34m'local z'\u001b[0m\u001b[1;33m)\u001b[0m\u001b[1;33m)\u001b[0m \u001b[1;31m# return \"local z\" string\u001b[0m\u001b[1;33m\u001b[0m\u001b[1;33m\u001b[0m\u001b[0m\n\u001b[1;32m----> 5\u001b[1;33m \u001b[0mprint\u001b[0m\u001b[1;33m(\u001b[0m\u001b[0mz\u001b[0m\u001b[1;33m)\u001b[0m \u001b[1;31m# return error because z is local for test function\u001b[0m\u001b[1;33m\u001b[0m\u001b[1;33m\u001b[0m\u001b[0m\n\u001b[0m",
      "\u001b[1;31mNameError\u001b[0m: name 'z' is not defined"
     ]
    }
   ],
   "source": [
    "def test(z):\n",
    "    x='local x'\n",
    "    print (z)\n",
    "print(test('local z')) # return \"local z\" string\n",
    "print(z) # return error because z is local for test function"
   ]
  },
  {
   "cell_type": "markdown",
   "metadata": {},
   "source": [
    "`Enclosing` functions: Take inner/ `enclosing` variable inside enclosing context"
   ]
  },
  {
   "cell_type": "code",
   "execution_count": 7,
   "metadata": {},
   "outputs": [
    {
     "name": "stdout",
     "output_type": "stream",
     "text": [
      "inner x\n",
      "outer x\n"
     ]
    }
   ],
   "source": [
    "def outer():\n",
    "    x='outer x'\n",
    "    def inner():\n",
    "        x='inner x'\n",
    "        print(x)\n",
    "    inner() #execute inner function\n",
    "    print(x) \n",
    "outer() #execute outer function"
   ]
  },
  {
   "cell_type": "markdown",
   "metadata": {},
   "source": [
    "`Enclosing` functions: If there is no enclosing variable, look for an `outer local` variable before look for `global` variable"
   ]
  },
  {
   "cell_type": "code",
   "execution_count": 8,
   "metadata": {},
   "outputs": [
    {
     "name": "stdout",
     "output_type": "stream",
     "text": [
      "outer x\n",
      "outer x\n"
     ]
    }
   ],
   "source": [
    "def outer():\n",
    "    x='outer x'\n",
    "    def inner():\n",
    "        print(x) #look for x in enclosing function --> 'outer x'\n",
    "    inner()\n",
    "    print(x)\n",
    "outer()"
   ]
  },
  {
   "cell_type": "markdown",
   "metadata": {},
   "source": [
    "`Enclosing` functions: outer function will not look for y in inner function -->error"
   ]
  },
  {
   "cell_type": "code",
   "execution_count": 10,
   "metadata": {},
   "outputs": [
    {
     "name": "stdout",
     "output_type": "stream",
     "text": [
      "inner y\n"
     ]
    },
    {
     "ename": "NameError",
     "evalue": "name 'y' is not defined",
     "output_type": "error",
     "traceback": [
      "\u001b[1;31m---------------------------------------------------------------------------\u001b[0m",
      "\u001b[1;31mNameError\u001b[0m                                 Traceback (most recent call last)",
      "\u001b[1;32m<ipython-input-10-4730f0684d5e>\u001b[0m in \u001b[0;36m<module>\u001b[1;34m\u001b[0m\n\u001b[0;32m      7\u001b[0m     \u001b[0minner\u001b[0m\u001b[1;33m(\u001b[0m\u001b[1;33m)\u001b[0m\u001b[1;33m\u001b[0m\u001b[1;33m\u001b[0m\u001b[0m\n\u001b[0;32m      8\u001b[0m     \u001b[0mprint\u001b[0m\u001b[1;33m(\u001b[0m\u001b[0my\u001b[0m\u001b[1;33m)\u001b[0m \u001b[1;31m#outer function will not look for y in inner function -->error\u001b[0m\u001b[1;33m\u001b[0m\u001b[1;33m\u001b[0m\u001b[0m\n\u001b[1;32m----> 9\u001b[1;33m \u001b[0mouter\u001b[0m\u001b[1;33m(\u001b[0m\u001b[1;33m)\u001b[0m\u001b[1;33m\u001b[0m\u001b[1;33m\u001b[0m\u001b[0m\n\u001b[0m",
      "\u001b[1;32m<ipython-input-10-4730f0684d5e>\u001b[0m in \u001b[0;36mouter\u001b[1;34m()\u001b[0m\n\u001b[0;32m      6\u001b[0m         \u001b[0mprint\u001b[0m\u001b[1;33m(\u001b[0m\u001b[0my\u001b[0m\u001b[1;33m)\u001b[0m\u001b[1;33m\u001b[0m\u001b[1;33m\u001b[0m\u001b[0m\n\u001b[0;32m      7\u001b[0m     \u001b[0minner\u001b[0m\u001b[1;33m(\u001b[0m\u001b[1;33m)\u001b[0m\u001b[1;33m\u001b[0m\u001b[1;33m\u001b[0m\u001b[0m\n\u001b[1;32m----> 8\u001b[1;33m     \u001b[0mprint\u001b[0m\u001b[1;33m(\u001b[0m\u001b[0my\u001b[0m\u001b[1;33m)\u001b[0m \u001b[1;31m#outer function will not look for y in inner function -->error\u001b[0m\u001b[1;33m\u001b[0m\u001b[1;33m\u001b[0m\u001b[0m\n\u001b[0m\u001b[0;32m      9\u001b[0m \u001b[0mouter\u001b[0m\u001b[1;33m(\u001b[0m\u001b[1;33m)\u001b[0m\u001b[1;33m\u001b[0m\u001b[1;33m\u001b[0m\u001b[0m\n",
      "\u001b[1;31mNameError\u001b[0m: name 'y' is not defined"
     ]
    }
   ],
   "source": [
    "def outer():\n",
    "    def inner():\n",
    "        y='inner y'\n",
    "        print(y)\n",
    "    inner()\n",
    "    print(y)\n",
    "outer()"
   ]
  },
  {
   "cell_type": "markdown",
   "metadata": {},
   "source": [
    "`Enclosing` functions: `non local` keyword to create global variable inside a local function that is callable outside local context"
   ]
  },
  {
   "cell_type": "code",
   "execution_count": 11,
   "metadata": {},
   "outputs": [
    {
     "name": "stdout",
     "output_type": "stream",
     "text": [
      "inner x\n",
      "inner x\n"
     ]
    }
   ],
   "source": [
    "def outer():\n",
    "    x='outer x'\n",
    "    def inner():\n",
    "        nonlocal x\n",
    "        x='inner x' #replace enclosing function x\n",
    "        print(x)\n",
    "    inner() #call x inside local context\n",
    "    print(x)\n",
    "outer() #call x outside local context"
   ]
  },
  {
   "cell_type": "markdown",
   "metadata": {},
   "source": [
    "Example of `built-in` function"
   ]
  },
  {
   "cell_type": "code",
   "execution_count": 5,
   "metadata": {},
   "outputs": [
    {
     "name": "stdout",
     "output_type": "stream",
     "text": [
      "1\n"
     ]
    }
   ],
   "source": [
    "m=min([5,1,4,3,2]) #min is the built-in function\n",
    "print(m)"
   ]
  },
  {
   "cell_type": "markdown",
   "metadata": {},
   "source": [
    "## TOPIC 2 - Slicing Lists and Strings"
   ]
  },
  {
   "cell_type": "code",
   "execution_count": 17,
   "metadata": {},
   "outputs": [],
   "source": [
    "from __future__ import print_function"
   ]
  },
  {
   "cell_type": "markdown",
   "metadata": {},
   "source": [
    "Slicing a list using `positive` index 0+ to do it `forward` and `negative` index from -1 to -(len of list) to do it `backward`. We can add the 3rd statement after colon `:` to indicate the step of slicing"
   ]
  },
  {
   "cell_type": "code",
   "execution_count": 20,
   "metadata": {},
   "outputs": [
    {
     "name": "stdout",
     "output_type": "stream",
     "text": [
      "[0, 1]\n",
      "[0, 1]\n",
      "[0, 2, 4, 6]\n",
      "[9, 8, 7, 6, 5, 4, 3]\n",
      "[9, 8, 7, 6, 5, 4, 3, 2, 1, 0]\n"
     ]
    }
   ],
   "source": [
    "my_list =[0,1,2,3,4,5,6,7,8,9]\n",
    "print (my_list[-10:-8])\n",
    "print (my_list[0:2])\n",
    "print (my_list[0:8:2]) #step of 2\n",
    "print (my_list[-1:2:-1]) #reverse step of 1\n",
    "print (my_list[::-1]) #entire list reversed"
   ]
  },
  {
   "cell_type": "markdown",
   "metadata": {},
   "source": [
    "slicing is also applied to a `string` similar to the way it's applied to a list"
   ]
  },
  {
   "cell_type": "code",
   "execution_count": 22,
   "metadata": {},
   "outputs": [
    {
     "name": "stdout",
     "output_type": "stream",
     "text": [
      ".com\n",
      "moc.liame@tsal.tsrif\n",
      "first.last@\n",
      "email.com\n"
     ]
    }
   ],
   "source": [
    "string='first.last@email.com'\n",
    "print(string[-4:])\n",
    "print(string[-1::-1])\n",
    "print(string[:-9])\n",
    "print(string[-9:])"
   ]
  },
  {
   "cell_type": "markdown",
   "metadata": {},
   "source": [
    "## TOPIC 3 - List comprehensions"
   ]
  },
  {
   "cell_type": "markdown",
   "metadata": {},
   "source": [
    "`list comprehesion` with for to replace a long for loop and append function"
   ]
  },
  {
   "cell_type": "code",
   "execution_count": 1,
   "metadata": {},
   "outputs": [
    {
     "name": "stdout",
     "output_type": "stream",
     "text": [
      "[1, 2, 3, 4, 5, 6, 7, 8, 9, 10]\n",
      "[1, 2, 3, 4, 5, 6, 7, 8, 9, 10]\n"
     ]
    }
   ],
   "source": [
    "nums =[1,2,3,4,5,6,7,8,9,10]\n",
    "my_list=[]\n",
    "for n in nums:\n",
    "    my_list.append(n)\n",
    "print(my_list)\n",
    "my_list2=[n for n in nums]\n",
    "print(my_list2)"
   ]
  },
  {
   "cell_type": "code",
   "execution_count": 2,
   "metadata": {},
   "outputs": [
    {
     "name": "stdout",
     "output_type": "stream",
     "text": [
      "[1, 4, 9, 16, 25, 36, 49, 64, 81, 100]\n",
      "[1, 4, 9, 16, 25, 36, 49, 64, 81, 100]\n"
     ]
    }
   ],
   "source": [
    "nums =[1,2,3,4,5,6,7,8,9,10]\n",
    "my_list=[]\n",
    "for n in nums:\n",
    "    my_list.append(n*n)\n",
    "print (my_list)\n",
    "my_list2=[n*n for n in nums]\n",
    "print (my_list2)"
   ]
  },
  {
   "cell_type": "markdown",
   "metadata": {},
   "source": [
    "`map` and `lambda`"
   ]
  },
  {
   "cell_type": "code",
   "execution_count": 9,
   "metadata": {},
   "outputs": [
    {
     "name": "stdout",
     "output_type": "stream",
     "text": [
      "[1, 4, 9, 16, 25, 36, 49, 64, 81, 100]\n"
     ]
    }
   ],
   "source": [
    "my_list3 = list(map(lambda n: n*n,nums)) #need to call `list` to convert an object to a callable list\n",
    "print(my_list3)"
   ]
  },
  {
   "cell_type": "code",
   "execution_count": 4,
   "metadata": {},
   "outputs": [
    {
     "name": "stdout",
     "output_type": "stream",
     "text": [
      "[2, 4, 6, 8, 10]\n",
      "[2, 4, 6, 8, 10]\n"
     ]
    }
   ],
   "source": [
    "my_list=[]\n",
    "for n in nums:\n",
    "    if n%2 == 0: #% for getting residual after divide\n",
    "        my_list.append(n)\n",
    "print (my_list)\n",
    "\n",
    "my_list =[n for n in nums if n%2==0]\n",
    "print (my_list)"
   ]
  },
  {
   "cell_type": "markdown",
   "metadata": {},
   "source": [
    "`filter` and `lambda` function"
   ]
  },
  {
   "cell_type": "code",
   "execution_count": 8,
   "metadata": {},
   "outputs": [
    {
     "data": {
      "text/plain": [
       "[2, 4, 6, 8, 10]"
      ]
     },
     "execution_count": 8,
     "metadata": {},
     "output_type": "execute_result"
    }
   ],
   "source": [
    "my_list=list(filter(lambda n: n%2 ==0,nums)) #(lambda list of n : filtered by condition \n",
    "my_list"
   ]
  },
  {
   "cell_type": "markdown",
   "metadata": {},
   "source": [
    "letter and number pair"
   ]
  },
  {
   "cell_type": "code",
   "execution_count": 14,
   "metadata": {},
   "outputs": [
    {
     "name": "stdout",
     "output_type": "stream",
     "text": [
      "[('a', 0), ('a', 1), ('a', 2), ('a', 3), ('b', 0), ('b', 1), ('b', 2), ('b', 3), ('c', 0), ('c', 1), ('c', 2), ('c', 3), ('d', 0), ('d', 1), ('d', 2), ('d', 3)]\n",
      "\n",
      "[('a', 0), ('a', 1), ('a', 2), ('a', 3), ('b', 0), ('b', 1), ('b', 2), ('b', 3), ('c', 0), ('c', 1), ('c', 2), ('c', 3), ('d', 0), ('d', 1), ('d', 2), ('d', 3)]\n"
     ]
    }
   ],
   "source": [
    "my_list=[]\n",
    "for letter in 'abcd':\n",
    "    for num in range (4):\n",
    "        my_list.append((letter,num))\n",
    "print (my_list)\n",
    "print()\n",
    "my_list =[(letter,num) for letter in 'abcd' for num in range (4)]\n",
    "print (my_list)"
   ]
  },
  {
   "cell_type": "markdown",
   "metadata": {},
   "source": [
    "__Dictionary Comprehensions__\n",
    "\n",
    "`zip` function to match up 1 to 1"
   ]
  },
  {
   "cell_type": "code",
   "execution_count": 20,
   "metadata": {},
   "outputs": [
    {
     "name": "stdout",
     "output_type": "stream",
     "text": [
      "[('Bruce', 'Batman'), ('Clark', 'Superman'), ('Peter', 'Spiderman'), ('Logan', 'Wolverine'), ('Wade', 'Deadpool')]\n",
      "{'Bruce': 'Batman', 'Clark': 'Superman', 'Peter': 'Spiderman', 'Logan': 'Wolverine', 'Wade': 'Deadpool'}\n"
     ]
    }
   ],
   "source": [
    "names=['Bruce','Clark','Peter','Logan','Wade']\n",
    "heros=['Batman','Superman','Spiderman','Wolverine','Deadpool']\n",
    "print(list(zip(names, heros))) #result is a list\n",
    "# make dictionary function\n",
    "my_dict={}\n",
    "for name, hero in zip(names,heros):\n",
    "    my_dict[name]=hero #key in [] and value after \"=\" sign\n",
    "print (my_dict)"
   ]
  },
  {
   "cell_type": "code",
   "execution_count": 21,
   "metadata": {},
   "outputs": [
    {
     "name": "stdout",
     "output_type": "stream",
     "text": [
      "{'Bruce': 'Batman', 'Clark': 'Superman', 'Peter': 'Spiderman', 'Logan': 'Wolverine', 'Wade': 'Deadpool'}\n"
     ]
    }
   ],
   "source": [
    "my_dict={name:hero for name,hero in zip(names,heros)}\n",
    "print (my_dict)"
   ]
  },
  {
   "cell_type": "markdown",
   "metadata": {},
   "source": [
    "`Set Comprehensions` (unique item list)"
   ]
  },
  {
   "cell_type": "code",
   "execution_count": 22,
   "metadata": {},
   "outputs": [
    {
     "name": "stdout",
     "output_type": "stream",
     "text": [
      "{1, 2, 3, 4, 5, 6, 7, 8, 9}\n",
      "{1, 2, 3, 4, 5, 6, 7, 8, 9}\n"
     ]
    }
   ],
   "source": [
    "\"\"\"for loop\"\"\"\n",
    "nums=[1,1,2,1,3,4,3,4,5,5,6,7,8,7,9,9]\n",
    "my_set = set()\n",
    "for n in nums:\n",
    "    my_set.add(n)\n",
    "print (my_set)\n",
    "\"\"\"set comprehension\"\"\"\n",
    "my_set2={n for n in nums}\n",
    "print (my_set2)"
   ]
  },
  {
   "cell_type": "markdown",
   "metadata": {},
   "source": [
    "`Generator Expressions`"
   ]
  },
  {
   "cell_type": "code",
   "execution_count": 46,
   "metadata": {},
   "outputs": [
    {
     "name": "stdout",
     "output_type": "stream",
     "text": [
      " function and for loop\n",
      "1\n",
      "4\n",
      "9\n",
      "16\n",
      "25\n",
      "Generator Expression\n",
      "1\n",
      "4\n",
      "9\n",
      "16\n",
      "25\n"
     ]
    }
   ],
   "source": [
    "nums =[1,2,3,4,5]\n",
    "print(\"\"\" function and for loop\"\"\")\n",
    "def gen_func(nums):\n",
    "    for n in nums:\n",
    "        yield n*n\n",
    "my_gen = gen_func(nums)\n",
    "for i in my_gen:\n",
    "    print (i)\n",
    "\n",
    "print(\"\"\"Generator Expression\"\"\")\n",
    "my_gen =(n*n for n in nums) #use bracket () instead of square bracket [list] --> return generator\n",
    "for i in my_gen:\n",
    "        print (i)"
   ]
  },
  {
   "cell_type": "markdown",
   "metadata": {},
   "source": [
    "## TOPIC 4 - Sorting Lists, Tuples, and Object"
   ]
  },
  {
   "cell_type": "markdown",
   "metadata": {},
   "source": [
    "`sorted` vs `.sort()`"
   ]
  },
  {
   "cell_type": "code",
   "execution_count": 2,
   "metadata": {},
   "outputs": [
    {
     "name": "stdout",
     "output_type": "stream",
     "text": [
      "Sorted Variable:\t [1, 2, 3, 4, 5, 6, 7, 8, 9]\n",
      "Sorted Variable:\t [1, 2, 3, 4, 5, 6, 7, 8, 9]\n",
      "Original Variable:\t [9, 1, 8, 2, 7, 3, 6, 4, 5]\n",
      "Replace Original Variable with sorted variable:\t [1, 2, 3, 4, 5, 6, 7, 8, 9]\n",
      "Formula for s_li=li.sort() doesn't return anything:\t None\n"
     ]
    }
   ],
   "source": [
    "#Sort ascending\n",
    "li=[9,1,8,2,7,3,6,4,5]\n",
    "s_li = sorted(li)\n",
    "print ('Sorted Variable:\\t',s_li)\n",
    "print ('Sorted Variable:\\t {}'.format(s_li)) #\\t for tab\n",
    "print ('Original Variable:\\t {}'.format(li))\n",
    "li.sort()\n",
    "print ('Replace Original Variable with sorted variable:\\t {}'.format(li))\n",
    "s_li=li.sort()\n",
    "print ('Formula for s_li=li.sort() doesn\\'t return anything:\\t {}'.format (s_li))"
   ]
  },
  {
   "cell_type": "markdown",
   "metadata": {},
   "source": [
    "`print` function with multiple arguments"
   ]
  },
  {
   "cell_type": "code",
   "execution_count": 1,
   "metadata": {},
   "outputs": [
    {
     "name": "stdout",
     "output_type": "stream",
     "text": [
      "Sorted Variable:\t [1, 2, 3, 4, 5, 6, 7, 8, 9]\n"
     ]
    }
   ],
   "source": [
    "li=[9,1,8,2,7,3,6,4,5]\n",
    "s_li = sorted(li)\n",
    "print ('Sorted Variable:\\t',s_li)"
   ]
  },
  {
   "cell_type": "code",
   "execution_count": 3,
   "metadata": {},
   "outputs": [
    {
     "name": "stdout",
     "output_type": "stream",
     "text": [
      "Sorted Variable:\t [9, 8, 7, 6, 5, 4, 3, 2, 1]\n",
      "Original Variable:\t [9, 1, 8, 2, 7, 3, 6, 4, 5]\n",
      "Replace Original Variable with sorted variable:\t [9, 8, 7, 6, 5, 4, 3, 2, 1]\n"
     ]
    }
   ],
   "source": [
    "# Sort reverse or descending\n",
    "li=[9,1,8,2,7,3,6,4,5]\n",
    "s_li = sorted(li,reverse=True)\n",
    "print('Sorted Variable:\\t {}'.format(s_li))\n",
    "print('Original Variable:\\t {}'.format(li))\n",
    "li.sort(reverse=True)\n",
    "print('Replace Original Variable with sorted variable:\\t {}'.format(li))"
   ]
  },
  {
   "cell_type": "markdown",
   "metadata": {},
   "source": [
    "`Tuples` cannot be sorted (replace original variable). So we must create a new variable (list)"
   ]
  },
  {
   "cell_type": "code",
   "execution_count": 6,
   "metadata": {},
   "outputs": [
    {
     "name": "stdout",
     "output_type": "stream",
     "text": [
      "Tuple:\t [1, 2, 3, 4, 5, 6, 7, 8, 9]\n"
     ]
    }
   ],
   "source": [
    "tup =(9,1,8,2,7,3,6,4,5)\n",
    "#tup.sort() # --> error\n",
    "s_tup=sorted(tup) #return a list\n",
    "print ('Tuple:\\t {}'.format(s_tup))"
   ]
  },
  {
   "cell_type": "code",
   "execution_count": 8,
   "metadata": {},
   "outputs": [
    {
     "data": {
      "text/plain": [
       "list"
      ]
     },
     "execution_count": 8,
     "metadata": {},
     "output_type": "execute_result"
    }
   ],
   "source": [
    "type(s_tup)"
   ]
  },
  {
   "cell_type": "markdown",
   "metadata": {},
   "source": [
    "Sort dictionary using `sorted` will return a `list` of `keys` only"
   ]
  },
  {
   "cell_type": "code",
   "execution_count": 10,
   "metadata": {},
   "outputs": [
    {
     "name": "stdout",
     "output_type": "stream",
     "text": [
      "Dictionary:\t ['age', 'hobby', 'job', 'name']\n"
     ]
    }
   ],
   "source": [
    "di = {'name':'Fist Last','job':'some job','age':30,'hobby':'painting'}\n",
    "s_di = sorted(di) #sorted key only\n",
    "print('Dictionary:\\t {}'.format(s_di))"
   ]
  },
  {
   "cell_type": "markdown",
   "metadata": {},
   "source": [
    "Sort by `absolute` value using `key` function"
   ]
  },
  {
   "cell_type": "code",
   "execution_count": 11,
   "metadata": {},
   "outputs": [
    {
     "name": "stdout",
     "output_type": "stream",
     "text": [
      "[-6, -5, -4, 1, 2, 3]\n",
      "[1, 2, 3, -4, -5, -6]\n"
     ]
    }
   ],
   "source": [
    "li=[-6,-5,-4,1,2,3]\n",
    "s_li=sorted(li)\n",
    "print (s_li)\n",
    "s_li=sorted(li,key=abs)\n",
    "print (s_li)"
   ]
  },
  {
   "cell_type": "code",
   "execution_count": 13,
   "metadata": {},
   "outputs": [
    {
     "name": "stdout",
     "output_type": "stream",
     "text": [
      "Before sorting:\t \t \t \t [Carl,37,$70000, Sarah,29,$80000, John,43,$90000]\n",
      "Sorted using defined function and key:\t [Carl,37,$70000, John,43,$90000, Sarah,29,$80000]\n",
      "Sorted reverse:\t \t \t \t [Sarah,29,$80000, John,43,$90000, Carl,37,$70000]\n",
      "Sorted using lambda anonymous function:\t [Carl,37,$70000, Sarah,29,$80000, John,43,$90000]\n"
     ]
    }
   ],
   "source": [
    "#Sort using name key function\n",
    "class Employee(): #define a class of multiple variables\n",
    "    def __init__(self,name,age,salary): #define initial function for each variable\n",
    "        self.name = name\n",
    "        self.age = age\n",
    "        self.salary = salary\n",
    "    def __repr__(self): #define represent value when calling initial function\n",
    "        return '{},{},${}'.format(self.name, self.age, self.salary)\n",
    "e1 = Employee('Carl',37,70000)\n",
    "e2 = Employee('Sarah',29,80000)\n",
    "e3 = Employee('John',43,90000)\n",
    "employees = [e1,e2,e3]\n",
    "print ('Before sorting:\\t \\t \\t \\t {}'.format(employees))\n",
    "# s_employees = sorted(employees) #error because there is not defined sort key\n",
    "#sort using defined function\n",
    "def e_sort(emp):\n",
    "    return emp.name\n",
    "s_employees = sorted(employees,key=e_sort)\n",
    "print ('Sorted using defined function and key:\\t {}'.format(s_employees))\n",
    "#sort reverse\n",
    "s_employees_r = sorted(employees,key=e_sort,reverse=True)\n",
    "print('Sorted reverse:\\t \\t \\t \\t {}'.format(s_employees_r))\n",
    "#sort using lambda anonymous function\n",
    "s_employees_l = sorted(employees,key=lambda e: e.salary)\n",
    "print('Sorted using lambda anonymous function:\\t {}'.format(s_employees_l))"
   ]
  },
  {
   "cell_type": "markdown",
   "metadata": {},
   "source": [
    "without defining a `sort function` or using a `lambda` sort function, we can still sort a `class object` using `attrgetter`"
   ]
  },
  {
   "cell_type": "code",
   "execution_count": 22,
   "metadata": {},
   "outputs": [
    {
     "name": "stdout",
     "output_type": "stream",
     "text": [
      "Sorted using attrgetter operator module: [Sarah,29,$80000, Carl,37,$70000, John,43,$90000]\n"
     ]
    }
   ],
   "source": [
    "from operator import attrgetter #import operator module\n",
    "s_employees = sorted(employees,key=attrgetter('age'))\n",
    "print ('Sorted using attrgetter operator module: {}'.format(s_employees))"
   ]
  },
  {
   "cell_type": "markdown",
   "metadata": {},
   "source": [
    "## TOPIC 5 - String Formatting - Advanced Operations for Dicts, Lists, Numbers, and Dates"
   ]
  },
  {
   "cell_type": "markdown",
   "metadata": {},
   "source": [
    "#### FORMAT STRINGS"
   ]
  },
  {
   "cell_type": "markdown",
   "metadata": {},
   "source": [
    "Use placeholder `{}` and format function to replace multipe \"+\" in a long string"
   ]
  },
  {
   "cell_type": "code",
   "execution_count": 25,
   "metadata": {},
   "outputs": [
    {
     "name": "stdout",
     "output_type": "stream",
     "text": [
      "My name is Jenn and I am 23 years old\n",
      "My name is Jenn and I am 23 years old\n",
      "My name is Jenn and I am 23 years old\n"
     ]
    }
   ],
   "source": [
    "person = {'name':'Jenn','age':23}\n",
    "sentence = 'My name is ' + person['name']+' and I am '+str(person['age'])+' years old'\n",
    "print(sentence)\n",
    "sentence = 'My name is {} and I am {} years old'.format(person['name'],person['age'])\n",
    "print(sentence)\n",
    "sentence = 'My name is {0} and I am {1} years old'.format(person['name'],person['age'])\n",
    "print(sentence)"
   ]
  },
  {
   "cell_type": "markdown",
   "metadata": {},
   "source": [
    "`Number placeholders` for repeated values"
   ]
  },
  {
   "cell_type": "code",
   "execution_count": 26,
   "metadata": {},
   "outputs": [
    {
     "name": "stdout",
     "output_type": "stream",
     "text": [
      "<h1>This is a headline</h1>\n"
     ]
    }
   ],
   "source": [
    "tag='h1'\n",
    "text='This is a headline'\n",
    "sentence='<{0}>{1}</{0}>'.format(tag,text)\n",
    "print(sentence)"
   ]
  },
  {
   "cell_type": "code",
   "execution_count": 28,
   "metadata": {},
   "outputs": [
    {
     "name": "stdout",
     "output_type": "stream",
     "text": [
      "My name is Jenn and I am 23 years old\n",
      "My name is Jenn and I am 23 years old\n"
     ]
    }
   ],
   "source": [
    "#Number keys in a dictionary\n",
    "person = {'name':'Jenn','age':23}\n",
    "sentence = 'My name is {0[name]} and I am {1[age]} years old'.format(person,person)\n",
    "print(sentence)\n",
    "#Number the whole dictionary\n",
    "sentence = 'My name is {0[name]} and I am {0[age]} years old'.format(person)\n",
    "print(sentence)"
   ]
  },
  {
   "cell_type": "code",
   "execution_count": 30,
   "metadata": {},
   "outputs": [
    {
     "name": "stdout",
     "output_type": "stream",
     "text": [
      "My name is Jenn and I am 23 years old\n"
     ]
    }
   ],
   "source": [
    "#Format a list\n",
    "l=['Jenn',23]\n",
    "sentence = 'My name is {0[0]} and I am {0[1]} years old'.format(l) #placeholders for print(sentence)\n",
    "print(sentence)"
   ]
  },
  {
   "cell_type": "markdown",
   "metadata": {},
   "source": [
    "Access `attributes` in a `class`"
   ]
  },
  {
   "cell_type": "code",
   "execution_count": 31,
   "metadata": {},
   "outputs": [
    {
     "name": "stdout",
     "output_type": "stream",
     "text": [
      "My name is Jack and I am 33 years old\n"
     ]
    }
   ],
   "source": [
    "class Person():\n",
    "    def __init__(self,name,age):\n",
    "        self.name=name\n",
    "        self.age=age\n",
    "p1=Person('Jack','33')\n",
    "sentence = 'My name is {0.name} and I am {0.age} years old'.format(p1)\n",
    "print(sentence)"
   ]
  },
  {
   "cell_type": "markdown",
   "metadata": {},
   "source": [
    "Place holder without any index, just enter the `placeholder name` in the format function"
   ]
  },
  {
   "cell_type": "code",
   "execution_count": 33,
   "metadata": {},
   "outputs": [
    {
     "name": "stdout",
     "output_type": "stream",
     "text": [
      "My name is Jenn and I am 30 years old\n"
     ]
    }
   ],
   "source": [
    "sentence = 'My name is {name} and I am {age} years old'.format(name='Jenn',age=30)\n",
    "print(sentence)"
   ]
  },
  {
   "cell_type": "markdown",
   "metadata": {},
   "source": [
    "`Unpack` dictionary --. This is the most convenient way to print out dictionary. Use `**kwarg` to pass dict"
   ]
  },
  {
   "cell_type": "code",
   "execution_count": 35,
   "metadata": {},
   "outputs": [
    {
     "name": "stdout",
     "output_type": "stream",
     "text": [
      "My name is Jenn and I am 23 years old\n"
     ]
    }
   ],
   "source": [
    "person = {'name':'Jenn','age':23,'job':'na'}\n",
    "sentence = 'My name is {name} and I am {age} years old'.format(**person) #placeholder print(sentence)\n",
    "print(sentence)"
   ]
  },
  {
   "cell_type": "markdown",
   "metadata": {},
   "source": [
    "#### Formatting numbers"
   ]
  },
  {
   "cell_type": "markdown",
   "metadata": {},
   "source": [
    "Formatting numbers by specifying the numbers before decimal in the placeholder `{:0n}`"
   ]
  },
  {
   "cell_type": "code",
   "execution_count": 108,
   "metadata": {},
   "outputs": [
    {
     "name": "stdout",
     "output_type": "stream",
     "text": [
      "The value is 1\n",
      "The value is 2\n",
      "The value is 3\n",
      "The value is 004\n",
      "The value is 005\n"
     ]
    }
   ],
   "source": [
    "for i in range (1,4):\n",
    "    sentence = 'The value is {}'.format(i)\n",
    "    print(sentence)\n",
    "for i in range (4,6):\n",
    "    sentence = 'The value is {:03}'.format(i)\n",
    "    print(sentence)"
   ]
  },
  {
   "cell_type": "markdown",
   "metadata": {},
   "source": [
    "Formatting decimal place `{:.nf}`"
   ]
  },
  {
   "cell_type": "code",
   "execution_count": 39,
   "metadata": {},
   "outputs": [
    {
     "name": "stdout",
     "output_type": "stream",
     "text": [
      "Pi is equal to 3.14\n"
     ]
    }
   ],
   "source": [
    "pi=3.14159265\n",
    "sentence = 'Pi is equal to {:.2f}'.format(pi)\n",
    "print(sentence)"
   ]
  },
  {
   "cell_type": "markdown",
   "metadata": {},
   "source": [
    "Formatting using comma separator `{:,}`"
   ]
  },
  {
   "cell_type": "code",
   "execution_count": 40,
   "metadata": {},
   "outputs": [
    {
     "name": "stdout",
     "output_type": "stream",
     "text": [
      "1 MB is equal to 1,000,000 bytes\n"
     ]
    }
   ],
   "source": [
    "sentence ='1 MB is equal to {:,} bytes'.format(1000**2)\n",
    "print(sentence)"
   ]
  },
  {
   "cell_type": "markdown",
   "metadata": {},
   "source": [
    "Formatting date using imported module"
   ]
  },
  {
   "cell_type": "code",
   "execution_count": 42,
   "metadata": {},
   "outputs": [
    {
     "name": "stdout",
     "output_type": "stream",
     "text": [
      "2017-06-30 15:50:20\n",
      "June 30, 2017\n"
     ]
    }
   ],
   "source": [
    "import datetime\n",
    "my_date = datetime.datetime(2017,6,30,15,50,20)\n",
    "print(my_date)\n",
    "\n",
    "# https://docs.python.org/3/library/datetime.html#strftime-and-strptime-behavior\n",
    "sentence ='{:%B %d, %Y}'.format(my_date)\n",
    "print(sentence)"
   ]
  },
  {
   "cell_type": "code",
   "execution_count": 44,
   "metadata": {},
   "outputs": [
    {
     "name": "stdout",
     "output_type": "stream",
     "text": [
      "June 30, 2017 fell on a Friday and was the 181 day of the year\n"
     ]
    }
   ],
   "source": [
    "sentence ='{0:%B %d, %Y} fell on a {0:%A} and was the {0:%j} day of the year'.format(my_date)\n",
    "print(sentence)"
   ]
  },
  {
   "cell_type": "code",
   "execution_count": 45,
   "metadata": {},
   "outputs": [
    {
     "name": "stdout",
     "output_type": "stream",
     "text": [
      "06/30/2017 03:50:20 PM  EST\n",
      "Fri Jun 30 15:50:20 2017\n"
     ]
    }
   ],
   "source": [
    "sentence='{0:%m/%d/%Y %I:%M:%S %p %Z EST}'.format(my_date)\n",
    "print(sentence)\n",
    "sentence='{:%c}'.format(my_date)\n",
    "print(sentence)"
   ]
  },
  {
   "cell_type": "markdown",
   "metadata": {},
   "source": [
    "## TOPIC 6 - Datetime Module - How to work with Dates,Times, Timedeltas, and Timezone"
   ]
  },
  {
   "cell_type": "markdown",
   "metadata": {},
   "source": [
    "#### datetime.date"
   ]
  },
  {
   "cell_type": "markdown",
   "metadata": {},
   "source": [
    "Get naive datetime with `datetime` module by inputing data without timezone"
   ]
  },
  {
   "cell_type": "markdown",
   "metadata": {},
   "source": [
    " __never adding leading 0__, otherwise there will be an error    "
   ]
  },
  {
   "cell_type": "code",
   "execution_count": 17,
   "metadata": {},
   "outputs": [
    {
     "name": "stdout",
     "output_type": "stream",
     "text": [
      "2019-11-18\n"
     ]
    }
   ],
   "source": [
    "import datetime\n",
    "d=datetime.date(2019,11,18)\n",
    "print(d)"
   ]
  },
  {
   "cell_type": "markdown",
   "metadata": {},
   "source": [
    "Print out today local date using `datetime.date.today`\n",
    "Some built-in functions of `datetime.date` include: `day`, `month`, `year`, `weekday()`, `isoweekday()`"
   ]
  },
  {
   "cell_type": "code",
   "execution_count": 24,
   "metadata": {},
   "outputs": [
    {
     "name": "stdout",
     "output_type": "stream",
     "text": [
      "datetime.date \t \t:  2019-11-18\n",
      "datetime.date.day \t:  18\n",
      "datetime.date.month \t:  11\n",
      "datetime.date.year \t:  2019\n",
      "datetime.date.weekday() :  0\n",
      "datetime.date.isoweekday():  1\n"
     ]
    }
   ],
   "source": [
    "tday=datetime.date.today()\n",
    "print('datetime.date \\t \\t: ',tday)\n",
    "print('datetime.date.day \\t: ',tday.day)\n",
    "print('datetime.date.month \\t: ',tday.month)\n",
    "print('datetime.date.year \\t: ',tday.year)\n",
    "print('datetime.date.weekday() : ',tday.weekday()) #Monday is 0 and Sunday is 6\n",
    "print('datetime.date.isoweekday(): ',tday.isoweekday()) #Monday is 1 and Sunday is 7"
   ]
  },
  {
   "cell_type": "code",
   "execution_count": 16,
   "metadata": {},
   "outputs": [
    {
     "data": {
      "text/plain": [
       "datetime.date"
      ]
     },
     "execution_count": 16,
     "metadata": {},
     "output_type": "execute_result"
    }
   ],
   "source": [
    "type(tday)"
   ]
  },
  {
   "cell_type": "markdown",
   "metadata": {},
   "source": [
    "#### datetime.timedelta"
   ]
  },
  {
   "cell_type": "markdown",
   "metadata": {},
   "source": [
    "`datetime.timedelta` to find the datetime data with delta of `days` or `hours` or `minutes` ..."
   ]
  },
  {
   "cell_type": "markdown",
   "metadata": {},
   "source": [
    "from `timedelta` to `datetime`"
   ]
  },
  {
   "cell_type": "code",
   "execution_count": 25,
   "metadata": {},
   "outputs": [
    {
     "name": "stdout",
     "output_type": "stream",
     "text": [
      "7 days ago:  2019-11-25\n",
      "next 7 days:  2019-11-11\n"
     ]
    }
   ],
   "source": [
    "import datetime\n",
    "tday=datetime.date.today()\n",
    "tdelta=datetime.timedelta(days=7)\n",
    "print('7 days ago: ',tday + tdelta)\n",
    "print('next 7 days: ',tday - tdelta)"
   ]
  },
  {
   "cell_type": "markdown",
   "metadata": {},
   "source": [
    "calculating `timedelta`. Some built-in function sof timedelta include: `days`, `hours`, `total_seconds()`"
   ]
  },
  {
   "cell_type": "code",
   "execution_count": 30,
   "metadata": {},
   "outputs": [
    {
     "name": "stdout",
     "output_type": "stream",
     "text": [
      "timedelta: \t\t\t 13 days, 0:00:00\n",
      "timedelta.days: \t\t 13\n",
      "timedelta.total_seconds(): \t 1123200.0\n"
     ]
    }
   ],
   "source": [
    "bday = datetime.date(2019,12,1)\n",
    "#Find timedelta\n",
    "till_bday = bday - tday \n",
    "print ('timedelta: \\t\\t\\t',till_bday)\n",
    "print ('timedelta.days: \\t\\t',till_bday.days)\n",
    "print ('timedelta.total_seconds(): \\t',till_bday.total_seconds())"
   ]
  },
  {
   "cell_type": "markdown",
   "metadata": {},
   "source": [
    "#### datetime.time"
   ]
  },
  {
   "cell_type": "markdown",
   "metadata": {},
   "source": [
    "`datetime.time` works with `hour`, `minute`, `second` and `micro-second`"
   ]
  },
  {
   "cell_type": "code",
   "execution_count": 31,
   "metadata": {},
   "outputs": [
    {
     "name": "stdout",
     "output_type": "stream",
     "text": [
      "time:  14:20:45.100000\n",
      "hour from time:  14\n"
     ]
    }
   ],
   "source": [
    "import datetime\n",
    "t = datetime.time(14,20,45,100000)\n",
    "print('time: ',t)\n",
    "print('hour from time: ',t.hour)"
   ]
  },
  {
   "cell_type": "markdown",
   "metadata": {},
   "source": [
    "#### datetime.datetime"
   ]
  },
  {
   "cell_type": "markdown",
   "metadata": {},
   "source": [
    "`datetime.datetime` works with both date variables (`day`, `month`, `year`) and time variables (`hour`, `minute`, `second` and `micro-second`)"
   ]
  },
  {
   "cell_type": "code",
   "execution_count": 33,
   "metadata": {},
   "outputs": [
    {
     "name": "stdout",
     "output_type": "stream",
     "text": [
      "datetime:\t 2019-11-18 14:20:45.100000\n",
      "datetime.date(): 2019-11-18\n",
      "datetime.time(): 14:20:45.100000\n",
      "datetime.year:\t 2019\n"
     ]
    }
   ],
   "source": [
    "dt = datetime.datetime(2019,11,18,14,20,45,100000)\n",
    "print('datetime:\\t',dt)\n",
    "print('datetime.date():',dt.date())\n",
    "print('datetime.time():',dt.time())\n",
    "print('datetime.year:\\t',dt.year)"
   ]
  },
  {
   "cell_type": "markdown",
   "metadata": {},
   "source": [
    "`datetime` works with `timedelta`"
   ]
  },
  {
   "cell_type": "code",
   "execution_count": 35,
   "metadata": {},
   "outputs": [
    {
     "name": "stdout",
     "output_type": "stream",
     "text": [
      "datetime add days:\t 2019-11-25 14:20:45.100000\n",
      "datetime add hours:\t 2019-11-19 02:20:45.100000\n"
     ]
    }
   ],
   "source": [
    "tdelta=datetime.timedelta(days=7)\n",
    "print('datetime add days:\\t',dt+tdelta)\n",
    "tdelta=datetime.timedelta(hours=12)\n",
    "print('datetime add hours:\\t',dt+tdelta)"
   ]
  },
  {
   "cell_type": "markdown",
   "metadata": {},
   "source": [
    "Multiple ways to get current time: `now()`, `today()`, and `utcnow()`"
   ]
  },
  {
   "cell_type": "code",
   "execution_count": 36,
   "metadata": {},
   "outputs": [
    {
     "name": "stdout",
     "output_type": "stream",
     "text": [
      "2019-11-18 13:57:57.655907\n",
      "2019-11-18 13:57:57.656906\n",
      "2019-11-18 19:57:57.656906\n"
     ]
    }
   ],
   "source": [
    "dt_today = datetime.datetime.today() #naive\n",
    "dt_now = datetime.datetime.now() #awared but without specifying timezone, there \n",
    "dt_utcnow = datetime.datetime.utcnow() #awared but without specifying timezone, there \n",
    "print(dt_today)\n",
    "print(dt_now)\n",
    "print(dt_utcnow)"
   ]
  },
  {
   "cell_type": "markdown",
   "metadata": {},
   "source": [
    "`pytz` module provides a short way to specify timezone in python for datetime.`now()`, datetime.`utcnow()` and hard-coded datetime using `tzinfo = pytz.<TIMEZONE>`. \n",
    "\n",
    "datetime.`todays()` don't take any keywords arguments to specify timezone"
   ]
  },
  {
   "cell_type": "code",
   "execution_count": 39,
   "metadata": {},
   "outputs": [
    {
     "name": "stdout",
     "output_type": "stream",
     "text": [
      "2019-11-18 14:20:45+00:00\n",
      "2019-11-18 20:09:21.662085+00:00\n",
      "2019-11-18 20:09:21.662085+00:00\n"
     ]
    }
   ],
   "source": [
    "import pytz\n",
    "dt = datetime.datetime(2019,11,18,14,20,45, tzinfo=pytz.UTC)\n",
    "print(dt)\n",
    "dt_now = datetime.datetime.now(tz=pytz.UTC)\n",
    "print(dt_now)\n",
    "dt_utcnow = datetime.datetime.utcnow().replace(tzinfo=pytz.UTC)\n",
    "print(dt_utcnow)"
   ]
  },
  {
   "cell_type": "markdown",
   "metadata": {},
   "source": [
    "Beside inputting keyword argument `tzinfo =`, we can also specify timezone with function `astimezone`"
   ]
  },
  {
   "cell_type": "code",
   "execution_count": 43,
   "metadata": {},
   "outputs": [
    {
     "name": "stdout",
     "output_type": "stream",
     "text": [
      "2019-11-18 13:09:21.662085-07:00\n"
     ]
    }
   ],
   "source": [
    "dt_mtn = dt_utcnow.astimezone(pytz.timezone('US/Mountain'))\n",
    "print(dt_mtn)"
   ]
  },
  {
   "cell_type": "markdown",
   "metadata": {},
   "source": [
    "To get timezones available in pytz, use `pytz.all_timezones`"
   ]
  },
  {
   "cell_type": "code",
   "execution_count": 45,
   "metadata": {},
   "outputs": [
    {
     "name": "stdout",
     "output_type": "stream",
     "text": [
      "Numbers of timezone in pytz: 592\n",
      "US timezones: \n"
     ]
    },
    {
     "data": {
      "text/plain": [
       "['US/Alaska',\n",
       " 'US/Aleutian',\n",
       " 'US/Arizona',\n",
       " 'US/Central',\n",
       " 'US/East-Indiana',\n",
       " 'US/Eastern',\n",
       " 'US/Hawaii',\n",
       " 'US/Indiana-Starke',\n",
       " 'US/Michigan',\n",
       " 'US/Mountain',\n",
       " 'US/Pacific',\n",
       " 'US/Samoa']"
      ]
     },
     "execution_count": 45,
     "metadata": {},
     "output_type": "execute_result"
    }
   ],
   "source": [
    "print('Numbers of timezone in pytz:',len(pytz.all_timezones ))\n",
    "print('US timezones: ')\n",
    "[x for x in pytz.all_timezones if 'US' in x]"
   ]
  },
  {
   "cell_type": "markdown",
   "metadata": {},
   "source": [
    "Specipy local timezone with `timezone` and `localize` functions"
   ]
  },
  {
   "cell_type": "code",
   "execution_count": 48,
   "metadata": {},
   "outputs": [
    {
     "name": "stdout",
     "output_type": "stream",
     "text": [
      "no timezone awared: \t\t 2019-11-18 14:28:55.482307\n",
      "localize to Eastern: \t\t 2019-11-18 14:28:55.482307-05:00\n",
      "set timezone to Mountain: \t 2019-11-18 12:28:55.482307-07:00\n"
     ]
    }
   ],
   "source": [
    "dt_local = datetime.datetime.now()\n",
    "print('no timezone awared: \\t\\t',dt_local)\n",
    "local_tz = pytz.timezone('US/Eastern')\n",
    "dt_local = local_tz.localize(dt_local)\n",
    "print('localize to Eastern: \\t\\t',dt_local)\n",
    "#Change time from the local time to another timezone\n",
    "dt_mountain=dt_local.astimezone(pytz.timezone('US/Mountain'))\n",
    "print('set timezone to Mountain: \\t',dt_mountain)"
   ]
  },
  {
   "cell_type": "markdown",
   "metadata": {},
   "source": [
    "Convert datetime to string using `strftime` with specified format. Convert string to datetime by specifying input string format using `strptime`"
   ]
  },
  {
   "cell_type": "code",
   "execution_count": 55,
   "metadata": {},
   "outputs": [
    {
     "name": "stdout",
     "output_type": "stream",
     "text": [
      "isoformat of time: \t\t  2019-11-18T13:50:30.562530-07:00\n",
      "datetime to string with strftime:  November 18, 2019\n",
      "string to datetime with strptime: 2019-11-18 00:00:00\n"
     ]
    }
   ],
   "source": [
    "dt_mtn = datetime.datetime.now(tz = pytz.timezone('US/Mountain'))\n",
    "print('isoformat of time: \\t\\t ',dt_mtn.isoformat())\n",
    "# strftime - Datetime to String\n",
    "print('datetime to string with strftime: ',dt_mtn.strftime('%B %d, %Y'))\n",
    "# strptime - String to Datetime\n",
    "dt_str = 'November 18, 2019'\n",
    "dt = datetime.datetime.strptime(dt_str,'%B %d, %Y')\n",
    "print('string to datetime with strptime:',dt)"
   ]
  },
  {
   "cell_type": "markdown",
   "metadata": {},
   "source": [
    "## TOPIC 7 - Generators - How to use them and the benefits you receive"
   ]
  },
  {
   "cell_type": "code",
   "execution_count": 17,
   "metadata": {},
   "outputs": [
    {
     "name": "stdout",
     "output_type": "stream",
     "text": [
      "[1, 4, 9, 16, 25]\n"
     ]
    }
   ],
   "source": [
    "def square_numbers(nums):\n",
    "    result = []\n",
    "    for i in nums:\n",
    "        result.append(i*i)\n",
    "    return result\n",
    "my_nums = square_numbers([1,2,3,4,5])\n",
    "print (my_nums)"
   ]
  },
  {
   "cell_type": "markdown",
   "metadata": {},
   "source": [
    "`Generators` don't hold the entire result in memory.A generator computes one at a time and won't generate any result until we ask for "
   ]
  },
  {
   "cell_type": "code",
   "execution_count": 18,
   "metadata": {},
   "outputs": [
    {
     "name": "stdout",
     "output_type": "stream",
     "text": [
      "<generator object square_numbers at 0x00000229345DCC48>\n"
     ]
    }
   ],
   "source": [
    "def square_numbers(nums):\n",
    "    for i in nums:\n",
    "        yield(i*i)\n",
    "my_nums = square_numbers([1,2,3,4,5])\n",
    "print (my_nums)"
   ]
  },
  {
   "cell_type": "code",
   "execution_count": 21,
   "metadata": {},
   "outputs": [
    {
     "name": "stdout",
     "output_type": "stream",
     "text": [
      "1\n",
      "4\n",
      "9\n",
      "16\n",
      "25\n"
     ]
    }
   ],
   "source": [
    "for i in range(5):\n",
    "    print(next(my_nums))"
   ]
  },
  {
   "cell_type": "markdown",
   "metadata": {},
   "source": [
    "When for loop works with generator, it know when to stop"
   ]
  },
  {
   "cell_type": "code",
   "execution_count": 26,
   "metadata": {},
   "outputs": [
    {
     "name": "stdout",
     "output_type": "stream",
     "text": [
      "1\n",
      "4\n",
      "9\n",
      "16\n",
      "25\n"
     ]
    }
   ],
   "source": [
    "def square_numbers(nums):\n",
    "    for i in nums:\n",
    "        yield(i*i)\n",
    "my_nums = square_numbers([1,2,3,4,5])\n",
    "for num in my_nums:\n",
    "    print(num)"
   ]
  },
  {
   "cell_type": "markdown",
   "metadata": {},
   "source": [
    "`Generator comprehension` with round brackets `()`"
   ]
  },
  {
   "cell_type": "code",
   "execution_count": 29,
   "metadata": {},
   "outputs": [
    {
     "name": "stdout",
     "output_type": "stream",
     "text": [
      "[1, 4, 9, 16, 25]\n",
      "<generator object <genexpr> at 0x00000229345DCCC8>\n"
     ]
    }
   ],
   "source": [
    "#List comprehension\n",
    "my_nums = [x*x for x in [1,2,3,4,5]]\n",
    "print(my_nums)\n",
    "#Generator comprehension with round brackets\n",
    "my_nums = (x*x for x in [1,2,3,4,5])\n",
    "print(my_nums)"
   ]
  },
  {
   "cell_type": "markdown",
   "metadata": {},
   "source": [
    "Use generator comprehension then print out by casting it as a list "
   ]
  },
  {
   "cell_type": "code",
   "execution_count": 30,
   "metadata": {},
   "outputs": [
    {
     "name": "stdout",
     "output_type": "stream",
     "text": [
      "[1, 4, 9, 16, 25]\n"
     ]
    }
   ],
   "source": [
    "my_nums = (x*x for x in [1,2,3,4,5])\n",
    "print (list (my_nums))"
   ]
  },
  {
   "cell_type": "markdown",
   "metadata": {},
   "source": [
    "We can use generator and list to do the same task of listing all values and calculating results:\n",
    "- `List` actually calculates results and consume memory.\n",
    "- `Generator` doesn't calculate anything and wait for the program to ask for calculating."
   ]
  },
  {
   "cell_type": "markdown",
   "metadata": {},
   "source": [
    "`random.choice(list)` to select a random value from a list"
   ]
  },
  {
   "cell_type": "code",
   "execution_count": 1,
   "metadata": {},
   "outputs": [],
   "source": [
    "import memory_profiler\n",
    "import random\n",
    "import time\n",
    "names = ['John','Corey','Adam','Steve','Rick','Thomas']\n",
    "majors = ['Math','Engineering','CompSci','Arts','Business']\n",
    "#Define a list\n",
    "def people_list(num_people):\n",
    "    result = []\n",
    "    for i in range(num_people):\n",
    "        person = {'id':i,'name': random.choice(names),'major': random.choice(majors)}\n",
    "    result.append(person)\n",
    "    return result\n",
    "#Define a generator\n",
    "def people_generator(num_people):\n",
    "    for i in range(num_people):\n",
    "        person = {'id':i,'name': random.choice(names),'major': random.choice(majors)}\n",
    "    yield person"
   ]
  },
  {
   "cell_type": "markdown",
   "metadata": {},
   "source": [
    "Calucating time for list"
   ]
  },
  {
   "cell_type": "code",
   "execution_count": 2,
   "metadata": {},
   "outputs": [
    {
     "name": "stdout",
     "output_type": "stream",
     "text": [
      "Memory (Before): [53.30078125]Mb\n",
      "Memory (After) :[53.31640625]Mb\n",
      "Took 1.953125 Seconds\n"
     ]
    }
   ],
   "source": [
    "print ('Memory (Before): {}Mb'.format(memory_profiler.memory_usage()))\n",
    "t1 = time.process_time()\n",
    "people = people_list(1000000)\n",
    "t2 = time.process_time()\n",
    "print('Memory (After) :{}Mb'.format(memory_profiler.memory_usage()))\n",
    "print('Took {} Seconds'.format(t2-t1))"
   ]
  },
  {
   "cell_type": "markdown",
   "metadata": {},
   "source": [
    "If we change to generator, time and memory consummed decreases a lot"
   ]
  },
  {
   "cell_type": "code",
   "execution_count": 2,
   "metadata": {},
   "outputs": [
    {
     "name": "stdout",
     "output_type": "stream",
     "text": [
      "Memory (After) :[53.11328125]Mb\n",
      "Took 0.0 Seconds\n"
     ]
    }
   ],
   "source": [
    "t1 = time.process_time()\n",
    "people = people_generator(1000000)\n",
    "t2 = time.process_time()\n",
    "print('Memory (After) :{}Mb'.format(memory_profiler.memory_usage()))\n",
    "print('Took {} Seconds'.format(t2-t1))"
   ]
  },
  {
   "cell_type": "markdown",
   "metadata": {},
   "source": [
    "Still using generator, but convert it to a list --> time and memory consummed goes much lower"
   ]
  },
  {
   "cell_type": "code",
   "execution_count": 3,
   "metadata": {},
   "outputs": [
    {
     "name": "stdout",
     "output_type": "stream",
     "text": [
      "Memory (After) :[53.20703125]Mb\n",
      "Took 2.046875 Seconds\n"
     ]
    }
   ],
   "source": [
    "t1 = time.process_time()\n",
    "people =list(people_generator(1000000))\n",
    "t2 = time.process_time()\n",
    "print('Memory (After) :{}Mb'.format(memory_profiler.memory_usage()))\n",
    "print('Took {} Seconds'.format(t2-t1))"
   ]
  },
  {
   "cell_type": "markdown",
   "metadata": {},
   "source": [
    "## TOPIC 8 - Namedtuple - When and Why should you use namedtuples"
   ]
  },
  {
   "cell_type": "markdown",
   "metadata": {},
   "source": [
    "Namedtuple works similar to a dictionary but require dot syntax to call it"
   ]
  },
  {
   "cell_type": "code",
   "execution_count": 9,
   "metadata": {},
   "outputs": [
    {
     "name": "stdout",
     "output_type": "stream",
     "text": [
      "Indexing tuple:  55\n",
      "From dictionary:  55\n",
      "namedtuple with dot syntax:  55\n"
     ]
    }
   ],
   "source": [
    "#tuple (uneditable)\n",
    "color = (55,155,255)\n",
    "print('Indexing tuple: ',color[0])\n",
    "#dictionary\n",
    "color = {'red':55,'green':155,'blue':255}\n",
    "print('From dictionary: ',color['red'])\n",
    "#namedtuple\n",
    "from collections import namedtuple\n",
    "Color = namedtuple('Color',['red','green','blue'])#assign keys to a namedtuple\n",
    "color = Color(55,155,255) #assign value to a namedtuple\n",
    "print('Namedtuple with dot syntax: ',color.red)"
   ]
  },
  {
   "cell_type": "markdown",
   "metadata": {},
   "source": [
    "we can assign value to a namedtuple by calling keys as well"
   ]
  },
  {
   "cell_type": "code",
   "execution_count": 11,
   "metadata": {},
   "outputs": [
    {
     "name": "stdout",
     "output_type": "stream",
     "text": [
      "55\n",
      "55\n"
     ]
    }
   ],
   "source": [
    "Color = namedtuple('Color',['red','green','blue'])\n",
    "color = Color(red=55,green=155,blue=255)\n",
    "print(color[0])\n",
    "print(color.red)"
   ]
  },
  {
   "cell_type": "code",
   "execution_count": 13,
   "metadata": {},
   "outputs": [
    {
     "name": "stdout",
     "output_type": "stream",
     "text": [
      "255\n",
      "255\n"
     ]
    }
   ],
   "source": [
    "from collections import namedtuple\n",
    "Color = namedtuple('Color',['red','green','blue'])\n",
    "dict_color = {'red':55,'green':155,'blue':255}\n",
    "color = Color(55,155,255)\n",
    "#named tuple\n",
    "white = Color(255,255,255)\n",
    "print(white.blue)\n",
    "print(dict_color['blue'])\n",
    "#print(dict_color.blue) #error because dictionary cannot be called by dot syntax"
   ]
  }
 ],
 "metadata": {
  "kernelspec": {
   "display_name": "Python 3",
   "language": "python",
   "name": "python3"
  },
  "language_info": {
   "codemirror_mode": {
    "name": "ipython",
    "version": 3
   },
   "file_extension": ".py",
   "mimetype": "text/x-python",
   "name": "python",
   "nbconvert_exporter": "python",
   "pygments_lexer": "ipython3",
   "version": "3.7.4"
  }
 },
 "nbformat": 4,
 "nbformat_minor": 2
}
